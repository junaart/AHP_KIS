{
 "cells": [
  {
   "cell_type": "markdown",
   "id": "95ff2545-ee90-4c31-86bb-ca43c11e48eb",
   "metadata": {
    "tags": []
   },
   "source": [
    "# Лабораторная работа 5. Рекомендации по формализации и расчетам характеристик подсистем КИС в виде разомкнутых или замкнутых стохастических моделей"
   ]
  },
  {
   "cell_type": "markdown",
   "id": "e6724a07-3712-42b3-9530-c367098fe313",
   "metadata": {},
   "source": [
    "## Задание 1."
   ]
  },
  {
   "cell_type": "markdown",
   "id": "6611127a-a5fb-427a-9db9-2b6861b5547f",
   "metadata": {},
   "source": [
    "Для  одноканальной системы массового обслуживания с ограничением на длину очереди $m$ составьте дифференциальные уравнения для вероятностей нахождения в заданных состояниях в зависимости от времени. Найдите эти вероятности при определенном в соответствии с вариантом значении $t$, а также при $t\\rightarrow \\infty$. Канал иногда может выходить из строя. Заявка, которая обслуживается в момент отказа канала ставится в очередь, если там есть места, в противном случае она покидает систему необслуженной. Входящий поток, поток обслуживания, поток отказов и поток восстановления простейшие с соответствующими интенсивностями $\\lambda, \\mu, \\nu, \\gamma$. Количество клиентов, от которых могут поступать заявки на обслуживание $k$. Начальные условия $P_0(0)=1$. \n",
    "\n",
    "Найти (теоретически и экспериментально):\n",
    " - вероятность простоя;\n",
    " - вероятность образования очереди;\n",
    " - абсолютную пропускную способность;\n",
    " - среднюю длину очереди;\n",
    " - среднее время нахождения заявок в системе;\n",
    " - среднее число заявок в системе.\n",
    " - среднее время нахождения в очереди."
   ]
  },
  {
   "cell_type": "code",
   "execution_count": 4,
   "id": "b7e6a99b-1037-4344-a3af-96622e773dac",
   "metadata": {},
   "outputs": [
    {
     "name": "stdout",
     "output_type": "stream",
     "text": [
      "[1] \"--------------\"\n"
     ]
    },
    {
     "data": {
      "text/html": [
       "<table class=\"dataframe\">\n",
       "<caption>A data.frame: 1 × 7</caption>\n",
       "<thead>\n",
       "\t<tr><th scope=col>lambda</th><th scope=col>mu</th><th scope=col>nu</th><th scope=col>gamma</th><th scope=col>k</th><th scope=col>m</th><th scope=col>t</th></tr>\n",
       "\t<tr><th scope=col>&lt;dbl&gt;</th><th scope=col>&lt;dbl&gt;</th><th scope=col>&lt;dbl&gt;</th><th scope=col>&lt;dbl&gt;</th><th scope=col>&lt;chr&gt;</th><th scope=col>&lt;int&gt;</th><th scope=col>&lt;dbl&gt;</th></tr>\n",
       "</thead>\n",
       "<tbody>\n",
       "\t<tr><td>0.3721239</td><td>0.5728534</td><td>0.2016819</td><td>0.9082078</td><td>inf</td><td>12</td><td>0.9446753</td></tr>\n",
       "</tbody>\n",
       "</table>\n"
      ],
      "text/latex": [
       "A data.frame: 1 × 7\n",
       "\\begin{tabular}{lllllll}\n",
       " lambda & mu & nu & gamma & k & m & t\\\\\n",
       " <dbl> & <dbl> & <dbl> & <dbl> & <chr> & <int> & <dbl>\\\\\n",
       "\\hline\n",
       "\t 0.3721239 & 0.5728534 & 0.2016819 & 0.9082078 & inf & 12 & 0.9446753\\\\\n",
       "\\end{tabular}\n"
      ],
      "text/markdown": [
       "\n",
       "A data.frame: 1 × 7\n",
       "\n",
       "| lambda &lt;dbl&gt; | mu &lt;dbl&gt; | nu &lt;dbl&gt; | gamma &lt;dbl&gt; | k &lt;chr&gt; | m &lt;int&gt; | t &lt;dbl&gt; |\n",
       "|---|---|---|---|---|---|---|\n",
       "| 0.3721239 | 0.5728534 | 0.2016819 | 0.9082078 | inf | 12 | 0.9446753 |\n",
       "\n"
      ],
      "text/plain": [
       "  lambda    mu        nu        gamma     k   m  t        \n",
       "1 0.3721239 0.5728534 0.2016819 0.9082078 inf 12 0.9446753"
      ]
     },
     "metadata": {},
     "output_type": "display_data"
    }
   ],
   "source": [
    "Variant<-1\n",
    "set.seed(Variant) \n",
    "m<-sample(c(4:18),1)\n",
    "mu<-runif(1)\n",
    "lambda<-runif(1)\n",
    "if (lambda>mu)\n",
    "  {current<-lambda; \n",
    "   lambda<-mu; \n",
    "   mu<-current}\n",
    "gamma<-runif(1)\n",
    "nu<-runif(1)\n",
    "if (gamma<nu)\n",
    "  {current<-nu; \n",
    "   nu<-gamma; \n",
    "   gamma<-current}\n",
    "if (sample(c(0:1),1)) \n",
    "{k<-sample(c(4:7),1)} else {k<-\"inf\"}\n",
    "t<-runif(1)\n",
    "print(\"--------------\")\n",
    "View(data.frame(lambda, mu, nu, gamma, k, m, t))\n"
   ]
  },
  {
   "cell_type": "markdown",
   "id": "a75cd7a2-f580-4425-b695-9e8ace005e0e",
   "metadata": {},
   "source": [
    "Для корректного отображение см. ссылку:\n",
    "\n",
    "https://nbviewer.org/github/junaart/ForStudents/blob/master/KIS/Lab_5/Laboratory_work_5.ipynb"
   ]
  },
  {
   "cell_type": "markdown",
   "id": "3e9a5b3b-f728-40e9-8abe-214cc32b83cd",
   "metadata": {},
   "source": [
    "## Дополнительное задание"
   ]
  },
  {
   "cell_type": "markdown",
   "id": "9055b9db-8a46-4b43-821f-e80403ccb1fb",
   "metadata": {},
   "source": [
    "В сети имеется $m$ маршрутизаторов (топология связи маршрутизаторов - полный граф (каждый с каждым), или звезда, или кольцо  - в зависимости от варианта). Каждый маршрутизатор обслуживает свою сеть из $z_i$ компьютеров. Каждый компьютер с интенсивностью $\\lambda$ выходит из строя и с интенсивностью $\\mu$ восстанавливается. На случайный маршрутизатов попадает пакет с определенным значением TTL и определенным IP адресом назначения. Блуждания пакета от маршрутизатора к маршрутизатору происходят случайно. Если пакет оказался на маршрутизаторе, который отвечает за сеть назначения то он тут же перенаправляется на целевой компьютер и получает обслуживание, если это компьютер исправен. Постройте иммитационную модель для оценки вероятности того, что пакет достигнет своей цели, вероятности того, что он получит отказ (его TTL после очередного хопа станет равно нулю) для заданной сети."
   ]
  },
  {
   "cell_type": "code",
   "execution_count": 23,
   "id": "4ba1b789-b8cc-434d-8373-edadad42a679",
   "metadata": {},
   "outputs": [
    {
     "data": {
      "text/html": [
       "<table class=\"dataframe\">\n",
       "<caption>A data.frame: 1 × 5</caption>\n",
       "<thead>\n",
       "\t<tr><th scope=col>m</th><th scope=col>lambda</th><th scope=col>mu</th><th scope=col>ttl</th><th scope=col>topology</th></tr>\n",
       "\t<tr><th scope=col>&lt;int&gt;</th><th scope=col>&lt;dbl&gt;</th><th scope=col>&lt;dbl&gt;</th><th scope=col>&lt;int&gt;</th><th scope=col>&lt;chr&gt;</th></tr>\n",
       "</thead>\n",
       "<tbody>\n",
       "\t<tr><td>3</td><td>0.3721239</td><td>0.5728534</td><td>32</td><td>звезда</td></tr>\n",
       "</tbody>\n",
       "</table>\n"
      ],
      "text/latex": [
       "A data.frame: 1 × 5\n",
       "\\begin{tabular}{lllll}\n",
       " m & lambda & mu & ttl & topology\\\\\n",
       " <int> & <dbl> & <dbl> & <int> & <chr>\\\\\n",
       "\\hline\n",
       "\t 3 & 0.3721239 & 0.5728534 & 32 & звезда\\\\\n",
       "\\end{tabular}\n"
      ],
      "text/markdown": [
       "\n",
       "A data.frame: 1 × 5\n",
       "\n",
       "| m &lt;int&gt; | lambda &lt;dbl&gt; | mu &lt;dbl&gt; | ttl &lt;int&gt; | topology &lt;chr&gt; |\n",
       "|---|---|---|---|---|\n",
       "| 3 | 0.3721239 | 0.5728534 | 32 | звезда |\n",
       "\n"
      ],
      "text/plain": [
       "  m lambda    mu        ttl topology\n",
       "1 3 0.3721239 0.5728534 32  звезда  "
      ]
     },
     "metadata": {},
     "output_type": "display_data"
    },
    {
     "name": "stdout",
     "output_type": "stream",
     "text": [
      "[1] 1 2 5\n"
     ]
    }
   ],
   "source": [
    "Variant<-1\n",
    "set.seed(Variant) \n",
    "m<-sample(c(3:6),1)\n",
    "mu<-runif(1)\n",
    "lambda<-runif(1)\n",
    "if (lambda>mu){current<-lambda; lambda<-mu; mu<-current}\n",
    "z<-sample(c(1:5), m, replace=TRUE)\n",
    "ttl<-sample(c(10:64),1)\n",
    "topology<-sample(c(\"полный\", \"кольцо\", \"звезда\"),1)\n",
    "View(data.frame(m, lambda, mu, ttl, topology))\n",
    "print(z)"
   ]
  },
  {
   "cell_type": "code",
   "execution_count": null,
   "id": "bb3eb0da-a914-4ebb-8184-15a4174fdd24",
   "metadata": {},
   "outputs": [],
   "source": []
  }
 ],
 "metadata": {
  "kernelspec": {
   "display_name": "R",
   "language": "R",
   "name": "ir"
  },
  "language_info": {
   "codemirror_mode": "r",
   "file_extension": ".r",
   "mimetype": "text/x-r-source",
   "name": "R",
   "pygments_lexer": "r",
   "version": "4.2.2"
  }
 },
 "nbformat": 4,
 "nbformat_minor": 5
}
