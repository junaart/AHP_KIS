{
 "cells": [
  {
   "cell_type": "markdown",
   "id": "95ff2545-ee90-4c31-86bb-ca43c11e48eb",
   "metadata": {},
   "source": [
    "# Лабораторная работа 4. Модель однофазной  многоканальной замкнутой системы обслуживания"
   ]
  },
  {
   "cell_type": "markdown",
   "id": "e6724a07-3712-42b3-9530-c367098fe313",
   "metadata": {},
   "source": [
    "## Задание 1."
   ]
  },
  {
   "cell_type": "markdown",
   "id": "6611127a-a5fb-427a-9db9-2b6861b5547f",
   "metadata": {},
   "source": [
    "Вычислительный центр фирмы состоит из $m$ главных серверов коллективного пользования. Число работающих в в центре программистов в любой момент времени равно $k$. Каждый программист готовит свою программу и через терминал передает ее на сервер для выполнения, куда она сразу попадает. Время подготовки программ имеет экспоненциальное распределение со средним значением $t_{1}$ мин. Время выполнения программы на любом из серверов имеет экспоненциальное распределение со средним значением $t_{2}$ мин. Каждый программист ожидает ответа от сервера, прежде, чем начнет писать следующую программу.\n",
    "\n",
    "Найти (теоретически и экспериментально):\n",
    " - вероятность того, что программа не будет выполнена сразу же, как только она поступила на терминал;\n",
    " - среднее время до получения пользователем результатов реализации;\n",
    " - среднее количество программ, ожидающих выполнения на сервере.\n",
    " \n",
    " Требуется выполнить расчет при заданном по варианту значении $m$, а также при $m=1$."
   ]
  },
  {
   "cell_type": "code",
   "execution_count": 1,
   "id": "057b7b51-a9ca-4cf9-b351-002ba57834e1",
   "metadata": {},
   "outputs": [
    {
     "data": {
      "text/html": [
       "<table class=\"dataframe\">\n",
       "<caption>A data.frame: 1 × 4</caption>\n",
       "<thead>\n",
       "\t<tr><th scope=col>k</th><th scope=col>m</th><th scope=col>t1</th><th scope=col>t2</th></tr>\n",
       "\t<tr><th scope=col>&lt;int&gt;</th><th scope=col>&lt;int&gt;</th><th scope=col>&lt;int&gt;</th><th scope=col>&lt;int&gt;</th></tr>\n",
       "</thead>\n",
       "<tbody>\n",
       "\t<tr><td>18</td><td>6</td><td>20</td><td>2</td></tr>\n",
       "</tbody>\n",
       "</table>\n"
      ],
      "text/latex": [
       "A data.frame: 1 × 4\n",
       "\\begin{tabular}{llll}\n",
       " k & m & t1 & t2\\\\\n",
       " <int> & <int> & <int> & <int>\\\\\n",
       "\\hline\n",
       "\t 18 & 6 & 20 & 2\\\\\n",
       "\\end{tabular}\n"
      ],
      "text/markdown": [
       "\n",
       "A data.frame: 1 × 4\n",
       "\n",
       "| k &lt;int&gt; | m &lt;int&gt; | t1 &lt;int&gt; | t2 &lt;int&gt; |\n",
       "|---|---|---|---|\n",
       "| 18 | 6 | 20 | 2 |\n",
       "\n"
      ],
      "text/plain": [
       "  k  m t1 t2\n",
       "1 18 6 20 2 "
      ]
     },
     "metadata": {},
     "output_type": "display_data"
    }
   ],
   "source": [
    "Variant<-1\n",
    "set.seed(Variant) \n",
    "k<-sample(c(10:25),1)\n",
    "m<-sample(c(3:6),1)\n",
    "t1<-sample(c(14:20),1)\n",
    "t2<-sample(c(2:5),1)\n",
    "View(data.frame(k,m,t1,t2))"
   ]
  }
 ],
 "metadata": {
  "kernelspec": {
   "display_name": "R",
   "language": "R",
   "name": "ir"
  },
  "language_info": {
   "codemirror_mode": "r",
   "file_extension": ".r",
   "mimetype": "text/x-r-source",
   "name": "R",
   "pygments_lexer": "r",
   "version": "4.2.2"
  }
 },
 "nbformat": 4,
 "nbformat_minor": 5
}
