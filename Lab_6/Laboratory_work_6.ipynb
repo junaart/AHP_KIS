{
 "cells": [
  {
   "cell_type": "markdown",
   "id": "0930b58e-7229-48f1-bf09-b5d9e98dbabd",
   "metadata": {},
   "source": [
    "# Лабораторная работа 6. Методы агрегирования многомерных марковских процессов"
   ]
  },
  {
   "cell_type": "markdown",
   "id": "812c1018-f022-4f93-b424-44d95c772e42",
   "metadata": {},
   "source": [
    "## Задание 1.\n",
    "\n",
    "$K$ программистов могут писать программы для выполнения на одном из $M$ серверов, при этом программа не попадает сразу на сервер, а обрабатывается на одном из $N$ специальных компьютеров, которые проверяют отсутствие вирусов. Интенсивность работы программистов $\\lambda$, интенсивность работы компьютеров-антивирусов $\\nu$, интенсивность работы основных серверов $\\mu$, программа оказывается с вирусом с вероятностью $p$. Если программа с вирусом, она получает отказ обслуживания на основных серверах. Для компьютеров по проверке вирусов имеется ограничение по длине очереди $m_1$, для основных серверов ограничение по длине очереди $m_2$.\n",
    "\n",
    "- Нарисовать граф состояний системы, учитывая количество программистов, которые пишут программу, количество программ на компьютерах-антивирусах, количество программ на серверах;\n",
    "- Написать уравнения Колмогорова для вероятностей состояний, финальных вероятностей;\n",
    "- Четырьмя способами (экспериментально, методом на основе параметров связи, методом на основе эквивалентности потоков, по уравнениям Колмогорова) найти основные характеристики эффективности СМО: среднее время пребывания заявки в системе, абсолютную пропускную способность, среднее число заявок в системе."
   ]
  },
  {
   "cell_type": "code",
   "execution_count": 1,
   "id": "98fc2563-02e6-4c17-9fea-9f4a47c89898",
   "metadata": {},
   "outputs": [
    {
     "data": {
      "text/html": [
       "<table class=\"dataframe\">\n",
       "<caption>A data.frame: 1 × 9</caption>\n",
       "<thead>\n",
       "\t<tr><th scope=col>K</th><th scope=col>M</th><th scope=col>N</th><th scope=col>lambda</th><th scope=col>mu</th><th scope=col>nu</th><th scope=col>p</th><th scope=col>m1</th><th scope=col>m2</th></tr>\n",
       "\t<tr><th scope=col>&lt;int&gt;</th><th scope=col>&lt;int&gt;</th><th scope=col>&lt;int&gt;</th><th scope=col>&lt;dbl&gt;</th><th scope=col>&lt;dbl&gt;</th><th scope=col>&lt;dbl&gt;</th><th scope=col>&lt;dbl&gt;</th><th scope=col>&lt;int&gt;</th><th scope=col>&lt;int&gt;</th></tr>\n",
       "</thead>\n",
       "<tbody>\n",
       "\t<tr><td>3</td><td>2</td><td>1</td><td>0.3800939</td><td>0.8074834</td><td>0.9780757</td><td>0.9579337</td><td>1</td><td>1</td></tr>\n",
       "</tbody>\n",
       "</table>\n"
      ],
      "text/latex": [
       "A data.frame: 1 × 9\n",
       "\\begin{tabular}{lllllllll}\n",
       " K & M & N & lambda & mu & nu & p & m1 & m2\\\\\n",
       " <int> & <int> & <int> & <dbl> & <dbl> & <dbl> & <dbl> & <int> & <int>\\\\\n",
       "\\hline\n",
       "\t 3 & 2 & 1 & 0.3800939 & 0.8074834 & 0.9780757 & 0.9579337 & 1 & 1\\\\\n",
       "\\end{tabular}\n"
      ],
      "text/markdown": [
       "\n",
       "A data.frame: 1 × 9\n",
       "\n",
       "| K &lt;int&gt; | M &lt;int&gt; | N &lt;int&gt; | lambda &lt;dbl&gt; | mu &lt;dbl&gt; | nu &lt;dbl&gt; | p &lt;dbl&gt; | m1 &lt;int&gt; | m2 &lt;int&gt; |\n",
       "|---|---|---|---|---|---|---|---|---|\n",
       "| 3 | 2 | 1 | 0.3800939 | 0.8074834 | 0.9780757 | 0.9579337 | 1 | 1 |\n",
       "\n"
      ],
      "text/plain": [
       "  K M N lambda    mu        nu        p         m1 m2\n",
       "1 3 2 1 0.3800939 0.8074834 0.9780757 0.9579337 1  1 "
      ]
     },
     "metadata": {},
     "output_type": "display_data"
    }
   ],
   "source": [
    "Variant<-6\n",
    "set.seed(Variant) \n",
    "K<-sample(c(3:6),1)\n",
    "M<-sample(c(1:3),1)\n",
    "N<-sample(c(1:3),1)\n",
    "lambda<-runif(1)\n",
    "mu<-runif(1)\n",
    "nu<-runif(1)\n",
    "p<-runif(1)\n",
    "m1<-sample(c(1:2),1)\n",
    "m2<-sample(c(1:2),1)\n",
    "View(data.frame(K,M,N,lambda,mu,nu,p,m1,m2))"
   ]
  },
  {
   "cell_type": "code",
   "execution_count": null,
   "id": "c8ee6afa-abd8-49d9-ab53-38679629dcf1",
   "metadata": {},
   "outputs": [],
   "source": []
  }
 ],
 "metadata": {
  "kernelspec": {
   "display_name": "R",
   "language": "R",
   "name": "ir"
  },
  "language_info": {
   "codemirror_mode": "r",
   "file_extension": ".r",
   "mimetype": "text/x-r-source",
   "name": "R",
   "pygments_lexer": "r",
   "version": "4.2.2"
  }
 },
 "nbformat": 4,
 "nbformat_minor": 5
}
