{
 "cells": [
  {
   "cell_type": "markdown",
   "id": "2f74a1cb-4ea4-4d42-800f-c79009105572",
   "metadata": {},
   "source": [
    "# Лекция 9. Немарковские модели СМО, СМО с приоритетами, оптимизационные решения."
   ]
  },
  {
   "cell_type": "markdown",
   "id": "47b3dc43-c49b-4521-ac54-8ab49a66bd39",
   "metadata": {},
   "source": [
    " - Полумарковские, немарковские модели массового обслуживания.\n",
    " - Классификация систем с приоритетами. Примеры анализа. \n",
    " - Теоремы Кобхэма. Закон сохранения.\n",
    " - Оптимизация решений на основе моделей массового обслуживания."
   ]
  },
  {
   "cell_type": "markdown",
   "id": "66a89759-ad10-4e60-b712-58f2149ec7a8",
   "metadata": {},
   "source": [
    "## Полумарковские, немарковские модели массового обслуживания."
   ]
  },
  {
   "cell_type": "markdown",
   "id": "a916e38f-19a6-4af1-983e-a04e0d15bc4e",
   "metadata": {},
   "source": [
    "До настоящего времени мы рассматривали только системы класса $M|M|\\ldots$, предполагая, что входящий поток, поток обслуживания являются простейшими. Однако иногда приходится иметь дело с системами, для которых либо входящий поток, либо поток обслуживания являются немарковскими. \n",
    "\n",
    "Основная трудность здесь состоит в том, что количество заявок в системе в произвольный момент времени перестает быть марковским процессом, т.к. либо поток заявок, либо время обслуживания теперь обладает последействием.\n",
    "В тоже время такой случайный процесс можно свести к марковскому процессу, поэтому его называют **полумарковским**.\n",
    "\n"
   ]
  },
  {
   "cell_type": "markdown",
   "id": "f6fc948d-b601-4f93-8e58-723b8fa1ea29",
   "metadata": {},
   "source": [
    "Для решения этой задачи в основном используют два приема: метод вложенных цепей Маркова, метод дополнительной переменной."
   ]
  },
  {
   "cell_type": "markdown",
   "id": "9c11d0b7-988f-4b43-8435-a580183631a4",
   "metadata": {},
   "source": [
    "### Метод вложенных цепей Маркова"
   ]
  },
  {
   "cell_type": "markdown",
   "id": "6397c8b5-f458-4264-870c-1ce2719e0968",
   "metadata": {},
   "source": [
    "Данный метод базируется на следующих идеях:\n",
    "- СМО рассматривается не в произвольный момент времени $t$, а в некоторые специальным образом подобранные моменты времени $t_1, t_2,\\ldots$.\n",
    "- Эти моменты времени $t_k$ подбираются так, чтобы процесс $n(t_k)$ - число заявок в системе в момент времени $t_k$ был марковским процессом - цепью Маркова с дискретным временем.\n",
    "\n",
    "Таким образом, отказавшись рассматривать систему в произвольный момент времени, мы можем опять вернуться к марковским процессам."
   ]
  },
  {
   "cell_type": "markdown",
   "id": "d2c35805-5d01-4b19-b86c-b39c3ad85203",
   "metadata": {},
   "source": [
    "Рассмотрим систему $M|G|1|\\infty$, пусть на вход поступает простейший поток заявок интенсивностью $\\lambda$. Время обслуживания имеет произвольный закон распределения $F(t)$. Если мы будем рассматривать случайную величину $\\nu(t)$ - число заявок в системе в момент времени $t$, то для нее проявляется зависимость распределения оставшегося времени дообслуживания от интервала времени, прошедшего с начала обслуживания. Поэтому нужно выбрать такие моменты, в которые этот факт не оказывал бы влияния на будущее.\n",
    "\n",
    "В качестве $t_k$ выберем моменты окончания обслуживания $k$-й заявки. Пусть $\\nu_k$ - число заявок в системе, которое осталось после ухода $k$-й по счету заявки, обозначим $\\Delta_k$ - число заявок, которые пришли в систему за время обслуживания $k$-й заявки.\n",
    "Имеем:\n",
    "$$\\nu_k=\\begin{cases} \\nu_{k-1}+\\Delta_k-1, \\nu_{k-1}>0\\\\\n",
    "                                     \\Delta_k, \\nu_{k-1}=0\n",
    "\\end{cases}$$\n",
    "\n",
    "Легко понять, что поскольку мы отказались рассматривать $\\nu(t)$ в произвольный момент времени, то для моментов времени $t_k$ дообслуживания не возникает (заявка уходит из системы уже обслуженной), значит случайная величина $\\nu_k$ образует цепь Маркова с дискретным временем."
   ]
  },
  {
   "cell_type": "markdown",
   "id": "3145292d-4e61-446b-92a9-7a414e19552a",
   "metadata": {},
   "source": [
    "Пусть $P(\\Delta_k=n)$ - вероятность того, что за время обслуживания $k$-й заявки успело прийти $n$ новых заявок. Если время обслуживания $k$-й заявки составило $\\tau=t_{k}-t_{k-1}$, то поскольку входящий поток простейший, случайная величина $\\Delta_k$ подчиняется закону Пуассона, значит:\n",
    "$$P(\\Delta_k=n)=\\frac{(\\lambda\\tau)^n}{n!}e^{-\\lambda\\tau}$$"
   ]
  },
  {
   "cell_type": "markdown",
   "id": "da1d1f56-e3bb-49e6-8d1c-d83eee9efe7c",
   "metadata": {},
   "source": [
    "Вероятность того, что $k$-я заявка будет обслуживаться не менее $\\tau$ определится как $P(t<\\tau)=F(\\tau)$ при известном произвольном законе распределения времени обслуживания. Совместное распределение, что обслуживание займет не менее $\\tau$ единиц времени и за это время поступит $n$ новых заявок выразится (получается путем усреднения по $\\tau$):\n",
    "$$f_n=\\int_{0}^\\infty\\frac{(\\lambda\\tau)^n}{n!}e^{-\\lambda\\tau}dF(\\tau)$$"
   ]
  },
  {
   "cell_type": "markdown",
   "id": "f11612ff-1245-45c5-a2e0-9fa1a3aa933a",
   "metadata": {},
   "source": [
    "Найдем теперь переходные вероятности. Обозначим $p_{ij}(\\nu_k=j| \\nu_{k-1}=i)$ - вероятность того, что в момент времени $t_k$ в системе будет находиться $\\nu_k=j$ заявок, при условии, что в момент времени $t_{k-1}$ в системе находилось $\\nu_{k-1}=i$ заявок.\n",
    "\n",
    "Если $j<i-1$, то $p_{ij}=0$ (из системы уходит по одной заявке).\n",
    "\n",
    "Если $i=0$, то $$p_{0j}=f_j=\\int_{0}^\\infty\\frac{(\\lambda\\tau)^j}{j!}e^{-\\lambda\\tau}dF(\\tau)$$\n",
    "Если $j\\geq i-1$, то $$p_{ij}=f_{j-i+1}=\\int_{0}^\\infty\\frac{(\\lambda\\tau)^{j-i+1}}{(j-i+1)!}e^{-\\lambda\\tau}dF(\\tau)$$"
   ]
  },
  {
   "cell_type": "markdown",
   "id": "e8e2f095-671d-497a-a931-1c287aaba160",
   "metadata": {},
   "source": [
    "Окончательно, матрица переходных вероятностей имеет следующий вид:\n",
    "$$\\begin{equation}\n",
    "P = \\begin{pmatrix} f_0 & f_1 & f_2 & f_3 \\ldots\\\\ f_0 & f_1 & f_2 & f_3 \\ldots \\\\0 & f_0 & f_1 & f_3 \\ldots \\\\ 0 & 0 & f_0 & f_1 & \\ldots \\\\ 0 & 0 & 0 & f_0 & \\ldots\\\\ \\ldots & \\ldots & \\ldots & \\ldots & \\ldots\\end{pmatrix} \n",
    "\\end{equation}$$"
   ]
  },
  {
   "cell_type": "markdown",
   "id": "26ba6639-5f88-4660-9498-98df027d2f82",
   "metadata": {},
   "source": [
    "Найдем финальные вероятности системы. Нужно отметить, что для их существования должны выполняться необходимые условия - интенсивность входящего потока должна быть меньше интенсивности потока обслуживания: $\\frac{\\lambda}{\\mu}=\\lambda\\cdot M[\\tau]<1$, где $M[\\tau]=\\frac{1}{\\mu}=\\int_0^\\infty \\tau dF(\\tau)$."
   ]
  },
  {
   "cell_type": "markdown",
   "id": "afb0a0a2-15a9-4d9c-8f08-376e3fb63b27",
   "metadata": {},
   "source": [
    "Обозначим $\\pi_n=\\lim_{k\\rightarrow \\infty}P(\\nu_k=n), n=0, 1, 2, \\ldots$ - вероятность того, что в момент времени $t_k, k\\rightarrow\\infty$ в системе будет $n$ заявок."
   ]
  },
  {
   "cell_type": "markdown",
   "id": "be09f498-7db0-42d1-9499-ff46193f95f8",
   "metadata": {},
   "source": [
    "В лекции 3 для нахождения стационарных вероятностей цепи Маркова с дискретным временем мы использовали условие:\n",
    "$\\pi\\cdot (P-E)=0$, где $\\pi = (\\pi_0 \\pi_1 \\pi_2 \\pi_3 \\ldots)$- вектор-строка, а также условие нормировки $\\sum_{n=0}^\\infty\\pi_n=1$. Тогда получаем:\n",
    "$$(\\pi_0 \\pi_1 \\pi_2 \\pi_3 \\ldots)\\cdot \\begin{pmatrix} 1 & f_1 & f_2 & f_3 \\ldots\\\\ 1 & f_1-1 & f_2 & f_3 \\ldots \\\\1 & f_0 & f_1-1 & f_3 \\ldots \\\\ 1 & 0 & f_0 & f_1-1 & \\ldots \\\\ 1 & 0 & 0 & f_0 & \\ldots\\\\ \\ldots & \\ldots & \\ldots & \\ldots & \\ldots\\end{pmatrix}=(1 0 0 0 \\ldots)$$"
   ]
  },
  {
   "cell_type": "markdown",
   "id": "a0a970e5-84f3-4ab9-94e1-9be4c5ad6bd2",
   "metadata": {},
   "source": [
    "Это приводит к системе уравнений:\n",
    "\\\\begin{cases} \\sum_{n=0}^\\infty\\pi_n=1\\\\\n",
    "               \\pi_n = \\pi_0f_n+\\sum_{j=0}^n \\pi_{n-j+1}\\cdot f_{j}, n=1, 2, 3, \\ldots\\tag{1}\n",
    "\\end{cases}"
   ]
  },
  {
   "cell_type": "markdown",
   "id": "0952d37f-06ec-471a-b31e-1169217b9811",
   "metadata": {},
   "source": [
    "Введем в рассмотрение производящие функции \n",
    "$$f(z)=\\sum_{n=0}^\\infty f_nz^n, \\pi(z)=\\sum_{n=0}^\\infty \\pi_nz^n$$"
   ]
  },
  {
   "cell_type": "markdown",
   "id": "a4ac936d-3b76-41b9-b71d-e404197b36b1",
   "metadata": {},
   "source": [
    "Умножив каждое $\\pi_n$ из системы (1) на $z^n$ и сложив их все, получим:\n",
    "$$\\pi(z) = \\sum_{n=0}^\\infty\\pi_n z^n = \\pi_0\\cdot f(z)+\\sum_{n=0}^\\infty z^n\\cdot \\sum_{j=0}^n\\pi_{n-j+1}\\cdot f_j \\tag{2}$$"
   ]
  },
  {
   "cell_type": "markdown",
   "id": "dbb43451-0f1b-42bd-aaf4-a83bebbf4a07",
   "metadata": {},
   "source": [
    "Выполним преобразования\n",
    "$$\\sum_{n=0}^\\infty z^n\\cdot \\sum_{j=0}^n\\pi_{n-j+1}\\cdot f_j = \\sum_{j=0}^\\infty f_j\\sum_{n=j}^\\infty\\pi_{n-j+1}\\cdot z^n=\\sum_{j=0}^\\infty f_j\\cdot z^j\\cdot \\sum_{n=j}^\\infty\\pi_{n-j+1}\\cdot z^{n-j}=\\sum_{j=0}^\\infty f_jz^j\\left(\\sum_{k=0}^\\infty\\pi_{k+1}z^k\\right)$$"
   ]
  },
  {
   "cell_type": "markdown",
   "id": "df4f6e21-2889-4e42-8a71-25e51311e0b7",
   "metadata": {},
   "source": [
    "В последнем выражении принято $k=n-j$, далее получаем:\n",
    "$$\\sum_{k=0}^\\infty\\pi_{k+1}z^k=\\frac{\\pi(z)-\\pi_0}{z}$$\n",
    "$$\\sum_{j=0}^\\infty f_jz^j\\left(\\sum_{k=0}^\\infty\\pi_{k+1}z^k\\right)=f(z)\\cdot\\frac{\\pi(z)-\\pi_0}{z}$$"
   ]
  },
  {
   "cell_type": "markdown",
   "id": "6bbde3fe-d196-4603-b847-064037ac83b1",
   "metadata": {},
   "source": [
    "Тогда из уравнения (2) получаем:\n",
    "$$\\pi(z)=\\pi_0\\cdot f(z)+f(z)\\cdot\\frac{\\pi(z)-\\pi_0}{z}$$\n",
    "$$\\pi(z)-\\frac{f(z)\\pi(z)}{z}=\\pi_0f(z)-\\frac{f(z)\\pi_0}{z}$$\n",
    "$$\\pi(z)\\left(1-\\frac{f(z)}{z}\\right)=\\pi_0f(z)\\left(1-\\frac{1}{z}\\right)$$\n",
    "$$\\pi(z)=\\frac{\\pi_0 f(z)(z-1)}{z-f(z)}\\tag{3}$$"
   ]
  },
  {
   "cell_type": "markdown",
   "id": "5b7705c2-5975-4c9b-98a3-a06d1a0d156e",
   "metadata": {},
   "source": [
    "Выразим теперь $\\pi_0$:\n",
    "$$\\lim_{z\\rightarrow 1}\\pi(z) = \\sum_{n=0}^\\infty\\pi_n=1=\\pi_0\\lim_{z\\rightarrow 1}\\frac{f(z)(z-1)}{z-f(z)}$$"
   ]
  },
  {
   "cell_type": "markdown",
   "id": "00b23fdc-d1cc-4fe7-b5c1-3f2d09bbdb69",
   "metadata": {},
   "source": [
    "Для нахождения предела воспользуемся правилом Лопиталя, а также учтем условие нормировки $f(1)=1$:\n",
    "$$1=\\pi_0\\lim_{z\\rightarrow 1}\\frac{f(z)(z-1)}{z-f(z)}=\\pi_0\\lim_{z\\rightarrow 1}\\frac{f'(z)z-f'(z)+f(z)}{1-f'(z)}=\\pi_0\\frac{1}{1-f'(1)}$$\n",
    "Отсюда получаем $\\pi_0=1-f'(1)$."
   ]
  },
  {
   "cell_type": "markdown",
   "id": "49a0dc61-0acb-4fa0-8eda-445e1881983e",
   "metadata": {},
   "source": [
    "Таким образом, формулу (3) можно переписать следующим образом:\n",
    "$$\\pi(z) = \\frac{(1-f'(1))\\cdot f(z)\\cdot(z-1)}{z-f(z)}\\tag{4}$$"
   ]
  },
  {
   "cell_type": "markdown",
   "id": "b1811c38-a69f-4924-8777-243dd1131d22",
   "metadata": {},
   "source": [
    "Формула (4) позволяет выразить среднее число заявок, находящихся в системе:\n",
    "$$L_{\\text{сист}}=\\pi'(z)|_{z=1}=\\left(\\sum_{n=0}^\\infty n\\cdot z^{n-1}\\cdot \\pi_n\\right)|_{z=1}$$\n",
    "[Wolfram](https://www.wolframalpha.com/input?i=diff%28f%28z%29*%28z-1%29%2F%28z-f%28z%29%29%2Cz%29)\n",
    "$$L_{\\text{сист}}=\\pi'(z)|_{z=1}=(1-f'(1))\\cdot\\lim_{z\\rightarrow 1}\\left(\\frac{(z-1)zf'(z)-f^2(z)+f(z)}{(z-f(z))^2}\\right)$$"
   ]
  },
  {
   "cell_type": "markdown",
   "id": "aed7a3bb-fe68-4193-87be-667c52ba4d65",
   "metadata": {},
   "source": [
    "Поскольку $f(1)=1$, при взятии предела возникает неопределенность, поэтому воспользуемся правилом Лопиталя:\n",
    "$$L_{\\text{сист}}=(1-f'(1))\\cdot \\lim_{z\\rightarrow 1}\\frac{f''(z)(z^2-z)+2zf'(z)-f'(z)-2f(z)f'(z)+f'(z)}{2(z-f(z))(1-f'(z))}$$\n",
    "$$L_{\\text{сист}}=(1-f'(1))\\cdot \\lim_{z\\rightarrow 1}\\frac{f''(z)(z^2-z)+2zf'(z)-2f(z)f'(z)}{2(z-f(z))(1-f'(1))}$$\n",
    "$$L_{\\text{сист}}=\\lim_{z\\rightarrow 1}\\frac{f''(z)(z^2-z)+2zf'(z)-2f(z)f'(z)}{2(z-f(z))}$$\n",
    "$$L_{\\text{сист}}=\\lim_{z\\rightarrow 1}\\frac{f''(z)(z^2-z)}{2(z-f(z))}+\\frac{2f'(z)(z-f(z))}{2(z-f(z))}$$\n",
    "$$L_{\\text{сист}}=\\lim_{z\\rightarrow 1}\\left(\\frac{f''(z)(z^2-z)}{2(z-f(z))}+f'(z)\\right)$$\n",
    "$$L_{\\text{сист}}=\\lim_{z\\rightarrow 1}\\left(\\frac{f''(z)(z^2-z)}{2(z-f(z))}\\right)+f'(1)$$"
   ]
  },
  {
   "cell_type": "markdown",
   "id": "f24df974-595b-4b09-a9ca-1c638a26f664",
   "metadata": {},
   "source": [
    "Для последнего выражения опять используем правило Лопиталя:\n",
    "$$L_{\\text{сист}}=f'(1)+\\lim_{z\\rightarrow 1}\\frac{f'''(z)(z^2-z)+2zf''(z)-f''(z)}{2(1-f'(z))}$$\n",
    "$$L_{\\text{сист}}=f'(1)+\\frac{f''(1)}{2(1-f'(1))} \\tag{5}$$"
   ]
  },
  {
   "cell_type": "markdown",
   "id": "855dc784-3a2a-4dcd-bca8-7b0fc6a627ad",
   "metadata": {},
   "source": [
    "Остается найти явное выражение для $f(z)$.\n",
    "\n",
    "$$f(z)=\\sum_{n=0}^\\infty f_nz^n=\\sum_{n=0}^\\infty z^n \\int_{0}^\\infty\\frac{(\\lambda\\tau)^n}{n!}e^{-\\lambda\\tau}dF(\\tau)=\\int_{0}^\\infty\\left(\\sum_{n=0}^\\infty\\frac{(\\lambda\\tau z)^n}{n!}\\right)\\cdot e^{-\\lambda\\tau}dF(\\tau)$$"
   ]
  },
  {
   "cell_type": "markdown",
   "id": "5c9d6138-57ce-4e7c-b140-93c7cb6e718b",
   "metadata": {},
   "source": [
    "$$f(z)=\\int_0^\\infty e^{\\lambda\\tau z}e^{-\\lambda \\tau}dF(\\tau)=\\int_0^\\infty e^{-\\lambda(1-z)\\tau}dF(\\tau) \\tag{6}$$"
   ]
  },
  {
   "cell_type": "markdown",
   "id": "a83e283a-bddb-4072-be2c-29fcd4c54e0e",
   "metadata": {},
   "source": [
    "$$\\frac{f(z)}{dz} = \\lambda\\int_{0}^\\infty \\tau\\cdot e^{-\\lambda(1-z)\\tau}dF(\\tau)$$"
   ]
  },
  {
   "cell_type": "markdown",
   "id": "9cb8b5f5-8003-41fa-99bf-840b38a3a0e8",
   "metadata": {},
   "source": [
    "$$f'(1)=\\lambda\\int_{0}^\\infty\\tau dF(\\tau) = \\lambda M[\\tau]$$"
   ]
  },
  {
   "cell_type": "markdown",
   "id": "c570a6ee-1460-4ab5-b6c2-b4995924d233",
   "metadata": {},
   "source": [
    "$$\\frac{d^2f(z)}{dz^2}=\\lambda^2\\int_{0}^\\infty \\tau^2\\cdot e^{-\\lambda(1-z)\\tau} dF(\\tau)$$"
   ]
  },
  {
   "cell_type": "markdown",
   "id": "91ebae35-6e06-411c-bb5d-97435738bc1e",
   "metadata": {},
   "source": [
    "$$f''(1) = \\lambda^2\\int_{0}^\\infty \\tau^2 dF(\\tau)$$"
   ]
  },
  {
   "cell_type": "markdown",
   "id": "0ceb36e1-3b53-4c15-99bd-70880c8dfb41",
   "metadata": {},
   "source": [
    "Интеграл в последнем выражении - это начальный момент второго порядка случайной величины $\\tau$, он имеет выражение через дисперсию:\n",
    "$$D[\\tau]=\\int_0^\\infty(\\tau-M[\\tau])^2dF(\\tau)=\\int_0^\\infty\\tau^2dF(\\tau)-2M[\\tau]\\cdot\\int_0^\\infty \\tau dF(\\tau)+M^2[\\tau]$$\n",
    "$$D[\\tau]=\\int_0^\\infty\\tau^2dF(\\tau)-2M^2[\\tau]+M^2[\\tau]$$\n",
    "$$f''(1) = \\lambda^2\\int_0^\\infty\\tau^2dF(\\tau) = \\lambda^2(D[\\tau]+M^2[\\tau])$$"
   ]
  },
  {
   "cell_type": "markdown",
   "id": "3c2830a4-0ca4-4080-b1a7-6c9dbf80bff6",
   "metadata": {},
   "source": [
    "Подставляя полученные выражения в формулу (5), получаем:\n",
    "$$L_{\\text{сист}}=\\lambda M[\\tau]+\\frac{\\lambda^2(D[\\tau]+M^2[\\tau])}{2(1-\\lambda M[\\tau])} \\tag{7}$$"
   ]
  },
  {
   "cell_type": "markdown",
   "id": "018183be-ea09-49d2-9eff-61227219e366",
   "metadata": {},
   "source": [
    "Выражение (7) позволяет находить среднее число заявок, находящихся в системе для СМО вида $M/G/1/\\infty$, и носит название **формулы Поллачека-Хинчина для среднего значения**.\n",
    "\n",
    "Подчеркнем, что распределение число требований зависит только от первых двух моментов распределения случайной величины $\\tau$. Используя формулу Литтла, можно также найти и остальные параметры системы:\n",
    "$$T_{\\text{сист}}=\\frac{L_{\\text{сист}}}{\\lambda}=M[\\tau]+\\frac{\\lambda(D[\\tau]+M^2[\\tau])}{2(1-\\lambda M[\\tau])} \\tag{8}$$\n",
    "$$W_{\\text{оч}}=T_{\\text{сист}}-M[\\tau]=\\frac{\\lambda(D[\\tau]+M^2[\\tau])}{2(1-\\lambda M[\\tau])} \\tag{9}$$\n",
    "$$L_{\\text{оч}} = W_{\\text{оч}}\\cdot \\lambda = \\frac{\\lambda^2(D[\\tau]+M^2[\\tau])}{2(1-\\lambda M[\\tau])} \\tag{10}$$"
   ]
  },
  {
   "cell_type": "markdown",
   "id": "a09c83a2-1008-4bb6-a3e1-07f50badb157",
   "metadata": {},
   "source": [
    "Вспоминая, что преобразование Лапласа-Стилтьеса:\n",
    "$$B(s)=\\int_0^\\infty e^{-s\\tau}dF(\\tau)$$\n",
    "и сопоставляя это с формулой (6), получаем:\n",
    "$$f(z)=B(\\lambda(1-z))$$"
   ]
  },
  {
   "cell_type": "markdown",
   "id": "2ce46b8d-686d-4295-97f6-fd21d120b3df",
   "metadata": {},
   "source": [
    "Тогда используя формулу (4), получаем:"
   ]
  },
  {
   "cell_type": "markdown",
   "id": "1f24c61e-7cca-473d-92bb-3ac88dd210ea",
   "metadata": {},
   "source": [
    "$$\\pi(z) = \\frac{(1-\\lambda M[\\tau])\\cdot B(\\lambda(1-z))\\cdot(z-1)}{z-B(\\lambda(1-z))}\\tag{11}$$"
   ]
  },
  {
   "cell_type": "markdown",
   "id": "5e8dfd89-d8d0-40c8-89f9-e5b25b9974cd",
   "metadata": {},
   "source": [
    "Формула (11) называется **формулой Поллачика-Хинчина для преобразования**, которая позволяет вычислять значения стационарных  вероятностей нахождения в СМО $n=0,1,2,3,\\ldots$ заявок в моменты окончания обслуживания при $t_k, k\\rightarrow \\infty$. (Данное уравнение было получено в 1932 году А.Я. Хинчиным.)"
   ]
  },
  {
   "cell_type": "markdown",
   "id": "f10d705a-7982-4ec7-a762-ec557eddd531",
   "metadata": {},
   "source": [
    "Рассмотрим ряд примеров на использование формул Поллачека-Хинчина (7)-(11)."
   ]
  },
  {
   "cell_type": "markdown",
   "id": "228f9cbd-2705-41e3-8c4a-ffbe560b4370",
   "metadata": {},
   "source": [
    "**Пример 1.**\n",
    "\n",
    "Рассмотрим в качестве примера экспоненциальное распределение закона обслуживания:\n",
    "$F(t) = 1-e^{-\\mu t}$\n",
    "$$M[\\tau]=\\frac{1}{\\mu}, D[\\tau] = \\frac{1}{\\mu^2}$$\n",
    "Обозначим $y=\\frac{\\lambda}{\\mu}$, тогда по формуле (7) имеем:\n",
    "$$L_{\\text{сист}}=y+\\frac{2y^2}{2(1-y)}=\\frac{y}{1-y}$$"
   ]
  },
  {
   "cell_type": "markdown",
   "id": "0270dbf6-f519-42b4-ad50-7a6b077e32f6",
   "metadata": {},
   "source": [
    "Это совпадает с известной нам формулой (см. формулу (1) лекции 4). Аналогично получаем остальные показатели.\n",
    "\n",
    "Теперь воспользуемся формулой (11), чтобы получить $\\pi_n = \\lim_{k\\rightarrow \\infty}P(\\nu_k=n), n=0, 1, 2, \\ldots$ - вероятность того, что в момент времени $t_k, k\\rightarrow\\infty$ в системе будет $n$ заявок:\n",
    "$$B(s) = B(\\lambda-\\lambda z) = \\int_0^\\infty e^{-st}dF(t) = \\int_0^\\infty \\mu e^{-\\mu t}e^{-st}dt$$\n"
   ]
  },
  {
   "cell_type": "markdown",
   "id": "cc25ab76-163b-48e3-a454-61a0f3b6336c",
   "metadata": {},
   "source": [
    "$$B(s) = \\mu\\int_0^\\infty e^{-(\\mu+s)t}dt = -\\frac{\\mu}{\\mu+s}\\int_0^\\infty d e^{-(\\mu+s)t} =\\frac{\\mu}{\\mu+s}=\\frac{\\mu}{\\mu+\\lambda-\\lambda z}$$"
   ]
  },
  {
   "cell_type": "markdown",
   "id": "4d3d3700-35f0-409f-9fb7-67cf8abdfc14",
   "metadata": {},
   "source": [
    "$$\\pi(z) = \\frac{\\left(1-\\frac{\\lambda}{\\mu}\\right)(z-1)}{z-\\frac{\\mu}{\\mu+\\lambda-\\lambda z}}\\cdot \\frac{\\mu}{\\mu+\\lambda-\\lambda z}=\\frac{(z-1)(\\mu-\\lambda)}{\\mu z+\\lambda z -\\lambda z^2 - \\mu}= \\frac{(1-z)(\\mu-\\lambda)}{\\lambda z^2-(\\mu+\\lambda)z +\\mu}$$"
   ]
  },
  {
   "cell_type": "markdown",
   "id": "1a90033e-d54f-429e-8be1-fb44ae8cfaa6",
   "metadata": {},
   "source": [
    "Выражение $\\lambda z^2-(\\mu+\\lambda)z +\\mu$ разложим на множители по $z$:\n",
    "$$z_{1,2} = \\frac{\\mu+\\lambda\\pm\\sqrt{(\\mu+\\lambda)^2-4\\mu\\lambda}}{2\\lambda} = \\frac{\\mu+\\lambda\\pm|\\mu-\\lambda|}{2\\lambda}$$"
   ]
  },
  {
   "cell_type": "markdown",
   "id": "72d81e48-2a40-44fe-81ba-8b301364a6c5",
   "metadata": {},
   "source": [
    "Поскольку $\\frac{\\lambda}{\\mu}<1\\Rightarrow \\mu-\\lambda >0$, то\n",
    "$$z_1 = \\frac{\\mu}{\\lambda}, z_2 = 1$$\n",
    "$$\\lambda z^2-(\\mu+\\lambda)z +\\mu = \\lambda(z-1)(z-\\frac{\\mu}{\\lambda})$$"
   ]
  },
  {
   "cell_type": "markdown",
   "id": "556ecd7d-653b-410d-b729-23fe0998d397",
   "metadata": {},
   "source": [
    "$$\\pi(z) = \\frac{(1-z)(\\mu-\\lambda)}{\\lambda(z-1)\\left(z-\\frac{\\mu}{\\lambda}\\right)} = \\frac{1-y}{1-yz}, y = \\frac{\\lambda}{\\mu}$$"
   ]
  },
  {
   "cell_type": "markdown",
   "id": "8a5b2dac-05c1-401c-b507-67457b4943ea",
   "metadata": {},
   "source": [
    "Последнее выражение разложим в ряд по переменной $z$:\n",
    "\n",
    "[Wolfram](https://www.wolframalpha.com/input?i=series%28+%281-y%29%2F%281-y*z%29%2C+z%29)\n",
    "\n",
    "$$\\pi(z) = (1-y) +(1-y)yz+(1-y)y^2z^2+(1-y)y^3z^3+\\ldots \\tag{12}$$\n",
    "\n",
    "Как видно, полученный результат $P_0 = (1-y), P_k = (1-y)y^k$ совпадает с вероятностями нахождения системы $M/M/1/\\infty$ в состояниях $S_0, S_k$  из лекции 4. Однако, равенство (12) получено для момента ухода обслуженных заявок, в то время как результаты в лекции 4 справедливы для любого момента времени. \n",
    "\n",
    "Это совпадение не является случайным. Во вложенных цепях Маркова мы устраняли наличие последействия рассмотрением только определенных моментов времени - ухода обслуженных заявок.\n",
    "\n",
    "Но легко понять, что последействие будет отсутствовать и когла мы будем рассматривать заявки за секунду до или после ухода обслуженной (в общем случае в любой фиксированный момент времени от события ухода обслуженных заявок). При отсутствии последействия все рассуждения остаются в силе для этих моментов времени. Таким образом, вложенные марковские цепи дают решение, справедливое для любых точек оси времени. "
   ]
  },
  {
   "cell_type": "markdown",
   "id": "a2190140-82c9-4363-abc2-ac142ef5335d",
   "metadata": {},
   "source": [
    "**Пример 2.**\n",
    "\n",
    "Рассмотрим теперь систему с детерминированным временем обслуживания $M/D/1/\\infty$. В ней $M[\\tau]=T$ - постоянная величина времени обслуживания, $D[\\tau] = 0$, тогда получаем:\n",
    "$$L_{\\text{сист}} = \\lambda T+\\frac{\\lambda^2 T^2}{2(1-\\lambda T)} = \\frac{2\\lambda T-\\lambda^2 T^2}{2(1-\\lambda T)}$$"
   ]
  },
  {
   "cell_type": "markdown",
   "id": "be236590-7193-4741-8f88-e84398dd2a05",
   "metadata": {},
   "source": [
    "$$T_{\\text{сист}} = \\frac{2T-\\lambda T^2}{2(1-\\lambda T)}$$"
   ]
  },
  {
   "cell_type": "markdown",
   "id": "b93f3c54-467e-4869-8f73-475646f2fdca",
   "metadata": {},
   "source": [
    "$$W_{\\text{оч}} = \\frac{\\lambda T^2}{2(1-\\lambda T)}$$"
   ]
  },
  {
   "cell_type": "markdown",
   "id": "05c405ad-ca5d-4454-a5d3-bbef031a6a9f",
   "metadata": {},
   "source": [
    "$$L_{\\text{оч}} = \\frac{\\lambda^2 T^2}{2(1-\\lambda T)}$$"
   ]
  },
  {
   "cell_type": "markdown",
   "id": "74ff4d00-0c0d-413a-aba1-464bbbb2f2c1",
   "metadata": {},
   "source": [
    "Зададимся числовыми значениями $\\lambda = 3, T =0.3$, условие $\\lambda\\cdot T=3\\cdot 0.3 <1$ - выполняется. \n",
    "\n",
    "Проведем расчет по полученным формулам, а также выполним моделирование и сравним результаты."
   ]
  },
  {
   "cell_type": "code",
   "execution_count": 8,
   "id": "5208c4ab-7197-4640-a810-ea88fd67152e",
   "metadata": {},
   "outputs": [
    {
     "name": "stdout",
     "output_type": "stream",
     "text": [
      "Lsys =  4.95\n",
      "Tsys =  1.65\n",
      "Loch =  4.05\n",
      "Woch =  1.35"
     ]
    }
   ],
   "source": [
    "lambda <- 3\n",
    "T <- 0.3\n",
    "Lsys <- (2*lambda*T-lambda^2*T^2)/(2*(1-lambda*T))\n",
    "Woch <- lambda*T^2/(2*(1-lambda*T))\n",
    "Tsys<-(2*T-lambda*T^2)/(2*(1-lambda*T))\n",
    "Loch<-lambda^2*T^2/(2*(1-lambda*T))\n",
    "cat(\"Lsys = \", Lsys)\n",
    "cat(\"\\nTsys = \", Tsys)\n",
    "cat(\"\\nLoch = \", Loch)\n",
    "cat(\"\\nWoch = \", Woch)"
   ]
  },
  {
   "cell_type": "code",
   "execution_count": 12,
   "id": "ffd004e1-1655-42f4-bac6-c8396d7b26a6",
   "metadata": {},
   "outputs": [],
   "source": [
    "#Моделирование детерминированного обслуживания\n",
    "\n",
    "library(simmer)\n",
    "library(simmer.plot)\n",
    "\n",
    "my.trajectory2 <- trajectory() %>%\n",
    "  seize(\"server\", amount=1) %>%\n",
    "  timeout(T) %>%\n",
    "  release(\"server\", amount=1)\n",
    "\n",
    "Tmodel<-200000\n",
    "md_1_inf <- simmer() %>%\n",
    "  add_resource(\"server\", capacity=1, queue_size=Inf) %>%\n",
    "  add_generator(\"arrival\", my.trajectory2, function() rexp(1, lambda)) %>%\n",
    "  run(until=Tmodel)"
   ]
  },
  {
   "cell_type": "code",
   "execution_count": 13,
   "id": "0c766873-48b0-4d06-9be1-8549c677ca06",
   "metadata": {},
   "outputs": [
    {
     "data": {
      "image/png": "[encoded data removed]",
      "text/plain": [
       "plot without title"
      ]
     },
     "metadata": {
      "image/png": {
       "height": 420,
       "width": 420
      }
     },
     "output_type": "display_data"
    }
   ],
   "source": [
    "#Находим среднюю длину очереди\n",
    "plot(get_mon_resources(md_1_inf), \"usage\", \"server\", items=\"queue\")"
   ]
  },
  {
   "cell_type": "code",
   "execution_count": 14,
   "id": "79908ecf-a349-4ed4-8a38-4d066b834a3e",
   "metadata": {},
   "outputs": [
    {
     "data": {
      "image/png": "[encoded data removed]",
      "text/plain": [
       "plot without title"
      ]
     },
     "metadata": {
      "image/png": {
       "height": 420,
       "width": 420
      }
     },
     "output_type": "display_data"
    }
   ],
   "source": [
    "#Находим среднее число заявок в системе\n",
    "plot(get_mon_resources(md_1_inf), \"usage\", \"server\", items=\"system\")"
   ]
  },
  {
   "cell_type": "code",
   "execution_count": 15,
   "id": "f06e2022-2944-4cf6-b1d1-ba83140324e9",
   "metadata": {},
   "outputs": [
    {
     "name": "stdout",
     "output_type": "stream",
     "text": [
      "Tsys = 1.659901\n",
      "Woch = 1.359901"
     ]
    }
   ],
   "source": [
    "res_arrivals <- get_mon_arrivals(md_1_inf)\n",
    "cat(\"Tsys =\", mean(res_arrivals$end_time - res_arrivals$start_time))\n",
    "cat(\"\\nWoch =\", mean(res_arrivals$end_time - res_arrivals$start_time-res_arrivals$activity_time))"
   ]
  },
  {
   "cell_type": "markdown",
   "id": "a5b61583-f7a4-496d-9f64-557735323259",
   "metadata": {},
   "source": [
    "### Системы класса $GI/GI/1/\\infty$ - немарковские процессы"
   ]
  },
  {
   "cell_type": "markdown",
   "id": "3cba6e74-957c-4e39-b087-fb0d542c001d",
   "metadata": {},
   "source": [
    "В общем случае для такого рода систем не существует точных формул.\n",
    "\n",
    "Пусть входящий поток и поток обслуживания являются стационарными, ординарными с ограниченным последействием и произвольным законом распределения интервалов времени между моментами поступления заявок в систему (для входящего потока) и между моментами времени ухода заявки обслуженной (для потока обслуживания). Такие потоки называются **рекуррентными** и обозначаются $GI$.\n",
    "\n",
    "Итак, будем рассматривать систему $GI/GI/1/\\infty$, в которую поступает рекуррентный поток заявок с интенсивностью $\\lambda$. Интервалы времени между заявками – независимые случайные величины функцией распределения $А(t)$, средним значением $M[\\tau] =\\bar{\\tau} = \\frac{1}{\\lambda}$, и коэффициентом вариации $v_\\tau = \\frac{\\sigma_\\lambda}{\\bar{\\tau}}=\\lambda\\cdot \\sigma_{\\tau}$ и дисперсией $D[\\tau] = \\sigma^2_\\tau$. Время обслуживания заявки в системе $x$ также независимая случайная величина со средним значением $M[x] = \\bar{x}=\\frac{1}{\\mu}$, которая имеет произвольную функцию распределения $В(t)$ и коэффициент вариации $v_{\\mu}=\\frac{\\sigma_x}{\\bar{x}}=\\mu\\cdot\\sigma_x$, дисперсию $D[x]=\\sigma^2_x$. Поскольку число каналов в системе $k = 1$, то ее коэффициент загрузки $y=\\frac{\\lambda}{\\mu}$.\n",
    "\n",
    "Для такой системы известны следующие результаты:\n",
    "\n",
    "- **Неравенство Кингмана - Келлерстрема** [1, 2, 3, 4] - верхнее ограничение на длину очереди:\n",
    "$$L_{\\text{оч}}\\leq \\frac{v_\\lambda^2+y^2v_\\mu^2}{2(1-y)} \\tag{13}$$\n",
    "- в [1, 2] приводится также нижнее ограничение:\n",
    "$$L_{\\text{оч}}\\geq \\frac{y^2v_\\mu^2}{2(1-y)}-\\frac{y}{2} \\tag{14}$$\n",
    " - в [1, 2, 3]  обосновывается, что на практике удобнее пользоваться **формулой Файнберга**:\n",
    " $$L_{\\text{оч}}\\approx \\frac{y^2(v_\\lambda^2+v_\\mu^2)}{2(1-y)} \\tag{15}$$\n",
    " Используя формулу (15) и формулу Литтла, можно выразить остальные характеристики системы:\n",
    " $$W_{\\text{оч}} \\approx \\frac{y^2(v_\\lambda^2+v_\\mu^2)}{2\\lambda(1-y)} \\tag{16}$$\n",
    " $$L_{\\text{сист}}\\approx \\frac{y^2(v_\\lambda^2+v_\\mu^2)}{2(1-y)}+y \\tag{17}$$\n",
    " $$T_{\\text{сист}}\\approx \\frac{y^2(v_\\lambda^2+v_\\mu^2)}{2\\lambda(1-y)}+\\frac{1}{\\mu} \\tag{18}$$"
   ]
  },
  {
   "cell_type": "markdown",
   "id": "f602c725-6ba5-4f92-a1d4-b001ff587d53",
   "metadata": {},
   "source": [
    "- В [5] используется еще одна аппроксимация, получившая название **аппроксимация Маршалла**:\n",
    "\n",
    "$$W_{\\text{оч}}\\approx \\frac{y M[x]}{2(1-y)}\\cdot \\left(\\frac{D[\\tau]+D[x]}{M^2[x]}\\right)\\cdot\\left(\\frac{M^2[x]+D[x]}{M^2[\\tau]+D[x]}\\right) \\tag{19}$$"
   ]
  },
  {
   "cell_type": "markdown",
   "id": "2c4bc9fa-974e-4b6d-affc-392d3530b165",
   "metadata": {},
   "source": [
    "[1] Задорожный В. Н., Галич  Ю. Г., ОЦЕНКА ТОЧНОСТИ ПРИБЛИЖЕННЫХ ФОРМУЛ ДЛЯ СРЕДНЕЙ ДЛИНЫ ОЧЕРЕДИ /  СИСТЕМЫ УПРАВЛЕНИЯ, ИНФОРМАЦИОННЫЕ ТЕХНОЛОГИИ И МАТЕМАТИЧЕСКОЕ МОДЕЛИРОВАНИЕ. Материалы II Всероссийской научно-практической конференции с международным участием. В 2-х томах . Том I.\n",
    "\n",
    "[2] Платонов Г. А., Файнберг М. А., Штильман М. С. Поезда, пассажиры и... математика. М. :\n",
    "Транспорт, – 1977. 239 с.\n",
    "\n",
    "[3] Вентцель Е. С., Задачи и упражнения по теории вероятностей: Учеб. пособие для студ. втузов / Е. С. Вентцель, Л. А. Овчаров. — 5-е изд., испр. — М.: Издательский центр «Академия», 2003. — 448 с.\n",
    "\n",
    "[4] Клейнрок Л. Вычислительные системы с очередями / пер. с англ. под ред. Б. С. Цыбакова.\n",
    "М. : Мир, 1979. – 600 с.\n",
    "\n",
    "[5] https://studfile.net/preview/11297923/page:7/"
   ]
  },
  {
   "cell_type": "markdown",
   "id": "1740f9b3-6a4f-4b1d-be28-69511c62d32a",
   "metadata": {},
   "source": [
    "**Пример 3.**\n",
    "\n",
    "Проведем оценку точности этих формул на примере.Например, рассмотрим $E_2/M/1/\\infty$ при $\\lambda' = 2/5, \\mu = 1/3$.\n",
    "Для потока Эрланга $k$-го порядка справедливо:\n",
    "$$M[t] = \\frac{k}{\\lambda'}, D[t] = \\frac{k}{\\lambda'^2}, v^2 = \\frac{D[t]}{M^2[t]} = \\frac{1}{k}$$\n",
    "В нашем случае получаем:\n",
    "$$M[\\tau] = \\frac{2}{2/5} = 5, D[\\tau] = \\frac{2}{4/25} = \\frac{25}{2}, v^2_\\lambda = \\frac{1}{2}, \\lambda = \\frac{1}{M[\\tau]} = 1/5$$\n",
    "\n",
    "$$M[x] = 3, D[x] = 9, v^2_\\mu =1$$\n",
    "\n",
    "$$y = \\frac{\\lambda}{\\mu} =\\frac{3}{5}$$\n",
    "\n",
    "Расчеты по формуле Файнберга:\n",
    "$$W_{\\text{оч}} \\approx \\frac{y^2(v_\\lambda^2+v_\\mu^2)}{2\\lambda(1-y)} \\approx 3.375$$\n",
    "\n",
    "$$T_{\\text{сист}} = W_{\\text{оч}} + \\frac{1}{\\mu} \\approx 6.378$$\n",
    "\n",
    "$$L_{\\text{оч}}\\approx \\frac{y^2(v_\\lambda^2+v_\\mu^2)}{2(1-y)} \\approx 0.675$$\n",
    "\n",
    "$$L_{\\text{сист}}\\approx \\frac{y^2(v_\\lambda^2+v_\\mu^2)}{2(1-y)}+y \\approx 1.275$$"
   ]
  },
  {
   "cell_type": "code",
   "execution_count": 7,
   "id": "9fbf1b7e-0e56-4d98-8b8a-bf15bb121f62",
   "metadata": {},
   "outputs": [
    {
     "name": "stdout",
     "output_type": "stream",
     "text": [
      "Woch =  3.375\n",
      "Tsys =  6.378003\n",
      "Loch =  0.675\n",
      "Lsys =  1.275"
     ]
    }
   ],
   "source": [
    "y <- 0.6\n",
    "lambda <-0.2\n",
    "mu<-0.333\n",
    "vmu2 <- 1\n",
    "vlambda2 <- 1/2\n",
    "Woch<-y^2*(vmu2+vlambda2)/(2*lambda*(1-y));cat('Woch = ',Woch)\n",
    "Tsys<-Woch+1/mu; cat('\\nTsys = ',Tsys)\n",
    "Loch<-y^2*(vmu2+vlambda2)/(2*(1-y));cat('\\nLoch = ',Loch)\n",
    "Lsys<-Loch+y;cat('\\nLsys = ',Lsys)"
   ]
  },
  {
   "cell_type": "markdown",
   "id": "6d1fbf01-01cb-4e27-b821-18942a18e8f9",
   "metadata": {},
   "source": [
    "Расчеты в соответствии с неравенством Кингмана - Келлерстрема:\n",
    "$$\\frac{y^2v_\\mu^2}{2(1-y)}-\\frac{y}{2}\\leq L_{\\text{оч}}\\leq \\frac{v_\\lambda^2+y^2v_\\mu^2}{2(1-y)}$$\n",
    "$$0.15\\leq L_{\\text{оч}}\\leq 1.075$$"
   ]
  },
  {
   "cell_type": "code",
   "execution_count": 26,
   "id": "49637b7b-6276-445c-9d56-0aa9ee18e08a",
   "metadata": {},
   "outputs": [
    {
     "name": "stdout",
     "output_type": "stream",
     "text": [
      "Lochniz =  0.15\n",
      "Lochverch =  1.075"
     ]
    }
   ],
   "source": [
    "Lochniz<-y^2*vmu2/(2*(1-y))-y/2;cat('Lochniz = ',Lochniz)\n",
    "Lochverch<-(vlambda2+y^2*vmu2)/(2*(1-y));cat('\\nLochverch = ',Lochverch)"
   ]
  },
  {
   "cell_type": "markdown",
   "id": "32c62de7-cb1c-4f43-83ae-5898b652aec3",
   "metadata": {},
   "source": [
    "Расчеты в соответствии с аппроксимацией Маршалла:\n",
    "$$W_{\\text{оч}}\\approx \\frac{y M[x]}{2(1-y)}\\cdot \\left(\\frac{D[\\tau]+D[x]}{M^2[x]}\\right)\\cdot\\left(\\frac{M^2[x]+D[x]}{M^2[\\tau]+D[x]}\\right) \\approx 2.85$$"
   ]
  },
  {
   "cell_type": "code",
   "execution_count": 8,
   "id": "e8266a46-a8bc-4229-9a13-e4d29e27885e",
   "metadata": {},
   "outputs": [
    {
     "name": "stdout",
     "output_type": "stream",
     "text": [
      "Woch =  2.845588"
     ]
    }
   ],
   "source": [
    "Mx<-3; Mtau<-5; Dlambda<-12.5; Dmu<-9\n",
    "Woch<-y*Mx/(2*(1-y))*((Dlambda+Dmu)/(Mx^2))*((Mx^2+Dmu)/(Mtau^2+Dmu)); cat('Woch = ',Woch)"
   ]
  },
  {
   "cell_type": "markdown",
   "id": "e6c5c96e-bbd7-49ae-bfce-19dd6bf627f9",
   "metadata": {},
   "source": [
    "Теперь проведем моделирование."
   ]
  },
  {
   "cell_type": "code",
   "execution_count": 2,
   "id": "dc1250a7-5289-403b-860b-f301cf8b551f",
   "metadata": {},
   "outputs": [
    {
     "name": "stderr",
     "output_type": "stream",
     "text": [
      "Устанавливаю пакет в ‘/home/juna/R/x86_64-pc-linux-gnu-library/4.2’\n",
      "(потому что ‘lib’ не определено)\n",
      "\n"
     ]
    }
   ],
   "source": [
    "# https://search.r-project.org/CRAN/refmans/distributions3/html/Erlang.html\n",
    "\n",
    "install.packages(\"distributions3\")"
   ]
  },
  {
   "cell_type": "code",
   "execution_count": 2,
   "id": "9fd5b992-ff7a-4222-99a1-fba15d52aade",
   "metadata": {},
   "outputs": [
    {
     "name": "stderr",
     "output_type": "stream",
     "text": [
      "\n",
      "Присоединяю пакет: ‘distributions3’\n",
      "\n",
      "\n",
      "Следующий объект скрыт от ‘package:stats’:\n",
      "\n",
      "    Gamma\n",
      "\n",
      "\n",
      "Следующий объект скрыт от ‘package:grDevices’:\n",
      "\n",
      "    pdf\n",
      "\n",
      "\n"
     ]
    },
    {
     "data": {
      "text/html": [
       "<style>\n",
       ".list-inline {list-style: none; margin:0; padding: 0}\n",
       ".list-inline>li {display: inline-block}\n",
       ".list-inline>li:not(:last-child)::after {content: \"\\00b7\"; padding: 0 .5ex}\n",
       "</style>\n",
       "<ol class=list-inline><li>2.79581533120395</li><li>2.01132156338382</li><li>2.67029067655587</li><li>1.96901353243858</li><li>5.10463565818686</li><li>1.04928693722303</li><li>3.66110000384712</li><li>1.52531793408813</li><li>3.23444864489722</li><li>3.34524946487557</li></ol>\n"
      ],
      "text/latex": [
       "\\begin{enumerate*}\n",
       "\\item 2.79581533120395\n",
       "\\item 2.01132156338382\n",
       "\\item 2.67029067655587\n",
       "\\item 1.96901353243858\n",
       "\\item 5.10463565818686\n",
       "\\item 1.04928693722303\n",
       "\\item 3.66110000384712\n",
       "\\item 1.52531793408813\n",
       "\\item 3.23444864489722\n",
       "\\item 3.34524946487557\n",
       "\\end{enumerate*}\n"
      ],
      "text/markdown": [
       "1. 2.79581533120395\n",
       "2. 2.01132156338382\n",
       "3. 2.67029067655587\n",
       "4. 1.96901353243858\n",
       "5. 5.10463565818686\n",
       "6. 1.04928693722303\n",
       "7. 3.66110000384712\n",
       "8. 1.52531793408813\n",
       "9. 3.23444864489722\n",
       "10. 3.34524946487557\n",
       "\n",
       "\n"
      ],
      "text/plain": [
       " [1] 2.795815 2.011322 2.670291 1.969014 5.104636 1.049287 3.661100 1.525318\n",
       " [9] 3.234449 3.345249"
      ]
     },
     "metadata": {},
     "output_type": "display_data"
    }
   ],
   "source": [
    "# Генерим 10 случайных чисел по распределению Эрланга E_5 при lambda' = 2\n",
    "library(distributions3)\n",
    "X <- Erlang(5, 2)\n",
    "random(X,10)"
   ]
  },
  {
   "cell_type": "code",
   "execution_count": 1,
   "id": "7d2e484c-15dc-4955-8748-8c1dd5f4745e",
   "metadata": {},
   "outputs": [
    {
     "name": "stderr",
     "output_type": "stream",
     "text": [
      "Загрузка требуемого пакета: ggplot2\n",
      "\n",
      "\n",
      "Присоединяю пакет: ‘simmer.plot’\n",
      "\n",
      "\n",
      "Следующие объекты скрыты от ‘package:simmer’:\n",
      "\n",
      "    get_mon_arrivals, get_mon_attributes, get_mon_resources\n",
      "\n",
      "\n",
      "\n",
      "Присоединяю пакет: ‘distributions3’\n",
      "\n",
      "\n",
      "Следующий объект скрыт от ‘package:stats’:\n",
      "\n",
      "    Gamma\n",
      "\n",
      "\n",
      "Следующий объект скрыт от ‘package:grDevices’:\n",
      "\n",
      "    pdf\n",
      "\n",
      "\n"
     ]
    }
   ],
   "source": [
    "#Моделирование \n",
    "lambda_shtrich <- 2/5; mu <- 1/3\n",
    "\n",
    "library(simmer)\n",
    "library(simmer.plot)\n",
    "library(distributions3)\n",
    "\n",
    "\n",
    "my.trajectory2 <- trajectory() %>%\n",
    "  seize(\"server\", amount=1) %>%\n",
    "  timeout(function() rexp(1,mu)) %>%\n",
    "  release(\"server\", amount=1)\n",
    "\n",
    "Tmodel<-800000\n",
    "E2M1inf <- simmer() %>%\n",
    "  add_resource(\"server\", capacity=1, queue_size=Inf) %>%\n",
    "  add_generator(\"arrival\", my.trajectory2, function() random(Erlang(2, lambda_shtrich),1)) %>%\n",
    "  run(until=Tmodel)"
   ]
  },
  {
   "cell_type": "code",
   "execution_count": 3,
   "id": "18e17f09-0d03-422e-8562-fed576363743",
   "metadata": {},
   "outputs": [
    {
     "name": "stdout",
     "output_type": "stream",
     "text": [
      "Tsys = 5.955659\n",
      "Woch = 2.957153"
     ]
    }
   ],
   "source": [
    "res_arrivals <- get_mon_arrivals(E2M1inf)\n",
    "cat(\"Tsys =\", mean(res_arrivals$end_time - res_arrivals$start_time))\n",
    "cat(\"\\nWoch =\", mean(res_arrivals$end_time - res_arrivals$start_time-res_arrivals$activity_time))"
   ]
  },
  {
   "cell_type": "code",
   "execution_count": 4,
   "id": "a5afd107-8098-45bf-b074-779362f6c0e7",
   "metadata": {},
   "outputs": [
    {
     "data": {
      "image/png": "[encoded data removed]",
      "text/plain": [
       "plot without title"
      ]
     },
     "metadata": {
      "image/png": {
       "height": 420,
       "width": 420
      }
     },
     "output_type": "display_data"
    }
   ],
   "source": [
    "#Находим среднюю длину очереди\n",
    "plot(get_mon_resources(E2M1inf), \"usage\", \"server\", items=\"queue\")"
   ]
  },
  {
   "cell_type": "code",
   "execution_count": 5,
   "id": "be66a0bf-3237-4ccb-9a7e-87c4eafe56e5",
   "metadata": {},
   "outputs": [
    {
     "data": {
      "image/png": "[encoded data removed]",
      "text/plain": [
       "plot without title"
      ]
     },
     "metadata": {
      "image/png": {
       "height": 420,
       "width": 420
      }
     },
     "output_type": "display_data"
    }
   ],
   "source": [
    "#Находим среднее число заявок в системе\n",
    "plot(get_mon_resources(E2M1inf), \"usage\", \"server\", items=\"system\")"
   ]
  },
  {
   "cell_type": "markdown",
   "id": "6448ce07-f8b1-4e5c-ab41-95ab7498c47e",
   "metadata": {},
   "source": [
    "## Классификация систем с приоритетами. Примеры анализа."
   ]
  },
  {
   "cell_type": "markdown",
   "id": "b8bb93ab-2440-42b3-b7dc-8dd0dfe2ba30",
   "metadata": {},
   "source": [
    "До сих пор мы в основном рассматривали однородный поток заявок, в котором все заявки имели одинаковые приоритеты. Однако на практике часто случается иметь дело с заявками, которые имеют разный приоритет. За счет необходимости первоочередного обслуживания заявок с более высоким приоритетом, время нахождения заявок в системе, которые имеют меньший приоритет увеличивается. В зависимости от дисциплины очереди, структуры очереди вводят в рассмотрение различные классы систем:\n",
    "- Системы с фиксированным приоритетом без прерываний (*относительный приоритет*). В этом классе каждой заявке присваивается один из $P$ различных типов приоритетов. Для заявок с приоритетами $p_i,p_j,p_i<p_j$ заявка с приоритетом $p_j$ имеет преимущество в обслуживании перед заявкой с приоритетом $p_i$. Фиксированный приоритет означает, что $\\forall i=\\overline{1,P}: p_i=const$ - приоритет заявок не меняется на всех этапах работы СМО. Приоритет без прерываний еще называют *относительным приоритетом* - если в текущий момент обслуживается заявка с приоритетом $p_i$ и приходит заявка с большим приоритетом $p_j>p_i$, то обслуживание заявки с приоритетом $p_i$ не прерывается.\n",
    "\n",
    "- Системы с фиксированным приоритетом с прерываниями (*абсолютный приоритет*). В этом классе  все также как в предыдущем, но если в момент обслуживания заявки с приоритетом $p_i$ и приходит заявка с большим приоритетом $p_j>p_i$, то обслуживание заявки с приоритетом $p_i$ прерывается, возникает термин *дообслуживание*. Реализация дообслуживания обычно требует дополнительной памяти или мест в очереди, а также памяти для сохранения всех состояний недовыполненной заявки (организацию этих вопросов мы не рассматриваем). Если же отложенная заявка обслуживается заново (без учета ранее затраченного времени на обслуживание), то это обозначается термином *возобновление*.\n",
    "\n",
    "- Системы приоритета с зависимой задержкой без прерывания. В данном случае в ходе работы системы у заявок меняется приоритет. Чаще всего используют следующую схему: в момент времени $T$ прихода заявки ей присваивается некоторый номер $b_p$, при $0\\leq b_1\\leq b_2\\ldots\\leq b_p$, а также приоритет $p=(t-T)\\cdot b_p$, где $t$ - текущий момент времени. Таким образом, с увеличением времени приоритет заявки возрастает. Прерывания здесь не допускаются.\n",
    "\n",
    "- Системы приоритета с зависимой задержкой с прерываниями. Все также, как в предыдущем случае, но здесь заявки могут динамически отправляться на дообслуживание.\n",
    "\n"
   ]
  },
  {
   "cell_type": "markdown",
   "id": "8f080204-edb2-4b24-8c03-f24b49e98be2",
   "metadata": {},
   "source": [
    "**Пример 4.**\n",
    "\n",
    "В качестве примера рассмотрим одноканальную СМО, в которую поступает неоднородный поток заявок. Ожидающие обслуживания заявки разнесены по разным накопителям ограниченной емкости. Между заявками разных классов установлены относительные приоритеты, означающие, что всякий раз из накопителей на обслуживание выбирается заявка с самым высоким приоритетом. При этом при поступлении в систему высокоприоритетной заявки обслуживание низкоприоритетной не прерывается. При заполненных накопителях поступившая заявка теряется.\n",
    "\n",
    "Пусть в систему поступает два класса заявок, заявки первого типа имею больший относительный приоритет. Предположим, что длина очереди для обоих накопителей равна 1. Поступающие в систему заявки образуют простейшие потоки с интенсивностями $\\lambda_1, \\lambda_2$, интенсивность обслуживания $\\mu_1, \\mu_2$ соответственно. В СМО всегда существует стационарный режим, так как не может быть бесконечных очередей.\n",
    "\n",
    "Введем в рассмотрение следующие состояния: $S_{i,j,k}$ - первый индекс отвечает за тип заявки, которая проходит обслуживание, $i=0, 1, 2$, второй и третий индексы отвечают за количество заявок в первом и втором накопителях $j=0, 1, k=0, 1$. Тогда имеем следующие состояния:\n",
    "\n",
    "$S_{0,0,0}$ – в системе нет ни одной заявки;\n",
    "\n",
    "$S_{1,0,0}$ – на обслуживании в канале находится заявка класса 1;\n",
    "\n",
    "$S_{2,0,0}$ – на обслуживании в канале находится заявка класса 2;\n",
    "\n",
    "$S_{1,1,0}$ – на обслуживании находится заявка класса 1 и одна заявка класса 1 ожидает обслуживания в первом накопителе;\n",
    "\n",
    "$S_{1,0,1}$ – на обслуживании находится заявка класса 1 и одна заявка класса 2 ожидает обслуживания соответственно во втором накопителе;\n",
    "\n",
    "$S_{2,1,0}$ – на обслуживании находится заявка класса 2 и одна заявка класса 1 ожидает обслуживания в первом накопителе;\n",
    "\n",
    "$S_{2,0,1}$ – на обслуживании находится заявка класса 2 и одна заявка класса 2 ожидает обслуживания во втором накопителе;\n",
    "\n",
    "$S_{1,1,1}$ – на обслуживании находится заявка класса 1 и по одной заявке каждого класса ожидают обслуживания в соответствующих накопителях;\n",
    "\n",
    "$S_{2,1,1}$ – на обслуживании находится заявка класса 2 и по одной заявке каждого класса ожидают обслуживания в соответствующих накопителях.\n",
    "\n",
    "<img src=\"dia2.jpeg\">"
   ]
  },
  {
   "cell_type": "markdown",
   "id": "f1563ddd-9b81-4d77-a472-61fea8812e77",
   "metadata": {},
   "source": [
    "В каждый момент времени может произойти только одно событие (или поступление заявки какого-либо класса, или завершение обслуживания заявки, находящейся в приборе), поскольку вероятность появления двух и более событий в один и тот же момент времени равна нулю.\n",
    "\n",
    "При наличии в накопителях заявок 1 и 2 классов ($S_{1,1,1}, S_{2,1,1}$) после завершения обслуживания некоторой заявки в канале случайный процесс переходит в состояние $S_{1,0,1}$, означающее,\n",
    "что на обслуживание всегда выбирается высокоприоритетная заявка класса 1.\n",
    "\n",
    "По графу переходов составим систему уравнений для определения стационарных вероятностей:\n",
    "\n",
    "$$(\\lambda_1+\\lambda_2)\\cdot P_{0,0,0}=\\mu_1\\cdot P_{1,0,0}+\\mu_2\\cdot P_{2,0,0}$$\n",
    "$$(\\lambda_1+\\lambda_2+\\mu_1)\\cdot P_{1,0,0}=\\lambda_1\\cdot P_{0,0,0}+\\mu_1\\cdot P_{1,1,0}+\\mu_2\\cdot P_{2,1,0}$$\n",
    "$$(\\lambda_1+\\lambda_2+\\mu_2)\\cdot P_{2,0,0}=\\lambda_2\\cdot P_{0,0,0}+\\mu_1\\cdot P_{1,0,1}+\\mu_2\\cdot P_{2,0,1}$$\n",
    "$$(\\lambda_2+\\mu_1)\\cdot P_{1,1,0}=\\lambda_1\\cdot P_{1,0,0}$$\n",
    "$$(\\lambda_1+\\mu_1)\\cdot P_{1,0,1}=\\lambda_2\\cdot P_{1,0,0}+\\mu_1\\cdot P_{1,1,1}+\\mu_2\\cdot P_{2,1,1}$$\n",
    "$$(\\lambda_2+\\mu_2)\\cdot P_{2,1,0}=\\lambda_1\\cdot P_{2,0,0}$$\n",
    "$$(\\lambda_1+\\mu_2)\\cdot P_{2,0,1}=\\lambda_2\\cdot P_{2,0,0}$$\n",
    "$$\\mu_1\\cdot P_{1,1,1}=\\lambda_1\\cdot P_{1,0,1}+\\lambda_2\\cdot P_{1,1,0}$$\n",
    "$$\\mu_2\\cdot P_{2,1,1}=\\lambda_1\\cdot P_{2,0,1}+\\lambda_2\\cdot P_{2,1,0}$$\n",
    "$$P_{0,0,0}+P_{1,0,0}+P_{2,0,0}+P_{1,1,0}+P_{1,0,1}+P_{2,1,0}+P_{2,0,1}+P_{1,1,1}+P_{2,1,1}=1$$"
   ]
  },
  {
   "cell_type": "markdown",
   "id": "149bf434-2bb5-4f33-a8a0-22d79cfe012f",
   "metadata": {},
   "source": [
    "Выполним расчет основных характеристик СМО. Характеристики обслуживания заявок в СМО с неоднородным потоком заявок делятся на две группы:\n",
    "- характеристики обслуживания заявок каждого класса;\n",
    "- характеристики обслуживания заявок суммарного потока.\n",
    "\n",
    "Расчет характеристик обслуживания заявок каждого класса выполняется по следующим формулам:\n",
    "1. Нагрузка: $y_1=\\frac{\\lambda_1}{\\mu_1}, y_2=\\frac{\\lambda_2}{\\mu_2}$\n",
    "2. Загрузка, создаваемая заявками, которая может трактоваться как вероятность того, что на обслуживании в приборе находится заявка класса 1 и 2 соответственно:\n",
    "$$r_1=P_{1,0,0}+P_{1,1,0}+P_{1,0,1}+P_{1,1,1}$$\n",
    "$$r_2=P_{2,0,0}+P_{2,1,0}+P_{2,0,1}+P_{2,1,1}$$\n",
    "3. Cреднее число заявок в очереди: \n",
    "$$l_1=P_{1,1,0}+P_{2,1,0}+P_{1,1,1}+P_{2,1,1}$$\n",
    "$$l_2=P_{1,0,1}+P_{2,0,1}+P_{1,1,1}+P_{2,1,1}$$\n",
    "4. Среднее число заявок в системе:\n",
    "$$m_1=l_1+r_1$$\n",
    "$$m_2=l_2+r_2$$\n",
    "5. Вероятность потери заявок (вероятность отказа $P_{\\text{отк}}$):\n",
    "$$\\pi_1=P_{1,1,0}+P_{2,1,0}+P_{1,1,1}+P_{2,1,1}$$\n",
    "$$\\pi_2=P_{1,0,1}+P_{2,0,1}+P_{1,1,1}+P_{2,1,1}$$\n",
    "6. Производительность (абсолютная пропускная способность) по каждому классу заявок (интенсивность непотерянных заявок):\n",
    "$$\\lambda_1'=\\lambda_1\\cdot (1-\\pi_1), \\lambda_2'=\\lambda_2\\cdot (1-\\pi_2)$$\n",
    "7) Cреднее время ожидания заявок: $w_1=\\frac{l_1}{\\lambda_1}, w_2=\\frac{l_2}{\\lambda_2}$.\n",
    "8) Cреднее время пребывания заявок:\n",
    "$$T_{\\text{сист}}^1=u_1=\\frac{m_1}{\\lambda_1}=w_1+\\frac{1}{\\mu_1}$$\n",
    "$$T_{\\text{сист}}^2=u_2=\\frac{m_2}{\\lambda_2}=w_2+\\frac{1}{\\mu_2}$$\n"
   ]
  },
  {
   "cell_type": "markdown",
   "id": "4e33ac6b-2241-4647-bddb-de6c0e9560d2",
   "metadata": {},
   "source": [
    "Расчет характеристик обслуживания заявок суммарного потока выполняется по следующим формулам:\n",
    "1. суммарная нагрузка системы $Y=y_1+y_2$;\n",
    "2. Загрузка системы: $R=r_1+r_2$;\n",
    "3. Коэффициент простоя системы: $1-R$;\n",
    "4. Суммарное число заявок во всех очередях: $l=l_1+l_2$;\n",
    "5. Суммарное число заявок в системе $m=m_1+m_2=l+R$\n",
    "6. Вероятность потери заявок: $\\pi=\\pi_1+\\pi_2$\n",
    "7. Производительность системы (абсолютная пропускная способность): $\\lambda'=\\lambda_1'+\\lambda_2'$\n",
    "8. Среднее время ожидания заявок суммарного потока:\n",
    "$$T_{\\text{оч}}=\\frac{\\lambda_1\\cdot w_1+\\lambda_2\\cdot w_2}{\\lambda_1+\\lambda_2}$$\n",
    "9. Среднее время пребывания заявок суммарного потока:\n",
    "$$u=\\frac{\\lambda_1\\cdot u_1+\\lambda_2\\cdot u_2}{\\lambda_1+\\lambda_2}=\\frac{m}{\\lambda_1+\\lambda_2}$$\n",
    "\n",
    "Рассмотрим теперь одноканальную СМО с абсолютным приоритетом без ограничения на длину очереди. На вход системы поступает два независимых простейших потока заявок с интенсивностями: $\\lambda_1$ для заявок с приоритетом, $\\lambda_2$ – без приоритета. Среднее время обслуживания заявок обоих видов соответственно $1/\\mu_1$,  и $1/\\mu_2$ . Время обслуживания распределено по показательному закону. Основные параметры рассматриваемой системы (в стационарном режиме) определяются по следующим формулам:\n",
    "- среднее число приоритетных заявок, находящихся в очереди:\n",
    "$$\\bar{k}=\\frac{y_1^2}{1-y_1}$$\n",
    "- среднее время пребывания в очереди заявки, обладающей приоритетом:\n",
    "$$\\bar{t}_{\\text{оч}1}=\\frac{\\bar{k}}{\\lambda_1}=\\frac{y_1}{\\mu_1\\cdot(1-y_1)}$$\n",
    "- среднее время пребывания в системе заявки, обладающей приоритетом:\n",
    "$$\\bar{t}_{\\text{сист}1}=\\frac{1}{\\mu_1(1-y_1)}=\\bar{t}_{\\text{обсл}1}+\\bar{t}_{\\text{оч}1}$$\n",
    "- среднее число неприоритетных заявок, находящихся в системе:\n",
    "$$\\bar{r}_2=\\frac{y_2}{1-y}\\left(1+\\frac{\\mu_2}{\\mu_1}\\cdot \\frac{y_1}{1-y_1}\\right), y=y_1+y_2$$\n",
    "- среднее время ожидания в очереди заявки, не обладающей приоритетом:\n",
    "$$\\bar{t}_{\\text{оч}2}=\\frac{1}{\\mu_2}\\cdot \\frac{\\frac{\\mu_2}{\\mu_1}\\cdot \\frac{y_1}{1-y}+y}{1-y}$$\n",
    "- среднее время пребывания в системе заявки, не обладающей приоритетом:\n",
    "$$\\bar{t}_{\\text{сист}2}=\\bar{t}_{\\text{оч}2}+\\frac{1}{\\mu_2}$$"
   ]
  },
  {
   "cell_type": "markdown",
   "id": "5b447196-875a-4dfa-8026-ffdd940a1e96",
   "metadata": {},
   "source": [
    "**Пример 5.** По надежности электропитания кластеры КИС поделены условно на две категории.\n",
    "Поток отказов, обеспечивающих электропитание потребителей I категории $\\lambda_1=0.1$ в 1 ч, а для\n",
    "потребителей II категории $\\lambda_2=0.2$ в 1 ч. Среднее время устранения неисправностей в источников электропитания соответствующих категорий составляет $\\bar{t}_{\\text{обсл}1}=1$, $\\bar{t}_{\\text{обсл}2}=2.5$ . Устранением неисправностей занимается одна бригада дежурных инженеров. В случае возникновения неисправности ситемы, обеспечивающей электропитание потребителей I категории, обслуживание потребителей II категории прекращается. Определить среднее время ожидания ремонта и нахождения в отключенном состоянии для потребителей I и II категорий.\n",
    "\n",
    "**Решение.**\n",
    "1. Нагрузка:\n",
    "$$y_1=\\frac{\\lambda_1}{\\mu_1}=\\frac{0.1}{1}=0.1, y_2=\\frac{\\lambda_2}{\\mu_2}=\\frac{0.2}{0.4}=0.5$$\n",
    "$$y=y_1+y_2=0.1+0.5=0.6$$\n",
    "2. Среднее время пребывания в очереди заявок, обладающих приоритетом:\n",
    "$$\\bar{t}_{\\text{оч}1}=\\frac{y_1}{\\mu_1\\cdot(1-y_1)}=\\frac{0.1}{1\\cdot(1-0.1)}=0.11$$\n",
    "3. Среднее время пребывания в отключенном состоянии потребителей I категории составит:\n",
    "$$\\bar{t}_{\\text{сист}1}=\\bar{t}_{\\text{оч}1}+\\bar{t}_{\\text{обсл}1}=0.11+1=1.11$$\n",
    "4. Cреднее время ожидания в очереди заявки, не обладающей приоритетом:\n",
    "$$\\bar{t}_{\\text{оч}2}=\\frac{1}{\\mu_2}\\cdot \\frac{\\frac{\\mu_2}{\\mu_1}\\cdot \\frac{y_1}{1-y}+y}{1-y}=\\frac{1}{0.4}\\cdot \\frac{\\frac{0.4}{1}\\cdot \\frac{0.1}{1-0.6}+0.6}{1-0.6}=1.75$$\n",
    "5. Cреднее время пребывания в системе заявки, не обладающей приоритетом:\n",
    "$$\\bar{t}_{\\text{сист}2}=\\bar{t}_{\\text{оч}2}+\\frac{1}{\\mu_2}=1.75+\\frac{1}{0.4}=4.25$$"
   ]
  },
  {
   "cell_type": "markdown",
   "id": "95e72972-2d17-41d8-9566-e0dde5fc020f",
   "metadata": {},
   "source": [
    "## Теоремы Кобхэма. Закон сохранения.\n",
    "\n",
    "Пусть имеется всего $Р$ различных классов приоритета. Заявки приоритетного класса $р, р = 1, 2, \\ldots, Р$ \n",
    "поступают пуассоновским потоком со скоростью $\\lambda_p$ заявок в единицу времени: каждое сообщение из класса приоритета $р$ имеет время обслуживания, выбранное независимо из экспоненциального распределения со средним значением $\\frac{1}{\\mu_p}$. Определим:\n",
    "$$\\lambda=\\sum_{p=1}^P\\lambda_p \\tag{20}$$\n",
    "$$\\frac{1}{\\mu}=\\sum_{p=1}^P \\frac{\\lambda_p}{\\lambda}\\cdot \\frac{1}{\\mu_p}\\tag{21}$$\n",
    "$$\\rho_p=\\frac{\\lambda_p}{\\mu_p}\\tag{22}$$\n",
    "$$\\rho=\\frac{\\lambda}{\\mu}=\\sum_{p=1}^P \\rho_p\\tag{23}$$\n",
    "$$W_0=\\sum_{p=1}^P\\frac{\\rho_p}{\\mu_p}\\tag{24}$$\n",
    "Будем рассматривать $W_p$ - среднее время ожидания в очереди для заявки с приоритетом $p$, при этом $W_0$ можно интерпретировать как среднее время, которое требуется для окончания обслуживания заявки, находящейся в обработке при входе в систему новой заявки.\n",
    "\n",
    "Наша задача определить величину $W_p$. Во всех четырех системах при поступлении новой заявки на вход обрабатывающего (обслуживающего) устройства выбирается сообщение с наивысшим приоритетом.\n",
    "\n",
    "Сначала рассмотрим **систему с фиксированным приоритетом без прерывания**. Приведенные здесь результаты\n",
    "принадлежат **Кобхему**:\n",
    "определим $j$ - минимальное положительное целое число такое, что:\n",
    "$$\\sum_{i=j}^P \\rho_i<1\\tag{25}$$\n",
    "$$f=\\begin{cases}\n",
    "0, \\rho<1\\\\\n",
    "\\frac{1-\\sum_{i=j}^P \\rho_i}{\\rho_{j-1}}, \\rho\\geq 1\n",
    "\\end{cases}\\tag{26}\n",
    "$$\n",
    "Для $\\rho\\geq 0$\n",
    "$$W_p=\\begin{cases}\n",
    "\\frac{f\\cdot \\frac{\\rho_{j-1}}{\\mu_{j-1}}+\\sum_{i=j}^P\\frac{\\rho_i}{\\mu_i}}{\\left(1-\\sum_{i=p+1}^P\\rho_i\\right)\\cdot \\left(1-\\sum_{i=p}^P \\rho_i\\right)}, p\\geq j\\\\\n",
    "\\infty, p<j\n",
    "\\end{cases}\\tag{27}\n",
    "$$"
   ]
  },
  {
   "cell_type": "markdown",
   "id": "d684492a-c9d1-4fd2-a861-7c92b1b4ff1a",
   "metadata": {},
   "source": [
    "При $\\rho<1$ числитель $W_p$ становится равным $W_0$."
   ]
  },
  {
   "cell_type": "markdown",
   "id": "bc7b0ed6-4d60-43b3-817c-44d889061287",
   "metadata": {},
   "source": [
    "**Для системы с фиксированным приоритетом с прерыванием** результаты были получены Вайтом и Кристи.\n",
    "Ниже даны два выражения для $W_p$:\n",
    "\n",
    "для $\\rho\\geq 0$:\n",
    "$$W_p=\\begin{cases}\n",
    "\\frac{\\frac{\\rho_p}{\\mu_p}+\\sum_{i=p+1}^P \\rho_i\\cdot \\left(\\frac{1}{\\mu_p}+\\frac{1}{\\mu_i}\\right)+\\sum_{i=p+1}^P\\rho_i\\cdot W_i}{1-\\sum_{i=p}^P \\rho_i}, p\\geq j\\\\\n",
    "\\infty, p<j\n",
    "\\end{cases}\\tag{28}\n",
    "$$\n"
   ]
  },
  {
   "cell_type": "markdown",
   "id": "44d04d41-e8c1-4bb9-8605-3ff6ef37de9a",
   "metadata": {},
   "source": [
    "$$s_j=\\sum_{i=j}^P \\rho_i\\tag{29}$$\n",
    "$$W_p=\\begin{cases}\n",
    "\\frac{\\frac{s_j}{1-s_j}\\cdot \\sum_{i=j}^P \\frac{\\rho_i}{\\mu_i}+\\frac{\\rho_p}{\\mu_p}+\\sum_{i=p+1}^P \\rho_i\\cdot \\left(\\frac{1}{\\mu_p}+\\frac{1}{\\mu_i}\\right)-\\sum_{i=j}^{p-1} \\rho_i\\cdot W_i}{1-\\sum_{i=p+1}^{P} \\rho_i}, p\\geq j\\\\\n",
    "\\infty, p<j\n",
    "\\end{cases}\\tag{30}$$"
   ]
  },
  {
   "cell_type": "markdown",
   "id": "44cab9b2-0652-432e-a2a8-d9d17c9be06a",
   "metadata": {},
   "source": [
    "Данные выражения имеют рекуррентный характер, где $W_i$ - среднее время ожидания в очереди для заявки с приоритетом $i$.\n",
    "\n",
    "В выражении (28) мы определяем $W_p$ в порядке убывания приоритетов, а в формуле (30), наоборот, в порядке возрастания приоритетов.\n",
    "\n",
    "Проведем оценочные расчеты.\n",
    "\n",
    "1. Пусть имеем систему с фиксированным приоритетом без прерываний."
   ]
  },
  {
   "cell_type": "code",
   "execution_count": 2,
   "id": "c6dc8d6a-a323-4095-80d0-a103d8790847",
   "metadata": {},
   "outputs": [],
   "source": [
    "P:3$ lambda1:2$lambda2:3$lambda3:1$\n",
    "mu1:3$ mu2:5$ mu3:2$ "
   ]
  },
  {
   "cell_type": "code",
   "execution_count": 3,
   "id": "dbe459e5-eb03-4900-b919-e94521ef3a3d",
   "metadata": {},
   "outputs": [
    {
     "data": {
      "text/latex": [
       "\\[\\tag{${\\it \\%o}_{13}$}1.766666666666667\\]"
      ],
      "text/plain": [
       "(%o13)                         1.766666666666667"
      ],
      "text/x-maxima": [
       "1.766666666666667"
      ]
     },
     "execution_count": 3,
     "metadata": {},
     "output_type": "execute_result"
    },
    {
     "data": {
      "text/latex": [
       "\\[\\tag{${\\it \\%o}_{14}$}0.5922222222222222\\]"
      ],
      "text/plain": [
       "(%o14)                        0.5922222222222222"
      ],
      "text/x-maxima": [
       "0.5922222222222222"
      ]
     },
     "execution_count": 3,
     "metadata": {},
     "output_type": "execute_result"
    }
   ],
   "source": [
    "lambda:lambda1+lambda2+lambda3$\n",
    "mu:lambda/(lambda1/mu1+lambda2/mu2+lambda3/mu3)$\n",
    "r1:lambda1/mu1$ r2:lambda2/mu2$ r3:lambda3/mu3$\n",
    "float(r:lambda/mu);\n",
    "float(W0:r1/mu1+r2/mu2+r3/mu3);"
   ]
  },
  {
   "cell_type": "markdown",
   "id": "d8c1aecb-1a66-48bd-949c-e979a566100d",
   "metadata": {},
   "source": [
    "Видно, что $\\rho>1$. Находим $j, f$."
   ]
  },
  {
   "cell_type": "code",
   "execution_count": 4,
   "id": "f876b5e0-8137-4b53-9f4f-3170b7599d67",
   "metadata": {},
   "outputs": [
    {
     "data": {
      "text/latex": [
       "\\[\\tag{${\\it \\%o}_{15}$}1.766666666666667\\]"
      ],
      "text/plain": [
       "(%o15)                         1.766666666666667"
      ],
      "text/x-maxima": [
       "1.766666666666667"
      ]
     },
     "execution_count": 4,
     "metadata": {},
     "output_type": "execute_result"
    },
    {
     "data": {
      "text/latex": [
       "\\[\\tag{${\\it \\%o}_{16}$}1.1\\]"
      ],
      "text/plain": [
       "(%o16)                                1.1"
      ],
      "text/x-maxima": [
       "1.1"
      ]
     },
     "execution_count": 4,
     "metadata": {},
     "output_type": "execute_result"
    },
    {
     "data": {
      "text/latex": [
       "\\[\\tag{${\\it \\%o}_{17}$}0.5\\]"
      ],
      "text/plain": [
       "(%o17)                                0.5"
      ],
      "text/x-maxima": [
       "0.5"
      ]
     },
     "execution_count": 4,
     "metadata": {},
     "output_type": "execute_result"
    }
   ],
   "source": [
    "float(r1+r2+r3);\n",
    "float(r2+r3);\n",
    "float(r3);"
   ]
  },
  {
   "cell_type": "markdown",
   "id": "829e740b-fd57-4d46-995b-47ac2387c4e2",
   "metadata": {},
   "source": [
    "Таким образом, получаем $j=3$. Рассчитываем $f$."
   ]
  },
  {
   "cell_type": "code",
   "execution_count": 5,
   "id": "1ac32297-6c4e-43cf-9d25-b8d01ce77a4e",
   "metadata": {},
   "outputs": [
    {
     "data": {
      "text/latex": [
       "\\[\\tag{${\\it \\%o}_{18}$}0.8333333333333334\\]"
      ],
      "text/plain": [
       "(%o18)                        0.8333333333333334"
      ],
      "text/x-maxima": [
       "0.8333333333333334"
      ]
     },
     "execution_count": 5,
     "metadata": {},
     "output_type": "execute_result"
    }
   ],
   "source": [
    "float(f:(1-r3)/(r2));"
   ]
  },
  {
   "cell_type": "markdown",
   "id": "58d55ea6-bb82-4fbd-a68b-c0d854ccaa76",
   "metadata": {},
   "source": [
    "Рассчитываем по формуле (27):\n",
    "$$W_p=\\begin{cases}\n",
    "\\frac{f\\cdot \\frac{\\rho_{j-1}}{\\mu_{j-1}}+\\sum_{i=j}^P\\frac{\\rho_i}{\\mu_i}}{\\left(1-\\sum_{i=p+1}^P\\rho_i\\right)\\cdot \\left(1-\\sum_{i=p}^P \\rho_i\\right)}, p\\geq j\\\\\n",
    "\\infty, p<j\n",
    "\\end{cases}\n",
    "$$"
   ]
  },
  {
   "cell_type": "code",
   "execution_count": 6,
   "id": "1045ec0d-99f0-45d1-ab8f-7450cc29cdaa",
   "metadata": {},
   "outputs": [
    {
     "data": {
      "text/latex": [
       "\\[\\tag{${\\it \\%o}_{19}$}\\infty \\]"
      ],
      "text/plain": [
       "(%o19)                                inf"
      ],
      "text/x-maxima": [
       "inf"
      ]
     },
     "execution_count": 6,
     "metadata": {},
     "output_type": "execute_result"
    },
    {
     "data": {
      "text/latex": [
       "\\[\\tag{${\\it \\%o}_{20}$}\\infty \\]"
      ],
      "text/plain": [
       "(%o20)                                inf"
      ],
      "text/x-maxima": [
       "inf"
      ]
     },
     "execution_count": 6,
     "metadata": {},
     "output_type": "execute_result"
    },
    {
     "data": {
      "text/latex": [
       "\\[\\tag{${\\it \\%o}_{21}$}0.7\\]"
      ],
      "text/plain": [
       "(%o21)                                0.7"
      ],
      "text/x-maxima": [
       "0.7"
      ]
     },
     "execution_count": 6,
     "metadata": {},
     "output_type": "execute_result"
    }
   ],
   "source": [
    "float(W1:inf);\n",
    "float(W2:inf);\n",
    "float(W3:(f*r2/mu2+r3/mu3)/((1)*(1-(r3))));"
   ]
  },
  {
   "cell_type": "markdown",
   "id": "c8c49c93-cc72-4758-8eae-5dee3749ba03",
   "metadata": {},
   "source": [
    "2. Система с фиксированным приоритетом с прерыванием.\n",
    "\n",
    "Рассчитываем $s_j$:"
   ]
  },
  {
   "cell_type": "code",
   "execution_count": 17,
   "id": "eb56542a-35d7-42ff-889d-cf639718c45b",
   "metadata": {},
   "outputs": [
    {
     "data": {
      "text/latex": [
       "\\[\\tag{${\\it \\%o}_{66}$}0.5\\]"
      ],
      "text/plain": [
       "(%o66)                                0.5"
      ],
      "text/x-maxima": [
       "0.5"
      ]
     },
     "execution_count": 17,
     "metadata": {},
     "output_type": "execute_result"
    }
   ],
   "source": [
    "float(s3:r3);"
   ]
  },
  {
   "cell_type": "markdown",
   "id": "0342329a-bcd5-4d66-8ed5-59faef47a507",
   "metadata": {},
   "source": [
    "Рассчитываем по формуле (28):"
   ]
  },
  {
   "cell_type": "markdown",
   "id": "73d98fee-a109-4daf-b520-a2b19c24ad63",
   "metadata": {},
   "source": [
    "$$W_p=\\begin{cases}\n",
    "\\frac{\\frac{\\rho_p}{\\mu_p}+\\sum_{i=p+1}^P \\rho_i\\cdot \\left(\\frac{1}{\\mu_p}+\\frac{1}{\\mu_i}\\right)+\\sum_{i=p+1}^P\\rho_i\\cdot W_i}{1-\\sum_{i=p}^P \\rho_i}, p\\geq j\\\\\n",
    "\\infty, p<j\n",
    "\\end{cases}\n",
    "$$"
   ]
  },
  {
   "cell_type": "code",
   "execution_count": 19,
   "id": "dc2611b5-e617-44ba-9b07-88e7364e902a",
   "metadata": {},
   "outputs": [
    {
     "data": {
      "text/latex": [
       "\\[\\tag{${\\it \\%o}_{70}$}\\infty \\]"
      ],
      "text/plain": [
       "(%o70)                                inf"
      ],
      "text/x-maxima": [
       "inf"
      ]
     },
     "execution_count": 19,
     "metadata": {},
     "output_type": "execute_result"
    },
    {
     "data": {
      "text/latex": [
       "\\[\\tag{${\\it \\%o}_{71}$}\\infty \\]"
      ],
      "text/plain": [
       "(%o71)                                inf"
      ],
      "text/x-maxima": [
       "inf"
      ]
     },
     "execution_count": 19,
     "metadata": {},
     "output_type": "execute_result"
    },
    {
     "data": {
      "text/latex": [
       "\\[\\tag{${\\it \\%o}_{72}$}0.5\\]"
      ],
      "text/plain": [
       "(%o72)                                0.5"
      ],
      "text/x-maxima": [
       "0.5"
      ]
     },
     "execution_count": 19,
     "metadata": {},
     "output_type": "execute_result"
    }
   ],
   "source": [
    "float(W1:inf);\n",
    "float(W2:inf);\n",
    "float(W3:(r3/mu3)/(1-r3));"
   ]
  },
  {
   "cell_type": "markdown",
   "id": "3b485521-429f-44bd-918e-ff8ea2d90a4e",
   "metadata": {},
   "source": [
    "Считаем по формуле (30):"
   ]
  },
  {
   "cell_type": "markdown",
   "id": "4a0893c1-4137-495e-8c0e-1361f8f8fef0",
   "metadata": {},
   "source": [
    "$$W_p=\\begin{cases}\n",
    "\\frac{\\frac{s_j}{1-s_j}\\cdot \\sum_{i=j}^P \\frac{\\rho_i}{\\mu_i}+\\frac{\\rho_p}{\\mu_p}+\\sum_{i=p+1}^P \\rho_i\\cdot \\left(\\frac{1}{\\mu_p}+\\frac{1}{\\mu_i}\\right)-\\sum_{i=j}^{p-1} \\rho_i\\cdot W_i}{1-\\sum_{i=p+1}^{P} \\rho_i}, p\\geq j\\\\\n",
    "\\infty, p<j\n",
    "\\end{cases}$$"
   ]
  },
  {
   "cell_type": "code",
   "execution_count": 20,
   "id": "5fd1f420-8423-432c-a97a-3ba5363df7ba",
   "metadata": {},
   "outputs": [
    {
     "data": {
      "text/latex": [
       "\\[\\tag{${\\it \\%o}_{73}$}\\infty \\]"
      ],
      "text/plain": [
       "(%o73)                                inf"
      ],
      "text/x-maxima": [
       "inf"
      ]
     },
     "execution_count": 20,
     "metadata": {},
     "output_type": "execute_result"
    },
    {
     "data": {
      "text/latex": [
       "\\[\\tag{${\\it \\%o}_{74}$}\\infty \\]"
      ],
      "text/plain": [
       "(%o74)                                inf"
      ],
      "text/x-maxima": [
       "inf"
      ]
     },
     "execution_count": 20,
     "metadata": {},
     "output_type": "execute_result"
    },
    {
     "data": {
      "text/latex": [
       "\\[\\tag{${\\it \\%o}_{75}$}0.5\\]"
      ],
      "text/plain": [
       "(%o75)                                0.5"
      ],
      "text/x-maxima": [
       "0.5"
      ]
     },
     "execution_count": 20,
     "metadata": {},
     "output_type": "execute_result"
    }
   ],
   "source": [
    "float(W1:inf);\n",
    "float(W2:inf);\n",
    "float(W3:(s3/(1-s3)*r3/mu3+r3/mu3)/(1));"
   ]
  },
  {
   "cell_type": "markdown",
   "id": "6d560766-383e-4f33-b93e-319964b18f6a",
   "metadata": {},
   "source": [
    "Далее рассмотрим системы с зависимой задержкой. Для сравнения изобразим на одном графике две заявки с разными приоритетами:\n",
    "$$q_{p_1}(t)=(t-T)\\cdot b_{p_1}$$\n",
    "$$q_{p_2}(t)=(t-T')\\cdot b_{p_2}$$"
   ]
  },
  {
   "cell_type": "markdown",
   "id": "f96dd888-7223-479d-9695-11b845ed7e02",
   "metadata": {},
   "source": [
    "<img src=\"dia1.jpeg\">"
   ]
  },
  {
   "cell_type": "markdown",
   "id": "82133404-d277-4bf9-b34e-9d4d9ff77927",
   "metadata": {},
   "source": [
    "На риcунке заявка  из группы приоритета $b_{p_1}$ поступает в момент $Т$ и получает приоритет, равный $(t-T)b_{p_1}$. В момент $Т'$ поступает другая заявка из высшей группы приоритета $b_{р2}$, т. е. $b_{р2}> b_{p_1}$. Когда устройство обслуживания становится свободным, оно выбирает для обработки  заявку $b_{p_1}$ на отрезке времени $[T, T_0]$, при $t>T_0$ будет выбираться заявка с высшим приоритетом $b_{p_2}$.\n"
   ]
  },
  {
   "cell_type": "markdown",
   "id": "70e244ed-5d30-4ea2-b28e-f43b1ff7c1e5",
   "metadata": {},
   "source": [
    "Для величин $W_p$,  характеризующих систему приоритета с зависимой задержкой без прерывания, приведем\n",
    "рекуррентную зависимость $W_p$ от $W_i$ для заявок с низшими приоритетами:\n",
    "\n",
    "**Для систем приоритета с зависимой задержкой без прерывания**:\n",
    "$$0\\leq\\rho<1: W_p=\\frac{\\frac{W_0}{1-\\rho}-\\sum_{i=1}^{p-1}\\rho_i\\cdot W_i\\cdot(1-b_i/b_p)}{1-\\sum_{i=p+1}^P\\rho_i\\cdot(1-b_p/b_i)}\\tag{31}$$"
   ]
  },
  {
   "cell_type": "markdown",
   "id": "ec2476cb-ef51-47e8-9989-27a52f41fa25",
   "metadata": {},
   "source": [
    "Аналогично, **для системы приоритета с зависимой задержкой с прерыванием** предложена рекуррентная зависимость $W_p$ от $W_i$ для заявок с низшими приоритетами:\n",
    "$$0\\leq\\rho<1: W_p=\\frac{1}{1-\\sum_{i=p+1}^P\\rho_i\\cdot\\left(1-\\frac{b_p}{b_i}\\right)}\\cdot$$ $$\\left(\\frac{W_0}{1-\\rho}+\\sum_{i=p+1}^P\\frac{\\rho_i}{\\mu_p}\\cdot \\left(1-\\frac{b_p}{b_i}\\right)-\\sum_{i=1}^{p-1}\\frac{\\rho_i}{\\mu_i}\\cdot\\left(1-\\frac{b_i}{b_p}\\right)-\\sum_{i=1}^{p-1}\\rho_i\\cdot W_i\\cdot \\left(1-\\frac{b_i}{b_p}\\right)\\right)\\tag{32}$$"
   ]
  },
  {
   "cell_type": "markdown",
   "id": "eff2d725-6bf1-4cfa-83ed-ec5ea2f2ba82",
   "metadata": {},
   "source": [
    "Важное различие между двумя системами приоритетов может быть обнаружено путем рассмотрения числа  степеней свободы в характеристиках систем. Если мы считаем, что входной поток определен, т. е. $Р, \\lambda_p, \\mu_p (р = 1,2,\\ldots, Р)$ фиксированные (данные) величины, то из уравнений видно, что система фиксированного приоритета не имеет  избыточных степеней свободы и, таким образом, $W_p$ полностью определена. Эта ситуация нежелательна, так как  проектировщик системы не в состоянии регулировать  поведение системы. Однако в системе приоритета с зависимой задержкой возможность изменения $b_p, (р = 1,2,\\ldots, Р)$ находится в распоряжении проектировщика; эта возможность изменения позволяет регулировать относительное\n",
    "распределение $W_p$ в значительной степени. Заметим также, что если группы с высшим приоритетом имеют\n",
    "время обслуживания, чем группы с низшим приоритетом, то средняя длина очереди уменьшается."
   ]
  },
  {
   "cell_type": "markdown",
   "id": "3179967b-0071-4c64-949a-df4cb8909c31",
   "metadata": {},
   "source": [
    "Если построить зависимости $W_p$ как функции $\\rho$, то можно сделать интересное наблюдение: если выполнять обслуживание без учета приоритетов в соответствии с дисциплиной очереди FIFO (первый пришел, первый обслужен), то график $W_p$ для этого случая всегда будет находиться между графиками $W_p$ для заявок с высшим и низшем приоритетами. \n",
    "\n",
    "Здесь действует закон сохранения, устанавливающий, что имеется некоторый постоянный средний уровень времени ожидания для различных групп приоритетов. В действительности разумно ожидать, что \n",
    "подобная инвариантность основывается на простом физическом рассуждении, что некоторые сообщения имеют преимущественное обслуживание и им нет нужды ожидать так долго, как им пришлось бы в системе «первый пришел — первым обслужен», и вследствие этого сообщениям с  низшим приоритетом приходится ожидать некоторое дополнительное время.\n",
    "\n",
    "Действительно, мы обнаруживаем, что существует закон сохранения, который справедлив для описанных систем приоритетов; можно показать, что он имеет силу и для более широкого класса систем приоритетов. Далее представлен ряд ограничений, достаточный для определения этого класса.\n",
    "1. Все заявки покидают систему после полного  обслуживания (т. е. отсутствуют отказы).\n",
    "2. Существует одно устройство обслуживания, которое всегда занято, если в системе находится хотя бы одно сообщение.\n",
    "3. Прерывание допускается только при экспоненциальных распределениях времени обслуживания, и имеется прерывание только типа прерывания с возобновлением.\n",
    "4. Поток входных заявок всегда пуассоновский, статистика обслуживания — произвольна, и статистики входных заявок и обслуживания независимы.\n",
    "\n",
    "Для такого класса закон сохранения утверждает, что при данной фиксированной статистике поступления и\n",
    "обслуживания средневзвешенные суммы времен ожидания $W_p$ постоянны и независимы от дисциплины очереди:\n",
    "\n",
    "**Теорема 1. (закон сохранения). Для любой дисциплины очереди и для любых подчиняющихся приведенным\n",
    "выше ограничениям фиксированных распределениях входных заявок и времени обслуживания величина\n",
    "$$\\sum_{p=1}^P \\rho_p\\cdot W_p\\tag{33}$$\n",
    "сохраняется постоянной относительно изменений дисциплин очереди, где Р представляет собой общее количество групп, на которые разбивается поток.**\n"
   ]
  },
  {
   "cell_type": "markdown",
   "id": "f7669ed2-04d5-4fae-ab15-8816f7523f3c",
   "metadata": {},
   "source": [
    "Можно в частности уточнить:\n",
    "$$\\sum_{p=1}^P\\rho_p\\cdot W_p=\\begin{cases}\\frac{\\rho}{1-\\rho}\\cdot V_1, 0\\leq\\rho<1\\\\\n",
    "\\infty, \\rho\\geq 1\n",
    "\\end{cases}\\tag{34}\n",
    "$$\n",
    "где $V_1=\\frac{1}{2}\\cdot \\sum_{p=1}^P\\lambda_p E(t_p^2)$, $E(t_p^2)$ - второй момент распределения времени обслуживания для группы $p$.\n",
    "\n",
    "$V_1$ может быть интерпретировано как математическое ожидание времени, которое требуется для окончания обработки заявки, уже находящейся в обработке при входе данной заявки, для системы с дисциплиной «первый пришел — первым обслужен». Т. е. рассматриваемая система преобразуется в такую, в которой применяются одинаковые распределения входных потоков и времени обслуживания, но где структура приоритета и прерывание изменены таким образом, что система действует по принципу «первый пришел — первым обслужен». Таким образом, $V_1$ не зависит от данной выбранной дисциплины очереди."
   ]
  },
  {
   "cell_type": "markdown",
   "id": "2459c23b-1119-4b03-afc4-bbe22d359189",
   "metadata": {},
   "source": [
    "**Домашнее задание.**\n",
    "В автоматизированной системе управления технологическим процессом (АСУТП) обрабатываются сообщения трех типов (сообщения A,B,C), поступающие от производственного оборудования. Сообщения типа A поступают в среднем через каждые $t_1$ секунды. Сообщения типа B поступают в среднем через $t_2$ секунд, сообщения типа C – через $t_3$ c. Обработка одного сообщения типа A занимает в среднем $t4$ мс, сообщения типа B – $t_5$ мс, сообщения типа C – $t_6$ мс. Интервалы времени между сообщениями и время обработки сообщений можно считать случайными величинами, распределенными по экспоненциальному закону.\n",
    "\n",
    "Предлагаются два варианта дисциплины обслуживания сообщений: а) с относительными приоритетами; б) с абсолютными приоритетами. При обслуживании с приоритетами более высокий приоритет должны иметь сообщения, требующие меньшего времени обработки.\n",
    "\n",
    "Требуется выбрать дисциплину обслуживания, обеспечивающую минимальное среднее время обработки всех сообщений (выполнить теоретический расчет). Провести моделирование в simmer для заявок с относительным приоритетом. "
   ]
  },
  {
   "cell_type": "code",
   "execution_count": 11,
   "id": "606b5d09-fc22-4ce6-b5d4-96d00e1f5e29",
   "metadata": {},
   "outputs": [
    {
     "data": {
      "text/html": [
       "<table class=\"dataframe\">\n",
       "<caption>A data.frame: 1 × 6</caption>\n",
       "<thead>\n",
       "\t<tr><th scope=col>t1</th><th scope=col>t2</th><th scope=col>t3</th><th scope=col>t4</th><th scope=col>t5</th><th scope=col>t6</th></tr>\n",
       "\t<tr><th scope=col>&lt;dbl&gt;</th><th scope=col>&lt;dbl&gt;</th><th scope=col>&lt;dbl&gt;</th><th scope=col>&lt;dbl&gt;</th><th scope=col>&lt;dbl&gt;</th><th scope=col>&lt;dbl&gt;</th></tr>\n",
       "</thead>\n",
       "<tbody>\n",
       "\t<tr><td>1.510364</td><td>2.363286</td><td>0.2914135</td><td>2.795905</td><td>8.721373</td><td>57.89937</td></tr>\n",
       "</tbody>\n",
       "</table>\n"
      ],
      "text/latex": [
       "A data.frame: 1 × 6\n",
       "\\begin{tabular}{llllll}\n",
       " t1 & t2 & t3 & t4 & t5 & t6\\\\\n",
       " <dbl> & <dbl> & <dbl> & <dbl> & <dbl> & <dbl>\\\\\n",
       "\\hline\n",
       "\t 1.510364 & 2.363286 & 0.2914135 & 2.795905 & 8.721373 & 57.89937\\\\\n",
       "\\end{tabular}\n"
      ],
      "text/markdown": [
       "\n",
       "A data.frame: 1 × 6\n",
       "\n",
       "| t1 &lt;dbl&gt; | t2 &lt;dbl&gt; | t3 &lt;dbl&gt; | t4 &lt;dbl&gt; | t5 &lt;dbl&gt; | t6 &lt;dbl&gt; |\n",
       "|---|---|---|---|---|---|\n",
       "| 1.510364 | 2.363286 | 0.2914135 | 2.795905 | 8.721373 | 57.89937 |\n",
       "\n"
      ],
      "text/plain": [
       "  t1       t2       t3        t4       t5       t6      \n",
       "1 1.510364 2.363286 0.2914135 2.795905 8.721373 57.89937"
      ]
     },
     "metadata": {},
     "output_type": "display_data"
    }
   ],
   "source": [
    "Variant<-1\n",
    "set.seed(Variant)\n",
    "t<-rexp(3, 0.5)\n",
    "tt<-rexp(3,0.05)\n",
    "D <- data.frame(t[1],t[2],t[3],tt[1],tt[2],tt[3])\n",
    "colnames(D)<-c('t1','t2','t3','t4','t5','t6')\n",
    "View(D)"
   ]
  },
  {
   "cell_type": "markdown",
   "id": "b0fb8ec4-e5fb-4631-a6e7-11ccf4569bdc",
   "metadata": {},
   "source": [
    "## Оптимизация решений на основе моделей массового обслуживания"
   ]
  },
  {
   "cell_type": "markdown",
   "id": "9140339e-48cd-47ec-a2e2-22bcc309e097",
   "metadata": {},
   "source": [
    "До сих пор мы в основном рассматривали показатели эффективности систем СМО. Однако использование СМО без учета и оптимизации экономических характеристик вряд ли возможно. \n",
    "\n",
    "Под экономическими характеристиками понимаются величины, выражающие прибыль от работы СМО, затраты на обслуживание заявок и т.д. Расчет таких характеристик зависит от постановки задачи. Приведем несколько\n",
    "общих формул, применимых в большинстве задач:\n",
    "\n",
    "- **Выручка от обслуживания заявок в СМО в течение времени $T$**:\n",
    "$$V=\\lambda'\\cdot C\\cdot T\\tag{35}$$\n",
    "где $\\lambda'$ - пропускная способность СМО;\n",
    "$C$ - выручка о обслуживания одной заявки.\n",
    " - **Затраты, связанные с обслуживанием заявок в СМО в течение времени $T$**:\n",
    " $$Z_{\\text{обс}}=\\lambda'\\cdot C_{\\text{обс}}\\cdot T\\tag{36}$$\n",
    " где $C_{\\text{обс}}$ - затраты, связанные с обслуживанием одной заявки.\n",
    " - **Затраты, связанные с эксплуатацией СМО в течение времени T**:\n",
    " $$Z_{\\text{эксп}}=\\left(\\bar{k}\\cdot C_{\\text{раб}}+(m-\\bar{k})\\cdot C_{\\text{пр}}\\right)\\cdot T\\tag{37}$$\n",
    " где $\\bar{k}$ - среднее число занятых каналов;\n",
    " $C_{\\text{раб}}$ - затраты, связанные с работой одного канала в течение единицы времени;\n",
    " $m$ - количество каналов в СМО;\n",
    " $C_{\\text{пр}}$ - затраты, связанные с простоем одного канала в течение единицы времени.\n",
    " - **Убытки, связанные с отказами в обслуживании за время T**:\n",
    " $$Z_{\\text{отк}}=\\lambda\\cdot C_{\\text{отк}}\\cdot P_{\\text{отк}}\\cdot T\\tag{38}$$\n",
    " где $\\lambda$ - интенсивность потока заявок;\n",
    " $C_{\\text{отк}}$ - убытки, связанные с отказом в обслуживании одной заявки;\n",
    " $P_{\\text{отк}}$ - вероятность отказа.\n",
    " - **Убытки за время T, связанные с пребыванием заявок в СМО (как в очереди, так и на обслуживании)**:\n",
    " $$Z_{\\text{пр}}=L_{\\text{сист}}\\cdot C_{\\text{пр}}\\cdot T\\tag{39}$$\n",
    " где $L_{\\text{сист}}$ - среднее число заявок в СМО;\n",
    " $C_{\\text{пр}}$ - убытки, связанные с пребыванием заявки в СМО в течение единицы времени."
   ]
  },
  {
   "cell_type": "markdown",
   "id": "85891882-7bac-4340-8057-ac38ca070e23",
   "metadata": {},
   "source": [
    "Также мы в основном рассматривали системы $M/M/n/m, m=0,1,\\ldots, \\infty$, но на практике далеко не всегда входной и выходной потоки являются простейшими. Для расчетов экономических характеристик в этих случаях используют приближенные формулы, которые мы рассмотрели (например, формула Файнберга). Для этого часто используют коэффициенты вариации интервалов времени между заявками и времени обслуживания заявок. Физический смысл коэффициента вариации следующий: чем он больше, тем больше разброс возможных значений случайной величины, т.е. отклонение ее отдельных значений от среднего значения.\n",
    "\n",
    "|Распредедение | Коэффициент вариации|\n",
    "|--------------|---------------------|\n",
    "|Экспоненциальное $M$| 1 |\n",
    "|Эрланг $k$-го порядка $E_k$| $\\frac{1}{\\sqrt{k}}$ |\n",
    "|Равномерное $G$ в интервале $[a,b]$| $\\frac{b-a}{(a+b)\\cdot \\sqrt{3}}$|\n",
    "|Детерминированное $D$| 0|\n",
    "\n",
    "В дальнейшем будем обозначать коэффициент вариации интервалов времени между заявками как $v$, а коэффициент вариации времени обслуживания  - как $\\epsilon$."
   ]
  },
  {
   "cell_type": "markdown",
   "id": "cd319936-9df7-4b87-9bf2-1ce124c0f73a",
   "metadata": {},
   "source": [
    "Рассмотрим ряд примеров.\n",
    "\n",
    "**Пример 6.** Генеративый ИИ \"Вася\" используется для формирования ответов пользователям. Интервалы между моментами поступления запросов от пользователей составляют от 7 до 15 минут. Время выполнения запроса - случайная величина с нормальным законом распределения со средним значением 2 мин стандартным отклонением 0.1 мин. Затраты на один час работы \"Васи\" (потребление элекроэнергии всем программно-аппаратным комплексом) составляет 10 у.е., на один час простоя 3 у.е. За выполнение одного запроса пользователи платят 0.5 у.е., за ожидание ответа пользователям возвращают 0.01 у.е. на 1 минуту ожидания ответа.  Оценить среднюю прибыль от работы \"Васи\" за одну рабочую смену (8 часов)."
   ]
  },
  {
   "cell_type": "markdown",
   "id": "bfda3a2a-8675-48ee-8f4d-ef315bcb8cac",
   "metadata": {},
   "source": [
    "**Решение**.  Интервалы времени между моментами поступления запросов представляют собой случайные величины, распределенные по равномерному закону. Время обработки запросов – гауссовская случайная величина. Система одноканальная.\n",
    "\n",
    "Таким образом, имеем СМО класса $G/G/1$, поэтому возможен только приближенный расчет.\n",
    "\n",
    "Средний интервал времени между запросами составляет $\\frac{15-7}{2}=4$ мин., значит, $\\lambda=\\frac{1}{4}\\approx 0.25$ запроса в минуту , обработка одного запроса занимает $2$ мин. т.е. $\\mu=1/2=0.5$ запросов в минуту.\n",
    "\n",
    "Нагрузка системы: $y=\\frac{\\lambda}{\\mu}\\approx 0.5$\n",
    "\n",
    "Коэффициент вариации для для интервалов между моментами поступления запросов для равномерного закона: $v=\\frac{b-a}{\\sqrt{3}\\cdot (a+b)}=\\frac{15-7}{\\sqrt{3}\\cdot 22}\\approx 0.21$\n",
    "\n",
    "Коэффициент вариации для времени обработки запросов $\\epsilon=0.1/2=0.05$.\n",
    "\n",
    "Длину очереди можно оценить: $L_{\\text{оч}}=\\frac{y^2\\cdot(v^2+\\epsilon^2)}{2(1-y)}=\\frac{0.5^2\\cdot(0.21^2+0.05^2)}{2\\cdot(1-0.5)}\\approx 0.012$ запросов.\n",
    "\n",
    "Будем считать, что \"Вася\" обрабатывает все поступающие запросы, тогда $P_{\\text{отк}}=0, \\lambda'=\\lambda=0.25$.\n",
    "\n",
    "Средняя выручка от работы \"Васи\" за смену:\n",
    "\n",
    "$$V=\\lambda'\\cdot C\\cdot T=0.25\\cdot 0.5\\cdot 8\\cdot 60\\approx 60 \\text{у.е.}$$"
   ]
  },
  {
   "cell_type": "markdown",
   "id": "86a7e9ed-5024-4266-99a7-2b0f262f99fc",
   "metadata": {},
   "source": [
    "Среднее число занятых каналов $\\bar{k}=y$\n",
    "\n",
    "Затраты, связанные с эксплуатацией СМО в течение времени T:\n",
    " $$Z_{\\text{эксп}}=\\left(\\bar{k}\\cdot C_{\\text{раб}}+(m-\\bar{k})\\cdot C_{\\text{пр}}\\right)\\cdot T=(0.5\\cdot 10+(1-0.5)\\cdot 3)\\cdot 8\\approx 52$$\n",
    " \n",
    "Среднее время пребывания заявки в системе: \n",
    "$$T_{\\text{сист}}=W_{\\text{оч}}+\\frac{1}{\\mu}=\\frac{L_{\\text{оч}}}{\\lambda}+\\frac{1}{\\mu}=\\frac{0.012}{0.25}+\\frac{1}{0.5}\\approx 2.048\\text{минут}$$\n",
    "\n",
    "Среднее число заявок в системе:\n",
    "\n",
    "$$L_{\\text{сист}}=\\lambda\\cdot T_{\\text{сист}}=\\bar{k}+L_{\\text{оч}}=0.25\\cdot 2.048= 0.5+0.012\\approx 0.512$$\n",
    " \n",
    "Убытки за время T, связанные с пребыванием заявок в СМО (как в очереди, так и на обслуживании):\n",
    " $$Z_{\\text{пр}}=L_{\\text{сист}}\\cdot C_{\\text{пр}}\\cdot T\\approx 0.512\\cdot 0.01\\cdot 8\\cdot 60\\approx 2.46 \\text{у.е./смена}$$"
   ]
  },
  {
   "cell_type": "markdown",
   "id": "f0ff1462-b81a-4466-b9cf-4ada9e034bc2",
   "metadata": {},
   "source": [
    "Чистая прибыль от работы \"Васи\" составит:\n",
    "$$\\text{П}=60-52-2.46\\approx 5.54 \\text{у.е.}$$"
   ]
  },
  {
   "cell_type": "markdown",
   "id": "fe12878a-27e7-49a7-8036-0bf8256f2bcb",
   "metadata": {},
   "source": [
    "**Пример 7. СМО с заявками с разным временем обслуживания.**\n",
    "Программы, при разработке которых допущена ошибка, направляются для устранения дефекта к эксперту (система ИИ copilot). При разработке программы возможны ошибки трех видов (обозначим их как A, B и C). Программы, имеющие несколько ошибок (две или три) одновременно, отклоняются; поэтому каждая программа, поступающая к эксперту, имеет только одну ошибку. Программы, имеющие ошибку A, поступают к эксперту в среднем через каждые 20 мин, с ошибкой B – через каждые 10 мин, с ошибкой C – через каждые 25 мин. Потоки программ с ошибками каждого вида можно считать пуассоновскими. Устранение ошибки A занимает от 2 до 5 мин, устранение ошибки B – ровно 5 мин; время устранения ошибки C представляет собой гауссовскую случайную величину со средним значением 7 мин и стандартным отклонением 1.5 мин. Требуется найти характеристики работы эксперта.\n",
    "\n",
    "В таких СМО обслуживаются заявки нескольких типов, различающихся по времени обслуживания. Пусть в СМО обслуживается R типов заявок. Обозначим долю заявок $i$-го типа в потоке заявок как $P_i$ , $i=1,\\ldots,R$, $P_1 + P_2 +\\ldots+P_R=1$.\n",
    "\n",
    "Времена обслуживания заявок разных типов представляют собой случайные (или детерминированные) величины; для расчета характеристик СМО законы распределения этих величин должны быть известны. Среднее время обслуживания заявки $i$-го типа обозначим как $\\bar{x}_i$ , $i=1,\\ldots, R$. Для расчета характеристик таких СМО необходимо определить среднее время обслуживания и коэффициент вариации времени обслуживания всех заявок в СМО.\n",
    "\n",
    "Среднее время обслуживания заявок находится по формуле:\n",
    "$$\\bar{x}=\\sum_{i=1}^R P_i\\cdot \\bar{x}_i$$\n",
    "\n",
    "Коэффициент вариации вычисляется следующим образом.\n",
    "\n",
    "1. Находятся дисперсии времени обслуживания заявок каждого типа: $D_i$, $i=1,\\ldots,R$. Для этого должны быть известны законы распределения времени обслуживания заявок.\n",
    "2. Находятся вторые начальные моменты времени обслуживания заявок каждого типа:\n",
    "$$\\alpha_i = D_i + \\bar{x}_i^2 , i=1,\\ldots,R.$$\n",
    "3. Находится второй начальный момент времени обслуживания всех заявок:\n",
    "$$\\alpha=\\sum_{i=1}^R P_i\\cdot \\alpha_i$$\n",
    "4. Находится дисперсия времени обслуживания всех заявок:\n",
    "$$D=\\alpha-\\bar{x}^2$$\n",
    "5. Находится коэффициент вариации времени обслуживания всех заявок:\n",
    "$$\\epsilon=\\frac{\\sqrt{D}}{\\bar{x}}$$\n",
    "\n",
    "Так как потоки программ с ошибками каждого вида можно считать пуассоновскими, поток всех программ также можно считать пуассоновским. Найдем интенсивности потоков программ с ошибками каждого вида: $\\lambda_A =1/20=0.05$ программы/мин, $\\lambda_B =1/10=0.1$ программы/мин, $\\lambda_C =1/25=0.04$ программы/мин. Интенсивность потока всех программ представляет собой сумму интенсивностей отдельных потоков: $\\lambda=\\lambda_A+\\lambda_B+\\lambda_C=0.19$ программ/мин.\n",
    "\n",
    "Найдем доли программ каждого вида в общем потоке: $$P_A =0.05/0.19=0,26; P_B =0.1/0.19=0.53; P_C =0.04/0.19=0.21$$\n",
    "\n",
    "Найдем среднее время обработки программ всех видов. Средние времена обработки программ каждого вида следующие: \n",
    "$$\\bar{x}_A =(2+5)/2=3,5\\text{мин}, \\bar{x}_B =5 \\text{мин}, \\bar{x}_C =7 \\text{мин}$$ \n",
    "\n",
    "Среднее время обработки программ всех видов: \n",
    "$$\\bar{x} =0.26·3.5+0.53·5+0.21·7=5.03 \\text{мин}$$\n",
    "\n"
   ]
  },
  {
   "cell_type": "markdown",
   "id": "35814bfa-0d62-4126-8e56-cada0af29124",
   "metadata": {},
   "source": [
    "**Продолжить расчет у доски**"
   ]
  }
 ],
 "metadata": {
  "kernelspec": {
   "display_name": "R",
   "language": "R",
   "name": "ir"
  },
  "language_info": {
   "codemirror_mode": "r",
   "file_extension": ".r",
   "mimetype": "text/x-r-source",
   "name": "R",
   "pygments_lexer": "r",
   "version": "4.2.2"
  }
 },
 "nbformat": 4,
 "nbformat_minor": 5
}
