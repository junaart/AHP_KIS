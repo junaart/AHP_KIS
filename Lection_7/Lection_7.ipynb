{
 "cells": [
  {
   "cell_type": "markdown",
   "id": "f532749a-13a4-474a-b42c-42d2276ea20c",
   "metadata": {},
   "source": [
    "# Лекция 7. Анализ методических погрешностей для методов укрупнения состояний и агрегирования марковских моделей"
   ]
  },
  {
   "cell_type": "markdown",
   "id": "68bd2b98-563c-4de0-8f31-5231d51dc355",
   "metadata": {},
   "source": [
    " - Анализ погрешностей с использованием параметров связи\n",
    " - Анализ погрешностей на основе принципа эквивалентности потоков\n",
    " - Метод укрупнения состояний марковских моделей\n",
    " - Управление ресурсами в многопроцессорных системах. Алгоритмы Джонсона, Макнотона"
   ]
  },
  {
   "cell_type": "markdown",
   "id": "64569dc3-5f6c-4078-990f-db668799118e",
   "metadata": {},
   "source": [
    "## Анализ погрешностей с использованием параметров связи"
   ]
  },
  {
   "cell_type": "markdown",
   "id": "fdc2ce06-9d52-496d-96ad-df140e4f15a3",
   "metadata": {},
   "source": [
    "За основу возьмем задачу из Лекции 6:\n",
    "\n",
    "<img src=\"dia1.jpeg\">\n",
    "\n",
    "Для начала найдем точное решение, составив уравнения Колмогорова:"
   ]
  },
  {
   "cell_type": "markdown",
   "id": "c6c51907-cc94-4392-806f-74c4e2fd821a",
   "metadata": {},
   "source": [
    "\\begin{cases}\n",
    "  \\frac{dP_{200}(t)}{dt}=-2\\lambda\\cdot P_{200}(t)+p\\cdot \\nu\\cdot P_{110}(t)+\\mu\\cdot P_{101}(t)\\\\\n",
    "  \\frac{dP_{110}(t)}{dt}=-(\\lambda+ \\nu)\\cdot P_{110}(t)+\\mu\\cdot P_{011}(t)+2p\\nu\\cdot P_{020}(t)+2\\lambda\\cdot P_{200}(t)\\\\\n",
    "  \\frac{dP_{020}(t)}{dt}=\\lambda\\cdot P_{110}(t)-2\\nu\\cdot P_{020}(t)\\\\\n",
    "  \\frac{dP_{101}(t)}{dt}=(1-p)\\nu\\cdot P_{110}(t)+p\\nu\\cdot P_{011}(t)+2\\mu\\cdot P_{002}(t)-(\\lambda+\\mu)\\cdot P_{101}(t)\\\\\n",
    "  \\frac{dP_{011}(t)}{dt}=2(1-p)\\nu\\cdot P_{020}(t)+\\lambda\\cdot P_{101}(t)-(\\mu+\\nu)\\cdot P_{011}(t)\\\\\n",
    "  \\frac{dP_{002}(t)}{dt}=-2\\mu\\cdot P_{002}(t)+(1-p)\\nu\\cdot P_{011}(t)\\\\\n",
    "  P_{200}(t)+P_{110}(t)+P_{020}(t)+P_{101}(t)+P_{011}(t)+P_{002}(t)=1\n",
    "\\end{cases}"
   ]
  },
  {
   "cell_type": "markdown",
   "id": "d0914342-3cf6-4851-bd8d-8b90d4607318",
   "metadata": {},
   "source": [
    "Зададимся некоторыми конкретными значениями $\\lambda=0.8, \\mu=1.2, \\nu=1, p=0.2$ и найдем финальные вероятности, решив СЛАУ:"
   ]
  },
  {
   "cell_type": "code",
   "execution_count": 1,
   "id": "7741690d-757b-40b7-bb69-d43a45efabd1",
   "metadata": {},
   "outputs": [],
   "source": [
    "lambda: 0.8$ mu: 1.2$ nu:1$ p:0.2$"
   ]
  },
  {
   "cell_type": "code",
   "execution_count": 10,
   "id": "c6ef87fa-7992-4645-b307-6d384bc8699b",
   "metadata": {},
   "outputs": [
    {
     "name": "stdout",
     "output_type": "stream",
     "text": [
      "\n",
      "rat: replaced 1.2 by 6/5 = 1.2\n",
      "\n",
      "rat: replaced 0.2 by 1/5 = 0.2\n",
      "\n",
      "rat: replaced -1.6 by -8/5 = -1.6\n",
      "\n",
      "rat: replaced 1.2 by 6/5 = 1.2\n",
      "\n",
      "rat: replaced 0.4 by 2/5 = 0.4\n",
      "\n",
      "rat: replaced -1.8 by -9/5 = -1.8\n",
      "\n",
      "rat: replaced 1.6 by 8/5 = 1.6\n",
      "\n",
      "rat: replaced 0.8 by 4/5 = 0.8\n",
      "\n",
      "rat: replaced 2.4 by 12/5 = 2.4\n",
      "\n",
      "rat: replaced 0.2 by 1/5 = 0.2\n",
      "\n",
      "rat: replaced -2.0 by -2/1 = -2.0\n",
      "\n",
      "rat: replaced 0.8 by 4/5 = 0.8\n",
      "\n",
      "rat: replaced -2.4 by -12/5 = -2.4\n",
      "\n",
      "rat: replaced 0.8 by 4/5 = 0.8\n"
     ]
    },
    {
     "data": {
      "text/latex": [
       "\\[\\tag{${\\it \\%o}_{10}$}\\left[ \\left[ P_{2,0,0}=\\frac{9}{49} , P_{1,1,0}=\\frac{72}{245} , P_{0,2,0}=\\frac{144}{1225} , P_{1,0,1}=\\frac{48}{245} , P_{0,1,1}=\\frac{192}{1225} , P_{0,0,2}=\\frac{64}{1225} \\right]  \\right] \\]"
      ],
      "text/plain": [
       "                   9             72             144             48\n",
       "(%o10) [[P_2_0_0 = --, P_1_1_0 = ---, P_0_2_0 = ----, P_1_0_1 = ---, \n",
       "                   49            245            1225            245\n",
       "                                                         192              64\n",
       "                                               P_0_1_1 = ----, P_0_0_2 = ----]]\n",
       "                                                         1225            1225"
      ],
      "text/x-maxima": [
       "[[P_2_0_0 = 9/49,P_1_1_0 = 72/245,P_0_2_0 = 144/1225,P_1_0_1 = 48/245,\n",
       "  P_0_1_1 = 192/1225,P_0_0_2 = 64/1225]]"
      ]
     },
     "execution_count": 10,
     "metadata": {},
     "output_type": "execute_result"
    }
   ],
   "source": [
    "solve([-2*lambda*P_2_0_0+p*nu*P_1_1_0+mu*P_1_0_1=0,\n",
    "       -(lambda+nu)*P_1_1_0+mu*P_0_1_1+2*p*nu*P_0_2_0+2*lambda*P_2_0_0=0,\n",
    "       lambda*P_1_1_0-2*nu*P_0_2_0=0,\n",
    "       (1-p)*nu*P_1_1_0+p*nu*P_0_1_1+2*mu*P_0_0_2-(lambda+mu)*P_1_0_1=0,\n",
    "       -2*mu*P_0_0_2+(1-p)*nu*P_0_1_1=0,\n",
    "       P_2_0_0+P_1_1_0+P_0_2_0+P_1_0_1+P_0_1_1+P_0_0_2=1],\n",
    "       [P_2_0_0,P_1_1_0,P_0_2_0,P_1_0_1,P_0_1_1,P_0_0_2]);"
   ]
  },
  {
   "cell_type": "code",
   "execution_count": 11,
   "id": "7446ac89-e3b5-47d4-976c-379d44206eaf",
   "metadata": {},
   "outputs": [
    {
     "data": {
      "text/latex": [
       "\\[\\tag{${\\it \\%o}_{11}$}\\left[ \\left[ P_{2,0,0}=0.1836734693877551 , P_{1,1,0}=0.2938775510204082 , P_{0,2,0}=0.1175510204081633 , P_{1,0,1}=0.1959183673469388 , P_{0,1,1}=0.156734693877551 , P_{0,0,2}=0.05224489795918368 \\right]  \\right] \\]"
      ],
      "text/plain": [
       "(%o11) [[P_2_0_0 = 0.1836734693877551, P_1_1_0 = 0.2938775510204082, \n",
       "P_0_2_0 = 0.1175510204081633, P_1_0_1 = 0.1959183673469388, \n",
       "P_0_1_1 = 0.156734693877551, P_0_0_2 = 0.05224489795918368]]"
      ],
      "text/x-maxima": [
       "[[P_2_0_0 = 0.1836734693877551,P_1_1_0 = 0.2938775510204082,\n",
       "  P_0_2_0 = 0.1175510204081633,P_1_0_1 = 0.1959183673469388,\n",
       "  P_0_1_1 = 0.156734693877551,P_0_0_2 = 0.05224489795918368]]"
      ]
     },
     "execution_count": 11,
     "metadata": {},
     "output_type": "execute_result"
    }
   ],
   "source": [
    "float(%);"
   ]
  },
  {
   "cell_type": "markdown",
   "id": "120a27b1-0073-41e4-ad4f-5f09f029d3ff",
   "metadata": {},
   "source": [
    "Найдем основные характеристики системы:\n",
    "- **среднее число заявок в системе**:\n",
    "$$L_{\\text{сист}}=1\\cdot (P_{110}+ P_{101})+2\\cdot (P_{020}+P_{011}+P_{002})\\approx 1.14285714285714$$"
   ]
  },
  {
   "cell_type": "markdown",
   "id": "d34aed05-da5e-4b04-8628-22aebba02164",
   "metadata": {},
   "source": [
    " - **абсолютная пропускная способность** (среднее число заявок, обслуженных в единицу времени): для определения абсолютной пропускной способности учтем, что заявки-программы, в которых обнаружен вирус не получают полного обслуживания (отклоняются), т.е. нас интересует среднее число заявок получивших полное обслуживание в единицу времени. Для замкнутых систем абсолютная пропускная способность выражается как\n",
    " $$\\lambda'=P_{\\text{зан}}\\cdot \\mu$$\n",
    " $P_{\\text{зан}}$ - вероятность, что канал занят;\n",
    " $\\mu$ - интенсивность обслуживания канала.\n",
    " \n",
    " В нашем случае на выходе два канала, но они работают не во всех состояниях, а только в $S_{101}$ с интенсивностью $\\mu$, в состоянии $S_{011}$ тоже с интенсивностью $\\mu$, и в состоянии $S_{002}$ с интенсивностью $2\\mu$.\n",
    " $$\\lambda'=\\mu\\cdot(P_{101}+P_{011})+2\\mu\\cdot P_{002}\\approx 0.548571428571429$$"
   ]
  },
  {
   "cell_type": "markdown",
   "id": "9964a829-6c43-45df-83df-3ff30175d09c",
   "metadata": {},
   "source": [
    "- *средняя интенсивность суммарного входного потока*:\n",
    " $$\\Lambda=(k-L_{\\text{сист}})\\cdot \\lambda=(2-1.142857142857143)\\cdot 0.8\\approx 0.685714285714286$$\n",
    "\n",
    "- **среднее время пребывания заявки в системе**:\n",
    "$$T_{\\text{сист}}=\\frac{L_{\\text{сист}}}{\\Lambda}\\approx 1.666$$"
   ]
  },
  {
   "cell_type": "markdown",
   "id": "25125527-daed-4884-a5fa-83f701fadaf4",
   "metadata": {},
   "source": [
    "Проведем моделирование."
   ]
  },
  {
   "cell_type": "code",
   "execution_count": 2,
   "id": "bf2748ee-6534-4e3d-adcc-8212e2b78545",
   "metadata": {},
   "outputs": [],
   "source": [
    "lambda<-0.8; mu<-1.2; nu<-1; p<-0.2"
   ]
  },
  {
   "cell_type": "code",
   "execution_count": 3,
   "id": "8e3cc9df-cfa5-4a9a-b490-117acb2b7a9f",
   "metadata": {},
   "outputs": [],
   "source": [
    "proger<- rexp(2, lambda) #Время написания программ для двух программистов\n",
    "virus<-c(0,0,0,0) #первый индекс - номер программиста, от которого проверка на вирус на первой ЭВМ, второй индекс - время обслуживания на 1 ЭВМ\n",
    "                  #третий индекс -номер програмиста, от которого проверка на вирус на второй ЭВМ, четвертый индекс - время обслуживания на 2 ЭВМ\n",
    "server<-c(0,0,0,0) #первый индекс - номер программиста, от которого выполнение на первом сервере, второй индекс - время обслуживания на 1 сервере\n",
    "                  #третий индекс номер программиста, от которого выполнение на втором сервере, четвертый индекс - время обслуживания на 2 сервере\n",
    "T<-10000 #Суммарное модельное время\n",
    "h<-0.001 #Шаг приращения модельного времени\n",
    "t<-0 # Текущее время"
   ]
  },
  {
   "cell_type": "code",
   "execution_count": 10,
   "id": "f168dfdd-725f-430f-b22e-9b6d86e6e4b3",
   "metadata": {},
   "outputs": [],
   "source": [
    "obs<-0 #Количество заявок, получивших полное обслуживание\n",
    "request_col<-0 #Суммарное количество квантов времени нахождения всех заявок в системе\n",
    "tsum<-0 # Суммарное время пребывания всех заявок в системе\n",
    "requestsum<-0 # Считаем суммарное количество заявок, поступивших в СМО"
   ]
  },
  {
   "cell_type": "code",
   "execution_count": 5,
   "id": "5191a392-12f9-4426-822a-7b8230b1607c",
   "metadata": {},
   "outputs": [],
   "source": [
    "while(t<T){\n",
    "  if ((proger[1]<= t) & (proger[1] !=0))\n",
    "      {\n",
    "      requestsum<-requestsum+1\n",
    "      if (virus[1] == 0)\n",
    "          {virus[1]<-1\n",
    "           virus[2]<-t+rexp(1,nu)\n",
    "           proger[1]<- 0\n",
    "          }\n",
    "      else\n",
    "          {if (virus[3] == 0)\n",
    "          {virus[3]<-1\n",
    "           virus[4]<-t+rexp(1,nu)\n",
    "           proger[1]<- 0\n",
    "          }}  \n",
    "      }\n",
    "  if ((proger[2]<= t) & (proger[2] !=0))\n",
    "      {\n",
    "      requestsum<-requestsum+1\n",
    "      if (virus[1] == 0)\n",
    "          {virus[1]<-2\n",
    "           virus[2]<-t+rexp(1,nu)\n",
    "           proger[2]<- 0\n",
    "          }\n",
    "      else\n",
    "          {if (virus[3] == 0)\n",
    "          {virus[3]<-2\n",
    "           virus[4]<-t+rexp(1,nu)\n",
    "           proger[2]<- 0\n",
    "          }}  \n",
    "      }\n",
    "  if ((virus[2]<=t) &(virus[2] !=0)){\n",
    "      u<-runif(1)\n",
    "      if (u > p){\n",
    "          if (server[1] == 0){\n",
    "                server[1]<-virus[1]\n",
    "                server[2]<-t+rexp(1,mu)\n",
    "                virus[1]<-0;virus[2]<-0;\n",
    "              }\n",
    "          else if (server[3] == 0){\n",
    "                server[3]<-virus[1]\n",
    "                server[4]<-t+rexp(1,mu)\n",
    "                virus[1]<-0;virus[2]<-0;\n",
    "              }\n",
    "          \n",
    "          }\n",
    "      else {\n",
    "          proger[virus[1]]<-t +rexp(1,lambda)\n",
    "          virus[1]<-0;virus[2]<-0;\n",
    "       }\n",
    "  }\n",
    "  if ((virus[4]<=t) & (virus[4]!=0)){\n",
    "      u<-runif(1)\n",
    "      if (u > p){\n",
    "          if (server[1] == 0){\n",
    "                server[1]<-virus[3] \n",
    "                server[2]<-t+rexp(1,mu)\n",
    "                virus[3]<-0;virus[4]<-0;\n",
    "              }\n",
    "          else if (server[3] == 0){\n",
    "                server[3]<-virus[3]\n",
    "                server[4]<-t+rexp(1,mu)\n",
    "                virus[3]<-0;virus[4]<-0;\n",
    "              }\n",
    "          \n",
    "          }\n",
    "      else {\n",
    "          proger[virus[3]]<-t +rexp(1,lambda)\n",
    "          virus[3]<-0;virus[4]<-0;\n",
    "       }\n",
    "  }\n",
    "  if ((server[2]<=t) & (server[2] !=0)){\n",
    "      proger[server[1]]<-t +rexp(1,lambda)\n",
    "      server[1]<-0;server[2]<-0;\n",
    "      obs<-obs+1\n",
    "  }\n",
    "  if ((server[4]<=t) & (server[4]!=0)){\n",
    "      proger[server[3]]<-t +rexp(1,lambda)\n",
    "      server[3]<-0;server[4]<-0;\n",
    "      obs<-obs+1\n",
    "  }\n",
    "  request_col<-request_col+length(proger[proger==0])\n",
    "  tsum<-tsum+length(proger[proger==0])*h\n",
    "  t<-t+h\n",
    "}"
   ]
  },
  {
   "cell_type": "code",
   "execution_count": 6,
   "id": "15ee0baa-9fd8-46cf-9d49-b5142b951069",
   "metadata": {},
   "outputs": [
    {
     "data": {
      "text/html": [
       "1.1482577"
      ],
      "text/latex": [
       "1.1482577"
      ],
      "text/markdown": [
       "1.1482577"
      ],
      "text/plain": [
       "[1] 1.148258"
      ]
     },
     "metadata": {},
     "output_type": "display_data"
    }
   ],
   "source": [
    "#Среднее число заявок в системе\n",
    "request_col/(T/h)"
   ]
  },
  {
   "cell_type": "code",
   "execution_count": 7,
   "id": "d8046371-c725-4336-a1b6-ebb99453e38c",
   "metadata": {},
   "outputs": [
    {
     "data": {
      "text/html": [
       "0.5515"
      ],
      "text/latex": [
       "0.5515"
      ],
      "text/markdown": [
       "0.5515"
      ],
      "text/plain": [
       "[1] 0.5515"
      ]
     },
     "metadata": {},
     "output_type": "display_data"
    }
   ],
   "source": [
    "#Абсолютная пропускная способность\n",
    "obs/(T)"
   ]
  },
  {
   "cell_type": "code",
   "execution_count": 8,
   "id": "62a6d227-da20-4765-8ace-45df11b6ae5f",
   "metadata": {},
   "outputs": [
    {
     "data": {
      "text/html": [
       "1.6784939338718"
      ],
      "text/latex": [
       "1.6784939338718"
      ],
      "text/markdown": [
       "1.6784939338718"
      ],
      "text/plain": [
       "[1] 1.678494"
      ]
     },
     "metadata": {},
     "output_type": "display_data"
    }
   ],
   "source": [
    "#Среднее время пребывания заявки в системе\n",
    "tsum/requestsum"
   ]
  },
  {
   "cell_type": "code",
   "execution_count": 9,
   "id": "605e349f-eca3-4f5f-97be-0857b615dabf",
   "metadata": {},
   "outputs": [
    {
     "data": {
      "text/html": [
       "11482577"
      ],
      "text/latex": [
       "11482577"
      ],
      "text/markdown": [
       "11482577"
      ],
      "text/plain": [
       "[1] 11482577"
      ]
     },
     "metadata": {},
     "output_type": "display_data"
    },
    {
     "data": {
      "text/html": [
       "6841"
      ],
      "text/latex": [
       "6841"
      ],
      "text/markdown": [
       "6841"
      ],
      "text/plain": [
       "[1] 6841"
      ]
     },
     "metadata": {},
     "output_type": "display_data"
    }
   ],
   "source": [
    "request_col\n",
    "requestsum"
   ]
  },
  {
   "cell_type": "markdown",
   "id": "f00b2cbb-6f53-46e3-b879-bf2cbce7d21c",
   "metadata": {},
   "source": [
    "Пробуем теперь использовать метод агрегирования на основе параметров связи.\n",
    "\n",
    "Для первой модели параметр связи со второй моделью $\\mu_{\\text{общ}}$ идеально было бы взять равным $\\lambda'=0.54$. Но допустим мы этого не знаем и берем $\\mu_{\\text{общ}}=1$. Конечно, его нужно соизмерять с $\\mu$ и количеством каналов, априори $\\mu_{\\text{общ}}<2\\mu$.\n",
    "\n",
    "Тогда на основе формул (1)-(4) лекции 6 находим:\n",
    "$$P_0=\\left(1+\\frac{K\\lambda}{\\mu_{\\text{общ}}}+\\frac{K(K-1)\\lambda^2}{\\mu_{\\text{общ}}^2}+\\ldots+\\frac{K!\\lambda^K}{\\mu_{\\text{общ}}^K}\\right)^{-1}=\\left(1+\\frac{2\\lambda}{\\mu_{\\text{общ}}}+\\frac{2\\lambda^2}{\\mu_{\\text{общ}}^2}\\right)^{-1}\\approx 0.258$$\n",
    "$$P_1=P_0\\frac{2\\lambda}{\\mu_{\\text{общ}}}\\approx 0.4128$$\n",
    "$$P_2=P_0\\frac{2\\lambda^2}{\\mu_{\\text{общ}}^2}\\approx 0.33$$\n",
    "$$\\ldots$$\n",
    "$$L_{\\text{сист}}=\\sum_{k=1}^K k\\cdot P_k=1\\cdot 0.4128+2\\cdot 0.33\\approx 1.07$$"
   ]
  },
  {
   "cell_type": "markdown",
   "id": "1a3319ee-edcf-407c-a9ed-adc99b24ac92",
   "metadata": {},
   "source": [
    "Конечно, для второй модели оптимально было бы взять $L_\\text{сист}=1.14$, но у нас получилось, как получилось. Переходим ко второй модели.\n",
    "\n",
    "$$\\nu_n=(1-p)\\nu\\cdot \\min{(N,L_{\\text{сист}}-n)}, n=0,\\ldots,L_{\\text{сист}}-1$$\n",
    "$$\\mu_n=\\mu\\cdot \\min{(M, n)}, n=1,2, \\ldots,L_{\\text{сист}}$$"
   ]
  },
  {
   "cell_type": "markdown",
   "id": "aa6e404d-e6fb-4562-bf15-cd1d6ffc6068",
   "metadata": {},
   "source": [
    "$$\\nu_0=(1-p)\\nu\\min(2,1-0)=(1-p)\\nu=0.8\\cdot 1=0.8$$\n",
    "$$\\mu_1=\\mu\\min(2,1)=\\mu=1.2$$\n",
    "$$\\pi_0=\\left(1+\\frac{\\nu_0}{\\mu_1}\\right)^{-1}\\approx 0.6$$\n",
    "$$\\pi_1=\\pi_0\\cdot \\frac{\\nu_0}{\\mu_1}\\approx 0.4$$\n",
    "$$\\mu_{\\text{общ}}=\\sum_{n=1}^{L_{\\text{сист}}}\\pi_n\\cdot \\mu_n=\\pi_1\\cdot \\mu_1=1.2\\cdot 0.4= 0.48$$"
   ]
  },
  {
   "cell_type": "markdown",
   "id": "5e8a6623-ea84-45c6-8766-b4752af330a3",
   "metadata": {},
   "source": [
    "Это уже ближе к $\\mu_{\\text{общ}}=0.54$. Выполним еще одну итерацию."
   ]
  },
  {
   "cell_type": "markdown",
   "id": "2de6b896-0340-431e-846c-b245cca25f8c",
   "metadata": {},
   "source": [
    "$$P_0=\\left(1+\\frac{2\\lambda}{\\mu_{\\text{общ}}}+\\frac{2\\lambda^2}{\\mu_{\\text{общ}}^2}\\right)^{-1}\\approx 0.1011$$\n",
    "$$P_1=P_0\\frac{2\\lambda}{\\mu_{\\text{общ}}}\\approx 0.337$$\n",
    "$$P_2=P_0\\frac{2\\lambda^2}{\\mu_{\\text{общ}}^2}\\approx 0.562$$\n",
    "\n",
    "$$L_{\\text{сист}}=\\sum_{k=1}^K k\\cdot P_k=1\\cdot 0.337+2\\cdot 0.562\\approx 1.461$$\n",
    "\n",
    "Ясно, что если округлять $L_{\\text{сист}}$ до 1, ничего не поменяется и на этом можно остановиться. Но допустим, мы округлим $L_{\\text{сист}}$ до двух:\n",
    "\n",
    "$$\\nu_0=(1-p)\\nu\\min(2,2-0)=(1-p)\\nu=0.8\\cdot 1\\cdot 2=1.6$$\n",
    "$$\\nu_1=(1-p)\\nu\\min(2,1)=0.8$$\n",
    "$$\\mu_1=\\mu\\min(2,1)=\\mu=1.2$$\n",
    "$$\\mu_2=2\\mu=2.4$$\n",
    "$$\\pi_0=\\left(1+\\frac{\\nu_0}{\\mu_1}+\\frac{\\nu_0\\nu_1}{\\mu_1\\mu_2}\\right)^{-1}\\approx 0.36$$\n",
    "$$\\pi_1=\\pi_0\\cdot \\frac{\\nu_0}{\\mu_1}\\approx 0.48$$\n",
    "$$\\pi_2=\\pi_0\\cdot \\frac{\\nu_0\\nu_1}{\\mu_1\\mu_2}\\approx 0.16$$\n",
    "$$\\mu_{\\text{общ}}=\\sum_{n=1}^{L_{\\text{сист}}}\\pi_n\\cdot \\mu_n=\\pi_1\\cdot \\mu_1+\\pi_2\\cdot\\mu_2=1.2\\cdot 0.48+2.4\\cdot 0.16=0.96$$\n",
    "\n",
    "Видно, что это округление существенно сказалось на погрешности $\\mu_{\\text{общ}}$, поэтому правильнее было бы остановиться на предыдущем шаге. "
   ]
  },
  {
   "cell_type": "markdown",
   "id": "8e0bedf6-bb77-4e77-aa8c-7537a5a81c5f",
   "metadata": {},
   "source": [
    "Итак, оценим параметры эффективности системы:\n",
    "\n",
    "- **среднее число заявок в системе** $L_{\\text{сист}}\\approx 1.461$\n",
    "- **абсолютная пропускная способность** $\\lambda'=\\mu_{\\text{общ}}\\approx 0.48$\n",
    "- **среднее время пребывания заявки в системе** $T_{\\text{сист}}=\\frac{L_{\\text{сист}}}{\\Lambda}$, где $\\Lambda$ расчитывается аналогичным образом $\\Lambda=(k-L_{\\text{сист}})\\cdot \\lambda\\approx (2-1.461)\\cdot 0.8\\approx 0.4312$, $T_{\\text{сист}}=1.461/0.4312\\approx 3.39$\n",
    "\n",
    "Окончательно, получаем следующие результаты:\n",
    "\n",
    "|$L_{\\text{сист}}$|$L_{\\text{сист}}^{\\text{связи}}$|$\\lambda'$|$\\lambda'^{\\text{связи}}$|$T_{\\text{сист}}$|$T_{\\text{сист}}^{\\text{связи}}$|\n",
    "|--|--|--|--|--|--|\n",
    "|1.14|1.461|0.55|0.48|1.67|3.39|"
   ]
  },
  {
   "cell_type": "markdown",
   "id": "48c4c796-9dbf-4aba-8c2d-83ab23482c34",
   "metadata": {},
   "source": [
    "## Анализ погрешностей на основе принципа эквивалентности потоков"
   ]
  },
  {
   "cell_type": "markdown",
   "id": "3efe7c57-0f20-4c6d-90b9-8d7b2f22232b",
   "metadata": {},
   "source": [
    "Проведем аналогичный анализ с использованием метода эквивалентности потоков. \n",
    "\n",
    "В данном случае мы дожны перебрать все случаи $u=1,2$:\n",
    "\n",
    "\n",
    "$$\\nu_n=(1-p)\\nu\\cdot \\min{(N,u-n)}, n=0,1$$\n",
    "$$\\mu_n=\\mu\\cdot \\min{(M, n)}, n=1,2$$\n",
    "\n",
    "$$\\pi_0=\\left(1+\\frac{\\nu_0}{\\mu_1}+\\frac{\\nu_0\\nu_1}{\\mu_1\\mu_2}+\\ldots\\right)^{-1}$$\n",
    "$$\\pi_1=\\pi_0\\cdot \\frac{\\nu_0}{\\mu_1}$$\n",
    "$$\\pi_2=\\pi_0\\cdot \\frac{\\nu_0\\nu_1}{\\mu_1\\mu_2}$$\n",
    "$$\\ldots$$\n",
    "$$\\mu(u)=\\sum_{n=1}^{u}\\mu_n\\pi_n$$\n",
    "\n",
    "Но фактически эти расчеты мы уже выполняли в предыдущем методе (первая итерация уточнения $\\mu_{\\text{общ}}=0.48$, вторая итерация уточнения $\\mu_{\\text{общ}}=0.96$):\n",
    "\n",
    "$$\\mu(1)=0.48$$\n",
    "$$\\mu(2)=0.96$$\n",
    "\n",
    "Переходим к первой модели:\n",
    "\n",
    "$$P_0=\\left(1+\\frac{2\\lambda}{\\mu(1)}+\\frac{2\\lambda^2}{\\mu(1)\\mu(2)}\\right)^{-1}\\approx 0.176$$\n",
    "$$P_1=P_0\\frac{2\\lambda}{\\mu(1)}\\approx 0.587$$\n",
    "$$P_2=P_0\\frac{2\\lambda^2}{\\mu(1)\\mu(2)}\\approx 0.235$$\n",
    "$$\\ldots$$\n",
    "$$L_{\\text{сист}}=\\sum_{k=1}^2 k\\cdot P_k\\approx 1.057$$\n",
    "$$T_{\\text{сист}}=\\frac{L_{\\text{сист}}}{\\lambda(K-L_{\\text{сист}})}\\approx 1.4$$\n",
    "$$\\mu_{\\text{ср}}=\\sum_{k=1}^2\\mu(n)\\cdot P_n\\approx 0.507$$\n",
    "\n"
   ]
  },
  {
   "cell_type": "markdown",
   "id": "dfd51fe9-e1a3-496e-b807-41961660b55e",
   "metadata": {},
   "source": [
    "Как видно, результаты вполне близки к точным значениям:\n",
    "\n",
    "|$L_{\\text{сист}}$|$L_{\\text{сист}}^{\\text{поток}}$|$\\lambda'$|$\\lambda'^{\\text{поток}}$|$T_{\\text{сист}}$|$T_{\\text{сист}}^{\\text{поток}}$|\n",
    "|--|--|--|--|--|--|\n",
    "|1.14|1.057|0.55|0.507|1.67|1.4|"
   ]
  },
  {
   "cell_type": "markdown",
   "id": "a7657742-d016-4ba9-ad23-2814e3a4b4e3",
   "metadata": {},
   "source": [
    "## Метод укрупнения состояний марковских моделей"
   ]
  },
  {
   "cell_type": "markdown",
   "id": "b8966ece-abaa-4596-aada-8c53b4bf9a2d",
   "metadata": {},
   "source": [
    "Рассмотрим еще раз задачу 4 из лекции 5:\n",
    "\n",
    "Одноядерный микропроцессор ставит выполнямые задачи в очередь с ограничением не больше двух задач, иногда микропроцессор переключается на выполнение своих задач. Задача, которая выполняется в этот момент, помещается в очередь, в противном случае убивается. Интенсивность потока задач $\\lambda$, потока выполнения задач $\\mu$, интенсивность перечлючения операционной системы на выполнение своих задач $\\nu$, интенсивность выполнения своих задач $\\gamma$. Определить возможные состояния системы и финальные вероятности нахождения в них.\n",
    "\n",
    "Граф состояний:\n",
    "\n",
    "$S_0$ - нет выполняемых задач, микропроцессор готов выполнять внешние задачи;\n",
    "\n",
    "$S_1$ - микропроцессор занят выполнением внешней задачи, очереди нет;\n",
    "\n",
    "$S_2$ - микропроцессор занят выполнением внешней задачи, в очереди одна задача;\n",
    "\n",
    "$S_3$ - микропроцессор занят выполнением внешней задачи, в очереди две задачи;\n",
    "\n",
    "$S_4$ - микропроцессор переключился на свои задачи, в очереди нет задач;\n",
    "\n",
    "$S_5$ - микропроцессор переключился на свои задачи, в очереди одна задача;\n",
    "\n",
    "$S_6$ - микропроцессор переключился на свои задачи, в очереди две задачи.\n",
    "\n",
    "<img src=\"dia3.jpeg\">\n"
   ]
  },
  {
   "cell_type": "markdown",
   "id": "9039dfdf-f136-404d-aeaa-2bf7966f248b",
   "metadata": {},
   "source": [
    "Вместо детального решения данной задачи, рассмотрим так называемый метод укрупнения состояний. Суть метода состоит в том, что на графе состояний несколько состояний объединяют в одно. Иногда такое укрупнения оказывается полностью эквивалентным исходному графу: система уравнений относительно вероятностей состояний допускает сложение некоторой группы уравнений с вынесением за скобки общих множителей (интенсивностей перехода). В результате в скобках получается сумма вероятностей некоторой группы состояний. Эта группа и объявляется вероятностью макросостояния (укрупненного состояния). Часто прибегают к неполному эквивалентированию, тогда речь идет о квазиэквивалентном укрупнении. Важно отметить, что этот подход касается именно устоявшихся, стационарных состояний.\n",
    "\n",
    "Попробуем выполним горизонтальное объединение состояний $S_0, S_1, S_2$ в одно укрупненное состояние $W_0$, а также объединение состояний $S_4, S_5, S_6$ в одно укрупненное состояние $W_1$. В этом случае граф состояний получит следующий вид:\n",
    "\n",
    "<img src=\"dia4.jpeg\">\n",
    "\n",
    "Исходная система уравнений имеет, как показано в лекции 5, следующий вид:"
   ]
  },
  {
   "cell_type": "markdown",
   "id": "f553e9c3-e5b6-410b-8762-b452a5218c17",
   "metadata": {},
   "source": [
    "$$-(\\lambda+\\nu)P_0+\\mu\\cdot P_1+\\gamma\\cdot P_4=0\\tag{1}$$\n",
    "$$\\lambda\\cdot P_0-(\\lambda+\\mu+\\nu)\\cdot P_1+\\mu\\cdot P_2+\\gamma\\cdot P_5=0\\tag{2}$$\n",
    "$$\\lambda\\cdot P_1-(\\lambda+\\mu+\\nu)\\cdot P_2+\\mu\\cdot P_3+\\gamma\\cdot P_6=0\\tag{3}$$\n",
    "$$\\lambda\\cdot P_2-(\\mu+\\nu)\\cdot P_3=0\\tag{4}$$\n",
    "$$\\nu\\cdot P_0-(\\lambda+\\gamma)\\cdot P_4=0\\tag{5}$$\n",
    "$$\\nu\\cdot P_1+\\lambda\\cdot P_4-(\\lambda+\\gamma)\\cdot P_5=0\\tag{6}$$\n",
    "$$\\nu\\cdot P_2+\\nu\\cdot P_3+\\lambda\\cdot P_5-\\gamma\\cdot P_6=0\\tag{7}$$"
   ]
  },
  {
   "cell_type": "markdown",
   "id": "b79c1d94-ec23-4a36-b175-81eaf0266c19",
   "metadata": {},
   "source": [
    "Для укрупненного графа состояний система примет следующий вид:\n",
    "$$-(\\nu+\\lambda)\\cdot P_0^h+\\gamma\\cdot P_1^h+\\mu\\cdot P_3=0\\tag{8}$$\n",
    "$$-\\gamma\\cdot P_1^h+\\nu\\cdot P_0^h+\\nu\\cdot P_3=0\\tag{9}$$\n",
    "$$-(\\mu+\\nu)\\cdot P_3+\\lambda\\cdot P_0^h=0\\tag{10}$$\n",
    "\n",
    "Таким образом, вместо 7 уравнений (6 линейно независимых) получили только 3 (2 линейно независимых) уравнения. Причем фактически укрупнение состояний сводится к тому, что мы вместо вероятностей находиться отдельно в каждом из $S_0, S_1, S_2$ состояний определяем вероятность $P_0^h$ находиться или в $S_0$, или в $S_1$, или в $S_2$, которая конечно равна сумме вероятностей $P_0+P_1+P_2$. Аналогично, $P_1^h=P_4+P_5+P_6$. Таким образом, получаем уравнения связи с исходной задачей:"
   ]
  },
  {
   "cell_type": "markdown",
   "id": "0f08817a-c55b-45ea-8d53-8ea0fbc285bc",
   "metadata": {},
   "source": [
    "$$P_0^h=P_0+P_1+P_2\\tag{11}$$\n",
    "$$P_1^h=P_4+P_5+P_6\\tag{12}$$"
   ]
  },
  {
   "cell_type": "markdown",
   "id": "61e61f56-3025-4c4d-a018-8f3bccbebad1",
   "metadata": {},
   "source": [
    "Заметим, что складывая уравнения (1)+(2)+(3)+(4) получим уравнение (9):"
   ]
  },
  {
   "cell_type": "code",
   "execution_count": 9,
   "id": "a4c3e478-fe56-4e75-9122-e92a48a77db1",
   "metadata": {},
   "outputs": [
    {
     "data": {
      "text/latex": [
       "\\[\\tag{${\\it \\%o}_{14}$}P_{6}\\,\\gamma+P_{5}\\,\\gamma+P_{4}\\,\\gamma-P_{3}\\,\\nu-P_{2}\\,\\nu-P_{1}\\,\\nu-P_{0}\\,\\nu\\]"
      ],
      "text/plain": [
       "(%o14)  P6 gamma + P5 gamma + P4 gamma - P3 nu - P2 nu - P1 nu - P0 nu"
      ],
      "text/x-maxima": [
       "P6*gamma+P5*gamma+P4*gamma-P3*nu-P2*nu-P1*nu-P0*nu"
      ]
     },
     "execution_count": 9,
     "metadata": {},
     "output_type": "execute_result"
    }
   ],
   "source": [
    "kill(lambda,nu,mu,gamma)$\n",
    "expand(-(lambda+nu)*P0+mu*P1+gamma*P4+\n",
    "      lambda*P0-(lambda+mu+nu)*P1+mu*P2+gamma*P5+\n",
    "      lambda*P1-(lambda+mu+nu)*P2+mu*P3+gamma*P6+\n",
    "      lambda*P2-(mu+nu)*P3);"
   ]
  },
  {
   "cell_type": "markdown",
   "id": "56d2b369-c8b1-4484-9251-1546d549a77e",
   "metadata": {},
   "source": [
    "Или, складывая (5)+(6)+(7) тоже получаем (9):"
   ]
  },
  {
   "cell_type": "code",
   "execution_count": 10,
   "id": "941fc6c2-1bf8-4408-9a77-5582761e1137",
   "metadata": {},
   "outputs": [
    {
     "data": {
      "text/latex": [
       "\\[\\tag{${\\it \\%o}_{15}$}-P_{6}\\,\\gamma-P_{5}\\,\\gamma-P_{4}\\,\\gamma+P_{3}\\,\\nu+P_{2}\\,\\nu+P_{1}\\,\\nu+P_{0}\\,\\nu\\]"
      ],
      "text/plain": [
       "(%o15) (- P6 gamma) - P5 gamma - P4 gamma + P3 nu + P2 nu + P1 nu + P0 nu"
      ],
      "text/x-maxima": [
       "(-P6*gamma)-P5*gamma-P4*gamma+P3*nu+P2*nu+P1*nu+P0*nu"
      ]
     },
     "execution_count": 10,
     "metadata": {},
     "output_type": "execute_result"
    }
   ],
   "source": [
    "expand(nu*P0-(lambda+gamma)*P4+\n",
    "      nu*P1+lambda*P4-(lambda+gamma)*P5+\n",
    "      nu*P2+nu*P3+lambda*P5-gamma*P6);"
   ]
  },
  {
   "cell_type": "markdown",
   "id": "82c40f8e-eb41-4a12-a9c2-6cd3f4938201",
   "metadata": {},
   "source": [
    "Если сложить (8)+(10), то тоже получаем (9)."
   ]
  },
  {
   "cell_type": "markdown",
   "id": "2129d2d0-a61a-47c2-8a32-f2366011fc47",
   "metadata": {},
   "source": [
    "Однако система (1)-(7) не будет полностью эквивалентна системе (8)-(12), поскольку сопоставляя уравнения (10) и (4) видно, что $P_0^h$ фактически совпадает с  $P_2$, чего по факту быть не может.\n",
    "\n",
    "Это подтверждают и расчеты."
   ]
  },
  {
   "cell_type": "markdown",
   "id": "12f64f4d-8110-4c29-801d-2ab2bc201bcb",
   "metadata": {},
   "source": [
    "Расчеты вероятностей $P_0,P_1,\\ldots, P_6$ были выполнены в лекции 5:"
   ]
  },
  {
   "cell_type": "code",
   "execution_count": 1,
   "id": "0c345796-6423-49cd-b2fa-a296086d3aa0",
   "metadata": {},
   "outputs": [
    {
     "name": "stdout",
     "output_type": "stream",
     "text": [
      "\n",
      "rat: replaced -1.5 by -3/2 = -1.5\n",
      "\n",
      "rat: replaced 0.8 by 4/5 = 0.8\n",
      "\n",
      "rat: replaced 1.2 by 6/5 = 1.2\n",
      "\n",
      "rat: replaced -2.3 by -23/10 = -2.3\n",
      "\n",
      "rat: replaced 0.8 by 4/5 = 0.8\n",
      "\n",
      "rat: replaced 1.2 by 6/5 = 1.2\n",
      "\n",
      "rat: replaced -2.3 by -23/10 = -2.3\n",
      "\n",
      "rat: replaced 0.8 by 4/5 = 0.8\n",
      "\n",
      "rat: replaced 1.2 by 6/5 = 1.2\n",
      "\n",
      "rat: replaced -1.3 by -13/10 = -1.3\n",
      "\n",
      "rat: replaced 0.5 by 1/2 = 0.5\n",
      "\n",
      "rat: replaced -2.2 by -11/5 = -2.2\n",
      "\n",
      "rat: replaced 0.5 by 1/2 = 0.5\n",
      "\n",
      "rat: replaced -2.2 by -11/5 = -2.2\n"
     ]
    },
    {
     "data": {
      "text/latex": [
       "\\[\\tag{${\\it \\%o}_{4}$}\\left[ \\left[ P_{0}=\\frac{402688}{3951293} , P_{1}=\\frac{617760}{3951293} , P_{2}=\\frac{999700}{3951293} , P_{3}=\\frac{769000}{3951293} , P_{4}=\\frac{91520}{3951293} , P_{5}=\\frac{182000}{3951293} , P_{6}=\\frac{888625}{3951293} \\right]  \\right] \\]"
      ],
      "text/plain": [
       "             402688        617760        999700        769000         91520\n",
       "(%o4) [[P0 = -------, P1 = -------, P2 = -------, P3 = -------, P4 = -------, \n",
       "             3951293       3951293       3951293       3951293       3951293\n",
       "                                                        182000        888625\n",
       "                                                   P5 = -------, P6 = -------]]\n",
       "                                                        3951293       3951293"
      ],
      "text/x-maxima": [
       "[[P0 = 402688/3951293,P1 = 617760/3951293,P2 = 999700/3951293,\n",
       "  P3 = 769000/3951293,P4 = 91520/3951293,P5 = 182000/3951293,\n",
       "  P6 = 888625/3951293]]"
      ]
     },
     "execution_count": 1,
     "metadata": {},
     "output_type": "execute_result"
    }
   ],
   "source": [
    "lambda:1$ nu:0.5$ mu:0.8$ gamma:1.2$\n",
    "solve([-(lambda+nu)*P0+mu*P1+gamma*P4=0,\n",
    "      lambda*P0-(lambda+mu+nu)*P1+mu*P2+gamma*P5=0,\n",
    "      lambda*P1-(lambda+mu+nu)*P2+mu*P3+gamma*P6=0,\n",
    "      lambda*P2-(mu+nu)*P3=0,\n",
    "      nu*P0-(lambda+gamma)*P4=0,\n",
    "      nu*P1+lambda*P4-(lambda+gamma)*P5=0,\n",
    "      P0+P1+P2+P3+P4+P5+P6=1],\n",
    "      [P0,P1,P2,P3,P4,P5,P6]);"
   ]
  },
  {
   "cell_type": "code",
   "execution_count": 2,
   "id": "d0c0d393-44aa-484b-80da-69ca40151419",
   "metadata": {},
   "outputs": [
    {
     "data": {
      "text/latex": [
       "\\[\\tag{${\\it \\%o}_{5}$}\\left[ \\left[ P_{0}=0.1019129687421307 , P_{1}=0.1563437588657688 , P_{2}=0.2530057882318522 , P_{3}=0.1946198371014248 , P_{4}=0.02316203835048426 , P_{5}=0.04606087171971301 , P_{6}=0.2248947369886262 \\right]  \\right] \\]"
      ],
      "text/plain": [
       "(%o5) [[P0 = 0.1019129687421307, P1 = 0.1563437588657688, \n",
       "P2 = 0.2530057882318522, P3 = 0.1946198371014248, P4 = 0.02316203835048426, \n",
       "P5 = 0.04606087171971301, P6 = 0.2248947369886262]]"
      ],
      "text/x-maxima": [
       "[[P0 = 0.1019129687421307,P1 = 0.1563437588657688,P2 = 0.2530057882318522,\n",
       "  P3 = 0.1946198371014248,P4 = 0.02316203835048426,P5 = 0.04606087171971301,\n",
       "  P6 = 0.2248947369886262]]"
      ]
     },
     "execution_count": 2,
     "metadata": {},
     "output_type": "execute_result"
    }
   ],
   "source": [
    "float(%);"
   ]
  },
  {
   "cell_type": "code",
   "execution_count": 11,
   "id": "cd1ddda9-e324-4959-b796-212afb9956da",
   "metadata": {},
   "outputs": [
    {
     "data": {
      "text/html": [
       "0.511262515839752"
      ],
      "text/latex": [
       "0.511262515839752"
      ],
      "text/markdown": [
       "0.511262515839752"
      ],
      "text/plain": [
       "[1] 0.5112625"
      ]
     },
     "metadata": {},
     "output_type": "display_data"
    },
    {
     "data": {
      "text/html": [
       "0.294117647058823"
      ],
      "text/latex": [
       "0.294117647058823"
      ],
      "text/markdown": [
       "0.294117647058823"
      ],
      "text/plain": [
       "[1] 0.2941176"
      ]
     },
     "metadata": {},
     "output_type": "display_data"
    }
   ],
   "source": [
    "#P0h\n",
    "0.1019129687421307+0.1563437588657688+0.2530057882318522;\n",
    "#P1h\n",
    "0.02316203835048426+0.04606087171971301+0.2248947369886262;"
   ]
  },
  {
   "cell_type": "code",
   "execution_count": null,
   "id": "37a37cb6-53a6-4f9d-9a1f-d93a95e87a41",
   "metadata": {},
   "outputs": [],
   "source": []
  },
  {
   "cell_type": "code",
   "execution_count": 3,
   "id": "9e3e3e68-b352-416f-b405-5b13412412d3",
   "metadata": {},
   "outputs": [
    {
     "name": "stdout",
     "output_type": "stream",
     "text": [
      "\n",
      "rat: replaced -1.5 by -3/2 = -1.5\n",
      "\n",
      "rat: replaced 1.2 by 6/5 = 1.2\n",
      "\n",
      "rat: replaced 0.8 by 4/5 = 0.8\n",
      "\n",
      "rat: replaced 0.5 by 1/2 = 0.5\n",
      "\n",
      "rat: replaced -1.2 by -6/5 = -1.2\n",
      "\n",
      "rat: replaced 0.5 by 1/2 = 0.5\n"
     ]
    },
    {
     "data": {
      "text/latex": [
       "\\[\\tag{${\\it \\%o}_{6}$}\\left[ \\left[ {\\it P0h}=\\frac{156}{391} , {\\it P1h}=\\frac{5}{17} , P_{3}=\\frac{120}{391} \\right]  \\right] \\]"
      ],
      "text/plain": [
       "                               156        5        120\n",
       "(%o6)                  [[P0h = ---, P1h = --, P3 = ---]]\n",
       "                               391        17       391"
      ],
      "text/x-maxima": [
       "[[P0h = 156/391,P1h = 5/17,P3 = 120/391]]"
      ]
     },
     "execution_count": 3,
     "metadata": {},
     "output_type": "execute_result"
    }
   ],
   "source": [
    "solve([-(lambda+nu)*P0h+gamma*P1h+mu*P3=0, \n",
    "       -gamma*P1h+nu*P0h+nu*P3=0,\n",
    "       P0h+P1h+P3=1],\n",
    "       [P0h,P1h,P3]);"
   ]
  },
  {
   "cell_type": "code",
   "execution_count": 4,
   "id": "c36437d4-a295-4db0-a040-69222eca8061",
   "metadata": {},
   "outputs": [
    {
     "data": {
      "text/latex": [
       "\\[\\tag{${\\it \\%o}_{7}$}\\left[ \\left[ {\\it P0h}=0.3989769820971867 , {\\it P1h}=0.2941176470588235 , P_{3}=0.3069053708439898 \\right]  \\right] \\]"
      ],
      "text/plain": [
       "(%o7) [[P0h = 0.3989769820971867, P1h = 0.2941176470588235, \n",
       "                                                      P3 = 0.3069053708439898]]"
      ],
      "text/x-maxima": [
       "[[P0h = 0.3989769820971867,P1h = 0.2941176470588235,P3 = 0.3069053708439898]]"
      ]
     },
     "execution_count": 4,
     "metadata": {},
     "output_type": "execute_result"
    }
   ],
   "source": [
    "float(%);"
   ]
  },
  {
   "cell_type": "markdown",
   "id": "7317941a-824d-4f16-9e76-080f706f6f3b",
   "metadata": {},
   "source": [
    "Правильно было бы сказать, что такое укрупнение состояний оказалось некорректным. Это произошло из-за неоднородной структуры графа состояний. \n",
    "\n",
    "Рассмотрим однородную структуру:\n",
    "\n",
    "<img src=\"dia5.jpeg\">"
   ]
  },
  {
   "cell_type": "markdown",
   "id": "fb0da9bf-4990-4007-ad78-128074cd55f4",
   "metadata": {},
   "source": [
    "Система уравнений: \n",
    "\n",
    "$$-(\\lambda+\\nu)P_0+\\mu\\cdot P_1+\\gamma\\cdot P_4=0\\tag{13}$$\n",
    "$$\\lambda\\cdot P_0-(\\lambda+\\mu+\\nu)\\cdot P_1+\\mu\\cdot P_2+\\gamma\\cdot P_5=0\\tag{14}$$\n",
    "$$\\lambda\\cdot P_1-(\\lambda+\\mu+\\nu)\\cdot P_2+\\mu\\cdot P_3+\\gamma\\cdot P_6=0\\tag{15}$$\n",
    "$$\\lambda\\cdot P_2-(\\mu+\\nu)\\cdot P_3+\\gamma\\cdot P_7=0\\tag{16}$$\n",
    "$$\\nu\\cdot P_0-(\\lambda+\\gamma)\\cdot P_4=0\\tag{17}$$\n",
    "$$\\nu\\cdot P_1+\\lambda\\cdot P_4-(\\lambda+\\gamma)\\cdot P_5=0\\tag{18}$$\n",
    "$$\\nu\\cdot P_2+\\lambda\\cdot P_5-(\\gamma+\\lambda)\\cdot P_6=0\\tag{19}$$\n",
    "$$\\nu\\cdot P_3+\\lambda\\cdot P_6-\\gamma\\cdot P_7=0\\tag{20}$$"
   ]
  },
  {
   "cell_type": "code",
   "execution_count": 17,
   "id": "ff47ee0b-bdf3-43df-8a60-3352d12aa874",
   "metadata": {},
   "outputs": [
    {
     "name": "stdout",
     "output_type": "stream",
     "text": [
      "\n",
      "rat: replaced -1.5 by -3/2 = -1.5\n",
      "\n",
      "rat: replaced 0.8 by 4/5 = 0.8\n",
      "\n",
      "rat: replaced 1.2 by 6/5 = 1.2\n",
      "\n",
      "rat: replaced -2.3 by -23/10 = -2.3\n",
      "\n",
      "rat: replaced 0.8 by 4/5 = 0.8\n",
      "\n",
      "rat: replaced 1.2 by 6/5 = 1.2\n",
      "\n",
      "rat: replaced -2.3 by -23/10 = -2.3\n",
      "\n",
      "rat: replaced 0.8 by 4/5 = 0.8\n",
      "\n",
      "rat: replaced 1.2 by 6/5 = 1.2\n",
      "\n",
      "rat: replaced -1.3 by -13/10 = -1.3\n",
      "\n",
      "rat: replaced 1.2 by 6/5 = 1.2\n",
      "\n",
      "rat: replaced 0.5 by 1/2 = 0.5\n",
      "\n",
      "rat: replaced -2.2 by -11/5 = -2.2\n",
      "\n",
      "rat: replaced 0.5 by 1/2 = 0.5\n",
      "\n",
      "rat: replaced -2.2 by -11/5 = -2.2\n",
      "\n",
      "rat: replaced 0.5 by 1/2 = 0.5\n",
      "\n",
      "rat: replaced -2.2 by -11/5 = -2.2\n"
     ]
    },
    {
     "data": {
      "text/latex": [
       "\\[\\tag{${\\it \\%o}_{35}$}\\left[ \\left[ P_{0}=\\frac{2725888}{35071493} , P_{1}=\\frac{4181760}{35071493} , P_{2}=\\frac{6767200}{35071493} , P_{3}=\\frac{11081500}{35071493} , P_{4}=\\frac{619520}{35071493} , P_{5}=\\frac{1232000}{35071493} , P_{6}=\\frac{2098000}{35071493} , P_{7}=\\frac{6365625}{35071493} \\right]  \\right] \\]"
      ],
      "text/plain": [
       "              2725888        4181760        6767200        11081500\n",
       "(%o35) [[P0 = --------, P1 = --------, P2 = --------, P3 = --------, \n",
       "              35071493       35071493       35071493       35071493\n",
       "                         619520        1232000        2098000        6365625\n",
       "                   P4 = --------, P5 = --------, P6 = --------, P7 = --------]]\n",
       "                        35071493       35071493       35071493       35071493"
      ],
      "text/x-maxima": [
       "[[P0 = 2725888/35071493,P1 = 4181760/35071493,P2 = 6767200/35071493,\n",
       "  P3 = 11081500/35071493,P4 = 619520/35071493,P5 = 1232000/35071493,\n",
       "  P6 = 2098000/35071493,P7 = 6365625/35071493]]"
      ]
     },
     "execution_count": 17,
     "metadata": {},
     "output_type": "execute_result"
    }
   ],
   "source": [
    "lambda:1$ nu:0.5$ mu:0.8$ gamma:1.2$\n",
    "solve([-(lambda+nu)*P0+mu*P1+gamma*P4=0,\n",
    "      lambda*P0-(lambda+mu+nu)*P1+mu*P2+gamma*P5=0,\n",
    "      lambda*P1-(lambda+mu+nu)*P2+mu*P3+gamma*P6=0,\n",
    "      lambda*P2-(mu+nu)*P3+gamma*P7=0,\n",
    "      nu*P0-(lambda+gamma)*P4=0,\n",
    "      nu*P1+lambda*P4-(lambda+gamma)*P5=0,\n",
    "      nu*P2+lambda*P5-(gamma+lambda)*P6=0,\n",
    "      P0+P1+P2+P3+P4+P5+P6+P7=1],\n",
    "      [P0,P1,P2,P3,P4,P5,P6,P7]);"
   ]
  },
  {
   "cell_type": "code",
   "execution_count": 18,
   "id": "3a9da25d-5421-4a52-932f-cacadf8ab6cb",
   "metadata": {},
   "outputs": [
    {
     "data": {
      "text/latex": [
       "\\[\\tag{${\\it \\%o}_{36}$}\\left[ \\left[ P_{0}=0.07772375130993141 , P_{1}=0.1192353003050084 , P_{2}=0.1929544316804534 , P_{3}=0.3159688696457832 , P_{4}=0.01766448893407532 , P_{5}=0.03512824503935433 , P_{6}=0.0598206640361732 , P_{7}=0.1815042490492207 \\right]  \\right] \\]"
      ],
      "text/plain": [
       "(%o36) [[P0 = 0.07772375130993141, P1 = 0.1192353003050084, \n",
       "P2 = 0.1929544316804534, P3 = 0.3159688696457832, P4 = 0.01766448893407532, \n",
       "P5 = 0.03512824503935433, P6 = 0.0598206640361732, P7 = 0.1815042490492207]]"
      ],
      "text/x-maxima": [
       "[[P0 = 0.07772375130993141,P1 = 0.1192353003050084,P2 = 0.1929544316804534,\n",
       "  P3 = 0.3159688696457832,P4 = 0.01766448893407532,P5 = 0.03512824503935433,\n",
       "  P6 = 0.0598206640361732,P7 = 0.1815042490492207]]"
      ]
     },
     "execution_count": 18,
     "metadata": {},
     "output_type": "execute_result"
    }
   ],
   "source": [
    "float(%);"
   ]
  },
  {
   "cell_type": "markdown",
   "id": "0e613c16-1b38-4613-b757-778dd0296c1a",
   "metadata": {},
   "source": [
    "Сложим все уравнения (13)-(16) или (17)-(20):"
   ]
  },
  {
   "cell_type": "code",
   "execution_count": 21,
   "id": "1c05a9c1-0377-4622-94bd-fbd52828d5e5",
   "metadata": {},
   "outputs": [
    {
     "data": {
      "text/latex": [
       "\\[\\tag{${\\it \\%o}_{40}$}P_{7}\\,\\gamma+P_{6}\\,\\gamma+P_{5}\\,\\gamma+P_{4}\\,\\gamma-P_{3}\\,\\nu-P_{2}\\,\\nu-P_{1}\\,\\nu-P_{0}\\,\\nu\\]"
      ],
      "text/plain": [
       "(%o40) P7 gamma + P6 gamma + P5 gamma + P4 gamma - P3 nu - P2 nu - P1 nu\n",
       "                                                                        - P0 nu"
      ],
      "text/x-maxima": [
       "P7*gamma+P6*gamma+P5*gamma+P4*gamma-P3*nu-P2*nu-P1*nu-P0*nu"
      ]
     },
     "execution_count": 21,
     "metadata": {},
     "output_type": "execute_result"
    }
   ],
   "source": [
    "kill(lambda,mu,nu,gamma)$\n",
    "expand(-(lambda+nu)*P0+mu*P1+gamma*P4+\n",
    "      lambda*P0-(lambda+mu+nu)*P1+mu*P2+gamma*P5+\n",
    "      lambda*P1-(lambda+mu+nu)*P2+mu*P3+gamma*P6+\n",
    "      lambda*P2-(mu+nu)*P3+gamma*P7);"
   ]
  },
  {
   "cell_type": "code",
   "execution_count": 22,
   "id": "aca525cd-95ba-4954-b338-92d7467c677d",
   "metadata": {},
   "outputs": [
    {
     "data": {
      "text/latex": [
       "\\[\\tag{${\\it \\%o}_{42}$}-P_{7}\\,\\gamma-P_{6}\\,\\gamma-P_{5}\\,\\gamma-P_{4}\\,\\gamma+P_{3}\\,\\nu+P_{2}\\,\\nu+P_{1}\\,\\nu+P_{0}\\,\\nu\\]"
      ],
      "text/plain": [
       "(%o42) (- P7 gamma) - P6 gamma - P5 gamma - P4 gamma + P3 nu + P2 nu + P1 nu\n",
       "                                                                        + P0 nu"
      ],
      "text/x-maxima": [
       "(-P7*gamma)-P6*gamma-P5*gamma-P4*gamma+P3*nu+P2*nu+P1*nu+P0*nu"
      ]
     },
     "execution_count": 22,
     "metadata": {},
     "output_type": "execute_result"
    }
   ],
   "source": [
    "kill(lambda,mu,nu,gamma)$\n",
    "expand(nu*P0-(lambda+gamma)*P4+\n",
    "      nu*P1+lambda*P4-(lambda+gamma)*P5+\n",
    "      nu*P2+lambda*P5-(gamma+lambda)*P6+\n",
    "      nu*P3+lambda*P6-gamma*P7);"
   ]
  },
  {
   "cell_type": "markdown",
   "id": "e37a0965-3d7f-4a6d-918f-fca3fadf7594",
   "metadata": {},
   "source": [
    "Фактически получаем эквивалентные уравнения:\n",
    "$$\\gamma\\cdot (P_4+P_5+P_6+P_7)-\\nu\\cdot (P_0+P_1+P_2+P_3)=0$$\n",
    "$$-\\gamma\\cdot (P_4+P_5+P_6+P_7)+\\nu\\cdot (P_0+P_1+P_2+P_3)=0$$\n",
    "\n",
    "Это соответствует простейшему графу состояний:\n",
    "\n",
    "<img src=\"dia6.jpeg\">\n",
    "\n",
    "$$\\gamma\\cdot P_1^h-\\nu\\cdot P_0^h=0$$\n",
    "$$P_0^h+P_1^h=1$$\n",
    "$$P_0^h=P_0+P_1+P_2+P_3$$\n",
    "$$P_1^h=P_4+P_5+P_6+P_7$$"
   ]
  },
  {
   "cell_type": "markdown",
   "id": "7bd2ec75-3cd4-4f9e-a05a-44fa8affaace",
   "metadata": {},
   "source": [
    "Убеждаемся в полной эквивалентности укрупненных состояний:"
   ]
  },
  {
   "cell_type": "code",
   "execution_count": 27,
   "id": "dd356d0f-7f21-47fe-a59e-ed618957d84a",
   "metadata": {},
   "outputs": [
    {
     "name": "stdout",
     "output_type": "stream",
     "text": [
      "\n",
      "rat: replaced -0.5 by -1/2 = -0.5\n",
      "\n",
      "rat: replaced 1.2 by 6/5 = 1.2\n"
     ]
    },
    {
     "data": {
      "text/latex": [
       "\\[\\tag{${\\it \\%o}_{52}$}\\left[ \\left[ {\\it P0h}=\\frac{12}{17} , {\\it P1h}=\\frac{5}{17} \\right]  \\right] \\]"
      ],
      "text/plain": [
       "                                    12        5\n",
       "(%o52)                      [[P0h = --, P1h = --]]\n",
       "                                    17        17"
      ],
      "text/x-maxima": [
       "[[P0h = 12/17,P1h = 5/17]]"
      ]
     },
     "execution_count": 27,
     "metadata": {},
     "output_type": "execute_result"
    }
   ],
   "source": [
    "lambda:1$ nu:0.5$ mu:0.8$ gamma:1.2$\n",
    "solve([gamma*P1h-nu*P0h=0,P0h+P1h=1],[P0h,P1h]);"
   ]
  },
  {
   "cell_type": "code",
   "execution_count": 28,
   "id": "f1bc75ad-2179-4342-b961-ce7988ea55ee",
   "metadata": {},
   "outputs": [
    {
     "data": {
      "text/latex": [
       "\\[\\tag{${\\it \\%o}_{53}$}\\left[ \\left[ {\\it P0h}=0.7058823529411765 , {\\it P1h}=0.2941176470588235 \\right]  \\right] \\]"
      ],
      "text/plain": [
       "(%o53)      [[P0h = 0.7058823529411765, P1h = 0.2941176470588235]]"
      ],
      "text/x-maxima": [
       "[[P0h = 0.7058823529411765,P1h = 0.2941176470588235]]"
      ]
     },
     "execution_count": 28,
     "metadata": {},
     "output_type": "execute_result"
    }
   ],
   "source": [
    "float(%);"
   ]
  },
  {
   "cell_type": "code",
   "execution_count": 18,
   "id": "bc8f0e2c-ffda-4e58-917b-248a8f68e66b",
   "metadata": {},
   "outputs": [
    {
     "data": {
      "text/latex": [
       "\\[\\tag{${\\it \\%o}_{36}$}\\left[ \\left[ P_{0}=0.07772375130993141 , P_{1}=0.1192353003050084 , P_{2}=0.1929544316804534 , P_{3}=0.3159688696457832 , P_{4}=0.01766448893407532 , P_{5}=0.03512824503935433 , P_{6}=0.0598206640361732 , P_{7}=0.1815042490492207 \\right]  \\right] \\]"
      ],
      "text/plain": [
       "(%o36) [[P0 = 0.07772375130993141, P1 = 0.1192353003050084, \n",
       "P2 = 0.1929544316804534, P3 = 0.3159688696457832, P4 = 0.01766448893407532, \n",
       "P5 = 0.03512824503935433, P6 = 0.0598206640361732, P7 = 0.1815042490492207]]"
      ],
      "text/x-maxima": [
       "[[P0 = 0.07772375130993141,P1 = 0.1192353003050084,P2 = 0.1929544316804534,\n",
       "  P3 = 0.3159688696457832,P4 = 0.01766448893407532,P5 = 0.03512824503935433,\n",
       "  P6 = 0.0598206640361732,P7 = 0.1815042490492207]]"
      ]
     },
     "execution_count": 18,
     "metadata": {},
     "output_type": "execute_result"
    }
   ],
   "source": [
    "float(%);"
   ]
  },
  {
   "cell_type": "code",
   "execution_count": 29,
   "id": "025be232-2e6c-47b5-a3da-4ca088a3f2df",
   "metadata": {},
   "outputs": [
    {
     "data": {
      "text/latex": [
       "\\[\\tag{${\\it \\%o}_{54}$}0.7058823529411764\\]"
      ],
      "text/plain": [
       "(%o54)                        0.7058823529411764"
      ],
      "text/x-maxima": [
       "0.7058823529411764"
      ]
     },
     "execution_count": 29,
     "metadata": {},
     "output_type": "execute_result"
    }
   ],
   "source": [
    "0.07772375130993141+0.1192353003050084+0.1929544316804534+0.3159688696457832;"
   ]
  },
  {
   "cell_type": "markdown",
   "id": "c0409bba-a70b-41d8-a48f-ad2e5d69e3e8",
   "metadata": {},
   "source": [
    "Таким образом, такое укрупнение состояний для данной симметричной структуры полностью эквивалентно исходной задаче.  Для нахождения основных характеристик системы можно попробовать выполнить вертикальное укрепнение состояний:\n",
    "$$P_0^v=P_0+P_4, P_1^v=P_1+P_5, P_2^v=P_2+P_6, P_3^v=P_3+P_7$$\n",
    "\n",
    "<img src=\"dia7.jpeg\">\n"
   ]
  },
  {
   "cell_type": "markdown",
   "id": "fdd38382-496d-4a77-ab5b-46da3ebaae15",
   "metadata": {},
   "source": [
    "Сложим (13), (17) уравнения:\n",
    "\n",
    "$$-(\\lambda+\\nu)P_0+\\mu\\cdot P_1+\\gamma\\cdot P_4=0$$\n",
    "$$\\nu\\cdot P_0-(\\lambda+\\gamma)\\cdot P_4=0$$"
   ]
  },
  {
   "cell_type": "markdown",
   "id": "fa742147-aa87-41b0-afcf-a46e9baa2c12",
   "metadata": {},
   "source": [
    "$$-\\lambda\\cdot P_0+\\mu\\cdot P_1-\\lambda\\cdot P_4=0\\Rightarrow \\lambda\\cdot P_0^v=\\mu\\cdot P_1$$"
   ]
  },
  {
   "cell_type": "markdown",
   "id": "c74f98d5-e989-4990-92a7-bef740fbf985",
   "metadata": {},
   "source": [
    "Сложим (14),(18):\n",
    "$$\\lambda\\cdot P_0-(\\lambda+\\mu+\\nu)\\cdot P_1+\\mu\\cdot P_2+\\gamma\\cdot P_5=0$$\n",
    "$$\\nu\\cdot P_1+\\lambda\\cdot P_4-(\\lambda+\\gamma)\\cdot P_5=0$$"
   ]
  },
  {
   "cell_type": "markdown",
   "id": "2b1e0181-fc11-4e8c-99aa-b37ec7c9e901",
   "metadata": {},
   "source": [
    "$$\\lambda\\cdot(P_0+P_4)-\\lambda\\cdot(P_1+P_5)+\\mu\\cdot(P_2-P_1)=0\\Rightarrow \\lambda\\cdot P_0^v-\\lambda\\cdot P_1^v+\\mu\\cdot(P_2-P_1)=0$$"
   ]
  },
  {
   "cell_type": "markdown",
   "id": "50e9a5f7-455f-4c59-8599-51f737c1f94d",
   "metadata": {},
   "source": [
    "Сложим (15), (19):\n",
    "$$\\lambda\\cdot P_1-(\\lambda+\\mu+\\nu)\\cdot P_2+\\mu\\cdot P_3+\\gamma\\cdot P_6=0$$\n",
    "$$\\nu\\cdot P_2+\\lambda\\cdot P_5-(\\gamma+\\lambda)\\cdot P_6=0$$"
   ]
  },
  {
   "cell_type": "markdown",
   "id": "47292676-cf2b-49de-9a15-10a7e7df992a",
   "metadata": {},
   "source": [
    "$$\\lambda\\cdot (P_1+P_5)-\\lambda\\cdot(P_2+P_6)+\\mu\\cdot(P_3-P_2)=0\\Rightarrow \\lambda\\cdot P_1^v-\\lambda\\cdot P_2^v+\\mu\\cdot(P_3-P_2)=0$$"
   ]
  },
  {
   "cell_type": "markdown",
   "id": "b1e09cae-31a3-47ba-95e3-e7c527dcfc9f",
   "metadata": {},
   "source": [
    "Сложим (16), (20):\n",
    "$$\\lambda\\cdot P_2-(\\mu+\\nu)\\cdot P_3+\\gamma\\cdot P_7=0$$\n",
    "$$\\nu\\cdot P_3+\\lambda\\cdot P_6-\\gamma\\cdot P_7=0$$\n",
    "$$\\lambda\\cdot(P_2+P_6)-\\mu\\cdot P_3=0\\Rightarrow \\lambda\\cdot P_2^v-\\mu\\cdot P_3=0$$"
   ]
  },
  {
   "cell_type": "markdown",
   "id": "4e1f9dbc-1895-498a-9781-eef13b28c4bd",
   "metadata": {},
   "source": [
    "Т.е. окончательно получаем следующую систему уравнений:\n",
    "\\begin{cases}\n",
    "  \\lambda\\cdot P_0^v=\\mu\\cdot P_1\\\\\n",
    "  \\lambda\\cdot P_0^v-\\lambda\\cdot P_1^v=\\mu\\cdot(P_1-P_2)\\\\\n",
    "  \\lambda\\cdot P_1^v-\\lambda\\cdot P_2^v=\\mu\\cdot(P_2-P_3)\\\\\n",
    "  \\lambda\\cdot P_2^v=\\mu\\cdot P_3\n",
    "\\end{cases}"
   ]
  },
  {
   "cell_type": "markdown",
   "id": "79db1812-a317-4596-b784-add77bb50b0c",
   "metadata": {},
   "source": [
    "Получаем следующие условия эквивалентирования:\n",
    "$$\\frac{P_0^v}{P_1}=\\frac{P_0^v-P_1^v}{P_1-P_2}=\\frac{P_1^v-P_2^v}{P_2-P_3}=\\frac{P_2^v}{P_3}=\\frac{\\mu}{\\lambda}$$\n",
    "\n",
    "Конечно, непосредственно их выполнить не удается, ведь нам неизвестны $P_1, P_2, P_3$."
   ]
  },
  {
   "cell_type": "markdown",
   "id": "a25cae26-2db4-43f9-a23f-761bf620dd47",
   "metadata": {},
   "source": [
    "Рассмотрим более простой случай, в котором все полностью симметрично:\n",
    "\n",
    "<img src=\"dia8.jpeg\">"
   ]
  },
  {
   "cell_type": "markdown",
   "id": "81c98d69-16da-4a62-8f46-004397b677cb",
   "metadata": {},
   "source": [
    "$$-(\\lambda+\\nu)\\cdot P_0+\\mu\\cdot P_1+\\gamma\\cdot P_2=0\\tag{21}$$\n",
    "$$-(\\mu+\\nu)\\cdot P_1+\\gamma\\cdot P_3+\\lambda\\cdot P_0=0\\tag{22}$$\n",
    "$$-(\\gamma+\\lambda)\\cdot P_2+\\nu\\cdot P_0+\\mu\\cdot P_3=0\\tag{23}$$\n",
    "$$-(\\mu+\\gamma)\\cdot P_3+\\lambda\\cdot P_2+\\nu\\cdot P_1=0\\tag{24}$$"
   ]
  },
  {
   "cell_type": "markdown",
   "id": "2676aa28-a6bb-4748-8a97-90bdf86e89e4",
   "metadata": {},
   "source": [
    "Сложим (21), (23), или (22), (24):\n",
    "\n",
    "$$\\lambda\\cdot(P_0+P_2)=\\mu\\cdot(P_1+P_3)\\Rightarrow \\lambda\\cdot P_0^v=\\mu\\cdot P_1^v\\tag{25}$$\n",
    "\n",
    "Если же мы уберем интенсивность $\\mu$ между $S_2, S_3$, то (23) уравнение будет иметь вид:\n",
    "$$-(\\gamma+\\lambda)\\cdot P_2+\\nu\\cdot P_0=0\\tag{26}$$\n",
    "\n",
    "Тогда складывая (21) и (26), получим:\n",
    "$$\\lambda\\cdot(P_0+P_2)=\\mu\\cdot P_1$$\n",
    "Значит нужно снижать $\\mu$ до некоторого значения $\\mu_1$, чтобы \n",
    "$$\\lambda\\cdot P_0^v = \\mu_1\\cdot P_1^v$$\n",
    "\n",
    "На практике для квазиэквивалентности берут $\\mu_1=P_0^h\\cdot \\mu$ - снижается на долю времени, в которой система работоспособна."
   ]
  },
  {
   "cell_type": "markdown",
   "id": "241de424-d605-48ba-93bd-a34989bcb5e4",
   "metadata": {},
   "source": [
    "## Управление ресурсами в многопроцессорных системах. Алгоритмы Джонсона и Макнотона."
   ]
  },
  {
   "cell_type": "markdown",
   "id": "a784d52c-e65c-4bf0-b52f-6568466032fa",
   "metadata": {},
   "source": [
    "В лекции 6 были рассмотремы вопросы управления ресурсами в однопроцессорной системе. Однако в настоящее время не менее важными оказываются подобные задачи и для многопроцессорных систем.\n",
    "\n",
    "Здесь можно говорить о двух ограничениях в постановках таких задач: \n",
    "- заявки должны пройти последовательную обработку на каждом процессоре (многофазовая обработка);\n",
    "- заявки могут выполняться на любом из процессоров параллельно.\n",
    "Исходными данныим для решения этих задач является известная длительность обработки на каждом процессоре.\n",
    "\n",
    "Рассмотрим сначала последовательную обработку для двухпроцессорной системы (такая постановка известна как задача Джонсона для двух станков).\n",
    "\n",
    "Для наглядности будем использовать конкретные значения:\n",
    "\n",
    "|Заявка| 1 | 2 | 3 | 4 | 5 |\n",
    "|------|---|---|---|---|---|\n",
    "|Процессор 1|5 |2| 4 | 5 | 6|\n",
    "|Процессор 2 |7 | 4| 3| 2| 3 |"
   ]
  },
  {
   "cell_type": "markdown",
   "id": "019e8b74-e2b9-4cc4-a95b-08a088ac48af",
   "metadata": {},
   "source": [
    "Из таблицы видно, что, например, первая заявка потребует 5 единиц времени на первом процессоре и 7 единиц времени на втором.\n",
    "\n",
    "Если выполнять заявки в той последовательности, как они представлены в таблице, то порядок выполнения всех задач будет таким:\n",
    "\n",
    "![image](dia9.jpeg)"
   ]
  },
  {
   "cell_type": "markdown",
   "id": "0dae00d7-06f7-4e38-8ae2-df1567575b4d",
   "metadata": {},
   "source": [
    "Из рисунка видно, что на первом процессоре заявки выполняются одна за одной без перерывов, для второго процессора, например, вторая заявка не может сразу же начать обрабатываться на втором процессоре после окончания обработки на первом, так как в этот момент на втором процессоре обрабатывается первая заявка. Также между обработкой четвертой и пятой заявок на втором процессоре возникает пауза, т.к. длительность обработки пятой детали на первом процессоре превышает момент готовности второго процессора.\n",
    "\n",
    "Среднее время ожидания для заявок складывается из ожидания обработки на втором процессоре:\n",
    "\n",
    "1 заявка выполняется без ожиданий;\n",
    "\n",
    "2 заявка выполняется с ожиданием 12-7 = 5\n",
    "\n",
    "3 заявка выполняется с ожиданием 16-11 = 5\n",
    "\n",
    "4 заявка выполняется с ожиданием 19 - 16 = 3\n",
    "\n",
    "5 заявка выполняется с ожиданием 22-21 = 1\n",
    "\n",
    "Среднее время ожидания составило: $\\frac{0+5+5+3+1}{5}\\approx 2.8$\n",
    "\n",
    "Суммарное время выполнения всех заявок составило 25 единиц времени. Вопрос: можно ли закончить обработку всех заявок быстрее?\n",
    "\n",
    "Ответ на этот вопрос дает **алгоритм Джонсона** - он заключается в следующем:\n",
    " - из всех длительностей обслуживания выбирается самая минимальная. Если эта длительность относится к первому процессору, то такая заявка выполняется первой, если эта длительность относится ко второму процессору, то такая заявка выполняется последней.\n",
    " - найденную заявку с ее длительностями удаляют из рассмотрения, предыдущий пункт повторяют."
   ]
  },
  {
   "cell_type": "markdown",
   "id": "9d7e36bf-2736-4ad5-8599-aa3b0f2e145a",
   "metadata": {},
   "source": [
    "Рассмотрим использование этого алгоритма на нашем примере:\n",
    "\n",
    "|Заявка| 1 | 2 | 3 | 4 | 5 |\n",
    "|------|---|---|---|---|---|\n",
    "|Процессор 1|5 |2| 4 | 5 | 6|\n",
    "|Процессор 2 |7 | 4| 3| 2| 3 |\n",
    "\n",
    "Видно, что минимальная продолжительность равна 2 - это 2-я заявка для первого процессора (выполняется первой), 4-я заявка для второго процессора, значит она выполняется последней.\n",
    "\n",
    "|Порядок| 2 | пусто  | пусто | пусто |  4|\n",
    "|--|--|--|--|--|--|"
   ]
  },
  {
   "cell_type": "markdown",
   "id": "c07ad52f-2852-406a-ba11-275ad6fb313a",
   "metadata": {},
   "source": [
    "После вычеркивания получаем\n",
    "\n",
    "|Заявка| 1 | 3 | 5|\n",
    "|------|---|---|---|\n",
    "|Процессор 1|5 | 4 | 6|\n",
    "|Процессор 2 |7 | 3| 3 |"
   ]
  },
  {
   "cell_type": "markdown",
   "id": "7be42f34-e3b6-483c-8947-96f2b217d038",
   "metadata": {},
   "source": [
    "Следующее минимальное число - 3, соответствует 3, 5 заявке на втором процесоре. Значит 3 или 5 заявки должны выполняться предпоследними\n",
    "\n",
    "|Порядок| 2 | пусто  | 3(5) | 5(3) |  4|\n",
    "|--|--|--|--|--|--|\n",
    "\n",
    "Ну и оставшуюся первую заявку нужно выполнять второй по счету.\n",
    "\n",
    "|Порядок| 2 | 1  | 3(5) | 5(3) |  4|\n",
    "|--|--|--|--|--|--|"
   ]
  },
  {
   "cell_type": "markdown",
   "id": "053aa56a-1dad-4289-9201-bfe6951a34c6",
   "metadata": {},
   "source": [
    "Итак, очередность выполнения задач определена. Посмотрим на результаты.\n",
    "\n",
    "![image](dia10.jpeg)"
   ]
  },
  {
   "cell_type": "markdown",
   "id": "a73e83f9-1792-4cbf-9301-cde72f963f60",
   "metadata": {},
   "source": [
    "Таким образом, общая продолжительность уменьшилась (была 25, стала 24 единицы времени).\n",
    "\n",
    "Время ожидания заявок:\n",
    "- Первая заявка 7-6=1\n",
    "- Вторая заявка 2-2=0\n",
    "- Третья заявка 17-17=0\n",
    "- Четвертая заявка 22-20=2\n",
    "- Пятая заявка 14-13=1\n",
    "\n",
    "Среднее время ожидания $\\frac{1+0+0+2+1}{5}\\approx 0.8$"
   ]
  },
  {
   "cell_type": "markdown",
   "id": "1dccb0fd-6eb6-4e54-a8aa-d848e68f546e",
   "metadata": {},
   "source": [
    "Итак, наблюдаем явные выгоды от использования предложенного алгоритма. Рассмотренная задача называется  **задачей двухпроцессорного обслуживания**, или задачей Джонсона (по имени S.M. Johnson, который в 1954 г. предложил алгоритм для её решения).\n",
    "\n",
    "Алгоритм довольно прост. Но интересным фактом является то, что для большего количества станков алгоритм неизвестен, более того когда число процессоров больше двух, эта задача становится NP-полной (как доказал Гэри (Garey) в 1976 г.)."
   ]
  },
  {
   "cell_type": "markdown",
   "id": "5bb9fe55-fbc3-4cc6-b97d-22006456e2d4",
   "metadata": {},
   "source": [
    "Рассмотрим теперь подходы к обслуживанию заявок, которые могут выполняться на любом из процессоров параллельно.\n",
    "\n",
    "Пусть имеется $n$ идентичных процессоров, на которых необходимо решить $L$ независимых задач, для решения каждой задачи на любом процессоре требуется $t_i, i=1,2,\\ldots, L$ единиц времени. "
   ]
  },
  {
   "cell_type": "markdown",
   "id": "4c0a124f-1b8c-4aec-accc-56cfe86dada4",
   "metadata": {},
   "source": [
    "Для простоты опять рассмотрим двухпроцесорную систему с длительностями задач:\n",
    "\n",
    "|Задачи|Задача 1|Задача 2| Задача 3|Задача 4|Задача 5|\n",
    "|--|--|--|--|--|--|\n",
    "| |3|3|2|2|2|\n",
    "\n",
    "Рассмотрим несколько примеров составления расписания.\n",
    "\n",
    "![image](dia11.jpeg)"
   ]
  },
  {
   "cell_type": "markdown",
   "id": "8774db63-b735-46d1-a341-81450871cd1f",
   "metadata": {},
   "source": [
    "Видно, что последний вариант является наиболее предпочтительным.\n",
    "\n",
    "Можно предложить нижнюю оценку времени для оптимального расписания. Длина любого расписания не может быть меньше максимального $t_i$, в противном случае мы не выполним задачу с максимальной длительностью. Длина расписания не может также быть меньше времени, когда все процессоры тратят одинаковое время и не простаивают, это соответствует среднему времени выполнения $\\frac{\\sum_{i=1}^L t_i}{n}$. Таким образом, получаем оценку\n",
    "$$T_{opt} \\geq \\max\\left\\{\\max\\{t_i\\}, \\frac{\\sum_{i=1}^L t_i}{n}\\right\\}$$"
   ]
  },
  {
   "cell_type": "markdown",
   "id": "3a46ba3a-d3d7-464c-812c-d2a7b935ac41",
   "metadata": {},
   "source": [
    "В общем случае даже при $n=2$ задача поиска оптимального расписания и $T_{opt}$ является $NP$-трудной, т.е. все известные алгоритмы ее решения имеют трудоемкость, экспоненциально зависящую от $L$.\n",
    "\n",
    "Однако, если допустить возможность прерывания обслуживания и последующее его продолжение, то алгоритмы поиска оптимального расписания полиномиальной сложности существуют. При этом предполагается, что после прерывания задача может быть продолжена на любом свободном процессоре, а необязательно на том, на котором она выполнялась первоначально. Число прерывания должно быть по возможности наименьшим, поскольку с каждым прерыванием расткт потери машинного времени на загрузку-выгрузку задач из оперативной памяти.\n",
    "\n",
    "Рассмотрим алгоритм, предложенный Макнотоном в 1959 году. \n",
    "\n",
    "**Алгоритм Макнотона** строит оптимальное расписание с не более чем $n-1$ прерываниями. Он заключается в предварительном упорядочении задач по убыванию времени решения и назначении задач последовательно по порядку номеров одну за другой на процессоры системы справа налево от значения $\\max\\left\\{\\max\\{t_i\\}, \\frac{\\sum_{i=1}^L t_i}{n}\\right\\}$."
   ]
  },
  {
   "cell_type": "markdown",
   "id": "b63ff770-7f46-4d91-9d0a-57ae4b1f0ad7",
   "metadata": {},
   "source": [
    "Рассмотрим пример: $n=2, L=4, t_1=5, t_2=4, t_3=3, t_4=2$, тогда оценка\n",
    "$$\\max\\left\\{\\max\\{t_i\\}, \\frac{\\sum_{i=1}^L t_i}{n}\\right\\}=\\max\\left\\{5, (5+4+3+2)/2\\right\\}=7$$"
   ]
  },
  {
   "cell_type": "markdown",
   "id": "32cf4dfe-641c-435b-a0b3-1db214fd0df8",
   "metadata": {},
   "source": [
    "В соответствии с алгоритмом Макнотона вначале назначает на первый процессор первую задачу, отсчитывая вправо от момента времени 7.\n",
    "\n",
    "![image](dia12.jpeg)"
   ]
  },
  {
   "cell_type": "markdown",
   "id": "2bf4f8d0-7ed0-44a9-80c7-e0e8fba3166c",
   "metadata": {},
   "source": [
    "Далее назначаем следующую по длительности вторую задачу, но поскольку ее длительность больше оставшегося на первом процессоре времени, мы вынуждены сделать прерывание, начав загружать второй процессор и опять справа налево ставшейся частью второй задачи.\n",
    "\n",
    "![image](dia13.jpeg)"
   ]
  },
  {
   "cell_type": "markdown",
   "id": "14ea8cdb-d81b-47d2-9204-983c9c343f61",
   "metadata": {},
   "source": [
    "Оставшиеся задачи планируем на второй процессор\n",
    "\n",
    "![image](dia14.jpeg)"
   ]
  },
  {
   "cell_type": "markdown",
   "id": "ccba4e29-dda7-4001-89a2-09b5632574f8",
   "metadata": {},
   "source": [
    "Итак, время выполнения совпадает с нижним ограничением, значит оно оптимально, при этом нам потребовалось одно прерывание.\n",
    "\n",
    "Если попытаться решать задачу без прерываний, то, как было отмечено, она является $NP$-трудной. Один из наиболее эффективных и нетрудоемких алгоритмов организации вычислений в этом случае - это алгоритм LPT (longest-processing task first) - самая длинная задача решается первой. Суть этого алгоритма заключается в назначении задача в порядке убыванния времени решения на освобождающиеся процессоры. \n",
    "\n",
    "В 1967 году П. Грэхем (сотрудник Bell Laboratories) получил следующий результат:\n",
    "\n",
    "**При использовании алгоритма LPT для распределения любого набора задач без прерываний в системе с $n$ идентичными процессорами справедливо\n",
    "$$T\\leq\\left(\\frac{4}{3}-\\frac{1}{3n}\\right)T_0$$\n",
    "где $T_0$ - длина оптимального расписания**"
   ]
  }
 ],
 "metadata": {
  "kernelspec": {
   "display_name": "R",
   "language": "R",
   "name": "ir"
  },
  "language_info": {
   "codemirror_mode": "r",
   "file_extension": ".r",
   "mimetype": "text/x-r-source",
   "name": "R",
   "pygments_lexer": "r",
   "version": "4.2.2"
  }
 },
 "nbformat": 4,
 "nbformat_minor": 5
}
