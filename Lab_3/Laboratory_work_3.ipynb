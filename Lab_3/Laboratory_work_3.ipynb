{
 "cells": [
  {
   "cell_type": "markdown",
   "id": "95ff2545-ee90-4c31-86bb-ca43c11e48eb",
   "metadata": {},
   "source": [
    "# Лабораторная работа 3. Модель однофазной одноканальной открытой системы обслуживания"
   ]
  },
  {
   "cell_type": "markdown",
   "id": "4d6cc536-35ce-4cff-901a-a1c5fa12e357",
   "metadata": {},
   "source": [
    "## Задание 1."
   ]
  },
  {
   "cell_type": "markdown",
   "id": "0a5c490c-88d9-4ca2-8f29-f6fa90db50bc",
   "metadata": {},
   "source": [
    "В процессе эксплуатации ЭВМ осуществляются ее разовые проверки, в результате которых она может оказаться в следующих состояниях:\n",
    "- $S_1$ - ЭВМ полностью исправна;\n",
    "- $S_2$ - ЭВМ имеет незначителльные неисправности в программном обеспечении, при которых она может решать задачи;\n",
    "- $S_3$ - ЭВМ имеет существенные неисправности и может решать ограниченный класс задач;\n",
    "- $S_4$ - ЭВМ полностью вышла из строя.\n",
    "\n",
    "В начальный момент времени ЭВМ полностью исправна (состояние $S_1$). Проверка ЭВМ производится в фиксированные моменты времени $t_k$. Процесс, протекающий в системе, может рассматриваться как однородная марковская цепь с $k$ шагами ($1, 2,\\ldots, k$ проверки). Матрица переходных вероятностей имеет вид:\n",
    "\\begin{equation}\n",
    "P = \\begin{pmatrix} p_{11} & p_{12} & p_{13} & p_{14} \\\\ 0 & p_{22} & p_{23} & p_{24} \\\\0 & 0 & p_{33} & p_{34}\\\\ 0 & 0 & 0 & p_{44}\\end{pmatrix} \n",
    "\\end{equation}"
   ]
  },
  {
   "cell_type": "markdown",
   "id": "99869d29-2076-4d27-b571-6baae6d2f22f",
   "metadata": {},
   "source": [
    "Построить граф состояний. Найти вероятности (численно и теоретически) состояний ЭВМ после $k-2, k-1, k$ осмотров."
   ]
  },
  {
   "cell_type": "code",
   "execution_count": 13,
   "id": "e35c7d58-132a-48e4-a5e1-08e1c7730fab",
   "metadata": {},
   "outputs": [
    {
     "data": {
      "text/html": [
       "<table class=\"dataframe\">\n",
       "<caption>A data.frame: 4 × 4</caption>\n",
       "<thead>\n",
       "\t<tr><th></th><th scope=col></th><th scope=col></th><th scope=col></th><th scope=col></th></tr>\n",
       "\t<tr><th></th><th scope=col>&lt;dbl&gt;</th><th scope=col>&lt;dbl&gt;</th><th scope=col>&lt;dbl&gt;</th><th scope=col>&lt;dbl&gt;</th></tr>\n",
       "</thead>\n",
       "<tbody>\n",
       "\t<tr><th scope=row>p1</th><td>0.1810939</td><td>0.2787788</td><td>0.4419789</td><td>0.09814841</td></tr>\n",
       "\t<tr><th scope=row>p2</th><td>0.0000000</td><td>0.3588015</td><td>0.3772872</td><td>0.26391135</td></tr>\n",
       "\t<tr><th scope=row>p3</th><td>0.0000000</td><td>0.0000000</td><td>0.9105714</td><td>0.08942863</td></tr>\n",
       "\t<tr><th scope=row>p4</th><td>0.0000000</td><td>0.0000000</td><td>0.0000000</td><td>1.00000000</td></tr>\n",
       "</tbody>\n",
       "</table>\n"
      ],
      "text/latex": [
       "A data.frame: 4 × 4\n",
       "\\begin{tabular}{r|llll}\n",
       "  &  &  &  & \\\\\n",
       "  & <dbl> & <dbl> & <dbl> & <dbl>\\\\\n",
       "\\hline\n",
       "\tp1 & 0.1810939 & 0.2787788 & 0.4419789 & 0.09814841\\\\\n",
       "\tp2 & 0.0000000 & 0.3588015 & 0.3772872 & 0.26391135\\\\\n",
       "\tp3 & 0.0000000 & 0.0000000 & 0.9105714 & 0.08942863\\\\\n",
       "\tp4 & 0.0000000 & 0.0000000 & 0.0000000 & 1.00000000\\\\\n",
       "\\end{tabular}\n"
      ],
      "text/markdown": [
       "\n",
       "A data.frame: 4 × 4\n",
       "\n",
       "| <!--/--> | <!----> &lt;dbl&gt; | <!----> &lt;dbl&gt; | <!----> &lt;dbl&gt; | <!----> &lt;dbl&gt; |\n",
       "|---|---|---|---|---|\n",
       "| p1 | 0.1810939 | 0.2787788 | 0.4419789 | 0.09814841 |\n",
       "| p2 | 0.0000000 | 0.3588015 | 0.3772872 | 0.26391135 |\n",
       "| p3 | 0.0000000 | 0.0000000 | 0.9105714 | 0.08942863 |\n",
       "| p4 | 0.0000000 | 0.0000000 | 0.0000000 | 1.00000000 |\n",
       "\n"
      ],
      "text/plain": [
       "                                           \n",
       "p1 0.1810939 0.2787788 0.4419789 0.09814841\n",
       "p2 0.0000000 0.3588015 0.3772872 0.26391135\n",
       "p3 0.0000000 0.0000000 0.9105714 0.08942863\n",
       "p4 0.0000000 0.0000000 0.0000000 1.00000000"
      ]
     },
     "metadata": {},
     "output_type": "display_data"
    },
    {
     "name": "stdout",
     "output_type": "stream",
     "text": [
      "[1] \"k= 4\"\n"
     ]
    }
   ],
   "source": [
    "Variant<-1\n",
    "set.seed(Variant) \n",
    "k<-sample(c(4:9),1)\n",
    "pp1<-runif(4)\n",
    "pp2<-runif(3)\n",
    "pp3<-runif(2)\n",
    "p1<-pp1/sum(pp1)\n",
    "p2<-c(c(0),pp2/sum(pp2))\n",
    "p3<-c(c(0,0),pp3/sum(pp3))\n",
    "p4<-c(0,0,0,1)\n",
    "P<-data.frame()\n",
    "P<-rbind(P,p1)\n",
    "P<-rbind(P,p2)\n",
    "P<-rbind(P,p3)\n",
    "P<-rbind(P,p4)\n",
    "rownames(P)<-c(\"p1\",\"p2\",\"p3\",\"p4\")\n",
    "colnames(P)<-c(\"\",\"\",\"\",\"\")\n",
    "View(P)\n",
    "print(paste(\"k=\",as.character(k)))"
   ]
  },
  {
   "cell_type": "markdown",
   "id": "e6724a07-3712-42b3-9530-c367098fe313",
   "metadata": {},
   "source": [
    "## Задание 2."
   ]
  },
  {
   "cell_type": "markdown",
   "id": "6611127a-a5fb-427a-9db9-2b6861b5547f",
   "metadata": {},
   "source": [
    "Вычислительный центр фирмы состоит из одного главного сервера коллективного пользования. Число работающих в в центре программистов в любой момент времени равно $k$. Каждый программист готовит свою программу и через терминал передает ее на сервер для выполнения, куда она сразу попадает. Время подготовки программ имеет экспоненциальное распределение со средним значением $t_{1}$ мин. Время выполнения программы имеет экспоненциальное распределение со средним значением $t_{2}$ мин. Найти (теоретически и экспериментально):\n",
    " - вероятность того, что программа не будет выполнена сразу же, как только она поступила на терминал;\n",
    " - среднее время до получения пользователем результатов реализации;\n",
    " - среднее количество программ, ожидающих выполнения на сервере."
   ]
  },
  {
   "cell_type": "code",
   "execution_count": 19,
   "id": "057b7b51-a9ca-4cf9-b351-002ba57834e1",
   "metadata": {},
   "outputs": [
    {
     "data": {
      "text/html": [
       "<table class=\"dataframe\">\n",
       "<caption>A data.frame: 1 × 3</caption>\n",
       "<thead>\n",
       "\t<tr><th scope=col>k</th><th scope=col>t1</th><th scope=col>t2</th></tr>\n",
       "\t<tr><th scope=col>&lt;int&gt;</th><th scope=col>&lt;int&gt;</th><th scope=col>&lt;int&gt;</th></tr>\n",
       "</thead>\n",
       "<tbody>\n",
       "\t<tr><td>18</td><td>17</td><td>4</td></tr>\n",
       "</tbody>\n",
       "</table>\n"
      ],
      "text/latex": [
       "A data.frame: 1 × 3\n",
       "\\begin{tabular}{lll}\n",
       " k & t1 & t2\\\\\n",
       " <int> & <int> & <int>\\\\\n",
       "\\hline\n",
       "\t 18 & 17 & 4\\\\\n",
       "\\end{tabular}\n"
      ],
      "text/markdown": [
       "\n",
       "A data.frame: 1 × 3\n",
       "\n",
       "| k &lt;int&gt; | t1 &lt;int&gt; | t2 &lt;int&gt; |\n",
       "|---|---|---|\n",
       "| 18 | 17 | 4 |\n",
       "\n"
      ],
      "text/plain": [
       "  k  t1 t2\n",
       "1 18 17 4 "
      ]
     },
     "metadata": {},
     "output_type": "display_data"
    }
   ],
   "source": [
    "Variant<-1\n",
    "set.seed(Variant) \n",
    "k<-sample(c(10:25),1)\n",
    "t1<-sample(c(14:20),1)\n",
    "t2<-sample(c(2:5),1)\n",
    "View(data.frame(k,t1,t2))"
   ]
  },
  {
   "cell_type": "markdown",
   "id": "95ec39b4-da86-48dd-b694-d066605bd91d",
   "metadata": {},
   "source": [
    "## Дополнительное задание. "
   ]
  },
  {
   "cell_type": "markdown",
   "id": "7d09de74-81ae-4c8d-a049-b46563d25a78",
   "metadata": {
    "tags": []
   },
   "source": [
    "<p style='text-align: justify;'>\n",
    "Точка блуждает по оси абсцисс: на каждом шаге она с вероятностью $p_1$ остается на месте, с вероятностью $p_2$ перескакивает на единицу вправо и с вероятностью $p_3$ влево. Состояние системы  после $k$ шагов определяется одной координатой (абсциссой) точки. Рассматривая последовательность положений точки как цепь Маркова, найти вероятность (численно и теоретически) того, что она после $k$ шагов окажется от начала координат не дальше, чем на расстоянии, равном $m$.\n",
    "</p>"
   ]
  },
  {
   "cell_type": "code",
   "execution_count": 14,
   "id": "35ecae8a-1f5d-4216-aed5-001f7c156a02",
   "metadata": {
    "tags": []
   },
   "outputs": [
    {
     "data": {
      "text/html": [
       "<table class=\"dataframe\">\n",
       "<caption>A data.frame: 1 × 5</caption>\n",
       "<thead>\n",
       "\t<tr><th scope=col>p1</th><th scope=col>p2</th><th scope=col>p3</th><th scope=col>k</th><th scope=col>m</th></tr>\n",
       "\t<tr><th scope=col>&lt;dbl&gt;</th><th scope=col>&lt;dbl&gt;</th><th scope=col>&lt;dbl&gt;</th><th scope=col>&lt;int&gt;</th><th scope=col>&lt;int&gt;</th></tr>\n",
       "</thead>\n",
       "<tbody>\n",
       "\t<tr><td>0.2193406</td><td>0.307417</td><td>0.4732425</td><td>4</td><td>2</td></tr>\n",
       "</tbody>\n",
       "</table>\n"
      ],
      "text/latex": [
       "A data.frame: 1 × 5\n",
       "\\begin{tabular}{lllll}\n",
       " p1 & p2 & p3 & k & m\\\\\n",
       " <dbl> & <dbl> & <dbl> & <int> & <int>\\\\\n",
       "\\hline\n",
       "\t 0.2193406 & 0.307417 & 0.4732425 & 4 & 2\\\\\n",
       "\\end{tabular}\n"
      ],
      "text/markdown": [
       "\n",
       "A data.frame: 1 × 5\n",
       "\n",
       "| p1 &lt;dbl&gt; | p2 &lt;dbl&gt; | p3 &lt;dbl&gt; | k &lt;int&gt; | m &lt;int&gt; |\n",
       "|---|---|---|---|---|\n",
       "| 0.2193406 | 0.307417 | 0.4732425 | 4 | 2 |\n",
       "\n"
      ],
      "text/plain": [
       "  p1        p2       p3        k m\n",
       "1 0.2193406 0.307417 0.4732425 4 2"
      ]
     },
     "metadata": {},
     "output_type": "display_data"
    }
   ],
   "source": [
    "Variant<-1\n",
    "set.seed(Variant) \n",
    "pp<-runif(3)\n",
    "p1<-pp[1]/sum(pp)\n",
    "p2<-pp[2]/sum(pp)\n",
    "p3<-pp[3]/sum(pp)\n",
    "k<-sample(c(4:8),1)\n",
    "m<-sample(c(1:k),1)\n",
    "View(data.frame(p1,p2,p3,k,m))"
   ]
  }
 ],
 "metadata": {
  "kernelspec": {
   "display_name": "R",
   "language": "R",
   "name": "ir"
  },
  "language_info": {
   "codemirror_mode": "r",
   "file_extension": ".r",
   "mimetype": "text/x-r-source",
   "name": "R",
   "pygments_lexer": "r",
   "version": "4.2.2"
  }
 },
 "nbformat": 4,
 "nbformat_minor": 5
}
