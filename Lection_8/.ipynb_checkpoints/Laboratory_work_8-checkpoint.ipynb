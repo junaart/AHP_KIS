{
 "cells": [
  {
   "cell_type": "markdown",
   "id": "97de2146-dc54-47bd-b9dd-64e20991f951",
   "metadata": {},
   "source": [
    "# Лабораторная работа 8. Анализ одноканальной системы массового обслуживания с учетом приоритета заявок"
   ]
  },
  {
   "cell_type": "markdown",
   "id": "b9173369-f939-45ca-9a19-a5eed24178ea",
   "metadata": {},
   "source": [
    "## Задание 1."
   ]
  },
  {
   "cell_type": "markdown",
   "id": "4aca29b3-139f-4f11-b78e-18fd2161dcb4",
   "metadata": {},
   "source": [
    "Система электронного документооборота с автоматическим классификатором поступающей корреспонденции должна учитывать различную важность документов, количество типов документов $P$, средняя интенсивность поступления заявок $\\lambda_1, \\lambda_2, \\ldots, \\lambda_P$, средняя интенсивность обслуживания $\\mu_1, \\mu_2, \\ldots, \\mu_P$ соответственно. Приоритеты заявок $p_1<p_2<\\ldots<p_P$.\n",
    "\n",
    "Оценить среднее время нахождения заявки в очереди (теоретически и экспериментально) для одного из 4 случаев:\n",
    "- относительный фиксированный приоритет (V1);\n",
    "- абсолютный фиксированный приоритет (V2);\n",
    "- приоритет с зависимой задержкой без прерывания (V3);\n",
    "- приоритет с зависимой задержкой с прерываниями (V4);\n",
    "в соответствии с вариантом."
   ]
  },
  {
   "cell_type": "code",
   "execution_count": 16,
   "id": "7543cc99-e683-4665-9452-3bbfcbcf5ed2",
   "metadata": {},
   "outputs": [
    {
     "data": {
      "text/html": [
       "<table class=\"dataframe\">\n",
       "<caption>A data.frame: 1 × 2</caption>\n",
       "<thead>\n",
       "\t<tr><th scope=col>P</th><th scope=col>V</th></tr>\n",
       "\t<tr><th scope=col>&lt;dbl&gt;</th><th scope=col>&lt;chr&gt;</th></tr>\n",
       "</thead>\n",
       "<tbody>\n",
       "\t<tr><td>4</td><td>V4</td></tr>\n",
       "</tbody>\n",
       "</table>\n"
      ],
      "text/latex": [
       "A data.frame: 1 × 2\n",
       "\\begin{tabular}{ll}\n",
       " P & V\\\\\n",
       " <dbl> & <chr>\\\\\n",
       "\\hline\n",
       "\t 4 & V4\\\\\n",
       "\\end{tabular}\n"
      ],
      "text/markdown": [
       "\n",
       "A data.frame: 1 × 2\n",
       "\n",
       "| P &lt;dbl&gt; | V &lt;chr&gt; |\n",
       "|---|---|\n",
       "| 4 | V4 |\n",
       "\n"
      ],
      "text/plain": [
       "  P V \n",
       "1 4 V4"
      ]
     },
     "metadata": {},
     "output_type": "display_data"
    },
    {
     "data": {
      "text/html": [
       "<table class=\"dataframe\">\n",
       "<caption>A data.frame: 4 × 3</caption>\n",
       "<thead>\n",
       "\t<tr><th scope=col>lambda</th><th scope=col>mu</th><th scope=col>b</th></tr>\n",
       "\t<tr><th scope=col>&lt;dbl&gt;</th><th scope=col>&lt;dbl&gt;</th><th scope=col>&lt;int&gt;</th></tr>\n",
       "</thead>\n",
       "<tbody>\n",
       "\t<tr><td>0.94467527</td><td>1.411949</td><td>1</td></tr>\n",
       "\t<tr><td>0.66079779</td><td>1.353114</td><td>2</td></tr>\n",
       "\t<tr><td>0.62911404</td><td>2.374046</td><td>5</td></tr>\n",
       "\t<tr><td>0.06178627</td><td>1.768207</td><td>7</td></tr>\n",
       "</tbody>\n",
       "</table>\n"
      ],
      "text/latex": [
       "A data.frame: 4 × 3\n",
       "\\begin{tabular}{lll}\n",
       " lambda & mu & b\\\\\n",
       " <dbl> & <dbl> & <int>\\\\\n",
       "\\hline\n",
       "\t 0.94467527 & 1.411949 & 1\\\\\n",
       "\t 0.66079779 & 1.353114 & 2\\\\\n",
       "\t 0.62911404 & 2.374046 & 5\\\\\n",
       "\t 0.06178627 & 1.768207 & 7\\\\\n",
       "\\end{tabular}\n"
      ],
      "text/markdown": [
       "\n",
       "A data.frame: 4 × 3\n",
       "\n",
       "| lambda &lt;dbl&gt; | mu &lt;dbl&gt; | b &lt;int&gt; |\n",
       "|---|---|---|\n",
       "| 0.94467527 | 1.411949 | 1 |\n",
       "| 0.66079779 | 1.353114 | 2 |\n",
       "| 0.62911404 | 2.374046 | 5 |\n",
       "| 0.06178627 | 1.768207 | 7 |\n",
       "\n"
      ],
      "text/plain": [
       "  lambda     mu       b\n",
       "1 0.94467527 1.411949 1\n",
       "2 0.66079779 1.353114 2\n",
       "3 0.62911404 2.374046 5\n",
       "4 0.06178627 1.768207 7"
      ]
     },
     "metadata": {},
     "output_type": "display_data"
    }
   ],
   "source": [
    "Variant<-1\n",
    "set.seed(Variant) \n",
    "P<-sample(c(4, 6),1)\n",
    "V<-sample(c(\"V1\", \"V2\", \"V3\", \"V4\"),1)\n",
    "if ((V==\"V3\") | (V==\"V4\")){\n",
    "    b<-sort(sample(c(1:10),P))\n",
    "    }\n",
    "lambda<-runif(P)\n",
    "mu<-runif(P,1,3)\n",
    "View(data.frame(P,V))\n",
    "if ((V==\"V3\") | (V==\"V4\")) {View(data.frame(lambda,mu, b))}\n",
    "if ((V==\"V1\") | (V==\"V2\")) {View(data.frame(lambda,mu))}\n"
   ]
  }
 ],
 "metadata": {
  "kernelspec": {
   "display_name": "R",
   "language": "R",
   "name": "ir"
  },
  "language_info": {
   "codemirror_mode": "r",
   "file_extension": ".r",
   "mimetype": "text/x-r-source",
   "name": "R",
   "pygments_lexer": "r",
   "version": "4.2.2"
  }
 },
 "nbformat": 4,
 "nbformat_minor": 5
}
