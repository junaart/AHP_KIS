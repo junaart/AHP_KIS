{
 "cells": [
  {
   "cell_type": "markdown",
   "id": "68c5bb11-507e-4512-92e1-09ef53c49811",
   "metadata": {},
   "source": [
    "# Решение заданий второй лабораторной работы"
   ]
  },
  {
   "cell_type": "markdown",
   "id": "dc45d3aa-4cd9-4f96-a477-8ea90f76c605",
   "metadata": {},
   "source": [
    "## Задание 1.\n",
    "\n",
    "Заданы три независимые целочисленные неотрицательные случайные величины $X_1, X_2, X_3$, необходимо найти математическое ожидание, дисперсию, среднее квадратическое отклонение и коэффициент вариации случайной величины $X_1+X_2+X_3$ численно и теоретически (из определения и с использованием производящей функции).\n",
    "В таблице ниже по вариантам представлены соответствия значений случайной величины и их вероятности. "
   ]
  },
  {
   "cell_type": "code",
   "execution_count": 1,
   "id": "d3d05c9e-6bc7-426b-bc0c-9e7c681fa618",
   "metadata": {
    "tags": []
   },
   "outputs": [],
   "source": [
    "Variant<-1\n",
    "set.seed(Variant) \n",
    "X1<-sample(c(1:20),5)\n",
    "X2<-sample(c(3:100),5)\n",
    "X3<-sample(c(0:40),5)\n",
    "pp1<-runif(5)\n",
    "p1<-pp1/sum(pp1)\n",
    "pp2<-runif(5)\n",
    "p2<-pp2/sum(pp2)\n",
    "pp3<-runif(5)\n",
    "p3<-pp3/sum(pp3)"
   ]
  },
  {
   "cell_type": "code",
   "execution_count": 2,
   "id": "d5e79979-d9b6-4eef-bf8d-c1732d16ce5f",
   "metadata": {
    "tags": []
   },
   "outputs": [
    {
     "data": {
      "text/html": [
       "<table class=\"dataframe\">\n",
       "<caption>A data.frame: 5 × 6</caption>\n",
       "<thead>\n",
       "\t<tr><th scope=col>X1</th><th scope=col>X2</th><th scope=col>X3</th><th scope=col>p1</th><th scope=col>p2</th><th scope=col>p3</th></tr>\n",
       "\t<tr><th scope=col>&lt;int&gt;</th><th scope=col>&lt;int&gt;</th><th scope=col>&lt;int&gt;</th><th scope=col>&lt;dbl&gt;</th><th scope=col>&lt;dbl&gt;</th><th scope=col>&lt;dbl&gt;</th></tr>\n",
       "</thead>\n",
       "<tbody>\n",
       "\t<tr><td> 4</td><td>89</td><td>32</td><td>0.42655337</td><td>0.193838971</td><td>0.18621917</td></tr>\n",
       "\t<tr><td> 7</td><td>45</td><td>20</td><td>0.09681138</td><td>0.006722284</td><td>0.23160185</td></tr>\n",
       "\t<tr><td> 1</td><td>16</td><td>39</td><td>0.29739176</td><td>0.191968357</td><td>0.19064643</td></tr>\n",
       "\t<tr><td> 2</td><td>84</td><td> 9</td><td>0.05729715</td><td>0.436606645</td><td>0.07193262</td></tr>\n",
       "\t<tr><td>13</td><td>61</td><td> 6</td><td>0.12194633</td><td>0.170863743</td><td>0.31959993</td></tr>\n",
       "</tbody>\n",
       "</table>\n"
      ],
      "text/latex": [
       "A data.frame: 5 × 6\n",
       "\\begin{tabular}{llllll}\n",
       " X1 & X2 & X3 & p1 & p2 & p3\\\\\n",
       " <int> & <int> & <int> & <dbl> & <dbl> & <dbl>\\\\\n",
       "\\hline\n",
       "\t  4 & 89 & 32 & 0.42655337 & 0.193838971 & 0.18621917\\\\\n",
       "\t  7 & 45 & 20 & 0.09681138 & 0.006722284 & 0.23160185\\\\\n",
       "\t  1 & 16 & 39 & 0.29739176 & 0.191968357 & 0.19064643\\\\\n",
       "\t  2 & 84 &  9 & 0.05729715 & 0.436606645 & 0.07193262\\\\\n",
       "\t 13 & 61 &  6 & 0.12194633 & 0.170863743 & 0.31959993\\\\\n",
       "\\end{tabular}\n"
      ],
      "text/markdown": [
       "\n",
       "A data.frame: 5 × 6\n",
       "\n",
       "| X1 &lt;int&gt; | X2 &lt;int&gt; | X3 &lt;int&gt; | p1 &lt;dbl&gt; | p2 &lt;dbl&gt; | p3 &lt;dbl&gt; |\n",
       "|---|---|---|---|---|---|\n",
       "|  4 | 89 | 32 | 0.42655337 | 0.193838971 | 0.18621917 |\n",
       "|  7 | 45 | 20 | 0.09681138 | 0.006722284 | 0.23160185 |\n",
       "|  1 | 16 | 39 | 0.29739176 | 0.191968357 | 0.19064643 |\n",
       "|  2 | 84 |  9 | 0.05729715 | 0.436606645 | 0.07193262 |\n",
       "| 13 | 61 |  6 | 0.12194633 | 0.170863743 | 0.31959993 |\n",
       "\n"
      ],
      "text/plain": [
       "  X1 X2 X3 p1         p2          p3        \n",
       "1  4 89 32 0.42655337 0.193838971 0.18621917\n",
       "2  7 45 20 0.09681138 0.006722284 0.23160185\n",
       "3  1 16 39 0.29739176 0.191968357 0.19064643\n",
       "4  2 84  9 0.05729715 0.436606645 0.07193262\n",
       "5 13 61  6 0.12194633 0.170863743 0.31959993"
      ]
     },
     "metadata": {},
     "output_type": "display_data"
    }
   ],
   "source": [
    "View(data.frame(X1, X2, X3, p1, p2, p3))"
   ]
  },
  {
   "cell_type": "markdown",
   "id": "6d3730d3-5595-45a8-a298-f32b8b3874ec",
   "metadata": {},
   "source": [
    "## Теоретически в соответствии с определением:"
   ]
  },
  {
   "cell_type": "markdown",
   "id": "c0da9b94-275a-497a-9999-5345e41015a2",
   "metadata": {},
   "source": [
    "Находим математические ожидания $X_1, X_2, X_3$:"
   ]
  },
  {
   "cell_type": "code",
   "execution_count": 5,
   "id": "15b92b3c-de97-4d0e-aa04-84ce7014e0b8",
   "metadata": {},
   "outputs": [],
   "source": [
    "meanX1<-sum(X1*p1)\n",
    "meanX2<-sum(X2*p2)\n",
    "meanX3<-sum(X3*p3)"
   ]
  },
  {
   "cell_type": "markdown",
   "id": "c8539f13-ccbf-486c-845a-268f9b811053",
   "metadata": {},
   "source": [
    "Находим математическое ожидание суммы $X=X1+X2+X3$:"
   ]
  },
  {
   "cell_type": "code",
   "execution_count": 6,
   "id": "3c7ea576-7326-4923-b73a-8a342beec4ea",
   "metadata": {},
   "outputs": [
    {
     "data": {
      "text/html": [
       "92.6957472211433"
      ],
      "text/latex": [
       "92.6957472211433"
      ],
      "text/markdown": [
       "92.6957472211433"
      ],
      "text/plain": [
       "[1] 92.69575"
      ]
     },
     "metadata": {},
     "output_type": "display_data"
    }
   ],
   "source": [
    "meanX<-meanX1+meanX2+meanX3\n",
    "meanX"
   ]
  },
  {
   "cell_type": "markdown",
   "id": "240d7108-665a-4c18-b6a8-1d44227ef63f",
   "metadata": {},
   "source": [
    "Находим дисперсии $X_1, X_2, X_3$:"
   ]
  },
  {
   "cell_type": "code",
   "execution_count": 7,
   "id": "0c50a93f-4f84-4de8-b82b-160020bed259",
   "metadata": {},
   "outputs": [],
   "source": [
    "DX1<-sum(p1*(X1-meanX1)^2)\n",
    "DX2<-sum(p2*(X2-meanX2)^2)\n",
    "DX3<-sum(p3*(X3-meanX3)^2)"
   ]
  },
  {
   "cell_type": "markdown",
   "id": "43719864-1688-47e4-b53d-7e460cea6ae8",
   "metadata": {},
   "source": [
    "Находим дисперсию $X$:"
   ]
  },
  {
   "cell_type": "code",
   "execution_count": 9,
   "id": "06568369-31bd-4217-bd7d-042f9c099aa5",
   "metadata": {},
   "outputs": [
    {
     "data": {
      "text/html": [
       "908.332722580136"
      ],
      "text/latex": [
       "908.332722580136"
      ],
      "text/markdown": [
       "908.332722580136"
      ],
      "text/plain": [
       "[1] 908.3327"
      ]
     },
     "metadata": {},
     "output_type": "display_data"
    }
   ],
   "source": [
    "DX<-DX1+DX2+DX3\n",
    "DX"
   ]
  },
  {
   "cell_type": "markdown",
   "id": "209a8d48-f4cb-4899-8e7b-76e4a2de3329",
   "metadata": {},
   "source": [
    "## Теоретически с использованием производящих функций"
   ]
  },
  {
   "cell_type": "markdown",
   "id": "df4139fc-774a-4e2e-9fc6-685eec291d8e",
   "metadata": {},
   "source": [
    "Находим матожидание и дисперсию с использованием производящих функций:"
   ]
  },
  {
   "cell_type": "code",
   "execution_count": 35,
   "id": "7f48fe2f-e889-4b7c-ada5-9cd2c66d36ec",
   "metadata": {},
   "outputs": [],
   "source": [
    "#Формируем производящие функции X1, X2, X3 в виде строк\n",
    "Px1<-\"\";Px2<-\"\";Px3<-\"\"\n",
    "for (i in c(1:length(X1))) {\n",
    "    Px1<-paste(Px1,\"+\",toString(p1[i]),\"*z^\",toString(X1[i]))\n",
    "    Px2<-paste(Px2,\"+\",toString(p2[i]),\"*z^\",toString(X2[i]))\n",
    "    Px3<-paste(Px3,\"+\",toString(p3[i]),\"*z^\",toString(X3[i]))\n",
    "}"
   ]
  },
  {
   "cell_type": "code",
   "execution_count": 49,
   "id": "4d61003d-53af-492b-b611-145bb325782f",
   "metadata": {},
   "outputs": [
    {
     "data": {
      "text/html": [
       "<span style=white-space:pre-wrap>'(  + 0.426553365573746 *z^ 4 + 0.0968113833356354 *z^ 7 + 0.297391764729038 *z^ 1 + 0.0572971531183891 *z^ 2 + 0.121946333243192 *z^ 13 )* (  + 0.193838970855887 *z^ 89 + 0.00672228351427974 *z^ 45 + 0.191968357274463 *z^ 16 + 0.43660664490808 *z^ 84 + 0.17086374344729 *z^ 61 )* (  + 0.186219167573697 *z^ 32 + 0.231601854822831 *z^ 20 + 0.190646426625737 *z^ 39 + 0.0719326220050632 *z^ 9 + 0.319599928972672 *z^ 6 )'</span>"
      ],
      "text/latex": [
       "'(  + 0.426553365573746 *z\\textasciicircum{} 4 + 0.0968113833356354 *z\\textasciicircum{} 7 + 0.297391764729038 *z\\textasciicircum{} 1 + 0.0572971531183891 *z\\textasciicircum{} 2 + 0.121946333243192 *z\\textasciicircum{} 13 )* (  + 0.193838970855887 *z\\textasciicircum{} 89 + 0.00672228351427974 *z\\textasciicircum{} 45 + 0.191968357274463 *z\\textasciicircum{} 16 + 0.43660664490808 *z\\textasciicircum{} 84 + 0.17086374344729 *z\\textasciicircum{} 61 )* (  + 0.186219167573697 *z\\textasciicircum{} 32 + 0.231601854822831 *z\\textasciicircum{} 20 + 0.190646426625737 *z\\textasciicircum{} 39 + 0.0719326220050632 *z\\textasciicircum{} 9 + 0.319599928972672 *z\\textasciicircum{} 6 )'"
      ],
      "text/markdown": [
       "<span style=white-space:pre-wrap>'(  + 0.426553365573746 *z^ 4 + 0.0968113833356354 *z^ 7 + 0.297391764729038 *z^ 1 + 0.0572971531183891 *z^ 2 + 0.121946333243192 *z^ 13 )* (  + 0.193838970855887 *z^ 89 + 0.00672228351427974 *z^ 45 + 0.191968357274463 *z^ 16 + 0.43660664490808 *z^ 84 + 0.17086374344729 *z^ 61 )* (  + 0.186219167573697 *z^ 32 + 0.231601854822831 *z^ 20 + 0.190646426625737 *z^ 39 + 0.0719326220050632 *z^ 9 + 0.319599928972672 *z^ 6 )'</span>"
      ],
      "text/plain": [
       "[1] \"(  + 0.426553365573746 *z^ 4 + 0.0968113833356354 *z^ 7 + 0.297391764729038 *z^ 1 + 0.0572971531183891 *z^ 2 + 0.121946333243192 *z^ 13 )* (  + 0.193838970855887 *z^ 89 + 0.00672228351427974 *z^ 45 + 0.191968357274463 *z^ 16 + 0.43660664490808 *z^ 84 + 0.17086374344729 *z^ 61 )* (  + 0.186219167573697 *z^ 32 + 0.231601854822831 *z^ 20 + 0.190646426625737 *z^ 39 + 0.0719326220050632 *z^ 9 + 0.319599928972672 *z^ 6 )\""
      ]
     },
     "metadata": {},
     "output_type": "display_data"
    }
   ],
   "source": [
    "#Формируем производящую функцию X в виде строки\n",
    "Px<-paste(\"(\",Px1,\")*\",\"(\",Px2,\")*\",\"(\",Px3,\")\")\n",
    "Px"
   ]
  },
  {
   "cell_type": "code",
   "execution_count": 50,
   "id": "3b6f371d-e1ea-4d9c-9d40-99beb448f6db",
   "metadata": {},
   "outputs": [
    {
     "data": {
      "text/html": [
       "<pre class=language-r><code>function (z) \n",
       "{\n",
       "<span style=white-space:pre-wrap>    eval(D(parse(text = Px), \"z\"))</span>\n",
       "}</code></pre>"
      ],
      "text/latex": [
       "\\begin{minted}{r}\n",
       "function (z) \n",
       "\\{\n",
       "    eval(D(parse(text = Px), \"z\"))\n",
       "\\}\n",
       "\\end{minted}"
      ],
      "text/markdown": [
       "```r\n",
       "function (z) \n",
       "{\n",
       "    eval(D(parse(text = Px), \"z\"))\n",
       "}\n",
       "```"
      ],
      "text/plain": [
       "function(z){eval(D(parse(text=Px),\"z\"))}"
      ]
     },
     "metadata": {},
     "output_type": "display_data"
    }
   ],
   "source": [
    "#Дифференцируем производящую функцию и строим из строки результата функцию\n",
    "DPx<-function(z){eval(D(parse(text=Px),\"z\"))}\n",
    "DPx"
   ]
  },
  {
   "cell_type": "code",
   "execution_count": 52,
   "id": "9e8a8edc-3679-4f31-a905-f4eace28a95d",
   "metadata": {},
   "outputs": [
    {
     "data": {
      "text/html": [
       "92.6957472211434"
      ],
      "text/latex": [
       "92.6957472211434"
      ],
      "text/markdown": [
       "92.6957472211434"
      ],
      "text/plain": [
       "[1] 92.69575"
      ]
     },
     "metadata": {},
     "output_type": "display_data"
    }
   ],
   "source": [
    "#Находим математическое ожидание X\n",
    "DPx(1)"
   ]
  },
  {
   "cell_type": "code",
   "execution_count": 57,
   "id": "46962bc2-dc2f-4b35-9da8-a56ec9a5ec50",
   "metadata": {},
   "outputs": [],
   "source": [
    "## Определяем производные высших порядков\n",
    "DD <- function(expr, name, order = 1) {\n",
    "   if(order < 1) stop(\"'order' must be >= 1\")\n",
    "   if(order == 1) D(expr, name)\n",
    "   else DD(D(expr, name), name, order - 1)\n",
    "}"
   ]
  },
  {
   "cell_type": "code",
   "execution_count": 58,
   "id": "e657d1ee-aa46-4f10-a2ab-3389fc67dd4b",
   "metadata": {},
   "outputs": [
    {
     "data": {
      "text/html": [
       "<pre class=language-r><code>function (z) \n",
       "{\n",
       "<span style=white-space:pre-wrap>    eval(DD(parse(text = Px), \"z\", 2))</span>\n",
       "}</code></pre>"
      ],
      "text/latex": [
       "\\begin{minted}{r}\n",
       "function (z) \n",
       "\\{\n",
       "    eval(DD(parse(text = Px), \"z\", 2))\n",
       "\\}\n",
       "\\end{minted}"
      ],
      "text/markdown": [
       "```r\n",
       "function (z) \n",
       "{\n",
       "    eval(DD(parse(text = Px), \"z\", 2))\n",
       "}\n",
       "```"
      ],
      "text/plain": [
       "function(z){eval(DD(parse(text=Px),\"z\",2))}"
      ]
     },
     "metadata": {},
     "output_type": "display_data"
    }
   ],
   "source": [
    "DDPx<-function(z){eval(DD(parse(text=Px),\"z\",2))}\n",
    "DDPx"
   ]
  },
  {
   "cell_type": "code",
   "execution_count": 61,
   "id": "f5820f6f-417b-4013-ac36-dd1363c47f44",
   "metadata": {},
   "outputs": [
    {
     "data": {
      "text/html": [
       "908.332722580129"
      ],
      "text/latex": [
       "908.332722580129"
      ],
      "text/markdown": [
       "908.332722580129"
      ],
      "text/plain": [
       "[1] 908.3327"
      ]
     },
     "metadata": {},
     "output_type": "display_data"
    }
   ],
   "source": [
    "#Вычисляем дисперсию X\n",
    "DDPx(1)+DPx(1)-(DPx(1))^2"
   ]
  },
  {
   "cell_type": "markdown",
   "id": "25c34536-c2b7-4385-b849-381cf33d0d3a",
   "metadata": {},
   "source": [
    "Среднее квадратическое отклонение:"
   ]
  },
  {
   "cell_type": "code",
   "execution_count": 70,
   "id": "0e180ece-850b-4b14-99f5-3e1d4cb605c1",
   "metadata": {},
   "outputs": [
    {
     "data": {
      "text/html": [
       "30.138558734288"
      ],
      "text/latex": [
       "30.138558734288"
      ],
      "text/markdown": [
       "30.138558734288"
      ],
      "text/plain": [
       "[1] 30.13856"
      ]
     },
     "metadata": {},
     "output_type": "display_data"
    }
   ],
   "source": [
    "sqrt(908.332722580129)"
   ]
  },
  {
   "cell_type": "markdown",
   "id": "a2e3e722-d350-4103-9637-dc453b71acdc",
   "metadata": {},
   "source": [
    "Коэффициент вариации:"
   ]
  },
  {
   "cell_type": "code",
   "execution_count": 71,
   "id": "a921078c-172b-403d-92e1-7c451a0ba522",
   "metadata": {},
   "outputs": [
    {
     "data": {
      "text/html": [
       "32.5134212062466"
      ],
      "text/latex": [
       "32.5134212062466"
      ],
      "text/markdown": [
       "32.5134212062466"
      ],
      "text/plain": [
       "[1] 32.51342"
      ]
     },
     "metadata": {},
     "output_type": "display_data"
    }
   ],
   "source": [
    "30.138558734288/92.6957472211434*100"
   ]
  },
  {
   "cell_type": "markdown",
   "id": "89c5d616-2d65-42cc-9ffe-6c40e4755e5a",
   "metadata": {},
   "source": [
    "## Экспериментальный расчет"
   ]
  },
  {
   "cell_type": "code",
   "execution_count": 69,
   "id": "955d8951-6230-423f-a88a-e66490ed9450",
   "metadata": {},
   "outputs": [
    {
     "name": "stdout",
     "output_type": "stream",
     "text": [
      "[1] 92.68192\n",
      "[1] 907.9846\n"
     ]
    }
   ],
   "source": [
    "N<-100000\n",
    "XX1<-c()\n",
    "XX2<-c()\n",
    "XX3<-c()\n",
    "for (i in c(1:N)){\n",
    "    f<-runif(1)\n",
    "    pp<-0; ppp<-p1[1]\n",
    "    for (j in c(1:length(p1))){\n",
    "        if ((f>pp) & (f<=ppp)) XX1<-c(XX1,X1[j])\n",
    "        if (j != length(p1)) pp<-ppp; ppp<-ppp+p1[j+1]}\n",
    "    f<-runif(1)\n",
    "    pp<-0; ppp<-p2[1]\n",
    "    for (j in c(1:length(p2))){\n",
    "        if ((f>pp) & (f<=ppp)) XX2<-c(XX2,X2[j])\n",
    "        if (j != length(p2)) pp<-ppp; ppp<-ppp+p2[j+1]}\n",
    "    f<-runif(1)\n",
    "    pp<-0; ppp<-p3[1]\n",
    "    for (j in c(1:length(p3))){\n",
    "        if ((f>pp) & (f<=ppp)) XX3<-c(XX3,X3[j])\n",
    "        if (j != length(p3)) pp<-ppp; ppp<-ppp+p3[j+1]}\n",
    "    }\n",
    "print(mean(XX1+XX2+XX3))\n",
    "print((sd(XX1+XX2+XX3))^2)\n",
    "    "
   ]
  },
  {
   "cell_type": "markdown",
   "id": "e4bed1a2-cb86-4688-ab2a-8964f4de8c9a",
   "metadata": {
    "tags": []
   },
   "source": [
    "## Задание 2.\n",
    "\n",
    "Заданы три независимые целочисленные неотрицательные случайные величины $X_1, X_2, X_3$, распределенные по закону Пуассона, необходимо найти математическое ожидание, дисперсию, среднее квадратическое отклонение и коэффициент вариации случайной величины $X_1+X_2+X_3$ численно и теоретически.\n",
    "Параметры закона Пуассона для $X_1, X_2, X_3$ определить в соответствии с вариантом."
   ]
  },
  {
   "cell_type": "code",
   "execution_count": 5,
   "id": "3ec37643-101e-4b3c-b666-021465d56f2c",
   "metadata": {},
   "outputs": [
    {
     "data": {
      "text/html": [
       "<style>\n",
       ".list-inline {list-style: none; margin:0; padding: 0}\n",
       ".list-inline>li {display: inline-block}\n",
       ".list-inline>li:not(:last-child)::after {content: \"\\00b7\"; padding: 0 .5ex}\n",
       "</style>\n",
       "<ol class=list-inline><li>0.2655086631421</li><li>0.37212389963679</li><li>0.572853363351896</li></ol>\n"
      ],
      "text/latex": [
       "\\begin{enumerate*}\n",
       "\\item 0.2655086631421\n",
       "\\item 0.37212389963679\n",
       "\\item 0.572853363351896\n",
       "\\end{enumerate*}\n"
      ],
      "text/markdown": [
       "1. 0.2655086631421\n",
       "2. 0.37212389963679\n",
       "3. 0.572853363351896\n",
       "\n",
       "\n"
      ],
      "text/plain": [
       "[1] 0.2655087 0.3721239 0.5728534"
      ]
     },
     "metadata": {},
     "output_type": "display_data"
    }
   ],
   "source": [
    "Variant<-1\n",
    "set.seed(Variant) \n",
    "runif(3)"
   ]
  },
  {
   "cell_type": "markdown",
   "id": "8e953aac-8527-46b5-9e33-27031c21352c",
   "metadata": {},
   "source": [
    "$$p_n^{X_i}=\\frac{(\\lambda_i\\cdot t)^n}{n!}e^{-\\lambda_i\\cdot t}$$\n",
    "Находим производящие функции:\n",
    "$$P_{X_1}(z)=\\sum_{n=0}^\\infty p_n^{X_1} z^n=\\sum_{n=0}^\\infty\\frac{(\\lambda_1 t)^n}{n!}e^{-\\lambda_1 t}z^n=e^{-\\lambda_1 t}\\cdot e^{\\lambda_1 t z}=e^{-\\lambda_1 t(1-z)}$$\n",
    "$$P_{X_2}(z)=e^{-\\lambda_2 t(1-z)}$$\n",
    "$$P_{X_3}(z)=e^{-\\lambda_3 t(1-z)}$$"
   ]
  },
  {
   "cell_type": "markdown",
   "id": "8f4afcc6-6bc9-4b57-b093-0a7f43c9e64a",
   "metadata": {},
   "source": [
    "Находим производящую функцию суммы $X=X_1+X_2+X_3$:\n",
    "$$P_X(z)=e^{-\\lambda_1 t(1-z)}\\cdot e^{-\\lambda_2 t(1-z)}\\cdot e^{-\\lambda_3 t(1-z)}=e^{-(\\lambda_1+\\lambda_2+\\lambda_3) t(1-z)}$$"
   ]
  },
  {
   "cell_type": "markdown",
   "id": "831fb03e-088e-4f18-b62e-4ea93d78abd0",
   "metadata": {},
   "source": [
    "Находим математическое ожидание и дисперсию:\n",
    "$$P_X'(z)=(\\lambda_1+\\lambda_2+\\lambda_3) t\\cdot e^{-(\\lambda_1+\\lambda_2+\\lambda_3) t(1-z)}$$\n",
    "$$M(X)=P_X'(z)|_{z=1}=(\\lambda_1+\\lambda_2+\\lambda_3) t$$"
   ]
  },
  {
   "cell_type": "markdown",
   "id": "86d5315c-16e0-4f1f-8841-50b3191ca69f",
   "metadata": {},
   "source": [
    "$$P_X''(z)=(\\lambda_1+\\lambda_2+\\lambda_3)^2 t^2\\cdot e^{-(\\lambda_1+\\lambda_2+\\lambda_3) t(1-z)}$$\n",
    "$$P_X''(1)=(\\lambda_1+\\lambda_2+\\lambda_3)^2 t^2$$\n",
    "$$D(X)=P_X''(z)|_{z=1}+P_X'(z)|_{z=1}-\\left(P_X'(z)|_{z=1}\\right)^2=(\\lambda_1+\\lambda_2+\\lambda_3)^2 t^2+(\\lambda_1+\\lambda_2+\\lambda_3) t-(\\lambda_1+\\lambda_2+\\lambda_3)^2 t^2=(\\lambda_1+\\lambda_2+\\lambda_3) t$$"
   ]
  },
  {
   "cell_type": "markdown",
   "id": "2cec74bc-b694-43a5-a5f5-a66c2fa98f14",
   "metadata": {},
   "source": [
    "Таким образом, сумма трех случайных величин, распределенных по закону Пуассона с параметрами $\\lambda_1, \\lambda_2, \\lambda_3$ соответственно, также является случайной величиной, распределеннной по закону Пуассона с параметром $\\lambda_1+ \\lambda_2+ \\lambda_3$"
   ]
  },
  {
   "cell_type": "code",
   "execution_count": 72,
   "id": "937acc4c-6eaf-4815-b93c-ab90379d5432",
   "metadata": {},
   "outputs": [],
   "source": [
    "#Задаем параметры\n",
    "lambda1<-0.2655086631421\n",
    "lambda2<-0.37212389963679\n",
    "lambda3<-0.572853363351896\n",
    "t<-2"
   ]
  },
  {
   "cell_type": "code",
   "execution_count": 73,
   "id": "fb4201e7-ed90-4718-b650-e38018a3dd6f",
   "metadata": {},
   "outputs": [
    {
     "data": {
      "text/html": [
       "2.42097185226157"
      ],
      "text/latex": [
       "2.42097185226157"
      ],
      "text/markdown": [
       "2.42097185226157"
      ],
      "text/plain": [
       "[1] 2.420972"
      ]
     },
     "metadata": {},
     "output_type": "display_data"
    }
   ],
   "source": [
    "#Выполняем теоретический расчет математического ожидания и дисперсии\n",
    "(lambda1+lambda2+lambda3)*t"
   ]
  },
  {
   "cell_type": "code",
   "execution_count": 74,
   "id": "7ffed953-4ec7-400a-9684-da97f7bf7326",
   "metadata": {},
   "outputs": [
    {
     "data": {
      "text/html": [
       "1.55594725240336"
      ],
      "text/latex": [
       "1.55594725240336"
      ],
      "text/markdown": [
       "1.55594725240336"
      ],
      "text/plain": [
       "[1] 1.555947"
      ]
     },
     "metadata": {},
     "output_type": "display_data"
    }
   ],
   "source": [
    "#Расчет среднего квадратического отклонения:\n",
    "sqrt(2.42097185226157)"
   ]
  },
  {
   "cell_type": "code",
   "execution_count": 75,
   "id": "6ee88f87-3d9d-4c80-88ff-33455215317f",
   "metadata": {},
   "outputs": [
    {
     "data": {
      "text/html": [
       "64.2695308890047"
      ],
      "text/latex": [
       "64.2695308890047"
      ],
      "text/markdown": [
       "64.2695308890047"
      ],
      "text/plain": [
       "[1] 64.26953"
      ]
     },
     "metadata": {},
     "output_type": "display_data"
    }
   ],
   "source": [
    "#Расчет коэффициента вариации:\n",
    "1.55594725240336/2.42097185226157*100"
   ]
  },
  {
   "cell_type": "markdown",
   "id": "d8dec7de-43bd-468c-a3cb-d8d7b4c8ca5c",
   "metadata": {},
   "source": [
    "## Экспериментальный расчет"
   ]
  },
  {
   "cell_type": "code",
   "execution_count": 77,
   "id": "a7d50535-9eac-448c-877e-611d8e7be687",
   "metadata": {},
   "outputs": [
    {
     "name": "stdout",
     "output_type": "stream",
     "text": [
      "[1] 2.421097\n",
      "[1] 2.419991\n"
     ]
    }
   ],
   "source": [
    "N<-10000000\n",
    "X1<-rpois(N, lambda1*t)\n",
    "X2<-rpois(N, lambda2*t)\n",
    "X3<-rpois(N, lambda3*t)\n",
    "X<-X1+X2+X3\n",
    "print(mean(X))\n",
    "print((sd(X))^2)"
   ]
  },
  {
   "cell_type": "markdown",
   "id": "50e64f58-9faf-44d6-b9e7-55e69fe2c043",
   "metadata": {},
   "source": [
    "## Задание 3.\n",
    "Обработка сообщения в специализированной ВС осуществляется $K$ последовательными программами. Длительность работы\n",
    "каждой программы представляет собой случайную величину, распределенную экспоненциально со средним значением $T=\\frac{1}{\\lambda}$. Найти преобразование Лапласа-Стилтьеса распределения длительности обработки сообщения в ВС, его математическое ожидание и дисперсию.\n",
    "Также построить модель и провести численный расчет."
   ]
  },
  {
   "cell_type": "code",
   "execution_count": 6,
   "id": "de51dab9-11c2-4174-b3e7-2dbb6aece235",
   "metadata": {},
   "outputs": [
    {
     "data": {
      "text/html": [
       "0.0617862704675645"
      ],
      "text/latex": [
       "0.0617862704675645"
      ],
      "text/markdown": [
       "0.0617862704675645"
      ],
      "text/plain": [
       "[1] 0.06178627"
      ]
     },
     "metadata": {},
     "output_type": "display_data"
    }
   ],
   "source": [
    "Variant<-1\n",
    "alpha<-runif(7)[7]\n",
    "alpha"
   ]
  },
  {
   "cell_type": "markdown",
   "id": "2190350a-c47e-459d-ad0b-48d50dea89da",
   "metadata": {},
   "source": [
    "Экспоненциальное (показательное) распределение:\n",
    "$$F(t)=1-e^{-\\lambda t}, t>0$$\n",
    "Функция плотности распределения равна:\n",
    "$$f(t)=F'(t)=\\lambda e^{-\\lambda t}$$"
   ]
  },
  {
   "cell_type": "markdown",
   "id": "26ab6aff-4e58-4a55-b787-b65638c20dc6",
   "metadata": {},
   "source": [
    "Найдем преобразование Лапласа-Стилтьеса случайной величины $t_i$ длительности работы $i$-й программы:\n",
    "$$\\beta_i(s)=\\int_0^\\infty e^{-st}\\lambda\\cdot e^{-\\lambda t}dt=\\lambda\\cdot \\int_0^\\infty e^{-(s+\\lambda)t}dt=-\\frac{\\lambda}{s+\\lambda}\\int_0^\\infty d\\left(e^{-(s+\\lambda)t}\\right)=-\\frac{\\lambda}{s+\\lambda}\\cdot e^{-(s+\\lambda)t}|_{0}^{\\infty}=\\frac{\\lambda}{s+\\lambda}$$"
   ]
  },
  {
   "cell_type": "markdown",
   "id": "433b59c6-5ede-4ae6-8d72-8435f54f313c",
   "metadata": {},
   "source": [
    "Поскольку по условию задачи длительность работы каждой программы характеризуется одинаковым законом распределения, то преобразование Лапласса-Стилтьеса суммы этих случайных независимых величин $t=\\sum_{i=1}^k t_i$ выразится следующим образом:\n",
    "$$\\beta(s)=\\frac{\\lambda^k}{(s+\\lambda)^k}$$"
   ]
  },
  {
   "cell_type": "markdown",
   "id": "e31745be-2c73-45ab-893c-23fca61bee5c",
   "metadata": {},
   "source": [
    "Найдем математическое ожидание:\n",
    "$$\\beta'(s)=-k\\cdot \\frac{\\lambda^k}{(s+\\lambda)^{k+1}}$$\n",
    "$$M(t)=-\\beta'(s)|_{s=0}=k\\cdot \\frac{\\lambda^k}{(s+\\lambda)^{k+1}}|_{s=0}=\\frac{k}{\\lambda}$$"
   ]
  },
  {
   "cell_type": "markdown",
   "id": "1e4e52c0-720a-47a5-b310-153494bc4e34",
   "metadata": {},
   "source": [
    "Найдем дисперсию:\n",
    "$$\\beta''(s)=k(k+1)\\cdot \\frac{\\lambda^k}{(s+\\lambda)^{k+2}}$$\n",
    "$$D(t)=\\beta''(0)-\\left(\\beta'(0)\\right)^2$$\n",
    "$$D(t)=\\frac{k(k+1)}{\\lambda^2}-\\frac{k^2}{\\lambda^2}=\\frac{k}{\\lambda^2}$$"
   ]
  },
  {
   "cell_type": "code",
   "execution_count": 1,
   "id": "a62edac1-b6b1-4de1-ac6b-d0886f7eb6a6",
   "metadata": {},
   "outputs": [
    {
     "name": "stdout",
     "output_type": "stream",
     "text": [
      "[1] 80.92413\n",
      "[1] 1309.743\n"
     ]
    }
   ],
   "source": [
    "#Экспериментальный расчет\n",
    "k<-5\n",
    "lambda<-0.0617862704675645\n",
    "print(k/lambda)\n",
    "print(k/lambda^2)"
   ]
  },
  {
   "cell_type": "code",
   "execution_count": 3,
   "id": "11283e93-9a08-4f56-bece-69ffd3a47477",
   "metadata": {},
   "outputs": [
    {
     "name": "stdout",
     "output_type": "stream",
     "text": [
      "[1] 80.87691\n",
      "[1] 1312.344\n"
     ]
    }
   ],
   "source": [
    "N<-100000\n",
    "X<-c()\n",
    "for (i in c(1:N)){\n",
    "    X<-c(X,sum(rexp(k, lambda)))\n",
    "    }\n",
    "print(mean(X))\n",
    "print((sd(X))^2)"
   ]
  },
  {
   "cell_type": "markdown",
   "id": "a34033f7-9b44-4151-bf9e-c70ad22ca733",
   "metadata": {},
   "source": [
    "## Задание 4.\n",
    "\n",
    "Доказать, что сумма величин, распределенных по закону Пуассона с параметрами $\\alpha_1, \\alpha_2,\\ldots$ , распределена по закону Пуассона, также обосновать это экспериментально."
   ]
  },
  {
   "cell_type": "markdown",
   "id": "c63fb6fc-17cb-4e96-b691-3e85496aed90",
   "metadata": {},
   "source": [
    "Следуем выводам задания 2:\n",
    "\n",
    "Пусть $X=\\sum_{i=1}^k X_i$, $p_n^{X_i}=\\frac{(\\lambda_i\\cdot t)^n}{n!}e^{-\\lambda_i\\cdot t}$ - вероятность, что случайная величина $X_i$ примет значение $n$.\n",
    "\n"
   ]
  },
  {
   "cell_type": "markdown",
   "id": "cfa61fc8-6b3b-487b-acfd-73d7afde4fb0",
   "metadata": {},
   "source": [
    "Из доказанного в задании 2 следует, что при $k=3$ производящая функция \n",
    "$$P_X(z)=e^{-\\lambda_1 t(1-z)}\\cdot e^{-\\lambda_2 t(1-z)}\\cdot e^{-\\lambda_3 t(1-z)}=e^{-(\\lambda_1+\\lambda_2+\\lambda_3) t(1-z)}$$\n",
    "соответствует производящей функции от случайной величины, распределенной по закону Пуассона с параметром $\\lambda_1+\\lambda_2+\\lambda_3$.\n",
    "В общем виде соотношение сохранится:\n",
    "$$P_X(z)=\\prod_{i=1}^k e^{-\\lambda_i t(1-z)}=e^{-\\left(\\sum_{i=1}^k \\lambda_i\\right)\\cdot t(1-z)}=\\sum_{n=0}^\\infty p_nz^n$$"
   ]
  },
  {
   "cell_type": "markdown",
   "id": "98c3951f-9e77-4bae-821f-99df55f243de",
   "metadata": {},
   "source": [
    "Обозначим $\\lambda=\\sum_{i=1}^k\\lambda_i$, тогда имеем:\n",
    "$$e^{-\\lambda\\cdot t\\cdot (1-z)}\\approx e^{-\\lambda t}\\left(1+\\frac{\\lambda\\cdot t\\cdot z}{1!}+\\frac{\\left(\\lambda\\cdot t\\cdot z)\\right)^2}{2!}+\\frac{\\left(\\lambda\\cdot t\\cdot z\\right)^3}{3!}+\\ldots\\right)=\\sum_{n=0}^\\infty\\frac{(\\lambda t)^n}{n!}e^{-\\lambda t}z^n\\Rightarrow p_n=\\frac{(\\lambda t)^n}{n!}e^{-\\lambda t}$$"
   ]
  },
  {
   "cell_type": "markdown",
   "id": "bf6cf30a-8978-49f2-8b3c-fc0538f97b20",
   "metadata": {},
   "source": [
    "Таким образом, математическое ожидание, дисперсия суммы $k$ случайных величин, распределенных по закону Пуассона:\n",
    "$$M(X)=D(X)=\\left(\\sum_{i=1}^k \\lambda_i\\right)\\cdot t$$\n"
   ]
  },
  {
   "cell_type": "markdown",
   "id": "f1905064-e650-424f-a9e0-61d8f76825bd",
   "metadata": {},
   "source": [
    "## Экспериментальная проверка"
   ]
  },
  {
   "cell_type": "code",
   "execution_count": 2,
   "id": "15f7d6d4-d564-4909-b47c-ff86376c09a9",
   "metadata": {},
   "outputs": [
    {
     "name": "stdout",
     "output_type": "stream",
     "text": [
      "[1] 2.169166\n",
      "[1] 2.16166\n",
      "[1] 2.169348\n"
     ]
    }
   ],
   "source": [
    "N<-100000\n",
    "k<-5\n",
    "t<-1\n",
    "X<-c()\n",
    "lambda<-runif(k)\n",
    "for (i in c(1:N)){\n",
    "    xx<-c()\n",
    "    for (j in c(1:k)){ xx<-c(xx,rpois(1, lambda[j]*t))}\n",
    "    X<-c(X, sum(xx))\n",
    "    }\n",
    "print(sum(lambda)*t)\n",
    "print(mean(X))\n",
    "print((sd(X))^2)"
   ]
  },
  {
   "cell_type": "markdown",
   "id": "a4a5165a-5342-4a55-ad0a-560d12642fa0",
   "metadata": {},
   "source": [
    "## Задание 5.\n",
    "\n",
    "Серверная станция состоит из двух модулей питания. Время безотказной работы каждого из них распределено по показательному закону с одинаковыми параметрами:\n",
    "$$f(t)=\\lambda e^{-\\lambda t}$$\n",
    "$t$ - время работы одного модуля до первого отказа.\n",
    "Второй модуль питания включается сразу же после отказа первого. Определить плотность вероятности времени безотказной работы всей системы, а также математическое ожидание и дисперсию времени безотказной работы."
   ]
  },
  {
   "cell_type": "code",
   "execution_count": 3,
   "id": "ec19d493-1f0e-4733-bb3b-cbcd946c8655",
   "metadata": {},
   "outputs": [
    {
     "data": {
      "text/html": [
       "0.945254405029118"
      ],
      "text/latex": [
       "0.945254405029118"
      ],
      "text/markdown": [
       "0.945254405029118"
      ],
      "text/plain": [
       "[1] 0.9452544"
      ]
     },
     "metadata": {},
     "output_type": "display_data"
    }
   ],
   "source": [
    "Variant<-1 \n",
    "alpha<-runif(100)[77]\n",
    "alpha"
   ]
  },
  {
   "cell_type": "markdown",
   "id": "eb7e06a3-9565-4e76-ae94-a13c614ce36e",
   "metadata": {},
   "source": [
    "## Теоретическое решение"
   ]
  },
  {
   "cell_type": "markdown",
   "id": "ad6fd50f-8f21-43dc-af55-ca16e4e48b8b",
   "metadata": {},
   "source": [
    "Функция плотности распределения вероятностей композиции в виде суммы этих случайных величин $t=t_1+t_2$ выразится:\n",
    "$$f_{t}=\\int_{A(t)}^{B(t)} f_{t_1}(t_1)\\cdot f_{t_2}(t-t_1)d t_1$$\n",
    "Пределы интегрирования вычисляются:\n",
    "$$A(t)=a+\\frac{t-(a+d)+|t-(a+d)|}{2}$$\n",
    "$$B(t)=b+\\frac{t-(b+c)-|t-(b+c)|}{2}$$\n",
    "$$a\\leq t_1\\leq b, c\\leq t_2\\leq d$$"
   ]
  },
  {
   "cell_type": "markdown",
   "id": "8e0e133b-597d-4bae-9de8-574a6c279fd2",
   "metadata": {},
   "source": [
    "Исходя из условий задачи, время безотказной работы каждого из них распределено по показательному закону с одинаковыми параметрами:\n",
    "$$f(t)=\\lambda e^{-\\lambda t}, t\\geq 0$$\n",
    "$$a=c=0, b=d=\\infty$$"
   ]
  },
  {
   "cell_type": "markdown",
   "id": "b157793f-ff69-46ae-92fe-bd29ca0d08f3",
   "metadata": {},
   "source": [
    "$$A(t)=0+\\frac{t-a-d-t+a+d}{2}=0$$\n",
    "$$B(t)=b+\\frac{t-b-c+t-b-c}{2}=t$$"
   ]
  },
  {
   "cell_type": "markdown",
   "id": "496ed193-a009-4fa4-b03e-221e3ba2a1bd",
   "metadata": {},
   "source": [
    "$$f_{t}(t)=\\int_0^t \\lambda e^{-\\lambda t_1}\\lambda e^{-\\lambda (t-t_1)}dt_1=\\lambda^2\\cdot e^{-\\lambda\\cdot t} \\int_0^t dt_1= \\lambda^2\\cdot e^{-\\lambda\\cdot t}\\cdot t$$"
   ]
  },
  {
   "cell_type": "markdown",
   "id": "9df9957a-073a-4e3d-9bfb-26480a49f251",
   "metadata": {},
   "source": [
    "Находим преобразование Лапласа-Стилтьеса:\n",
    "$$\\beta(s)=\\int_0^\\infty f_t(t)e^{-st}dt=\\lambda^2\\cdot \\int_0^\\infty t\\cdot e^{-t(s+\\lambda)}dt$$"
   ]
  },
  {
   "cell_type": "markdown",
   "id": "1acf4c4d-c521-4eb4-9931-2950a308b4b9",
   "metadata": {},
   "source": [
    "$$\\beta(s)=-\\frac{\\lambda^2}{s+\\lambda}\\cdot \\int_0^\\infty td e^{-t(s+\\lambda)}=-\\frac{\\lambda^2}{s+\\lambda}\\cdot\\left(t\\cdot e^{-t(s+\\lambda)}\\vert_0^\\infty-\\int_0^\\infty e^{-t(s+\\lambda)}dt\\right)$$"
   ]
  },
  {
   "cell_type": "markdown",
   "id": "1ddbf402-c590-4fd5-8a3c-21c76121c78b",
   "metadata": {},
   "source": [
    "$$\\beta(s)=-\\frac{\\lambda^2}{(s+\\lambda)^2}\\int_0^\\infty de^{-t(s+\\lambda)}=\\frac{\\lambda^2}{(s+\\lambda)^2}$$"
   ]
  },
  {
   "cell_type": "markdown",
   "id": "330d7afe-34fb-480c-99dc-2f0318e44463",
   "metadata": {},
   "source": [
    "$$M(t)=-\\beta'(s)|_{s=0}=\\frac{2\\lambda^2}{(s+\\lambda)^3}|_{s=0}=\\frac{2}{\\lambda}$$"
   ]
  },
  {
   "cell_type": "markdown",
   "id": "35914931-5979-4e25-9e23-46be674b4fab",
   "metadata": {},
   "source": [
    "$$D(t)=\\beta''(s)|_{s=0}-(\\beta'(s))^2|_{s=0}=\\frac{6\\lambda^2}{(s+\\lambda)^4}|_{s=0}-\\frac{4}{\\lambda^2}=\\frac{2}{\\lambda^2}$$"
   ]
  },
  {
   "cell_type": "markdown",
   "id": "94199343-5b06-4350-b27c-cb4d1b1fec44",
   "metadata": {},
   "source": [
    "## Экспериментальная проверка"
   ]
  },
  {
   "cell_type": "code",
   "execution_count": 4,
   "id": "01444669-e563-4ab8-96c2-462cb8f9202f",
   "metadata": {},
   "outputs": [
    {
     "name": "stdout",
     "output_type": "stream",
     "text": [
      "[1] 2.115833\n",
      "[1] 2.238374\n"
     ]
    }
   ],
   "source": [
    "lambda<-0.945254405029118\n",
    "print(2/lambda)\n",
    "print(2/lambda^2)"
   ]
  },
  {
   "cell_type": "code",
   "execution_count": 5,
   "id": "543b9d1c-1011-4b58-8154-7a7e32f7ec37",
   "metadata": {},
   "outputs": [
    {
     "name": "stdout",
     "output_type": "stream",
     "text": [
      "[1] 2.110108\n",
      "[1] 2.213546\n"
     ]
    }
   ],
   "source": [
    "X<-c()\n",
    "N<-100000\n",
    "for (i in c(1:N)){\n",
    "    X<-c(X,rexp(1,lambda)+rexp(1,lambda))}\n",
    "print(mean(X))\n",
    "print((sd(X))^2)"
   ]
  },
  {
   "cell_type": "code",
   "execution_count": null,
   "id": "85d84fb2-c64b-40c2-8e26-8d5b8eb17938",
   "metadata": {},
   "outputs": [],
   "source": []
  }
 ],
 "metadata": {
  "kernelspec": {
   "display_name": "R",
   "language": "R",
   "name": "ir"
  },
  "language_info": {
   "codemirror_mode": "r",
   "file_extension": ".r",
   "mimetype": "text/x-r-source",
   "name": "R",
   "pygments_lexer": "r",
   "version": "4.2.2"
  }
 },
 "nbformat": 4,
 "nbformat_minor": 5
}
