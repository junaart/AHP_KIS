{
 "cells": [
  {
   "cell_type": "markdown",
   "id": "cf581e31-2634-463a-bbdd-cd7eb4a5789d",
   "metadata": {},
   "source": [
    "# Демонстрация"
   ]
  },
  {
   "cell_type": "code",
   "execution_count": 37,
   "id": "04fa480f-212d-4d15-92c3-b42f450659d1",
   "metadata": {
    "tags": []
   },
   "outputs": [],
   "source": [
    "library(Ryacas)\n"
   ]
  },
  {
   "cell_type": "code",
   "execution_count": 14,
   "id": "4ac4e3f1-a8df-4328-a97c-806a9b2671e2",
   "metadata": {
    "tags": []
   },
   "outputs": [
    {
     "data": {
      "text/plain": [
       "expression(0.2 * z^12 + 0.12 * z^10 + 0.25 * z^9 + 0.13 * z^8 + \n",
       "    0.15 * z^7 + 0.03 * z^6 + 0.1 * z^5 + 0.02 * z^4)"
      ]
     },
     "metadata": {},
     "output_type": "display_data"
    }
   ],
   "source": [
    "#раскрываем скобки, приводим подобные слагаемые\n",
    "as_r(yac_str(\"Expand((0.2*z^1+0.3*z^3+0.5*z^5)*(0.1*z^3+0.5*z^4+0.4*z^7))\"))"
   ]
  },
  {
   "cell_type": "code",
   "execution_count": 21,
   "id": "323c2b37-02c2-4062-99a5-4a29991bde46",
   "metadata": {
    "tags": []
   },
   "outputs": [
    {
     "data": {
      "text/plain": [
       "expression(2.4 * z^11 + 1.2 * z^9 + 2.25 * z^8 + 1.04 * z^7 + \n",
       "    1.05 * z^6 + 0.18 * z^5 + 0.5 * z^4 + 0.08 * z^3)"
      ]
     },
     "metadata": {},
     "output_type": "display_data"
    }
   ],
   "source": [
    "#Находим первую производную\n",
    "as_r(yac_str(\"D(z,1) Expand((0.2*z^1+0.3*z^3+0.5*z^5)*(0.1*z^3+0.5*z^4+0.4*z^7))\"))"
   ]
  },
  {
   "cell_type": "code",
   "execution_count": 35,
   "id": "3b2db128-4486-408c-816b-1ff78fde09fd",
   "metadata": {
    "tags": []
   },
   "outputs": [
    {
     "data": {
      "text/html": [
       "8.7"
      ],
      "text/latex": [
       "8.7"
      ],
      "text/markdown": [
       "8.7"
      ],
      "text/plain": [
       "[1] 8.7"
      ]
     },
     "metadata": {},
     "output_type": "display_data"
    }
   ],
   "source": [
    "#Подставляем значение переменной\n",
    "eval(as_r(yac_str(\"Subst(z,1) (D(z,1) Expand((0.2*z^1+0.3*z^3+0.5*z^5)*(0.1*z^3+0.5*z^4+0.4*z^7)))\")))"
   ]
  },
  {
   "cell_type": "code",
   "execution_count": 38,
   "id": "ca47303c-71fd-4c54-8e74-0544f34f8b61",
   "metadata": {
    "tags": []
   },
   "outputs": [
    {
     "data": {
      "text/html": [
       "No documentation for ‘Ryacas’ in specified packages and libraries:\n",
       "you could try ‘??Ryacas’"
      ],
      "text/latex": [
       "No documentation for ‘Ryacas’ in specified packages and libraries:\n",
       "you could try ‘??Ryacas’"
      ],
      "text/plain": [
       "No documentation for ‘Ryacas’ in specified packages and libraries:\n",
       "you could try ‘??Ryacas’"
      ]
     },
     "metadata": {},
     "output_type": "display_data"
    }
   ],
   "source": [
    "help(Ryacas)"
   ]
  },
  {
   "cell_type": "code",
   "execution_count": null,
   "id": "8ab959f7-2cd8-4e41-b1fe-e13637262152",
   "metadata": {},
   "outputs": [],
   "source": []
  }
 ],
 "metadata": {
  "kernelspec": {
   "display_name": "R",
   "language": "R",
   "name": "ir"
  },
  "language_info": {
   "codemirror_mode": "r",
   "file_extension": ".r",
   "mimetype": "text/x-r-source",
   "name": "R",
   "pygments_lexer": "r",
   "version": "4.3.1"
  }
 },
 "nbformat": 4,
 "nbformat_minor": 5
}
