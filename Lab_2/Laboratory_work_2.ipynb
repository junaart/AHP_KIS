{
 "cells": [
  {
   "cell_type": "markdown",
   "id": "87fefa8a-beea-4827-ac49-806933db26aa",
   "metadata": {},
   "source": [
    "# Лабораторная работа 2. Методы анализа параметров компонентов моделей функционирования КИС"
   ]
  },
  {
   "cell_type": "markdown",
   "id": "336e7746-cdf6-4b89-8702-a8d1bf0cf7ba",
   "metadata": {},
   "source": [
    "## Задание 1.\n",
    "\n",
    "Заданы три независимые целочисленные неотрицательные случайные величины $X_1, X_2, X_3$, необходимо найти математическое ожидание, дисперсию, среднее квадратическое отклонение и коэффициент вариации случайной величины $X_1+X_2+X_3$ численно и теоретически (из определения и с использованием производящей функции).\n",
    "В таблице ниже по вариантам представлены соответствия значений случайной величины и их вероятности. "
   ]
  },
  {
   "cell_type": "code",
   "execution_count": 3,
   "id": "02188160-4285-4b58-adeb-e991ac17b34e",
   "metadata": {},
   "outputs": [],
   "source": [
    "Variant<-1\n",
    "set.seed(Variant) \n",
    "X1<-sample(c(1:20),5)\n",
    "X2<-sample(c(3:100),5)\n",
    "X3<-sample(c(0:40),5)\n",
    "pp1<-runif(5)\n",
    "p1<-pp1/sum(pp1)\n",
    "pp2<-runif(5)\n",
    "p2<-pp2/sum(pp2)\n",
    "pp3<-runif(5)\n",
    "p3<-pp3/sum(pp3)"
   ]
  },
  {
   "cell_type": "code",
   "execution_count": 4,
   "id": "586ec80f-58c8-4a6f-8b54-5b9ad8723fec",
   "metadata": {},
   "outputs": [
    {
     "data": {
      "text/html": [
       "<table class=\"dataframe\">\n",
       "<caption>A data.frame: 5 × 6</caption>\n",
       "<thead>\n",
       "\t<tr><th scope=col>X1</th><th scope=col>X2</th><th scope=col>X3</th><th scope=col>p1</th><th scope=col>p2</th><th scope=col>p3</th></tr>\n",
       "\t<tr><th scope=col>&lt;int&gt;</th><th scope=col>&lt;int&gt;</th><th scope=col>&lt;int&gt;</th><th scope=col>&lt;dbl&gt;</th><th scope=col>&lt;dbl&gt;</th><th scope=col>&lt;dbl&gt;</th></tr>\n",
       "</thead>\n",
       "<tbody>\n",
       "\t<tr><td> 4</td><td>89</td><td>32</td><td>0.42655337</td><td>0.193838971</td><td>0.18621917</td></tr>\n",
       "\t<tr><td> 7</td><td>45</td><td>20</td><td>0.09681138</td><td>0.006722284</td><td>0.23160185</td></tr>\n",
       "\t<tr><td> 1</td><td>16</td><td>39</td><td>0.29739176</td><td>0.191968357</td><td>0.19064643</td></tr>\n",
       "\t<tr><td> 2</td><td>84</td><td> 9</td><td>0.05729715</td><td>0.436606645</td><td>0.07193262</td></tr>\n",
       "\t<tr><td>13</td><td>61</td><td> 6</td><td>0.12194633</td><td>0.170863743</td><td>0.31959993</td></tr>\n",
       "</tbody>\n",
       "</table>\n"
      ],
      "text/latex": [
       "A data.frame: 5 × 6\n",
       "\\begin{tabular}{llllll}\n",
       " X1 & X2 & X3 & p1 & p2 & p3\\\\\n",
       " <int> & <int> & <int> & <dbl> & <dbl> & <dbl>\\\\\n",
       "\\hline\n",
       "\t  4 & 89 & 32 & 0.42655337 & 0.193838971 & 0.18621917\\\\\n",
       "\t  7 & 45 & 20 & 0.09681138 & 0.006722284 & 0.23160185\\\\\n",
       "\t  1 & 16 & 39 & 0.29739176 & 0.191968357 & 0.19064643\\\\\n",
       "\t  2 & 84 &  9 & 0.05729715 & 0.436606645 & 0.07193262\\\\\n",
       "\t 13 & 61 &  6 & 0.12194633 & 0.170863743 & 0.31959993\\\\\n",
       "\\end{tabular}\n"
      ],
      "text/markdown": [
       "\n",
       "A data.frame: 5 × 6\n",
       "\n",
       "| X1 &lt;int&gt; | X2 &lt;int&gt; | X3 &lt;int&gt; | p1 &lt;dbl&gt; | p2 &lt;dbl&gt; | p3 &lt;dbl&gt; |\n",
       "|---|---|---|---|---|---|\n",
       "|  4 | 89 | 32 | 0.42655337 | 0.193838971 | 0.18621917 |\n",
       "|  7 | 45 | 20 | 0.09681138 | 0.006722284 | 0.23160185 |\n",
       "|  1 | 16 | 39 | 0.29739176 | 0.191968357 | 0.19064643 |\n",
       "|  2 | 84 |  9 | 0.05729715 | 0.436606645 | 0.07193262 |\n",
       "| 13 | 61 |  6 | 0.12194633 | 0.170863743 | 0.31959993 |\n",
       "\n"
      ],
      "text/plain": [
       "  X1 X2 X3 p1         p2          p3        \n",
       "1  4 89 32 0.42655337 0.193838971 0.18621917\n",
       "2  7 45 20 0.09681138 0.006722284 0.23160185\n",
       "3  1 16 39 0.29739176 0.191968357 0.19064643\n",
       "4  2 84  9 0.05729715 0.436606645 0.07193262\n",
       "5 13 61  6 0.12194633 0.170863743 0.31959993"
      ]
     },
     "metadata": {},
     "output_type": "display_data"
    }
   ],
   "source": [
    "View(data.frame(X1, X2, X3, p1, p2, p3))"
   ]
  },
  {
   "cell_type": "markdown",
   "id": "e6d621e3-5b20-4829-888d-c70323d5bdce",
   "metadata": {},
   "source": [
    "## Задание 2.\n",
    "\n",
    "Заданы три независимые целочисленные неотрицательные случайные величины $X_1, X_2, X_3$, распределенные по закону Пуассона, необходимо найти математическое ожидание, дисперсию, среднее квадратическое отклонение и коэффициент вариации случайной величины $X_1+X_2+X_3$ численно и теоретически.\n",
    "Параметры закона Пуассона для $X_1, X_2, X_3$ определить в соответствии с вариантом."
   ]
  },
  {
   "cell_type": "code",
   "execution_count": 5,
   "id": "3ec37643-101e-4b3c-b666-021465d56f2c",
   "metadata": {},
   "outputs": [
    {
     "data": {
      "text/html": [
       "<style>\n",
       ".list-inline {list-style: none; margin:0; padding: 0}\n",
       ".list-inline>li {display: inline-block}\n",
       ".list-inline>li:not(:last-child)::after {content: \"\\00b7\"; padding: 0 .5ex}\n",
       "</style>\n",
       "<ol class=list-inline><li>0.2655086631421</li><li>0.37212389963679</li><li>0.572853363351896</li></ol>\n"
      ],
      "text/latex": [
       "\\begin{enumerate*}\n",
       "\\item 0.2655086631421\n",
       "\\item 0.37212389963679\n",
       "\\item 0.572853363351896\n",
       "\\end{enumerate*}\n"
      ],
      "text/markdown": [
       "1. 0.2655086631421\n",
       "2. 0.37212389963679\n",
       "3. 0.572853363351896\n",
       "\n",
       "\n"
      ],
      "text/plain": [
       "[1] 0.2655087 0.3721239 0.5728534"
      ]
     },
     "metadata": {},
     "output_type": "display_data"
    }
   ],
   "source": [
    "Variant<-1\n",
    "set.seed(Variant) \n",
    "runif(3)"
   ]
  },
  {
   "cell_type": "markdown",
   "id": "da414c21-adb1-4eca-9728-e16f19b2ba90",
   "metadata": {},
   "source": [
    "## Задание 3.\n",
    "Обработка сообщения в специализированной ВС осуществляется $K$ последовательными программами. Длительность работы\n",
    "каждой программы представляет собой случайную величину, распределенную экспоненциально со средним значением $T=\\frac{1}{\\lambda}$. Найти преобразование Лапласа-Стилтьеса распределения длительности обработки сообщения в ВС, его математическое ожидание и дисперсию.\n",
    "Также построить модель и провести численный расчет."
   ]
  },
  {
   "cell_type": "code",
   "execution_count": 6,
   "id": "de51dab9-11c2-4174-b3e7-2dbb6aece235",
   "metadata": {},
   "outputs": [
    {
     "data": {
      "text/html": [
       "0.0617862704675645"
      ],
      "text/latex": [
       "0.0617862704675645"
      ],
      "text/markdown": [
       "0.0617862704675645"
      ],
      "text/plain": [
       "[1] 0.06178627"
      ]
     },
     "metadata": {},
     "output_type": "display_data"
    }
   ],
   "source": [
    "Variant<-1\n",
    "alpha<-runif(7)[7]\n",
    "alpha"
   ]
  },
  {
   "cell_type": "markdown",
   "id": "284c9d36-521b-43e3-8fe4-18b0a479b5fe",
   "metadata": {},
   "source": [
    "## Задание 4.\n",
    "\n",
    "Доказать, что сумма величин, распределенных по закону Пуассона с параметрами $\\alpha_1, \\alpha_2,\\ldots$ , распределена по закону Пуассона, также обосновать это экспериментально."
   ]
  },
  {
   "cell_type": "markdown",
   "id": "df09bd25-2d9a-4373-82af-02771272d756",
   "metadata": {},
   "source": [
    "## Задание 5.\n",
    "\n",
    "Серверная станция состоит из двух модулей питания. Время безотказной работы каждого из них распределено по показательному закону с одинаковыми параметрами:\n",
    "$$f(t)=\\lambda e^{-\\lambda t}$$\n",
    "$t$ - время работы одного модуля до первого отказа.\n",
    "Второй модуль питания включается сразу же после отказа первого. Определить плотность вероятности времени безотказной работы всей системы, а также математическое ожидание и дисперсию времени безотказной работы."
   ]
  },
  {
   "cell_type": "code",
   "execution_count": 7,
   "id": "5b831d98-dd65-419e-898f-a936ebb63e0d",
   "metadata": {},
   "outputs": [
    {
     "data": {
      "text/html": [
       "0.711121222469956"
      ],
      "text/latex": [
       "0.711121222469956"
      ],
      "text/markdown": [
       "0.711121222469956"
      ],
      "text/plain": [
       "[1] 0.7111212"
      ]
     },
     "metadata": {},
     "output_type": "display_data"
    }
   ],
   "source": [
    "Variant<-1 \n",
    "alpha<-runif(100)[77]\n",
    "alpha"
   ]
  }
 ],
 "metadata": {
  "kernelspec": {
   "display_name": "R",
   "language": "R",
   "name": "ir"
  },
  "language_info": {
   "codemirror_mode": "r",
   "file_extension": ".r",
   "mimetype": "text/x-r-source",
   "name": "R",
   "pygments_lexer": "r",
   "version": "4.2.2"
  }
 },
 "nbformat": 4,
 "nbformat_minor": 5
}
