{
 "cells": [
  {
   "cell_type": "markdown",
   "id": "227589e3-20c1-4310-a36b-6d93890c3212",
   "metadata": {},
   "source": [
    "# Лекция 5. Решение задач по теме \"Простейшие системы массового обслуживания\""
   ]
  },
  {
   "cell_type": "markdown",
   "id": "810e3bb2-18f5-408b-91d8-1077e0e3c414",
   "metadata": {},
   "source": [
    "- Задача 1\n",
    "- Задача 2\n",
    "- Задача 3\n",
    "- Задача 4\n",
    "- Задача 5\n",
    "- Задача 6\n",
    "- Задача 7\n",
    "- Задачи для самостоятельного решения"
   ]
  },
  {
   "cell_type": "markdown",
   "id": "07d0c7b6-5e00-47eb-aa32-18408021adcc",
   "metadata": {},
   "source": [
    "## Задача 1."
   ]
  },
  {
   "cell_type": "markdown",
   "id": "b8202a9c-f4f0-4b49-a28f-ace6ccfa88db",
   "metadata": {},
   "source": [
    "Кластер состоит из основного сервера и одной реплики. Для работы достаточно, чтобы работал хотя бы один компьютер. Поток отказов каждого компьютера простейший с параметром $\\lambda$. При выходе компьютера из строя, он тут же начинает ремонтироваться. Время ремонта показательное с параметром $\\mu$. В начальный момент оба узла кластера работают. Найти:\n",
    "- вероятности состояний, как функции времени: $S_0$ - оба узла исправны, $S_1$ - один узел исправен, второй ремонтируется, $S_2$ - оба узла ремонтируются;\n",
    "- вероятность того, что за время $\\tau$ кластер ни разу не прекратит работу;\n",
    "- финальные вероятности состояний всей системы;\n",
    "- для стационарного режима среднее время, в течение которого кластер будет работать без отказов."
   ]
  },
  {
   "cell_type": "markdown",
   "id": "51c03c7b-4e48-4026-8b37-b083bccf4f2a",
   "metadata": {},
   "source": [
    "**Решение.**\n",
    "\n",
    "<img src=\"ris1.jpeg\">"
   ]
  },
  {
   "cell_type": "markdown",
   "id": "9b5316d5-0192-434b-94d9-8da39c25d648",
   "metadata": {},
   "source": [
    "Уравнения Колмогорова имеют вид:\n",
    "$$\\frac{dP_0(t)}{dt}=\\mu P_1(t)-2\\lambda P_0(t), \\frac{dP_1(t)}{dt}=2\\lambda P_0(t)-(\\lambda+\\mu)P_1(t)+2\\mu P_2(t), \\frac{dP_2(t)}{dt}=\\lambda P_1(t)-2\\mu P_2(t) $$\n",
    "Также должно выполняться $P_0(t)+P_1(t)+P_2(t)=1$. Начальные условия: $P_0(0)=1, P_1(0)=P_2(0)=0$."
   ]
  },
  {
   "cell_type": "markdown",
   "id": "8d2afee1-2303-4a91-9efd-fce56cfe03e1",
   "metadata": {},
   "source": [
    "Выполним преобразование Лапласа:\n",
    "\n",
    "$$sP_0(s)-1=\\mu P_1(s)-2\\lambda P_0(s)$$\n",
    "$$sP_1(s)=2\\lambda P_0(s)-(\\lambda+\\mu) P_1(s)+2\\mu P_2(s)$$\n",
    "$$sP_2(s)=\\lambda P_1(s)-2\\mu P_2(s)$$"
   ]
  },
  {
   "cell_type": "code",
   "execution_count": 7,
   "id": "dad81399-ebca-4fc4-815a-f27e0d49c1f6",
   "metadata": {},
   "outputs": [
    {
     "data": {
      "text/latex": [
       "\\[\\tag{${\\it \\%o}_{10}$}\\left[ \\left[ P_{0}=\\frac{s\\,\\left(\\lambda+3\\,\\mu\\right)+s^2+2\\,\\mu^2}{s\\,\\left(2\\,\\lambda^2+4\\,\\mu\\,\\lambda+2\\,\\mu^2\\right)+s^2\\,\\left(3\\,\\lambda+3\\,\\mu\\right)+s^3} , P_{1}=\\frac{2\\,s\\,\\lambda+4\\,\\mu\\,\\lambda}{s\\,\\left(2\\,\\lambda^2+4\\,\\mu\\,\\lambda+2\\,\\mu^2\\right)+s^2\\,\\left(3\\,\\lambda+3\\,\\mu\\right)+s^3} , P_{2}=\\frac{2\\,\\lambda^2}{s\\,\\left(2\\,\\lambda^2+4\\,\\mu\\,\\lambda+2\\,\\mu^2\\right)+s^2\\,\\left(3\\,\\lambda+3\\,\\mu\\right)+s^3} \\right]  \\right] \\]"
      ],
      "text/plain": [
       "                                                   2       2\n",
       "                              s (lambda + 3 mu) + s  + 2 mu\n",
       "(%o10) [[P0 = ---------------------------------------------------------------, \n",
       "                         2                     2     2                      3\n",
       "              s (2 lambda  + 4 mu lambda + 2 mu ) + s  (3 lambda + 3 mu) + s\n",
       "                        2 s lambda + 4 mu lambda\n",
       "P1 = ---------------------------------------------------------------, \n",
       "                2                     2     2                      3\n",
       "     s (2 lambda  + 4 mu lambda + 2 mu ) + s  (3 lambda + 3 mu) + s\n",
       "                                        2\n",
       "                                2 lambda\n",
       "P2 = ---------------------------------------------------------------]]\n",
       "                2                     2     2                      3\n",
       "     s (2 lambda  + 4 mu lambda + 2 mu ) + s  (3 lambda + 3 mu) + s"
      ],
      "text/x-maxima": [
       "[[P0 = (s*(lambda+3*mu)+s^2+2*mu^2)/(s*(2*lambda^2+4*mu*lambda+2*mu^2)\n",
       "                                    +s^2*(3*lambda+3*mu)+s^3),\n",
       "  P1 = (2*s*lambda+4*mu*lambda)/(s*(2*lambda^2+4*mu*lambda+2*mu^2)\n",
       "                                +s^2*(3*lambda+3*mu)+s^3),\n",
       "  P2 = (2*lambda^2)/(s*(2*lambda^2+4*mu*lambda+2*mu^2)\n",
       "                    +s^2*(3*lambda+3*mu)+s^3)]]"
      ]
     },
     "execution_count": 7,
     "metadata": {},
     "output_type": "execute_result"
    }
   ],
   "source": [
    "solve([P0+P1+P2=1/s, s*P1=2*lambda*P0-(lambda+mu)*P1+2*mu*P2, s*P2=lambda*P1-2*mu*P2],[P0,P1,P2]);"
   ]
  },
  {
   "cell_type": "code",
   "execution_count": 10,
   "id": "537fe335-254a-4d07-bb3f-37c3caae0b85",
   "metadata": {},
   "outputs": [
    {
     "data": {
      "text/latex": [
       "\\[\\tag{${\\it \\%o}_{8}$}\\frac{\\lambda^2\\,e^ {- t\\,\\left(2\\,\\lambda+2\\,\\mu\\right) }}{\\lambda^2+2\\,\\mu\\,\\lambda+\\mu^2}+\\frac{2\\,\\mu\\,\\lambda\\,e^ {- t\\,\\left(\\lambda+\\mu\\right) }}{\\lambda^2+2\\,\\mu\\,\\lambda+\\mu^2}+\\frac{\\mu^2}{\\lambda^2+2\\,\\mu\\,\\lambda+\\mu^2}\\]"
      ],
      "text/plain": [
       "            2   - t (2 lambda + 2 mu)                 - t (lambda + mu)\n",
       "      lambda  %e                        2 mu lambda %e\n",
       "(%o8) ------------------------------- + -------------------------------\n",
       "              2                   2             2                   2\n",
       "        lambda  + 2 mu lambda + mu        lambda  + 2 mu lambda + mu\n",
       "                                                                  2\n",
       "                                                                mu\n",
       "                                                  + ---------------------------\n",
       "                                                          2                   2\n",
       "                                                    lambda  + 2 mu lambda + mu"
      ],
      "text/x-maxima": [
       "(lambda^2*%e^-(t*(2*lambda+2*mu)))/(lambda^2+2*mu*lambda+mu^2)\n",
       " +(2*mu*lambda*%e^-(t*(lambda+mu)))/(lambda^2+2*mu*lambda+mu^2)\n",
       " +mu^2/(lambda^2+2*mu*lambda+mu^2)"
      ]
     },
     "execution_count": 10,
     "metadata": {},
     "output_type": "execute_result"
    }
   ],
   "source": [
    "ilt((s*(lambda+3*mu)+s^2+2*mu^2)/(s*(2*lambda^2+4*mu*lambda+2*mu^2)+s^2*(3*lambda+3*mu)+s^3),s,t);"
   ]
  },
  {
   "cell_type": "code",
   "execution_count": 11,
   "id": "100c70ba-1194-48ba-9f4b-84b2b2855c4d",
   "metadata": {},
   "outputs": [
    {
     "data": {
      "text/latex": [
       "\\[\\tag{${\\it \\%o}_{9}$}-\\frac{2\\,\\lambda^2\\,e^ {- t\\,\\left(2\\,\\lambda+2\\,\\mu\\right) }}{\\lambda^2+2\\,\\mu\\,\\lambda+\\mu^2}+\\frac{\\left(2\\,\\lambda^2-2\\,\\mu\\,\\lambda\\right)\\,e^ {- t\\,\\left(\\lambda+\\mu\\right) }}{\\lambda^2+2\\,\\mu\\,\\lambda+\\mu^2}+\\frac{2\\,\\mu\\,\\lambda}{\\lambda^2+2\\,\\mu\\,\\lambda+\\mu^2}\\]"
      ],
      "text/plain": [
       "                 2   - t (2 lambda + 2 mu)\n",
       "         2 lambda  %e\n",
       "(%o9) (- ---------------------------------)\n",
       "                  2                   2\n",
       "            lambda  + 2 mu lambda + mu\n",
       "             2                  - t (lambda + mu)\n",
       "    (2 lambda  - 2 mu lambda) %e                            2 mu lambda\n",
       "  + --------------------------------------------- + ---------------------------\n",
       "                   2                   2                  2                   2\n",
       "             lambda  + 2 mu lambda + mu             lambda  + 2 mu lambda + mu"
      ],
      "text/x-maxima": [
       "(-(2*lambda^2*%e^-(t*(2*lambda+2*mu)))/(lambda^2+2*mu*lambda+mu^2))\n",
       " +((2*lambda^2-2*mu*lambda)*%e^-(t*(lambda+mu)))/(lambda^2+2*mu*lambda+mu^2)\n",
       " +(2*mu*lambda)/(lambda^2+2*mu*lambda+mu^2)"
      ]
     },
     "execution_count": 11,
     "metadata": {},
     "output_type": "execute_result"
    }
   ],
   "source": [
    "ilt((2*s*lambda+4*mu*lambda)/(s*(2*lambda^2+4*mu*lambda+2*mu^2)+s^2*(3*lambda+3*mu)+s^3),s,t);"
   ]
  },
  {
   "cell_type": "code",
   "execution_count": 12,
   "id": "42d48cde-b6be-4d43-a911-adda224c041d",
   "metadata": {},
   "outputs": [
    {
     "data": {
      "text/latex": [
       "\\[\\tag{${\\it \\%o}_{10}$}\\frac{\\lambda^2\\,e^ {- t\\,\\left(2\\,\\lambda+2\\,\\mu\\right) }}{\\lambda^2+2\\,\\mu\\,\\lambda+\\mu^2}-\\frac{2\\,\\lambda^2\\,e^ {- t\\,\\left(\\lambda+\\mu\\right) }}{\\lambda^2+2\\,\\mu\\,\\lambda+\\mu^2}+\\frac{\\lambda^2}{\\lambda^2+2\\,\\mu\\,\\lambda+\\mu^2}\\]"
      ],
      "text/plain": [
       "             2   - t (2 lambda + 2 mu)           2   - t (lambda + mu)\n",
       "       lambda  %e                        2 lambda  %e\n",
       "(%o10) ------------------------------- - -----------------------------\n",
       "               2                   2            2                   2\n",
       "         lambda  + 2 mu lambda + mu       lambda  + 2 mu lambda + mu\n",
       "                                                                    2\n",
       "                                                              lambda\n",
       "                                                  + ---------------------------\n",
       "                                                          2                   2\n",
       "                                                    lambda  + 2 mu lambda + mu"
      ],
      "text/x-maxima": [
       "(lambda^2*%e^-(t*(2*lambda+2*mu)))/(lambda^2+2*mu*lambda+mu^2)\n",
       " -(2*lambda^2*%e^-(t*(lambda+mu)))/(lambda^2+2*mu*lambda+mu^2)\n",
       " +lambda^2/(lambda^2+2*mu*lambda+mu^2)"
      ]
     },
     "execution_count": 12,
     "metadata": {},
     "output_type": "execute_result"
    }
   ],
   "source": [
    "ilt(2*lambda^2/(s*(2*lambda^2+4*mu*lambda+2*mu^2)+s^2*(3*lambda+3*mu)+s^3),s,t);"
   ]
  },
  {
   "cell_type": "markdown",
   "id": "49c9d799-d30a-4c12-9e48-afa8f0bf52ea",
   "metadata": {},
   "source": [
    "Финальные вероятности системы:\n",
    "$$P_0=\\frac{\\mu^2}{(\\lambda+\\mu)^2}, P_1=\\frac{2\\lambda\\mu}{(\\lambda+\\mu)^2}, P_2=\\frac{\\lambda^2}{(\\lambda+\\mu)^2}$$"
   ]
  },
  {
   "cell_type": "markdown",
   "id": "5b8b883b-bb3d-49ad-884e-8723a2bfed70",
   "metadata": {},
   "source": [
    "Вероятность, что кластер будет работать без отказа равно $1-P_2$ - это в тоже время доля времени, в течение которого система будет работать без отказа. Доля времени, в течение которого система не работает $P_2$. Имеем соотношение:\n",
    "$$\\frac{1-P_2}{P_2}=\\frac{1}{P_2}-1=\\frac{\\tau_{\\text{раб}}}{\\tau_{\\text{нераб}}}$$\n",
    "\n",
    "Время, в течение которого ситема не работает $\\tau_{\\text{нераб}}=\\frac{1}{2\\mu}$ (из нерабочего сотояния мы переходим с интенсивностью $2\\mu$).\n",
    "\n",
    "Тогда среднее время, в течение которого кластер будет работать без отказов:\n",
    "$$\\tau_{\\text{раб}}=\\frac{1}{2\\mu P_2}-\\frac{1}{2\\mu}$$\n",
    "\n",
    " "
   ]
  },
  {
   "cell_type": "markdown",
   "id": "31adda50-3823-485c-9659-b21081333781",
   "metadata": {},
   "source": [
    "Чтобы найти вероятность того, что за время $\\tau$ кластер ни разу не прекратит работу, сделаем состояние $S_2$ поглощающим - если мы в него попали, то уже не можем выйти. Уравнения преобразуются к виду:\n",
    "$$\\frac{dP_0(t)}{dt}=\\mu P_1(t)-2\\lambda P_0(t), \\frac{dP_1(t)}{dt}=2\\lambda P_0(t)-(\\lambda+\\mu)P_1(t), \\frac{dP_2(t)}{dt}=\\lambda P_1(t) $$\n",
    "Решаем первые два уравнения:\n",
    "$$sP_0(s)-1=\\mu P_1(s)-2\\lambda P_0(s)$$\n",
    "$$sP_1(s)=2\\lambda P_0(s)-(\\lambda+\\mu) P_1(s)$$"
   ]
  },
  {
   "cell_type": "code",
   "execution_count": 8,
   "id": "7809e55d-953e-432a-a6a0-1cc30d54ff9b",
   "metadata": {},
   "outputs": [
    {
     "data": {
      "text/latex": [
       "\\[\\tag{${\\it \\%o}_{11}$}\\left[ \\left[ P_{0}=\\frac{\\lambda+s+\\mu}{2\\,\\lambda^2+3\\,s\\,\\lambda+s^2+\\mu\\,s} , P_{1}=\\frac{2\\,\\lambda}{2\\,\\lambda^2+3\\,s\\,\\lambda+s^2+\\mu\\,s} \\right]  \\right] \\]"
      ],
      "text/plain": [
       "                       lambda + s + mu\n",
       "(%o11) [[P0 = ----------------------------------, \n",
       "                      2                 2\n",
       "              2 lambda  + 3 s lambda + s  + mu s\n",
       "                                                        2 lambda\n",
       "                                      P1 = ----------------------------------]]\n",
       "                                                   2                 2\n",
       "                                           2 lambda  + 3 s lambda + s  + mu s"
      ],
      "text/x-maxima": [
       "[[P0 = (lambda+s+mu)/(2*lambda^2+3*s*lambda+s^2+mu*s),\n",
       "  P1 = (2*lambda)/(2*lambda^2+3*s*lambda+s^2+mu*s)]]"
      ]
     },
     "execution_count": 8,
     "metadata": {},
     "output_type": "execute_result"
    }
   ],
   "source": [
    "solve([s*P1=2*lambda*P0-(lambda+mu)*P1, s*P0-1=mu*P1-2*lambda*P0],[P0,P1]);"
   ]
  },
  {
   "cell_type": "code",
   "execution_count": 6,
   "id": "3d201aa8-074c-47a0-ba1d-3c32548a285b",
   "metadata": {},
   "outputs": [
    {
     "data": {
      "text/latex": [
       "\\[\\tag{${\\it \\%o}_{9}$}e^ {- \\frac{t\\,\\left(3\\,\\lambda+\\mu\\right)}{2} }\\,\\left(\\frac{\\left(2\\,\\left(\\lambda+\\mu\\right)-3\\,\\lambda-\\mu\\right)\\,\\sinh \\left(\\frac{t\\,\\sqrt{\\lambda^2+6\\,\\mu\\,\\lambda+\\mu^2}}{2}\\right)}{\\sqrt{\\lambda^2+6\\,\\mu\\,\\lambda+\\mu^2}}+\\cosh \\left(\\frac{t\\,\\sqrt{\\lambda^2+6\\,\\mu\\,\\lambda+\\mu^2}}{2}\\right)\\right)\\]"
      ],
      "text/plain": [
       "          t (3 lambda + mu)\n",
       "        - -----------------\n",
       "                  2\n",
       "(%o9) %e\n",
       "                                                      2                   2\n",
       "                                         t sqrt(lambda  + 6 mu lambda + mu )\n",
       "  (2 (lambda + mu) - 3 lambda - mu) sinh(-----------------------------------)\n",
       "                                                          2\n",
       " (---------------------------------------------------------------------------\n",
       "                                  2                   2\n",
       "                       sqrt(lambda  + 6 mu lambda + mu )\n",
       "                     2                   2\n",
       "        t sqrt(lambda  + 6 mu lambda + mu )\n",
       " + cosh(-----------------------------------))\n",
       "                         2"
      ],
      "text/x-maxima": [
       "%e^-((t*(3*lambda+mu))/2)*(((2*(lambda+mu)-3*lambda-mu)\n",
       "                          *sinh((t*sqrt(lambda^2+6*mu*lambda+mu^2))/2))\n",
       "                          /sqrt(lambda^2+6*mu*lambda+mu^2)\n",
       "                          +cosh((t*sqrt(lambda^2+6*mu*lambda+mu^2))/2))"
      ]
     },
     "execution_count": 6,
     "metadata": {},
     "output_type": "execute_result"
    }
   ],
   "source": [
    "assume(lambda^2+6*lambda*mu+mu^2>0)$\n",
    "ilt((lambda+s+mu)/(2*lambda^2+3*s*lambda+s^2+mu*s),s,t);"
   ]
  },
  {
   "cell_type": "code",
   "execution_count": 9,
   "id": "2401a005-d42f-4d2f-907c-04a930d3881d",
   "metadata": {},
   "outputs": [
    {
     "data": {
      "text/latex": [
       "\\[\\tag{${\\it \\%o}_{12}$}\\frac{4\\,\\lambda\\,e^ {- \\frac{t\\,\\left(3\\,\\lambda+\\mu\\right)}{2} }\\,\\sinh \\left(\\frac{t\\,\\sqrt{\\lambda^2+6\\,\\mu\\,\\lambda+\\mu^2}}{2}\\right)}{\\sqrt{\\lambda^2+6\\,\\mu\\,\\lambda+\\mu^2}}\\]"
      ],
      "text/plain": [
       "                    t (3 lambda + mu)\n",
       "                  - -----------------                   2                   2\n",
       "                            2              t sqrt(lambda  + 6 mu lambda + mu )\n",
       "       4 lambda %e                    sinh(-----------------------------------)\n",
       "                                                            2\n",
       "(%o12) ------------------------------------------------------------------------\n",
       "                                     2                   2\n",
       "                          sqrt(lambda  + 6 mu lambda + mu )"
      ],
      "text/x-maxima": [
       "(4*lambda*%e^-((t*(3*lambda+mu))/2)\n",
       "  *sinh((t*sqrt(lambda^2+6*mu*lambda+mu^2))/2))\n",
       " /sqrt(lambda^2+6*mu*lambda+mu^2)"
      ]
     },
     "execution_count": 9,
     "metadata": {},
     "output_type": "execute_result"
    }
   ],
   "source": [
    "ilt((2*lambda)/(2*lambda^2+3*s*lambda+s^2+mu*s),s,t);"
   ]
  },
  {
   "cell_type": "markdown",
   "id": "20117a91-5e5a-4a6f-83a7-22e532e1f34c",
   "metadata": {},
   "source": [
    "Искомая вероятность выражается как $P(\\tau)=P_0(\\tau)+P_1(\\tau)$. Заметим, что $P(\\infty)=0$."
   ]
  },
  {
   "cell_type": "markdown",
   "id": "855f3fb2-f3b5-464b-bc20-6514849b303f",
   "metadata": {},
   "source": [
    "*Модификация 1*\n",
    "\n",
    "Пока один узел работает, другой работает в холодном резерве и выходить из строя не может.\n",
    "\n",
    "*Модификация 2*\n",
    "\n",
    "Пока один узел работает, другой работает в облегченном резерве и выходит из строя с интенсивностью $\\lambda'$."
   ]
  },
  {
   "cell_type": "markdown",
   "id": "79b506af-a752-4fdf-a985-b56739b87d91",
   "metadata": {},
   "source": [
    "## Задача 2."
   ]
  },
  {
   "cell_type": "markdown",
   "id": "d84cff55-7e42-4fc0-8a0a-4c3a187f6c53",
   "metadata": {},
   "source": [
    "ЭВМ подвергается простейшему потоку отказов с интенсивностью $\\lambda$. Отказ обнаруживается не сразу, а через случайное время, распределенное по показательному закону с параметром $\\nu$. Как только отказ обнаруживается, производится осмотр, время осмотра показательное с параметром $\\gamma$. В результате осмотра ЭВМ либо направляется на ремонт с вероятностью $p$, либо заменяется на исправную. Время ремонта показательное с параметром $\\mu$, время замены на исправный тоже показательное с параметром $\\omega$.\n",
    "\n",
    "Определить:\n",
    "- какую долю времени в среднем ЭВМ будет работать нормально;\n",
    "- какую долю времени ЭВМ будет работать с необнаруженным отказом;\n",
    "- какова средняя стоимость ремонтов и замен за единицу времени, если средняя стоимость ремонта равна $r$, средняя стоимость замены равна $c$.\n",
    "- какова средняя величина потерь за единицу времени от работающей неисправной ЭВМ, если убыток в единицу времени оценивается в $l$ единиц."
   ]
  },
  {
   "cell_type": "markdown",
   "id": "9ecee4fe-a21d-4e0c-aa2d-e1552ac4fe43",
   "metadata": {},
   "source": [
    "### Решение."
   ]
  },
  {
   "cell_type": "markdown",
   "id": "84e9e60c-fbac-4512-a1b2-11ed3644b25b",
   "metadata": {},
   "source": [
    "Нарисуем граф состояний:\n",
    "\n",
    "<img src=\"dia1.jpeg\">\n",
    "\n",
    "Состояния имеют следующую интерпретацию:\n",
    "\n",
    "$S_0$ - ЭВМ исправно;\n",
    "\n",
    "$S_1$ - неисправно, но отказ не обнаружен;\n",
    "\n",
    "$S_2$ - неисправность обнаружена, ведется осмотр;\n",
    "\n",
    "$S_3$ - ремонтируется\n",
    "\n",
    "$S_4$ - заменяется на новый\n",
    "\n",
    "Запишем уравнения Колмогорова для вероятностей нахождения в каждом из состояний:\n",
    "\n",
    "$$\\frac{dP_0(t)}{dt}=-\\lambda\\cdot P_0(t)+\\mu\\cdot P_3(t)+\\omega\\cdot P_4(t)$$\n",
    "$$\\frac{dP_1(t)}{dt}=\\lambda\\cdot P_0(t)-\\nu\\cdot P_1(t)$$\n",
    "$$\\frac{dP_2(t)}{dt}=\\nu\\cdot P_1(t)-p\\gamma\\cdot P_2(t)-(1-p)\\gamma\\cdot P_2(t)=\\nu\\cdot P_1(t)-\\gamma\\cdot P_2(t)$$\n",
    "$$\\frac{dP_3(t)}{dt}=p\\cdot\\gamma P_2(t)-\\mu\\cdot P_3(t)$$\n",
    "$$\\frac{dP_4(t)}{dt}=(1-p)\\gamma\\cdot P_2(t)-\\omega\\cdot P_4(t)$$\n",
    "\n",
    "Попробуем решим данную систему линейных дифференциальных уравнений в Maxima:"
   ]
  },
  {
   "cell_type": "code",
   "execution_count": 28,
   "id": "5dfd020f-f8f1-418a-a950-4de919bb465f",
   "metadata": {},
   "outputs": [
    {
     "name": "stdout",
     "output_type": "stream",
     "text": [
      "\n",
      "rat: replaced -0.3 by -3/10 = -0.3\n",
      "\n",
      "rat: replaced 0.4 by 2/5 = 0.4\n",
      "\n",
      "rat: replaced 0.7 by 7/10 = 0.7\n",
      "\n",
      "rat: replaced -0.3 by -3/10 = -0.3\n",
      "\n",
      "rat: replaced 0.4 by 2/5 = 0.4\n",
      "\n",
      "rat: replaced 0.7 by 7/10 = 0.7\n",
      "\n",
      "rat: replaced 0.3 by 3/10 = 0.3\n",
      "\n",
      "rat: replaced -0.5 by -1/2 = -0.5\n",
      "\n",
      "rat: replaced 0.3 by 3/10 = 0.3\n",
      "\n",
      "rat: replaced -0.5 by -1/2 = -0.5\n",
      "\n",
      "rat: replaced 0.5 by 1/2 = 0.5\n",
      "\n",
      "rat: replaced -0.7 by -7/10 = -0.7\n",
      "\n",
      "rat: replaced 0.5 by 1/2 = 0.5\n",
      "\n",
      "rat: replaced -0.7 by -7/10 = -0.7\n",
      "\n",
      "rat: replaced 0.42 by 21/50 = 0.42\n",
      "\n",
      "rat: replaced -0.4 by -2/5 = -0.4\n",
      "\n",
      "rat: replaced 0.42 by 21/50 = 0.42\n",
      "\n",
      "rat: replaced -0.4 by -2/5 = -0.4\n",
      "\n",
      "rat: replaced 0.28 by 7/25 = 0.28\n",
      "\n",
      "rat: replaced -0.7 by -7/10 = -0.7\n",
      "\n",
      "rat: replaced 0.28 by 7/25 = 0.28\n",
      "\n",
      "rat: replaced -0.7 by -7/10 = -0.7\n",
      "\n",
      "rat: replaced 0.3 by 3/10 = 0.3\n",
      "\n",
      "rat: replaced -0.4 by -2/5 = -0.4\n",
      "\n",
      "rat: replaced -0.7 by -7/10 = -0.7\n",
      "\n",
      "rat: replaced -0.3 by -3/10 = -0.3\n",
      "\n",
      "rat: replaced 0.5 by 1/2 = 0.5\n",
      "\n",
      "rat: replaced -0.5 by -1/2 = -0.5\n",
      "\n",
      "rat: replaced 0.7 by 7/10 = 0.7\n",
      "\n",
      "rat: replaced -0.42 by -21/50 = -0.42\n",
      "\n",
      "rat: replaced 0.4 by 2/5 = 0.4\n",
      "\n",
      "rat: replaced -0.28 by -7/25 = -0.28\n",
      "\n",
      "rat: replaced 0.7 by 7/10 = 0.7\n"
     ]
    },
    {
     "data": {
      "text/latex": [
       "\\[\\tag{${\\it \\%o}_{122}$}\\left[ P_{0}\\left(t\\right)={\\it ilt}\\left(\\frac{330000\\,g_{5894}^3+699000\\,g_{5894}^2+505500\\,g_{5894}+120930}{53\\,\\left(10000\\,g_{5894}^4+26000\\,g_{5894}^3+26400\\,g_{5894}^2+13060\\,g_{5894}+2597\\right)} , g_{5894} , t\\right)+\\frac{20}{53} , P_{1}\\left(t\\right)={\\it ilt}\\left(-\\frac{120000\\,g_{5894}^3+153000\\,g_{5894}^2+30600\\,g_{5894}-10230}{53\\,\\left(10000\\,g_{5894}^4+26000\\,g_{5894}^3+26400\\,g_{5894}^2+13060\\,g_{5894}+2597\\right)} , g_{5894} , t\\right)+\\frac{12}{53} , P_{2}\\left(t\\right)={\\it ilt}\\left(-\\frac{600000\\,g_{5894}^3+1560000\\,g_{5894}^2+1027500\\,g_{5894}+171450}{371\\,\\left(10000\\,g_{5894}^4+26000\\,g_{5894}^3+26400\\,g_{5894}^2+13060\\,g_{5894}+2597\\right)} , g_{5894} , t\\right)+\\frac{60}{371} , P_{3}\\left(t\\right)={\\it ilt}\\left(-\\frac{90000\\,g_{5894}^3+234000\\,g_{5894}^2+237600\\,g_{5894}+84150}{53\\,\\left(10000\\,g_{5894}^4+26000\\,g_{5894}^3+26400\\,g_{5894}^2+13060\\,g_{5894}+2597\\right)} , g_{5894} , t\\right)+\\frac{9}{53} , P_{4}\\left(t\\right)={\\it ilt}\\left(-\\frac{240000\\,g_{5894}^3+624000\\,g_{5894}^2+633600\\,g_{5894}+157620}{371\\,\\left(10000\\,g_{5894}^4+26000\\,g_{5894}^3+26400\\,g_{5894}^2+13060\\,g_{5894}+2597\\right)} , g_{5894} , t\\right)+\\frac{24}{371} \\right] \\]"
      ],
      "text/plain": [
       "(%o122) [P0(t) = \n",
       "                       3               2\n",
       "           330000 g5894  + 699000 g5894  + 505500 g5894 + 120930\n",
       "ilt(--------------------------------------------------------------------, \n",
       "                   4              3              2\n",
       "    53 (10000 g5894  + 26000 g5894  + 26400 g5894  + 13060 g5894 + 2597)\n",
       "            20\n",
       "g5894, t) + --, P1(t) = \n",
       "            53\n",
       "                          3               2\n",
       "              120000 g5894  + 153000 g5894  + 30600 g5894 - 10230\n",
       "ilt(- --------------------------------------------------------------------, \n",
       "                     4              3              2\n",
       "      53 (10000 g5894  + 26000 g5894  + 26400 g5894  + 13060 g5894 + 2597)\n",
       "            12\n",
       "g5894, t) + --, P2(t) = \n",
       "            53\n",
       "                         3                2\n",
       "             600000 g5894  + 1560000 g5894  + 1027500 g5894 + 171450\n",
       "ilt(- ---------------------------------------------------------------------, \n",
       "                      4              3              2\n",
       "      371 (10000 g5894  + 26000 g5894  + 26400 g5894  + 13060 g5894 + 2597)\n",
       "            60\n",
       "g5894, t) + ---, P3(t) = \n",
       "            371\n",
       "                         3               2\n",
       "              90000 g5894  + 234000 g5894  + 237600 g5894 + 84150\n",
       "ilt(- --------------------------------------------------------------------, \n",
       "                     4              3              2\n",
       "      53 (10000 g5894  + 26000 g5894  + 26400 g5894  + 13060 g5894 + 2597)\n",
       "            9\n",
       "g5894, t) + --, P4(t) = \n",
       "            53\n",
       "                          3               2\n",
       "              240000 g5894  + 624000 g5894  + 633600 g5894 + 157620\n",
       "ilt(- ---------------------------------------------------------------------, \n",
       "                      4              3              2\n",
       "      371 (10000 g5894  + 26000 g5894  + 26400 g5894  + 13060 g5894 + 2597)\n",
       "            24\n",
       "g5894, t) + ---]\n",
       "            371"
      ],
      "text/x-maxima": [
       "[P0(t) = 'ilt((330000*g5894^3+699000*g5894^2+505500*g5894+120930)\n",
       "               /(53*(10000*g5894^4+26000*g5894^3+26400*g5894^2+13060*g5894\n",
       "                                  +2597)),g5894,t)\n",
       "       +20/53,\n",
       " P1(t) = 'ilt(-(120000*g5894^3+153000*g5894^2+30600*g5894-10230)\n",
       "               /(53*(10000*g5894^4+26000*g5894^3+26400*g5894^2+13060*g5894\n",
       "                                  +2597)),g5894,t)\n",
       "       +12/53,\n",
       " P2(t) = 'ilt(-(600000*g5894^3+1560000*g5894^2+1027500*g5894+171450)\n",
       "               /(371*(10000*g5894^4+26000*g5894^3+26400*g5894^2+13060*g5894\n",
       "                                   +2597)),g5894,t)\n",
       "       +60/371,\n",
       " P3(t) = 'ilt(-(90000*g5894^3+234000*g5894^2+237600*g5894+84150)\n",
       "               /(53*(10000*g5894^4+26000*g5894^3+26400*g5894^2+13060*g5894\n",
       "                                  +2597)),g5894,t)\n",
       "       +9/53,\n",
       " P4(t) = 'ilt(-(240000*g5894^3+624000*g5894^2+633600*g5894+157620)\n",
       "               /(371*(10000*g5894^4+26000*g5894^3+26400*g5894^2+13060*g5894\n",
       "                                   +2597)),g5894,t)\n",
       "       +24/371]"
      ]
     },
     "execution_count": 28,
     "metadata": {},
     "output_type": "execute_result"
    }
   ],
   "source": [
    "/* Зададимся некоторыми начальными значениями */\n",
    "p:0.6$ lambda:0.3$ nu: 0.5$ gamma:0.7$ mu:0.4$ omega:0.7$\n",
    "/* Задаем начальные условия */\n",
    "atvalue(P0(t),t=0,1)$\n",
    "atvalue(P1(t),t=0,0)$\n",
    "atvalue(P2(t),t=0,0)$\n",
    "atvalue(P3(t),t=0,0)$\n",
    "atvalue(P4(t),t=0,0)$\n",
    "/* Решаем систему линейных дифференциальных уравнений */\n",
    "result:desolve(['diff(P0(t),t)=-lambda*P0(t)+mu*P3(t)+omega*P4(t),\n",
    "         'diff(P1(t),t)=lambda*P0(t)-nu*P1(t),\n",
    "         'diff(P2(t),t)=nu*P1(t)-gamma*P2(t),\n",
    "         'diff(P3(t),t)=p*gamma*P2(t)-mu*P3(t),\n",
    "         'diff(P4(t),t)=(1-p)*gamma*P2(t)-omega*P4(t)],\n",
    "        [P0(t),P1(t),P2(t),P3(t),P4(t)]);"
   ]
  },
  {
   "cell_type": "markdown",
   "id": "8ba54f56-2632-4b46-b6e5-f70a29fa9a87",
   "metadata": {},
   "source": [
    "Видно, что Maxima не выполнила преобразования до конца и остановилась на необходимости выполнить обратное преобразование Лапласа от сложного выражения, где $g_{5894}$ интерпретируется как $s$.\n",
    "\n",
    "Ниже вычисление в WolframAlpha:\n",
    "\n",
    "[WolframAlpha для $P_0(t)$](https://www.wolframalpha.com/input?i=InverseLaplaceTransform%5B%28330000+s%5E3+%2B+699000+s%5E2+%2B+505500+s+%2B+120930%29%2F%2853+%2810000+s%5E4+%2B+26000+s%5E3+%2B+26400+s%5E2+%2B+13060+s+%2B+2597%29%29%2C+s%2C+t%5D)\n",
    "\n",
    "[WolframAlpha для $P_1(t)$](https://www.wolframalpha.com/input?i=InverseLaplaceTransform%5B-%28120000*s%5E3%2B153000*s%5E2%2B30600*s-10230%29%2F%2853+%2810000+s%5E4+%2B+26000+s%5E3+%2B+26400+s%5E2+%2B+13060+s+%2B+2597%29%29%2C+s%2C+t%5D)\n",
    "\n",
    "[WolframAlpha для $P_2(t)$](https://www.wolframalpha.com/input?i=InverseLaplaceTransform%5B-%28600000*s%5E3%2B1560000*s%5E2%2B1027500*s%2B171450%29%2F%28371+%2810000+s%5E4+%2B+26000+s%5E3+%2B+26400+s%5E2+%2B+13060+s+%2B+2597%29%29%2C+s%2C+t%5D)\n",
    "\n",
    "[WolframAlpha для $P_3(t)$](https://www.wolframalpha.com/input?i=InverseLaplaceTransform%5B-%2890000*s%5E3%2B234000*s%5E2%2B237600*s%2B84150%29%2F%2853+%2810000+s%5E4+%2B+26000+s%5E3+%2B+26400+s%5E2+%2B+13060+s+%2B+2597%29%29%2C+s%2C+t%5D)\n",
    "\n",
    "[WolframAlpha для $P_4(t)$](https://www.wolframalpha.com/input?i=InverseLaplaceTransform%5B-%28240000*s%5E3%2B624000*s%5E2%2B633600*s%2B157620%29%2F%28371+%2810000+s%5E4+%2B+26000+s%5E3+%2B+26400+s%5E2+%2B+13060+s+%2B+2597%29%29%2C+s%2C+t%5D)"
   ]
  },
  {
   "cell_type": "markdown",
   "id": "2ea3fb78-f9aa-4aac-9105-b3648b37699a",
   "metadata": {},
   "source": [
    "Решим численно систему дифференциальных уравнение методом Рунге-Кутта:"
   ]
  },
  {
   "cell_type": "code",
   "execution_count": 1,
   "id": "87df6b97-a82d-4cf3-a2dd-0167971d5bce",
   "metadata": {},
   "outputs": [],
   "source": [
    "/* Зададимся некоторыми начальными значениями */\n",
    "p:0.6$ lambda:0.3$ nu: 0.5$ gamma:0.7$ mu:0.4$ omega:0.7$\n",
    "sol: rk([-lambda*P0+mu*P3+omega*P4,\n",
    "         lambda*P0-nu*P1,\n",
    "         nu*P1-gamma*P2,\n",
    "         p*gamma*P2-mu*P3,\n",
    "         (1-p)*gamma*P2-omega*P4], [P0,P1,P2,P3,P4], [1, 0, 0, 0, 0],[t, 0, 30, 0.02])$"
   ]
  },
  {
   "cell_type": "markdown",
   "id": "fd23110e-d57e-442b-a57f-38568c222fd0",
   "metadata": {},
   "source": [
    "Построим графики для вероятностей состояния:"
   ]
  },
  {
   "cell_type": "code",
   "execution_count": 2,
   "id": "c41ee1ba-9be0-4b1b-800c-94cacde0a636",
   "metadata": {},
   "outputs": [
    {
     "data": {
      "text/latex": [
       "\\[\\tag{${\\it \\%o}_{7}$}\\mathbf{false}\\]"
      ],
      "text/plain": [
       "(%o7)                                false"
      ],
      "text/x-maxima": [
       "false"
      ]
     },
     "execution_count": 2,
     "metadata": {},
     "output_type": "execute_result"
    }
   ],
   "source": [
    "plot2d([discrete, makelist([p[1], p[2]], p, sol)], [xlabel, \"t\"],[ylabel, \"P0\"]);"
   ]
  },
  {
   "attachments": {
    "690bc913-821c-4235-aac7-778f80e5479f.png": {
     "image/png": "[encoded data removed]"
    }
   },
   "cell_type": "markdown",
   "id": "446da4cb-c44c-40c6-8c1f-dcb46e7202ba",
   "metadata": {},
   "source": [
    "![image.png](attachment:690bc913-821c-4235-aac7-778f80e5479f.png)"
   ]
  },
  {
   "cell_type": "code",
   "execution_count": 3,
   "id": "f1e94bbc-0237-42d6-ada1-3ae587bcd82a",
   "metadata": {},
   "outputs": [
    {
     "data": {
      "text/latex": [
       "\\[\\tag{${\\it \\%o}_{8}$}\\mathbf{false}\\]"
      ],
      "text/plain": [
       "(%o8)                                false"
      ],
      "text/x-maxima": [
       "false"
      ]
     },
     "execution_count": 3,
     "metadata": {},
     "output_type": "execute_result"
    }
   ],
   "source": [
    "plot2d([discrete, makelist([p[1], p[3]], p, sol)], [xlabel, \"t\"],[ylabel, \"P1\"]);"
   ]
  },
  {
   "attachments": {
    "c9592157-e793-4ed7-9fe8-e29d6602ccc5.png": {
     "image/png": "[encoded data removed]"
    }
   },
   "cell_type": "markdown",
   "id": "798cc943-f090-40d4-9b0d-aad7af8b2609",
   "metadata": {},
   "source": [
    "![image.png](attachment:c9592157-e793-4ed7-9fe8-e29d6602ccc5.png)"
   ]
  },
  {
   "cell_type": "code",
   "execution_count": 4,
   "id": "37ae6329-7b68-45c3-a5e4-a57e054c3e27",
   "metadata": {},
   "outputs": [
    {
     "data": {
      "text/latex": [
       "\\[\\tag{${\\it \\%o}_{9}$}\\mathbf{false}\\]"
      ],
      "text/plain": [
       "(%o9)                                false"
      ],
      "text/x-maxima": [
       "false"
      ]
     },
     "execution_count": 4,
     "metadata": {},
     "output_type": "execute_result"
    }
   ],
   "source": [
    "plot2d([discrete, makelist([p[1], p[4]], p, sol)], [xlabel, \"t\"],[ylabel, \"P2\"]);"
   ]
  },
  {
   "attachments": {
    "8706a431-8f60-4d0f-bebb-7fef84184d04.png": {
     "image/png": "[encoded data removed]"
    }
   },
   "cell_type": "markdown",
   "id": "98d42aad-d6c5-40fc-ae48-58d4c6583423",
   "metadata": {},
   "source": [
    "![image.png](attachment:8706a431-8f60-4d0f-bebb-7fef84184d04.png)"
   ]
  },
  {
   "cell_type": "code",
   "execution_count": 5,
   "id": "d582fd16-193c-4e26-932a-da4059623649",
   "metadata": {},
   "outputs": [
    {
     "data": {
      "text/latex": [
       "\\[\\tag{${\\it \\%o}_{10}$}\\mathbf{false}\\]"
      ],
      "text/plain": [
       "(%o10)                               false"
      ],
      "text/x-maxima": [
       "false"
      ]
     },
     "execution_count": 5,
     "metadata": {},
     "output_type": "execute_result"
    }
   ],
   "source": [
    "plot2d([discrete, makelist([p[1], p[5]], p, sol)], [xlabel, \"t\"],[ylabel, \"P3\"]);"
   ]
  },
  {
   "attachments": {
    "c9ad62d5-1461-4ef1-963f-e6e346928a13.png": {
     "image/png": "[encoded data removed]"
    }
   },
   "cell_type": "markdown",
   "id": "30701a14-9fba-4f3d-969f-7add6051adbb",
   "metadata": {},
   "source": [
    "![image.png](attachment:c9ad62d5-1461-4ef1-963f-e6e346928a13.png)"
   ]
  },
  {
   "cell_type": "code",
   "execution_count": 6,
   "id": "8e71087b-aee4-40c3-82db-458c2c13f80b",
   "metadata": {},
   "outputs": [
    {
     "data": {
      "text/latex": [
       "\\[\\tag{${\\it \\%o}_{11}$}\\mathbf{false}\\]"
      ],
      "text/plain": [
       "(%o11)                               false"
      ],
      "text/x-maxima": [
       "false"
      ]
     },
     "execution_count": 6,
     "metadata": {},
     "output_type": "execute_result"
    }
   ],
   "source": [
    "plot2d([discrete, makelist([p[1], p[6]], p, sol)], [xlabel, \"t\"],[ylabel, \"P4\"]);"
   ]
  },
  {
   "attachments": {
    "b1266ef6-1529-41bb-bb38-5d0a78c694fb.png": {
     "image/png": "[encoded data removed]"
    }
   },
   "cell_type": "markdown",
   "id": "30e2cdb5-b639-42e7-a79b-937f7d7dd864",
   "metadata": {},
   "source": [
    "![image.png](attachment:b1266ef6-1529-41bb-bb38-5d0a78c694fb.png)"
   ]
  },
  {
   "cell_type": "markdown",
   "id": "674a6745-84d0-4897-ad60-cd92a0d5b831",
   "metadata": {},
   "source": [
    "Из представленных графиков функций от частей преобразования Лапласа в WolframAlpha видно, что при увеличении $t$ они стремятся к нулю. Значит финальные вероятности:\n",
    "$$P_0=\\frac{20}{53}, P_1=\\frac{12}{53}, P_2=\\frac{60}{371}, P_3=\\frac{9}{53}, P_4=\\frac{24}{371}$$\n",
    "\n",
    "Это можно увидеть и из графиков функций в maxima."
   ]
  },
  {
   "cell_type": "markdown",
   "id": "8f9c8d3b-648a-44c8-9142-4946a5d6b837",
   "metadata": {},
   "source": [
    "Для проверки получим систему алгебраических уравнений и решим ее:\n",
    "\n",
    "\\begin{cases} -\\lambda\\cdot P_0+\\mu\\cdot P_3+\\omega\\cdot P_4=0 \\\\\n",
    "              \\lambda\\cdot P_0-\\nu\\cdot P_1=0\\\\\n",
    "              \\nu\\cdot P_1-\\gamma\\cdot P_2=0\\\\\n",
    "              p\\cdot\\gamma P_2-\\mu\\cdot P_3=0\\\\\n",
    "              (1-p)\\gamma\\cdot P_2-\\omega\\cdot P_4=0\n",
    "\\end{cases}\n",
    "\n",
    "Подставляем вместо одного из уравнений уравнение нормировки и решаем получившуюся систему уравнений:\n",
    "\\begin{cases} -\\lambda\\cdot P_0+\\mu\\cdot P_3+\\omega\\cdot P_4=0 \\\\\n",
    "              \\lambda\\cdot P_0-\\nu\\cdot P_1=0\\\\\n",
    "              \\nu\\cdot P_1-\\gamma\\cdot P_2=0\\\\\n",
    "              p\\cdot\\gamma P_2-\\mu\\cdot P_3=0\\\\\n",
    "              P_0+P_1+P_2+P_3+P_4=1\n",
    "\\end{cases}\n",
    "\n",
    "\n",
    "Решаем в maxima."
   ]
  },
  {
   "cell_type": "code",
   "execution_count": 31,
   "id": "26d2bac7-d1b8-41c8-9c65-ebe1710c991f",
   "metadata": {},
   "outputs": [
    {
     "name": "stdout",
     "output_type": "stream",
     "text": [
      "\n",
      "rat: replaced -0.3 by -3/10 = -0.3\n",
      "\n",
      "rat: replaced 0.4 by 2/5 = 0.4\n",
      "\n",
      "rat: replaced 0.7 by 7/10 = 0.7\n",
      "\n",
      "rat: replaced 0.3 by 3/10 = 0.3\n",
      "\n",
      "rat: replaced -0.5 by -1/2 = -0.5\n",
      "\n",
      "rat: replaced 0.5 by 1/2 = 0.5\n",
      "\n",
      "rat: replaced -0.7 by -7/10 = -0.7\n",
      "\n",
      "rat: replaced 0.42 by 21/50 = 0.42\n",
      "\n",
      "rat: replaced -0.4 by -2/5 = -0.4\n"
     ]
    },
    {
     "data": {
      "text/latex": [
       "\\[\\tag{${\\it \\%o}_{124}$}\\left[ \\left[ P_{0}=\\frac{20}{53} , P_{1}=\\frac{12}{53} , P_{2}=\\frac{60}{371} , P_{3}=\\frac{9}{53} , P_{4}=\\frac{24}{371} \\right]  \\right] \\]"
      ],
      "text/plain": [
       "                      20       12       60        9        24\n",
       "(%o124)        [[P0 = --, P1 = --, P2 = ---, P3 = --, P4 = ---]]\n",
       "                      53       53       371       53       371"
      ],
      "text/x-maxima": [
       "[[P0 = 20/53,P1 = 12/53,P2 = 60/371,P3 = 9/53,P4 = 24/371]]"
      ]
     },
     "execution_count": 31,
     "metadata": {},
     "output_type": "execute_result"
    }
   ],
   "source": [
    "solve([-lambda*P0+mu*P3+omega*P4=0, \n",
    "        lambda*P0-nu*P1=0,\n",
    "        nu*P1-gamma*P2=0, \n",
    "        p*gamma*P2-mu*P3=0,\n",
    "        P0+P1+P2+P3+P4=1],\n",
    "        [P0,P1,P2,P3,P4]);"
   ]
  },
  {
   "cell_type": "markdown",
   "id": "da50bfdb-e292-4231-925d-8e00c281a337",
   "metadata": {},
   "source": [
    "Таким образом, получаем ровно такие же решения. Получим их в символьном виде:"
   ]
  },
  {
   "cell_type": "code",
   "execution_count": 33,
   "id": "7b9167e7-186c-4776-ae0c-9ef67e9ecc46",
   "metadata": {},
   "outputs": [
    {
     "data": {
      "text/latex": [
       "\\[\\tag{${\\it \\%o}_{127}$}\\left[ \\left[ P_{0}=\\frac{\\mu\\,\\nu\\,\\omega\\,\\gamma}{\\left(\\omega\\,\\left(\\mu\\,\\left(\\gamma+\\nu\\right)+\\nu\\,p\\,\\gamma\\right)+\\mu\\,\\nu\\,\\left(1-p\\right)\\,\\gamma\\right)\\,\\lambda+\\mu\\,\\nu\\,\\omega\\,\\gamma} , P_{1}=\\frac{\\mu\\,\\omega\\,\\gamma\\,\\lambda}{\\left(\\omega\\,\\left(\\mu\\,\\left(\\gamma+\\nu\\right)+\\nu\\,p\\,\\gamma\\right)+\\mu\\,\\nu\\,\\left(1-p\\right)\\,\\gamma\\right)\\,\\lambda+\\mu\\,\\nu\\,\\omega\\,\\gamma} , P_{2}=\\frac{\\mu\\,\\nu\\,\\omega\\,\\lambda}{\\left(\\omega\\,\\left(\\mu\\,\\left(\\gamma+\\nu\\right)+\\nu\\,p\\,\\gamma\\right)+\\mu\\,\\nu\\,\\left(1-p\\right)\\,\\gamma\\right)\\,\\lambda+\\mu\\,\\nu\\,\\omega\\,\\gamma} , P_{3}=\\frac{\\nu\\,\\omega\\,p\\,\\gamma\\,\\lambda}{\\left(\\omega\\,\\left(\\mu\\,\\left(\\gamma+\\nu\\right)+\\nu\\,p\\,\\gamma\\right)+\\mu\\,\\nu\\,\\left(1-p\\right)\\,\\gamma\\right)\\,\\lambda+\\mu\\,\\nu\\,\\omega\\,\\gamma} , P_{4}=-\\frac{\\mu\\,\\nu\\,\\left(p-1\\right)\\,\\gamma\\,\\lambda}{\\left(\\omega\\,\\left(\\mu\\,\\left(\\gamma+\\nu\\right)+\\nu\\,p\\,\\gamma\\right)+\\mu\\,\\nu\\,\\left(1-p\\right)\\,\\gamma\\right)\\,\\lambda+\\mu\\,\\nu\\,\\omega\\,\\gamma} \\right]  \\right] \\]"
      ],
      "text/plain": [
       "(%o127) [[P0 = (mu nu omega gamma)/((omega (mu (gamma + nu) + nu p gamma)\n",
       " + mu nu (1 - p) gamma) lambda + mu nu omega gamma), \n",
       "P1 = (mu omega gamma lambda)/((omega (mu (gamma + nu) + nu p gamma)\n",
       " + mu nu (1 - p) gamma) lambda + mu nu omega gamma), \n",
       "P2 = (mu nu omega lambda)/((omega (mu (gamma + nu) + nu p gamma)\n",
       " + mu nu (1 - p) gamma) lambda + mu nu omega gamma), \n",
       "P3 = (nu omega p gamma lambda)/((omega (mu (gamma + nu) + nu p gamma)\n",
       " + mu nu (1 - p) gamma) lambda + mu nu omega gamma), \n",
       "P4 = - (mu nu (p - 1) gamma lambda)/((omega (mu (gamma + nu) + nu p gamma)\n",
       " + mu nu (1 - p) gamma) lambda + mu nu omega gamma)]]"
      ],
      "text/x-maxima": [
       "[[P0 = (mu*nu*omega*gamma)/((omega*(mu*(gamma+nu)+nu*p*gamma)\n",
       "                           +mu*nu*(1-p)*gamma)\n",
       "                           *lambda\n",
       "                           +mu*nu*omega*gamma),\n",
       "  P1 = (mu*omega*gamma*lambda)/((omega*(mu*(gamma+nu)+nu*p*gamma)\n",
       "                               +mu*nu*(1-p)*gamma)\n",
       "                               *lambda\n",
       "                               +mu*nu*omega*gamma),\n",
       "  P2 = (mu*nu*omega*lambda)/((omega*(mu*(gamma+nu)+nu*p*gamma)\n",
       "                            +mu*nu*(1-p)*gamma)\n",
       "                            *lambda\n",
       "                            +mu*nu*omega*gamma),\n",
       "  P3 = (nu*omega*p*gamma*lambda)/((omega*(mu*(gamma+nu)+nu*p*gamma)\n",
       "                                 +mu*nu*(1-p)*gamma)\n",
       "                                 *lambda\n",
       "                                 +mu*nu*omega*gamma),\n",
       "  P4 = -(mu*nu*(p-1)*gamma*lambda)/((omega*(mu*(gamma+nu)+nu*p*gamma)\n",
       "                                   +mu*nu*(1-p)*gamma)\n",
       "                                   *lambda\n",
       "                                   +mu*nu*omega*gamma)]]"
      ]
     },
     "execution_count": 33,
     "metadata": {},
     "output_type": "execute_result"
    }
   ],
   "source": [
    "kill(lambda,mu,nu,p,gamma,omega)$\n",
    "solve([-lambda*P0+mu*P3+omega*P4=0, \n",
    "        lambda*P0-nu*P1=0,\n",
    "        nu*P1-gamma*P2=0, \n",
    "        p*gamma*P2-mu*P3=0,\n",
    "        P0+P1+P2+P3+P4=1],\n",
    "        [P0,P1,P2,P3,P4]);"
   ]
  },
  {
   "cell_type": "markdown",
   "id": "92c4a53e-14ca-486e-bdb1-b23e0a4c9c1f",
   "metadata": {},
   "source": [
    "Находим характеристики системы:\n",
    "\n",
    "**доля времени, в течение которого ЭВМ будет работать нормально** равна $P_0$;\n",
    "\n",
    "**доля времени, в течение которого ЭВМ будет работать с необнаруженным отказом** равна $P_1$;\n",
    "\n",
    "**средняя стоимость ремонтов и замен за единицу времени** - доля времени на ремонт среди всего времени работы системы составляет $P_3$, за единицу времени в среднем потребуется $\\mu$ ремонтов, значит среднее количество ремонтов в единицу времени $\\mu\\cdot P_3$, а средняя стоимость ремонтов $\\mu\\cdot P_3\\cdot r$, аналогично, средняя стоимость замен в единицу времени составит $\\gamma\\cdot P_4\\cdot c$, итого, общая сумма составит: $\\mu\\cdot P_3\\cdot r+\\gamma\\cdot P_4\\cdot c$;\n",
    "\n",
    "**средняя величина потерь за единицу времени от работающей неисправной ЭВМ** аналогично $\\nu\\cdot P_1\\cdot l$."
   ]
  },
  {
   "cell_type": "markdown",
   "id": "b7cce021-73a9-41df-9b3a-da3f0bb5bf70",
   "metadata": {},
   "source": [
    "## Задача 3."
   ]
  },
  {
   "cell_type": "markdown",
   "id": "ffdb286c-be2d-4194-9508-5c0093f8d897",
   "metadata": {},
   "source": [
    "В базу данных поступает информация, каждая единица, поступившая в базу данных, хранится в ней бессрочно. Интенсивность поступления $\\lambda=2.5 kB/s$, имеет показательное распределение. Найти математическое ожидание и дисперсию случайной величины $X(\\tau)$ - объем базы данных на момент времени $\\tau$.\n",
    "\n",
    "*Модификация*\n",
    "\n",
    "Каждая единица информации не хранится бессрочно, а удаляется с интенсивностью $\\mu$ (поток пуассоновский)."
   ]
  },
  {
   "cell_type": "markdown",
   "id": "ee606468-4784-416e-a22a-fea8def31faa",
   "metadata": {},
   "source": [
    "### Решение."
   ]
  },
  {
   "cell_type": "markdown",
   "id": "a06c02e6-078c-438c-9671-3ba0168cb06f",
   "metadata": {},
   "source": [
    "Рисуем граф состояний:\n",
    "\n",
    "<img src=\"dia2.jpeg\">"
   ]
  },
  {
   "cell_type": "markdown",
   "id": "8c2da804-43fa-4d0b-81d6-0afc85549d3b",
   "metadata": {},
   "source": [
    "Запишем уравнения Колмогорова:\n",
    "\n",
    "$$\\frac{dP_0(t)}{dt}=-\\lambda\\cdot P_0(t)$$\n",
    "$$\\frac{dP_1(t)}{dt}=\\lambda\\cdot P_0(t)-\\lambda\\cdot P_1(t)$$\n",
    "$$\\ldots$$\n",
    "$$\\frac{dP_k(t)}{dt}=\\lambda\\cdot P_{k-1}(t)-\\lambda\\cdot P_k(t)$$"
   ]
  },
  {
   "cell_type": "markdown",
   "id": "e2fcb4b5-0167-481e-a8b6-a320a66e34b3",
   "metadata": {},
   "source": [
    "Будем рассматривать случайную величину $X(t)$ - объем базы данных на момент времени $t$. Это дискретная случайная величина, $S_i$ - состояние, определяющее, что $X(t)=i$. Математическое ожидание $X(t)$ выразится:\n",
    "\n",
    "$$M(X(t))=\\sum_{k=1}^\\infty P_k(t)\\cdot k$$\n",
    "\n",
    "Вместо этого найдем:\n",
    "$$\\frac{d(M(X(t))}{dt}=\\sum_{k=1}^\\infty \\frac{P_k(t)}{dt}\\cdot k=\\sum_{k=1}^\\infty\\left(\\lambda\\cdot P_{k-1}(t)-\\lambda\\cdot P_k(t)\\right)\\cdot k$$"
   ]
  },
  {
   "cell_type": "markdown",
   "id": "210a9b23-38ac-435c-8196-db341be3ed64",
   "metadata": {},
   "source": [
    "$$\\frac{d(M(X(t))}{dt}=\\lambda\\left(\\sum_{k=1}^\\infty k\\cdot P_{k-1}(t)-\\sum_{k=1}^\\infty k\\cdot P_k(t)\\right)$$"
   ]
  },
  {
   "cell_type": "markdown",
   "id": "ee0c8463-c21e-43eb-b348-0dae14186a4b",
   "metadata": {},
   "source": [
    "$$\\frac{d(M(X(t))}{dt}=\\lambda\\left(1\\cdot P_0(t)+\\sum_{k=1}^\\infty (k+1)\\cdot P_{k}(t)-\\sum_{k=1}^\\infty k\\cdot P_k(t)\\right)$$"
   ]
  },
  {
   "cell_type": "markdown",
   "id": "0bf24f5c-a61b-4cd3-8c2e-8f420db17661",
   "metadata": {},
   "source": [
    "$$\\frac{d(M(X(t))}{dt}=\\lambda\\left(1\\cdot P_0(t)+\\sum_{k=1}^\\infty k\\cdot P_{k}(t)-\\sum_{k=1}^\\infty k\\cdot P_k(t)+\\sum_{k=1}^\\infty P_{k}(t)\\right)=\\lambda$$"
   ]
  },
  {
   "cell_type": "markdown",
   "id": "ecbd9b5e-1f31-469f-8636-e5871ae3ebcb",
   "metadata": {},
   "source": [
    "$$\\int_0^\\tau d(M(X(t)))=\\lambda\\cdot \\int_0^\\tau dt\\Rightarrow M(X(\\tau))=\\lambda\\tau$$"
   ]
  },
  {
   "cell_type": "markdown",
   "id": "9ff5a0df-a65b-4f0b-aff7-6ecff4e7d7ae",
   "metadata": {},
   "source": [
    "Найдем дисперсию:\n",
    "$$D(X(t))=\\sum_{k=0}^\\infty(k-\\lambda\\tau)^2\\cdot P_k(t)$$"
   ]
  },
  {
   "cell_type": "markdown",
   "id": "f5264f37-f36e-48cc-88d5-7341a3fb9e5d",
   "metadata": {},
   "source": [
    "## Задача 4."
   ]
  },
  {
   "cell_type": "markdown",
   "id": "2fce909d-5095-4e60-9108-4d758e85562f",
   "metadata": {},
   "source": [
    "Одноядерный микропроцессор ставит выполнямые задачи в очередь с ограничением не больше двух задач, иногда микропроцессор переключается на выполнение своих задач. Задача, которая выполняется в этот момент, помещается в очередь, в противном случае убивается. Интенсивность потока задач $\\lambda$, потока выполнения задач $\\mu$, среднее время перечлючения операционной системы на выполнение своих задач $t_1$, среднее время выполнения своих задач $t_2$. Определить возможные состояния системы и финальные вероятности нахождения в них.\n",
    "\n",
    "*Модификация*\n",
    "\n",
    "Двухядерный микропроцессор."
   ]
  },
  {
   "cell_type": "markdown",
   "id": "4d46b4bd-e192-41cd-99d5-15e53cd3945e",
   "metadata": {},
   "source": [
    "### Решение."
   ]
  },
  {
   "cell_type": "markdown",
   "id": "11c0aeef-9ea1-4aa4-bdb3-5e3c5e0e1ad1",
   "metadata": {},
   "source": [
    "Обозначим $\\nu=\\frac{1}{t_1}, \\gamma=\\frac{1}{t_2}$.\n",
    "\n",
    "Введем следующие состояния: \n",
    "\n",
    "$S_0$ - нет выполняемых задач, микропроцессор готов выполнять внешние задачи;\n",
    "\n",
    "$S_1$ - микропроцессор занят выполнением внешней задачи, очереди нет;\n",
    "\n",
    "$S_2$ - микропроцессор занят выполнением внешней задачи, в очереди одна задача;\n",
    "\n",
    "$S_3$ - микропроцессор занят выполнением внешней задачи, в очереди две задачи;\n",
    "\n",
    "$S_4$ - микропроцессор переключился на свои задачи, в очереди нет задач;\n",
    "\n",
    "$S_5$ - микропроцессор переключился на свои задачи, в очереди одна задача;\n",
    "\n",
    "$S_6$ - микропроцессор переключился на свои задачи, в очереди две задачи.\n",
    "\n",
    "<img src=\"dia3.jpeg\">"
   ]
  },
  {
   "cell_type": "markdown",
   "id": "6d0bd97d-4119-4d73-a68b-e57fbef1d603",
   "metadata": {},
   "source": [
    "Составим уравнения Колмогорова.\n",
    "\n",
    "$$\\frac{dP_0(t)}{dt}=-(\\lambda+\\nu)P_0(t)+\\mu\\cdot P_1(t)+\\gamma\\cdot P_4(t)$$\n",
    "$$\\frac{dP_1(t)}{dt}=\\lambda\\cdot P_0(t)-(\\lambda+\\mu+\\nu)\\cdot P_1(t)+\\mu\\cdot P_2(t)+\\gamma\\cdot P_5(t)$$\n",
    "$$\\frac{dP_2(t)}{dt}=\\lambda\\cdot P_1(t)-(\\lambda+\\mu+\\nu)\\cdot P_2(t)+\\mu\\cdot P_3(t)+\\gamma\\cdot P_6(t)$$\n",
    "$$\\frac{dP_3(t)}{dt}=\\lambda\\cdot P_2(t)-(\\mu+\\nu)\\cdot P_3(t)$$\n",
    "$$\\frac{dP_4(t)}{dt}=\\nu\\cdot P_0(t)-(\\lambda+\\gamma)\\cdot P_4(t)$$\n",
    "$$\\frac{dP_5(t)}{dt}=\\nu\\cdot P_1(t)+\\lambda\\cdot P_4(t)-(\\lambda+\\gamma)\\cdot P_5(t)$$\n",
    "$$\\frac{dP_6(t)}{dt}=\\nu\\cdot P_2(t)+\\nu\\cdot P_3(t)+\\lambda\\cdot P_5(t)-\\gamma\\cdot P_6(t)$$\n",
    "и уравнение нормировки:\n",
    "$$P_0(t)+P_1(t)+P_2(t)+P_3(t)+P_4(t)+P_5(t)+P_6(t)=1$$"
   ]
  },
  {
   "cell_type": "markdown",
   "id": "6d3dc356-a42e-41ac-bad1-ac647a81e818",
   "metadata": {},
   "source": [
    "Найдем финальные вероятности:"
   ]
  },
  {
   "cell_type": "code",
   "execution_count": 9,
   "id": "a8b3adb5-0f67-4a6a-a32d-62d3539a8199",
   "metadata": {},
   "outputs": [
    {
     "data": {
      "text/latex": [
       "\\[\\tag{${\\it \\%o}_{15}$}\\left[ \\left[ P_{0}=\\frac{\\left(\\mu^2\\,\\nu+\\mu^3\\right)\\,\\gamma\\,\\lambda^2+\\left(2\\,\\mu^2\\,\\nu+2\\,\\mu^3\\right)\\,\\gamma^2\\,\\lambda+\\left(\\mu^2\\,\\nu+\\mu^3\\right)\\,\\gamma^3}{\\left(\\gamma+\\nu\\right)\\,\\lambda^5+\\left(2\\,\\gamma^2+\\left(5\\,\\nu+\\mu\\right)\\,\\gamma+3\\,\\nu^2+\\mu\\,\\nu\\right)\\,\\lambda^4+\\left(\\gamma^3+\\left(5\\,\\nu+2\\,\\mu\\right)\\,\\gamma^2+\\left(7\\,\\nu^2+6\\,\\mu\\,\\nu+\\mu^2\\right)\\,\\gamma+3\\,\\nu^3+4\\,\\mu\\,\\nu^2+\\mu^2\\,\\nu\\right)\\,\\lambda^3+\\left(\\left(\\nu+\\mu\\right)\\,\\gamma^3+\\left(3\\,\\nu^2+5\\,\\mu\\,\\nu+2\\,\\mu^2\\right)\\,\\gamma^2+\\left(3\\,\\nu^3+7\\,\\mu\\,\\nu^2+5\\,\\mu^2\\,\\nu+\\mu^3\\right)\\,\\gamma+\\nu^4+3\\,\\mu\\,\\nu^3+3\\,\\mu^2\\,\\nu^2+\\mu^3\\,\\nu\\right)\\,\\lambda^2+\\left(\\left(\\mu\\,\\nu+\\mu^2\\right)\\,\\gamma^3+\\left(2\\,\\mu\\,\\nu^2+4\\,\\mu^2\\,\\nu+2\\,\\mu^3\\right)\\,\\gamma^2+\\left(\\mu\\,\\nu^3+3\\,\\mu^2\\,\\nu^2+2\\,\\mu^3\\,\\nu\\right)\\,\\gamma\\right)\\,\\lambda+\\left(\\mu^2\\,\\nu+\\mu^3\\right)\\,\\gamma^3+\\left(\\mu^2\\,\\nu^2+\\mu^3\\,\\nu\\right)\\,\\gamma^2} , P_{1}=\\frac{\\left(\\mu\\,\\nu+\\mu^2\\right)\\,\\gamma\\,\\lambda^3+\\left(\\left(2\\,\\mu\\,\\nu+2\\,\\mu^2\\right)\\,\\gamma^2+\\left(\\mu\\,\\nu^2+\\mu^2\\,\\nu\\right)\\,\\gamma\\right)\\,\\lambda^2+\\left(\\left(\\mu\\,\\nu+\\mu^2\\right)\\,\\gamma^3+\\left(\\mu\\,\\nu^2+\\mu^2\\,\\nu\\right)\\,\\gamma^2\\right)\\,\\lambda}{\\left(\\gamma+\\nu\\right)\\,\\lambda^5+\\left(2\\,\\gamma^2+\\left(5\\,\\nu+\\mu\\right)\\,\\gamma+3\\,\\nu^2+\\mu\\,\\nu\\right)\\,\\lambda^4+\\left(\\gamma^3+\\left(5\\,\\nu+2\\,\\mu\\right)\\,\\gamma^2+\\left(7\\,\\nu^2+6\\,\\mu\\,\\nu+\\mu^2\\right)\\,\\gamma+3\\,\\nu^3+4\\,\\mu\\,\\nu^2+\\mu^2\\,\\nu\\right)\\,\\lambda^3+\\left(\\left(\\nu+\\mu\\right)\\,\\gamma^3+\\left(3\\,\\nu^2+5\\,\\mu\\,\\nu+2\\,\\mu^2\\right)\\,\\gamma^2+\\left(3\\,\\nu^3+7\\,\\mu\\,\\nu^2+5\\,\\mu^2\\,\\nu+\\mu^3\\right)\\,\\gamma+\\nu^4+3\\,\\mu\\,\\nu^3+3\\,\\mu^2\\,\\nu^2+\\mu^3\\,\\nu\\right)\\,\\lambda^2+\\left(\\left(\\mu\\,\\nu+\\mu^2\\right)\\,\\gamma^3+\\left(2\\,\\mu\\,\\nu^2+4\\,\\mu^2\\,\\nu+2\\,\\mu^3\\right)\\,\\gamma^2+\\left(\\mu\\,\\nu^3+3\\,\\mu^2\\,\\nu^2+2\\,\\mu^3\\,\\nu\\right)\\,\\gamma\\right)\\,\\lambda+\\left(\\mu^2\\,\\nu+\\mu^3\\right)\\,\\gamma^3+\\left(\\mu^2\\,\\nu^2+\\mu^3\\,\\nu\\right)\\,\\gamma^2} , P_{2}=\\frac{\\left(\\nu+\\mu\\right)\\,\\gamma\\,\\lambda^4+\\left(\\left(2\\,\\nu+2\\,\\mu\\right)\\,\\gamma^2+\\left(2\\,\\nu^2+2\\,\\mu\\,\\nu\\right)\\,\\gamma\\right)\\,\\lambda^3+\\left(\\left(\\nu+\\mu\\right)\\,\\gamma^3+\\left(2\\,\\nu^2+2\\,\\mu\\,\\nu\\right)\\,\\gamma^2+\\left(\\nu^3+2\\,\\mu\\,\\nu^2+\\mu^2\\,\\nu\\right)\\,\\gamma\\right)\\,\\lambda^2}{\\left(\\gamma+\\nu\\right)\\,\\lambda^5+\\left(2\\,\\gamma^2+\\left(5\\,\\nu+\\mu\\right)\\,\\gamma+3\\,\\nu^2+\\mu\\,\\nu\\right)\\,\\lambda^4+\\left(\\gamma^3+\\left(5\\,\\nu+2\\,\\mu\\right)\\,\\gamma^2+\\left(7\\,\\nu^2+6\\,\\mu\\,\\nu+\\mu^2\\right)\\,\\gamma+3\\,\\nu^3+4\\,\\mu\\,\\nu^2+\\mu^2\\,\\nu\\right)\\,\\lambda^3+\\left(\\left(\\nu+\\mu\\right)\\,\\gamma^3+\\left(3\\,\\nu^2+5\\,\\mu\\,\\nu+2\\,\\mu^2\\right)\\,\\gamma^2+\\left(3\\,\\nu^3+7\\,\\mu\\,\\nu^2+5\\,\\mu^2\\,\\nu+\\mu^3\\right)\\,\\gamma+\\nu^4+3\\,\\mu\\,\\nu^3+3\\,\\mu^2\\,\\nu^2+\\mu^3\\,\\nu\\right)\\,\\lambda^2+\\left(\\left(\\mu\\,\\nu+\\mu^2\\right)\\,\\gamma^3+\\left(2\\,\\mu\\,\\nu^2+4\\,\\mu^2\\,\\nu+2\\,\\mu^3\\right)\\,\\gamma^2+\\left(\\mu\\,\\nu^3+3\\,\\mu^2\\,\\nu^2+2\\,\\mu^3\\,\\nu\\right)\\,\\gamma\\right)\\,\\lambda+\\left(\\mu^2\\,\\nu+\\mu^3\\right)\\,\\gamma^3+\\left(\\mu^2\\,\\nu^2+\\mu^3\\,\\nu\\right)\\,\\gamma^2} , P_{3}=\\frac{\\gamma\\,\\lambda^5+\\left(2\\,\\gamma^2+2\\,\\nu\\,\\gamma\\right)\\,\\lambda^4+\\left(\\gamma^3+2\\,\\nu\\,\\gamma^2+\\left(\\nu^2+\\mu\\,\\nu\\right)\\,\\gamma\\right)\\,\\lambda^3}{\\left(\\gamma+\\nu\\right)\\,\\lambda^5+\\left(2\\,\\gamma^2+\\left(5\\,\\nu+\\mu\\right)\\,\\gamma+3\\,\\nu^2+\\mu\\,\\nu\\right)\\,\\lambda^4+\\left(\\gamma^3+\\left(5\\,\\nu+2\\,\\mu\\right)\\,\\gamma^2+\\left(7\\,\\nu^2+6\\,\\mu\\,\\nu+\\mu^2\\right)\\,\\gamma+3\\,\\nu^3+4\\,\\mu\\,\\nu^2+\\mu^2\\,\\nu\\right)\\,\\lambda^3+\\left(\\left(\\nu+\\mu\\right)\\,\\gamma^3+\\left(3\\,\\nu^2+5\\,\\mu\\,\\nu+2\\,\\mu^2\\right)\\,\\gamma^2+\\left(3\\,\\nu^3+7\\,\\mu\\,\\nu^2+5\\,\\mu^2\\,\\nu+\\mu^3\\right)\\,\\gamma+\\nu^4+3\\,\\mu\\,\\nu^3+3\\,\\mu^2\\,\\nu^2+\\mu^3\\,\\nu\\right)\\,\\lambda^2+\\left(\\left(\\mu\\,\\nu+\\mu^2\\right)\\,\\gamma^3+\\left(2\\,\\mu\\,\\nu^2+4\\,\\mu^2\\,\\nu+2\\,\\mu^3\\right)\\,\\gamma^2+\\left(\\mu\\,\\nu^3+3\\,\\mu^2\\,\\nu^2+2\\,\\mu^3\\,\\nu\\right)\\,\\gamma\\right)\\,\\lambda+\\left(\\mu^2\\,\\nu+\\mu^3\\right)\\,\\gamma^3+\\left(\\mu^2\\,\\nu^2+\\mu^3\\,\\nu\\right)\\,\\gamma^2} , P_{4}=\\frac{\\left(\\mu^2\\,\\nu^2+\\mu^3\\,\\nu\\right)\\,\\gamma\\,\\lambda+\\left(\\mu^2\\,\\nu^2+\\mu^3\\,\\nu\\right)\\,\\gamma^2}{\\left(\\gamma+\\nu\\right)\\,\\lambda^5+\\left(2\\,\\gamma^2+\\left(5\\,\\nu+\\mu\\right)\\,\\gamma+3\\,\\nu^2+\\mu\\,\\nu\\right)\\,\\lambda^4+\\left(\\gamma^3+\\left(5\\,\\nu+2\\,\\mu\\right)\\,\\gamma^2+\\left(7\\,\\nu^2+6\\,\\mu\\,\\nu+\\mu^2\\right)\\,\\gamma+3\\,\\nu^3+4\\,\\mu\\,\\nu^2+\\mu^2\\,\\nu\\right)\\,\\lambda^3+\\left(\\left(\\nu+\\mu\\right)\\,\\gamma^3+\\left(3\\,\\nu^2+5\\,\\mu\\,\\nu+2\\,\\mu^2\\right)\\,\\gamma^2+\\left(3\\,\\nu^3+7\\,\\mu\\,\\nu^2+5\\,\\mu^2\\,\\nu+\\mu^3\\right)\\,\\gamma+\\nu^4+3\\,\\mu\\,\\nu^3+3\\,\\mu^2\\,\\nu^2+\\mu^3\\,\\nu\\right)\\,\\lambda^2+\\left(\\left(\\mu\\,\\nu+\\mu^2\\right)\\,\\gamma^3+\\left(2\\,\\mu\\,\\nu^2+4\\,\\mu^2\\,\\nu+2\\,\\mu^3\\right)\\,\\gamma^2+\\left(\\mu\\,\\nu^3+3\\,\\mu^2\\,\\nu^2+2\\,\\mu^3\\,\\nu\\right)\\,\\gamma\\right)\\,\\lambda+\\left(\\mu^2\\,\\nu+\\mu^3\\right)\\,\\gamma^3+\\left(\\mu^2\\,\\nu^2+\\mu^3\\,\\nu\\right)\\,\\gamma^2} , P_{5}=\\frac{\\left(\\mu\\,\\nu^2+\\mu^2\\,\\nu\\right)\\,\\gamma\\,\\lambda^2+\\left(\\left(\\mu\\,\\nu^2+\\mu^2\\,\\nu\\right)\\,\\gamma^2+\\left(\\mu\\,\\nu^3+2\\,\\mu^2\\,\\nu^2+\\mu^3\\,\\nu\\right)\\,\\gamma\\right)\\,\\lambda}{\\left(\\gamma+\\nu\\right)\\,\\lambda^5+\\left(2\\,\\gamma^2+\\left(5\\,\\nu+\\mu\\right)\\,\\gamma+3\\,\\nu^2+\\mu\\,\\nu\\right)\\,\\lambda^4+\\left(\\gamma^3+\\left(5\\,\\nu+2\\,\\mu\\right)\\,\\gamma^2+\\left(7\\,\\nu^2+6\\,\\mu\\,\\nu+\\mu^2\\right)\\,\\gamma+3\\,\\nu^3+4\\,\\mu\\,\\nu^2+\\mu^2\\,\\nu\\right)\\,\\lambda^3+\\left(\\left(\\nu+\\mu\\right)\\,\\gamma^3+\\left(3\\,\\nu^2+5\\,\\mu\\,\\nu+2\\,\\mu^2\\right)\\,\\gamma^2+\\left(3\\,\\nu^3+7\\,\\mu\\,\\nu^2+5\\,\\mu^2\\,\\nu+\\mu^3\\right)\\,\\gamma+\\nu^4+3\\,\\mu\\,\\nu^3+3\\,\\mu^2\\,\\nu^2+\\mu^3\\,\\nu\\right)\\,\\lambda^2+\\left(\\left(\\mu\\,\\nu+\\mu^2\\right)\\,\\gamma^3+\\left(2\\,\\mu\\,\\nu^2+4\\,\\mu^2\\,\\nu+2\\,\\mu^3\\right)\\,\\gamma^2+\\left(\\mu\\,\\nu^3+3\\,\\mu^2\\,\\nu^2+2\\,\\mu^3\\,\\nu\\right)\\,\\gamma\\right)\\,\\lambda+\\left(\\mu^2\\,\\nu+\\mu^3\\right)\\,\\gamma^3+\\left(\\mu^2\\,\\nu^2+\\mu^3\\,\\nu\\right)\\,\\gamma^2} , P_{6}=\\frac{\\nu\\,\\lambda^5+\\left(2\\,\\nu\\,\\gamma+3\\,\\nu^2+\\mu\\,\\nu\\right)\\,\\lambda^4+\\left(\\nu\\,\\gamma^2+\\left(4\\,\\nu^2+2\\,\\mu\\,\\nu\\right)\\,\\gamma+3\\,\\nu^3+4\\,\\mu\\,\\nu^2+\\mu^2\\,\\nu\\right)\\,\\lambda^3+\\left(\\left(\\nu^2+\\mu\\,\\nu\\right)\\,\\gamma^2+\\left(2\\,\\nu^3+3\\,\\mu\\,\\nu^2+\\mu^2\\,\\nu\\right)\\,\\gamma+\\nu^4+3\\,\\mu\\,\\nu^3+3\\,\\mu^2\\,\\nu^2+\\mu^3\\,\\nu\\right)\\,\\lambda^2}{\\left(\\gamma+\\nu\\right)\\,\\lambda^5+\\left(2\\,\\gamma^2+\\left(5\\,\\nu+\\mu\\right)\\,\\gamma+3\\,\\nu^2+\\mu\\,\\nu\\right)\\,\\lambda^4+\\left(\\gamma^3+\\left(5\\,\\nu+2\\,\\mu\\right)\\,\\gamma^2+\\left(7\\,\\nu^2+6\\,\\mu\\,\\nu+\\mu^2\\right)\\,\\gamma+3\\,\\nu^3+4\\,\\mu\\,\\nu^2+\\mu^2\\,\\nu\\right)\\,\\lambda^3+\\left(\\left(\\nu+\\mu\\right)\\,\\gamma^3+\\left(3\\,\\nu^2+5\\,\\mu\\,\\nu+2\\,\\mu^2\\right)\\,\\gamma^2+\\left(3\\,\\nu^3+7\\,\\mu\\,\\nu^2+5\\,\\mu^2\\,\\nu+\\mu^3\\right)\\,\\gamma+\\nu^4+3\\,\\mu\\,\\nu^3+3\\,\\mu^2\\,\\nu^2+\\mu^3\\,\\nu\\right)\\,\\lambda^2+\\left(\\left(\\mu\\,\\nu+\\mu^2\\right)\\,\\gamma^3+\\left(2\\,\\mu\\,\\nu^2+4\\,\\mu^2\\,\\nu+2\\,\\mu^3\\right)\\,\\gamma^2+\\left(\\mu\\,\\nu^3+3\\,\\mu^2\\,\\nu^2+2\\,\\mu^3\\,\\nu\\right)\\,\\gamma\\right)\\,\\lambda+\\left(\\mu^2\\,\\nu+\\mu^3\\right)\\,\\gamma^3+\\left(\\mu^2\\,\\nu^2+\\mu^3\\,\\nu\\right)\\,\\gamma^2} \\right]  \\right] \\]"
      ],
      "text/plain": [
       "                  2        3              2        2          3       2\n",
       "(%o15) [[P0 = ((mu  nu + mu ) gamma lambda  + (2 mu  nu + 2 mu ) gamma  lambda\n",
       "      2        3       3                      5\n",
       " + (mu  nu + mu ) gamma )/((gamma + nu) lambda\n",
       "           2                           2                4\n",
       " + (2 gamma  + (5 nu + mu) gamma + 3 nu  + mu nu) lambda\n",
       "         3                      2        2               2              3\n",
       " + (gamma  + (5 nu + 2 mu) gamma  + (7 nu  + 6 mu nu + mu ) gamma + 3 nu\n",
       "          2     2           3                   3\n",
       " + 4 mu nu  + mu  nu) lambda  + ((nu + mu) gamma\n",
       "        2                 2       2        3          2       2        3\n",
       " + (3 nu  + 5 mu nu + 2 mu ) gamma  + (3 nu  + 7 mu nu  + 5 mu  nu + mu ) gamma\n",
       "     4          3       2   2     3           2\n",
       " + nu  + 3 mu nu  + 3 mu  nu  + mu  nu) lambda\n",
       "               2       3           2       2          3       2\n",
       " + ((mu nu + mu ) gamma  + (2 mu nu  + 4 mu  nu + 2 mu ) gamma\n",
       "         3       2   2       3                        2        3       3\n",
       " + (mu nu  + 3 mu  nu  + 2 mu  nu) gamma) lambda + (mu  nu + mu ) gamma\n",
       "      2   2     3          2                    2              3\n",
       " + (mu  nu  + mu  nu) gamma ), P1 = ((mu nu + mu ) gamma lambda\n",
       "                   2       2         2     2                  2\n",
       " + ((2 mu nu + 2 mu ) gamma  + (mu nu  + mu  nu) gamma) lambda\n",
       "               2       3         2     2          2\n",
       " + ((mu nu + mu ) gamma  + (mu nu  + mu  nu) gamma ) lambda)\n",
       "                     5           2                           2                4\n",
       "/((gamma + nu) lambda  + (2 gamma  + (5 nu + mu) gamma + 3 nu  + mu nu) lambda\n",
       "         3                      2        2               2              3\n",
       " + (gamma  + (5 nu + 2 mu) gamma  + (7 nu  + 6 mu nu + mu ) gamma + 3 nu\n",
       "          2     2           3                   3\n",
       " + 4 mu nu  + mu  nu) lambda  + ((nu + mu) gamma\n",
       "        2                 2       2        3          2       2        3\n",
       " + (3 nu  + 5 mu nu + 2 mu ) gamma  + (3 nu  + 7 mu nu  + 5 mu  nu + mu ) gamma\n",
       "     4          3       2   2     3           2\n",
       " + nu  + 3 mu nu  + 3 mu  nu  + mu  nu) lambda\n",
       "               2       3           2       2          3       2\n",
       " + ((mu nu + mu ) gamma  + (2 mu nu  + 4 mu  nu + 2 mu ) gamma\n",
       "         3       2   2       3                        2        3       3\n",
       " + (mu nu  + 3 mu  nu  + 2 mu  nu) gamma) lambda + (mu  nu + mu ) gamma\n",
       "      2   2     3          2                               4\n",
       " + (mu  nu  + mu  nu) gamma ), P2 = ((nu + mu) gamma lambda\n",
       "                       2        2                         3\n",
       " + ((2 nu + 2 mu) gamma  + (2 nu  + 2 mu nu) gamma) lambda\n",
       "                   3        2                 2\n",
       " + ((nu + mu) gamma  + (2 nu  + 2 mu nu) gamma\n",
       "      3          2     2                  2\n",
       " + (nu  + 2 mu nu  + mu  nu) gamma) lambda )\n",
       "                     5           2                           2                4\n",
       "/((gamma + nu) lambda  + (2 gamma  + (5 nu + mu) gamma + 3 nu  + mu nu) lambda\n",
       "         3                      2        2               2              3\n",
       " + (gamma  + (5 nu + 2 mu) gamma  + (7 nu  + 6 mu nu + mu ) gamma + 3 nu\n",
       "          2     2           3                   3\n",
       " + 4 mu nu  + mu  nu) lambda  + ((nu + mu) gamma\n",
       "        2                 2       2        3          2       2        3\n",
       " + (3 nu  + 5 mu nu + 2 mu ) gamma  + (3 nu  + 7 mu nu  + 5 mu  nu + mu ) gamma\n",
       "     4          3       2   2     3           2\n",
       " + nu  + 3 mu nu  + 3 mu  nu  + mu  nu) lambda\n",
       "               2       3           2       2          3       2\n",
       " + ((mu nu + mu ) gamma  + (2 mu nu  + 4 mu  nu + 2 mu ) gamma\n",
       "         3       2   2       3                        2        3       3\n",
       " + (mu nu  + 3 mu  nu  + 2 mu  nu) gamma) lambda + (mu  nu + mu ) gamma\n",
       "      2   2     3          2                     5\n",
       " + (mu  nu  + mu  nu) gamma ), P3 = (gamma lambda\n",
       "           2                     4         3             2\n",
       " + (2 gamma  + 2 nu gamma) lambda  + (gamma  + 2 nu gamma\n",
       "      2                       3                      5\n",
       " + (nu  + mu nu) gamma) lambda )/((gamma + nu) lambda\n",
       "           2                           2                4\n",
       " + (2 gamma  + (5 nu + mu) gamma + 3 nu  + mu nu) lambda\n",
       "         3                      2        2               2              3\n",
       " + (gamma  + (5 nu + 2 mu) gamma  + (7 nu  + 6 mu nu + mu ) gamma + 3 nu\n",
       "          2     2           3                   3\n",
       " + 4 mu nu  + mu  nu) lambda  + ((nu + mu) gamma\n",
       "        2                 2       2        3          2       2        3\n",
       " + (3 nu  + 5 mu nu + 2 mu ) gamma  + (3 nu  + 7 mu nu  + 5 mu  nu + mu ) gamma\n",
       "     4          3       2   2     3           2\n",
       " + nu  + 3 mu nu  + 3 mu  nu  + mu  nu) lambda\n",
       "               2       3           2       2          3       2\n",
       " + ((mu nu + mu ) gamma  + (2 mu nu  + 4 mu  nu + 2 mu ) gamma\n",
       "         3       2   2       3                        2        3       3\n",
       " + (mu nu  + 3 mu  nu  + 2 mu  nu) gamma) lambda + (mu  nu + mu ) gamma\n",
       "      2   2     3          2            2   2     3\n",
       " + (mu  nu  + mu  nu) gamma ), P4 = ((mu  nu  + mu  nu) gamma lambda\n",
       "      2   2     3          2                      5\n",
       " + (mu  nu  + mu  nu) gamma )/((gamma + nu) lambda\n",
       "           2                           2                4\n",
       " + (2 gamma  + (5 nu + mu) gamma + 3 nu  + mu nu) lambda\n",
       "         3                      2        2               2              3\n",
       " + (gamma  + (5 nu + 2 mu) gamma  + (7 nu  + 6 mu nu + mu ) gamma + 3 nu\n",
       "          2     2           3                   3\n",
       " + 4 mu nu  + mu  nu) lambda  + ((nu + mu) gamma\n",
       "        2                 2       2        3          2       2        3\n",
       " + (3 nu  + 5 mu nu + 2 mu ) gamma  + (3 nu  + 7 mu nu  + 5 mu  nu + mu ) gamma\n",
       "     4          3       2   2     3           2\n",
       " + nu  + 3 mu nu  + 3 mu  nu  + mu  nu) lambda\n",
       "               2       3           2       2          3       2\n",
       " + ((mu nu + mu ) gamma  + (2 mu nu  + 4 mu  nu + 2 mu ) gamma\n",
       "         3       2   2       3                        2        3       3\n",
       " + (mu nu  + 3 mu  nu  + 2 mu  nu) gamma) lambda + (mu  nu + mu ) gamma\n",
       "      2   2     3          2               2     2                 2\n",
       " + (mu  nu  + mu  nu) gamma ), P5 = ((mu nu  + mu  nu) gamma lambda\n",
       "          2     2          2         3       2   2     3\n",
       " + ((mu nu  + mu  nu) gamma  + (mu nu  + 2 mu  nu  + mu  nu) gamma) lambda)\n",
       "                     5           2                           2                4\n",
       "/((gamma + nu) lambda  + (2 gamma  + (5 nu + mu) gamma + 3 nu  + mu nu) lambda\n",
       "         3                      2        2               2              3\n",
       " + (gamma  + (5 nu + 2 mu) gamma  + (7 nu  + 6 mu nu + mu ) gamma + 3 nu\n",
       "          2     2           3                   3\n",
       " + 4 mu nu  + mu  nu) lambda  + ((nu + mu) gamma\n",
       "        2                 2       2        3          2       2        3\n",
       " + (3 nu  + 5 mu nu + 2 mu ) gamma  + (3 nu  + 7 mu nu  + 5 mu  nu + mu ) gamma\n",
       "     4          3       2   2     3           2\n",
       " + nu  + 3 mu nu  + 3 mu  nu  + mu  nu) lambda\n",
       "               2       3           2       2          3       2\n",
       " + ((mu nu + mu ) gamma  + (2 mu nu  + 4 mu  nu + 2 mu ) gamma\n",
       "         3       2   2       3                        2        3       3\n",
       " + (mu nu  + 3 mu  nu  + 2 mu  nu) gamma) lambda + (mu  nu + mu ) gamma\n",
       "      2   2     3          2                  5\n",
       " + (mu  nu  + mu  nu) gamma ), P6 = (nu lambda\n",
       "                     2                4\n",
       " + (2 nu gamma + 3 nu  + mu nu) lambda\n",
       "            2        2                        3          2     2           3\n",
       " + (nu gamma  + (4 nu  + 2 mu nu) gamma + 3 nu  + 4 mu nu  + mu  nu) lambda\n",
       "       2               2        3          2     2               4          3\n",
       " + ((nu  + mu nu) gamma  + (2 nu  + 3 mu nu  + mu  nu) gamma + nu  + 3 mu nu\n",
       "       2   2     3           2                      5\n",
       " + 3 mu  nu  + mu  nu) lambda )/((gamma + nu) lambda\n",
       "           2                           2                4\n",
       " + (2 gamma  + (5 nu + mu) gamma + 3 nu  + mu nu) lambda\n",
       "         3                      2        2               2              3\n",
       " + (gamma  + (5 nu + 2 mu) gamma  + (7 nu  + 6 mu nu + mu ) gamma + 3 nu\n",
       "          2     2           3                   3\n",
       " + 4 mu nu  + mu  nu) lambda  + ((nu + mu) gamma\n",
       "        2                 2       2        3          2       2        3\n",
       " + (3 nu  + 5 mu nu + 2 mu ) gamma  + (3 nu  + 7 mu nu  + 5 mu  nu + mu ) gamma\n",
       "     4          3       2   2     3           2\n",
       " + nu  + 3 mu nu  + 3 mu  nu  + mu  nu) lambda\n",
       "               2       3           2       2          3       2\n",
       " + ((mu nu + mu ) gamma  + (2 mu nu  + 4 mu  nu + 2 mu ) gamma\n",
       "         3       2   2       3                        2        3       3\n",
       " + (mu nu  + 3 mu  nu  + 2 mu  nu) gamma) lambda + (mu  nu + mu ) gamma\n",
       "      2   2     3          2\n",
       " + (mu  nu  + mu  nu) gamma )]]"
      ],
      "text/x-maxima": [
       "[[P0 = ((mu^2*nu+mu^3)*gamma*lambda^2+(2*mu^2*nu+2*mu^3)*gamma^2*lambda\n",
       "                                     +(mu^2*nu+mu^3)*gamma^3)\n",
       "     /((gamma+nu)*lambda^5+(2*gamma^2+(5*nu+mu)*gamma+3*nu^2+mu*nu)*lambda^4\n",
       "                          +(gamma^3+(5*nu+2*mu)*gamma^2\n",
       "                                   +(7*nu^2+6*mu*nu+mu^2)*gamma+3*nu^3\n",
       "                                   +4*mu*nu^2+mu^2*nu)\n",
       "                           *lambda^3\n",
       "                          +((nu+mu)*gamma^3+(3*nu^2+5*mu*nu+2*mu^2)*gamma^2\n",
       "                                           +(3*nu^3+7*mu*nu^2+5*mu^2*nu+mu^3)\n",
       "                                            *gamma+nu^4+3*mu*nu^3+3*mu^2*nu^2\n",
       "                                           +mu^3*nu)\n",
       "                           *lambda^2\n",
       "                          +((mu*nu+mu^2)*gamma^3\n",
       "                           +(2*mu*nu^2+4*mu^2*nu+2*mu^3)*gamma^2\n",
       "                           +(mu*nu^3+3*mu^2*nu^2+2*mu^3*nu)*gamma)\n",
       "                           *lambda+(mu^2*nu+mu^3)*gamma^3\n",
       "                          +(mu^2*nu^2+mu^3*nu)*gamma^2),\n",
       "  P1 = ((mu*nu+mu^2)*gamma*lambda^3+((2*mu*nu+2*mu^2)*gamma^2\n",
       "                                    +(mu*nu^2+mu^2*nu)*gamma)\n",
       "                                    *lambda^2\n",
       "                                   +((mu*nu+mu^2)*gamma^3\n",
       "                                    +(mu*nu^2+mu^2*nu)*gamma^2)\n",
       "                                    *lambda)\n",
       "     /((gamma+nu)*lambda^5+(2*gamma^2+(5*nu+mu)*gamma+3*nu^2+mu*nu)*lambda^4\n",
       "                          +(gamma^3+(5*nu+2*mu)*gamma^2\n",
       "                                   +(7*nu^2+6*mu*nu+mu^2)*gamma+3*nu^3\n",
       "                                   +4*mu*nu^2+mu^2*nu)\n",
       "                           *lambda^3\n",
       "                          +((nu+mu)*gamma^3+(3*nu^2+5*mu*nu+2*mu^2)*gamma^2\n",
       "                                           +(3*nu^3+7*mu*nu^2+5*mu^2*nu+mu^3)\n",
       "                                            *gamma+nu^4+3*mu*nu^3+3*mu^2*nu^2\n",
       "                                           +mu^3*nu)\n",
       "                           *lambda^2\n",
       "                          +((mu*nu+mu^2)*gamma^3\n",
       "                           +(2*mu*nu^2+4*mu^2*nu+2*mu^3)*gamma^2\n",
       "                           +(mu*nu^3+3*mu^2*nu^2+2*mu^3*nu)*gamma)\n",
       "                           *lambda+(mu^2*nu+mu^3)*gamma^3\n",
       "                          +(mu^2*nu^2+mu^3*nu)*gamma^2),\n",
       "  P2 = ((nu+mu)*gamma*lambda^4+((2*nu+2*mu)*gamma^2+(2*nu^2+2*mu*nu)*gamma)\n",
       "                               *lambda^3\n",
       "                              +((nu+mu)*gamma^3+(2*nu^2+2*mu*nu)*gamma^2\n",
       "                                               +(nu^3+2*mu*nu^2+mu^2*nu)\n",
       "                                                *gamma)\n",
       "                               *lambda^2)\n",
       "     /((gamma+nu)*lambda^5+(2*gamma^2+(5*nu+mu)*gamma+3*nu^2+mu*nu)*lambda^4\n",
       "                          +(gamma^3+(5*nu+2*mu)*gamma^2\n",
       "                                   +(7*nu^2+6*mu*nu+mu^2)*gamma+3*nu^3\n",
       "                                   +4*mu*nu^2+mu^2*nu)\n",
       "                           *lambda^3\n",
       "                          +((nu+mu)*gamma^3+(3*nu^2+5*mu*nu+2*mu^2)*gamma^2\n",
       "                                           +(3*nu^3+7*mu*nu^2+5*mu^2*nu+mu^3)\n",
       "                                            *gamma+nu^4+3*mu*nu^3+3*mu^2*nu^2\n",
       "                                           +mu^3*nu)\n",
       "                           *lambda^2\n",
       "                          +((mu*nu+mu^2)*gamma^3\n",
       "                           +(2*mu*nu^2+4*mu^2*nu+2*mu^3)*gamma^2\n",
       "                           +(mu*nu^3+3*mu^2*nu^2+2*mu^3*nu)*gamma)\n",
       "                           *lambda+(mu^2*nu+mu^3)*gamma^3\n",
       "                          +(mu^2*nu^2+mu^3*nu)*gamma^2),\n",
       "  P3 = (gamma*lambda^5+(2*gamma^2+2*nu*gamma)*lambda^4\n",
       "                      +(gamma^3+2*nu*gamma^2+(nu^2+mu*nu)*gamma)*lambda^3)\n",
       "     /((gamma+nu)*lambda^5+(2*gamma^2+(5*nu+mu)*gamma+3*nu^2+mu*nu)*lambda^4\n",
       "                          +(gamma^3+(5*nu+2*mu)*gamma^2\n",
       "                                   +(7*nu^2+6*mu*nu+mu^2)*gamma+3*nu^3\n",
       "                                   +4*mu*nu^2+mu^2*nu)\n",
       "                           *lambda^3\n",
       "                          +((nu+mu)*gamma^3+(3*nu^2+5*mu*nu+2*mu^2)*gamma^2\n",
       "                                           +(3*nu^3+7*mu*nu^2+5*mu^2*nu+mu^3)\n",
       "                                            *gamma+nu^4+3*mu*nu^3+3*mu^2*nu^2\n",
       "                                           +mu^3*nu)\n",
       "                           *lambda^2\n",
       "                          +((mu*nu+mu^2)*gamma^3\n",
       "                           +(2*mu*nu^2+4*mu^2*nu+2*mu^3)*gamma^2\n",
       "                           +(mu*nu^3+3*mu^2*nu^2+2*mu^3*nu)*gamma)\n",
       "                           *lambda+(mu^2*nu+mu^3)*gamma^3\n",
       "                          +(mu^2*nu^2+mu^3*nu)*gamma^2),\n",
       "  P4 = ((mu^2*nu^2+mu^3*nu)*gamma*lambda+(mu^2*nu^2+mu^3*nu)*gamma^2)\n",
       "     /((gamma+nu)*lambda^5+(2*gamma^2+(5*nu+mu)*gamma+3*nu^2+mu*nu)*lambda^4\n",
       "                          +(gamma^3+(5*nu+2*mu)*gamma^2\n",
       "                                   +(7*nu^2+6*mu*nu+mu^2)*gamma+3*nu^3\n",
       "                                   +4*mu*nu^2+mu^2*nu)\n",
       "                           *lambda^3\n",
       "                          +((nu+mu)*gamma^3+(3*nu^2+5*mu*nu+2*mu^2)*gamma^2\n",
       "                                           +(3*nu^3+7*mu*nu^2+5*mu^2*nu+mu^3)\n",
       "                                            *gamma+nu^4+3*mu*nu^3+3*mu^2*nu^2\n",
       "                                           +mu^3*nu)\n",
       "                           *lambda^2\n",
       "                          +((mu*nu+mu^2)*gamma^3\n",
       "                           +(2*mu*nu^2+4*mu^2*nu+2*mu^3)*gamma^2\n",
       "                           +(mu*nu^3+3*mu^2*nu^2+2*mu^3*nu)*gamma)\n",
       "                           *lambda+(mu^2*nu+mu^3)*gamma^3\n",
       "                          +(mu^2*nu^2+mu^3*nu)*gamma^2),\n",
       "  P5 = ((mu*nu^2+mu^2*nu)*gamma*lambda^2\n",
       "     +((mu*nu^2+mu^2*nu)*gamma^2+(mu*nu^3+2*mu^2*nu^2+mu^3*nu)*gamma)*lambda)\n",
       "     /((gamma+nu)*lambda^5+(2*gamma^2+(5*nu+mu)*gamma+3*nu^2+mu*nu)*lambda^4\n",
       "                          +(gamma^3+(5*nu+2*mu)*gamma^2\n",
       "                                   +(7*nu^2+6*mu*nu+mu^2)*gamma+3*nu^3\n",
       "                                   +4*mu*nu^2+mu^2*nu)\n",
       "                           *lambda^3\n",
       "                          +((nu+mu)*gamma^3+(3*nu^2+5*mu*nu+2*mu^2)*gamma^2\n",
       "                                           +(3*nu^3+7*mu*nu^2+5*mu^2*nu+mu^3)\n",
       "                                            *gamma+nu^4+3*mu*nu^3+3*mu^2*nu^2\n",
       "                                           +mu^3*nu)\n",
       "                           *lambda^2\n",
       "                          +((mu*nu+mu^2)*gamma^3\n",
       "                           +(2*mu*nu^2+4*mu^2*nu+2*mu^3)*gamma^2\n",
       "                           +(mu*nu^3+3*mu^2*nu^2+2*mu^3*nu)*gamma)\n",
       "                           *lambda+(mu^2*nu+mu^3)*gamma^3\n",
       "                          +(mu^2*nu^2+mu^3*nu)*gamma^2),\n",
       "  P6 = (nu*lambda^5+(2*nu*gamma+3*nu^2+mu*nu)*lambda^4\n",
       "                   +(nu*gamma^2+(4*nu^2+2*mu*nu)*gamma+3*nu^3+4*mu*nu^2\n",
       "                               +mu^2*nu)\n",
       "                    *lambda^3\n",
       "                   +((nu^2+mu*nu)*gamma^2+(2*nu^3+3*mu*nu^2+mu^2*nu)*gamma\n",
       "                                         +nu^4+3*mu*nu^3+3*mu^2*nu^2+mu^3*nu)\n",
       "                    *lambda^2)\n",
       "     /((gamma+nu)*lambda^5+(2*gamma^2+(5*nu+mu)*gamma+3*nu^2+mu*nu)*lambda^4\n",
       "                          +(gamma^3+(5*nu+2*mu)*gamma^2\n",
       "                                   +(7*nu^2+6*mu*nu+mu^2)*gamma+3*nu^3\n",
       "                                   +4*mu*nu^2+mu^2*nu)\n",
       "                           *lambda^3\n",
       "                          +((nu+mu)*gamma^3+(3*nu^2+5*mu*nu+2*mu^2)*gamma^2\n",
       "                                           +(3*nu^3+7*mu*nu^2+5*mu^2*nu+mu^3)\n",
       "                                            *gamma+nu^4+3*mu*nu^3+3*mu^2*nu^2\n",
       "                                           +mu^3*nu)\n",
       "                           *lambda^2\n",
       "                          +((mu*nu+mu^2)*gamma^3\n",
       "                           +(2*mu*nu^2+4*mu^2*nu+2*mu^3)*gamma^2\n",
       "                           +(mu*nu^3+3*mu^2*nu^2+2*mu^3*nu)*gamma)\n",
       "                           *lambda+(mu^2*nu+mu^3)*gamma^3\n",
       "                          +(mu^2*nu^2+mu^3*nu)*gamma^2)]]"
      ]
     },
     "execution_count": 9,
     "metadata": {},
     "output_type": "execute_result"
    }
   ],
   "source": [
    "kill(lambda, mu,nu,gamma)$\n",
    "solve([-(lambda+nu)*P0+mu*P1+gamma*P4=0,\n",
    "      lambda*P0-(lambda+mu+nu)*P1+mu*P2+gamma*P5=0,\n",
    "      lambda*P1-(lambda+mu+nu)*P2+mu*P3+gamma*P6=0,\n",
    "      lambda*P2-(mu+nu)*P3=0,\n",
    "      nu*P0-(lambda+gamma)*P4=0,\n",
    "      nu*P1+lambda*P4-(lambda+gamma)*P5=0,\n",
    "      P0+P1+P2+P3+P4+P5+P6=1],\n",
    "      [P0,P1,P2,P3,P4,P5,P6]);\n",
    "      "
   ]
  },
  {
   "cell_type": "markdown",
   "id": "7f6ff3e5-242d-4afe-b72f-fd141e977d91",
   "metadata": {},
   "source": [
    "Подставим некоторые численные значения и найдем численные значения финальных вероятностей:"
   ]
  },
  {
   "cell_type": "code",
   "execution_count": 14,
   "id": "12325099-7e03-4d76-b6be-663e69026926",
   "metadata": {},
   "outputs": [
    {
     "name": "stdout",
     "output_type": "stream",
     "text": [
      "\n",
      "rat: replaced -1.5 by -3/2 = -1.5\n",
      "\n",
      "rat: replaced 0.8 by 4/5 = 0.8\n",
      "\n",
      "rat: replaced 1.2 by 6/5 = 1.2\n",
      "\n",
      "rat: replaced -2.3 by -23/10 = -2.3\n",
      "\n",
      "rat: replaced 0.8 by 4/5 = 0.8\n",
      "\n",
      "rat: replaced 1.2 by 6/5 = 1.2\n",
      "\n",
      "rat: replaced -2.3 by -23/10 = -2.3\n",
      "\n",
      "rat: replaced 0.8 by 4/5 = 0.8\n",
      "\n",
      "rat: replaced 1.2 by 6/5 = 1.2\n",
      "\n",
      "rat: replaced -1.3 by -13/10 = -1.3\n",
      "\n",
      "rat: replaced 0.5 by 1/2 = 0.5\n",
      "\n",
      "rat: replaced -2.2 by -11/5 = -2.2\n",
      "\n",
      "rat: replaced 0.5 by 1/2 = 0.5\n",
      "\n",
      "rat: replaced -2.2 by -11/5 = -2.2\n"
     ]
    },
    {
     "data": {
      "text/latex": [
       "\\[\\tag{${\\it \\%o}_{28}$}\\left[ \\left[ P_{0}=\\frac{402688}{3951293} , P_{1}=\\frac{617760}{3951293} , P_{2}=\\frac{999700}{3951293} , P_{3}=\\frac{769000}{3951293} , P_{4}=\\frac{91520}{3951293} , P_{5}=\\frac{182000}{3951293} , P_{6}=\\frac{888625}{3951293} \\right]  \\right] \\]"
      ],
      "text/plain": [
       "              402688        617760        999700        769000         91520\n",
       "(%o28) [[P0 = -------, P1 = -------, P2 = -------, P3 = -------, P4 = -------, \n",
       "              3951293       3951293       3951293       3951293       3951293\n",
       "                                                        182000        888625\n",
       "                                                   P5 = -------, P6 = -------]]\n",
       "                                                        3951293       3951293"
      ],
      "text/x-maxima": [
       "[[P0 = 402688/3951293,P1 = 617760/3951293,P2 = 999700/3951293,\n",
       "  P3 = 769000/3951293,P4 = 91520/3951293,P5 = 182000/3951293,\n",
       "  P6 = 888625/3951293]]"
      ]
     },
     "execution_count": 14,
     "metadata": {},
     "output_type": "execute_result"
    }
   ],
   "source": [
    "lambda:1$ nu:0.5$ mu:0.8$ gamma:1.2$\n",
    "solve([-(lambda+nu)*P0+mu*P1+gamma*P4=0,\n",
    "      lambda*P0-(lambda+mu+nu)*P1+mu*P2+gamma*P5=0,\n",
    "      lambda*P1-(lambda+mu+nu)*P2+mu*P3+gamma*P6=0,\n",
    "      lambda*P2-(mu+nu)*P3=0,\n",
    "      nu*P0-(lambda+gamma)*P4=0,\n",
    "      nu*P1+lambda*P4-(lambda+gamma)*P5=0,\n",
    "      P0+P1+P2+P3+P4+P5+P6=1],\n",
    "      [P0,P1,P2,P3,P4,P5,P6]);"
   ]
  },
  {
   "cell_type": "code",
   "execution_count": 15,
   "id": "7e69416d-a8c3-42f5-9af2-e66e172c107f",
   "metadata": {},
   "outputs": [
    {
     "data": {
      "text/latex": [
       "\\[\\tag{${\\it \\%o}_{29}$}\\left[ \\left[ P_{0}=0.1019129687421307 , P_{1}=0.1563437588657688 , P_{2}=0.2530057882318522 , P_{3}=0.1946198371014248 , P_{4}=0.02316203835048426 , P_{5}=0.04606087171971301 , P_{6}=0.2248947369886262 \\right]  \\right] \\]"
      ],
      "text/plain": [
       "(%o29) [[P0 = 0.1019129687421307, P1 = 0.1563437588657688, \n",
       "P2 = 0.2530057882318522, P3 = 0.1946198371014248, P4 = 0.02316203835048426, \n",
       "P5 = 0.04606087171971301, P6 = 0.2248947369886262]]"
      ],
      "text/x-maxima": [
       "[[P0 = 0.1019129687421307,P1 = 0.1563437588657688,P2 = 0.2530057882318522,\n",
       "  P3 = 0.1946198371014248,P4 = 0.02316203835048426,P5 = 0.04606087171971301,\n",
       "  P6 = 0.2248947369886262]]"
      ]
     },
     "execution_count": 15,
     "metadata": {},
     "output_type": "execute_result"
    }
   ],
   "source": [
    "float(%);"
   ]
  },
  {
   "cell_type": "markdown",
   "id": "cf9cf62f-9a5c-4b0d-a5a4-ce5ae3b0488f",
   "metadata": {},
   "source": [
    "Найдем численное решение системы дифференциальных уравнений:"
   ]
  },
  {
   "cell_type": "code",
   "execution_count": 11,
   "id": "a3ee99dd-999a-4ce2-a7b2-4bd26003dddd",
   "metadata": {},
   "outputs": [],
   "source": [
    "sol: rk([-(lambda+nu)*P0+mu*P1+gamma*P4,\n",
    "      lambda*P0-(lambda+mu+nu)*P1+mu*P2+gamma*P5,\n",
    "      lambda*P1-(lambda+mu+nu)*P2+mu*P3+gamma*P6,\n",
    "      lambda*P2-(mu+nu)*P3,\n",
    "      nu*P0-(lambda+gamma)*P4,\n",
    "      nu*P1+lambda*P4-(lambda+gamma)*P5,\n",
    "      nu*P2+nu*P3+lambda*P5-gamma*P6], [P0,P1,P2,P3,P4,P5,P6], [1, 0, 0, 0, 0, 0, 0],[t, 0, 30, 0.02])$"
   ]
  },
  {
   "cell_type": "code",
   "execution_count": 12,
   "id": "a3bce796-ddd6-4fb6-ae1c-b188fe9ed0f7",
   "metadata": {},
   "outputs": [
    {
     "data": {
      "text/latex": [
       "\\[\\tag{${\\it \\%o}_{22}$}\\mathbf{false}\\]"
      ],
      "text/plain": [
       "(%o22)                               false"
      ],
      "text/x-maxima": [
       "false"
      ]
     },
     "execution_count": 12,
     "metadata": {},
     "output_type": "execute_result"
    }
   ],
   "source": [
    "plot2d([discrete, makelist([p[1], p[2]], p, sol)], [xlabel, \"t\"],[ylabel, \"P0\"]);"
   ]
  },
  {
   "attachments": {
    "d3f34b49-7c74-4ae0-9173-77364c3c1fe8.png": {
     "image/png": "[encoded data removed]"
    }
   },
   "cell_type": "markdown",
   "id": "01dfbba9-b397-42a9-b274-328da8c2d242",
   "metadata": {},
   "source": [
    "![image.png](attachment:d3f34b49-7c74-4ae0-9173-77364c3c1fe8.png)"
   ]
  },
  {
   "cell_type": "code",
   "execution_count": 16,
   "id": "8a5f8f35-cd51-4d95-8125-cd8117bbaa19",
   "metadata": {},
   "outputs": [
    {
     "data": {
      "text/latex": [
       "\\[\\tag{${\\it \\%o}_{30}$}\\mathbf{false}\\]"
      ],
      "text/plain": [
       "(%o30)                               false"
      ],
      "text/x-maxima": [
       "false"
      ]
     },
     "execution_count": 16,
     "metadata": {},
     "output_type": "execute_result"
    }
   ],
   "source": [
    "plot2d([discrete, makelist([p[1], p[3]], p, sol)], [xlabel, \"t\"],[ylabel, \"P1\"]);"
   ]
  },
  {
   "attachments": {
    "f7f48861-1669-4d80-9026-a610414504b8.png": {
     "image/png": "[encoded data removed]"
    }
   },
   "cell_type": "markdown",
   "id": "458a74ec-8629-488e-a1c1-52334c223773",
   "metadata": {},
   "source": [
    "![image.png](attachment:f7f48861-1669-4d80-9026-a610414504b8.png)"
   ]
  },
  {
   "cell_type": "code",
   "execution_count": 17,
   "id": "0636ae13-5bb8-430f-b723-49045dc5afd3",
   "metadata": {},
   "outputs": [
    {
     "data": {
      "text/latex": [
       "\\[\\tag{${\\it \\%o}_{31}$}\\mathbf{false}\\]"
      ],
      "text/plain": [
       "(%o31)                               false"
      ],
      "text/x-maxima": [
       "false"
      ]
     },
     "execution_count": 17,
     "metadata": {},
     "output_type": "execute_result"
    }
   ],
   "source": [
    "plot2d([discrete, makelist([p[1], p[4]], p, sol)], [xlabel, \"t\"],[ylabel, \"P2\"]);"
   ]
  },
  {
   "attachments": {
    "03f0e56b-6395-4d62-8e49-1e1d1f8f8534.png": {
     "image/png": "[encoded data removed]"
    }
   },
   "cell_type": "markdown",
   "id": "931fc7a9-2a90-4332-bc05-09b02d8a3ad9",
   "metadata": {},
   "source": [
    "![image.png](attachment:03f0e56b-6395-4d62-8e49-1e1d1f8f8534.png)"
   ]
  },
  {
   "cell_type": "code",
   "execution_count": 18,
   "id": "7806d9cd-40c4-4608-ba06-017539e0ed31",
   "metadata": {},
   "outputs": [
    {
     "data": {
      "text/latex": [
       "\\[\\tag{${\\it \\%o}_{32}$}\\mathbf{false}\\]"
      ],
      "text/plain": [
       "(%o32)                               false"
      ],
      "text/x-maxima": [
       "false"
      ]
     },
     "execution_count": 18,
     "metadata": {},
     "output_type": "execute_result"
    }
   ],
   "source": [
    "plot2d([discrete, makelist([p[1], p[5]], p, sol)], [xlabel, \"t\"],[ylabel, \"P3\"]);"
   ]
  },
  {
   "attachments": {
    "ed9147d0-5f47-4a46-a72b-e19cf52cb228.png": {
     "image/png": "[encoded data removed]"
    }
   },
   "cell_type": "markdown",
   "id": "54da55ba-0ffb-4324-9085-d01991fd0e23",
   "metadata": {},
   "source": [
    "![image.png](attachment:ed9147d0-5f47-4a46-a72b-e19cf52cb228.png)"
   ]
  },
  {
   "cell_type": "code",
   "execution_count": 19,
   "id": "3b2750a1-2615-49be-8887-8fb3271ffb5a",
   "metadata": {},
   "outputs": [
    {
     "data": {
      "text/latex": [
       "\\[\\tag{${\\it \\%o}_{33}$}\\mathbf{false}\\]"
      ],
      "text/plain": [
       "(%o33)                               false"
      ],
      "text/x-maxima": [
       "false"
      ]
     },
     "execution_count": 19,
     "metadata": {},
     "output_type": "execute_result"
    }
   ],
   "source": [
    "plot2d([discrete, makelist([p[1], p[6]], p, sol)], [xlabel, \"t\"],[ylabel, \"P4\"]);"
   ]
  },
  {
   "attachments": {
    "39054b26-37a4-48bb-bf60-113f65c6958b.png": {
     "image/png": "[encoded data removed]"
    }
   },
   "cell_type": "markdown",
   "id": "3a6f1379-41dd-4d50-a283-35ff4cbabdde",
   "metadata": {},
   "source": [
    "![image.png](attachment:39054b26-37a4-48bb-bf60-113f65c6958b.png)"
   ]
  },
  {
   "cell_type": "code",
   "execution_count": 20,
   "id": "bd5f5760-d75d-4fe2-a959-6a2b10020f48",
   "metadata": {},
   "outputs": [
    {
     "data": {
      "text/latex": [
       "\\[\\tag{${\\it \\%o}_{34}$}\\mathbf{false}\\]"
      ],
      "text/plain": [
       "(%o34)                               false"
      ],
      "text/x-maxima": [
       "false"
      ]
     },
     "execution_count": 20,
     "metadata": {},
     "output_type": "execute_result"
    }
   ],
   "source": [
    "plot2d([discrete, makelist([p[1], p[7]], p, sol)], [xlabel, \"t\"],[ylabel, \"P5\"]);"
   ]
  },
  {
   "attachments": {
    "275e1a0a-2fd2-453f-8295-28ed9c53fb44.png": {
     "image/png": "[encoded data removed]"
    }
   },
   "cell_type": "markdown",
   "id": "15d2b361-c0c7-4eb8-adda-076e510f1c04",
   "metadata": {},
   "source": [
    "![image.png](attachment:275e1a0a-2fd2-453f-8295-28ed9c53fb44.png)"
   ]
  },
  {
   "cell_type": "code",
   "execution_count": 21,
   "id": "f45736a3-8586-4bc9-93b4-a5094ab6c3b0",
   "metadata": {},
   "outputs": [
    {
     "data": {
      "text/latex": [
       "\\[\\tag{${\\it \\%o}_{35}$}\\mathbf{false}\\]"
      ],
      "text/plain": [
       "(%o35)                               false"
      ],
      "text/x-maxima": [
       "false"
      ]
     },
     "execution_count": 21,
     "metadata": {},
     "output_type": "execute_result"
    }
   ],
   "source": [
    "plot2d([discrete, makelist([p[1], p[8]], p, sol)], [xlabel, \"t\"],[ylabel, \"P6\"]);"
   ]
  },
  {
   "attachments": {
    "fba75178-9751-4198-a405-754b1015f4bb.png": {
     "image/png": "[encoded data removed]"
    }
   },
   "cell_type": "markdown",
   "id": "e0efa3f7-5047-48f5-bb70-1caa0deffba2",
   "metadata": {},
   "source": [
    "![image.png](attachment:fba75178-9751-4198-a405-754b1015f4bb.png)"
   ]
  },
  {
   "cell_type": "markdown",
   "id": "6e52d10c-fe3f-4880-b4fd-b9fea3f29f1f",
   "metadata": {},
   "source": [
    "- вероятность простоя равна $P_0(t)$\n",
    "- вероятность образования очереди равна $P_2(t)+P_3(t)+P_5(t)+P_6(t)$\n",
    "- вероятность отказа равна $P_3(t)+P_6(t)$, абсолютная пропускная способность равна $\\lambda'=\\lambda\\cdot(1-P_3(t)-P_6(t))$\n",
    "- средняя длина очереди:\n",
    "$$L_{\\text{оч}}=1\\cdot P_5(t)+2\\cdot P_6(t)+1\\cdot P_2(t)+2\\cdot P_3(t)$$\n",
    "- среднее время нахождения в очереди:\n",
    "$$W_{\\text{оч}}=\\frac{L_{\\text{оч}}}{\\lambda}$$"
   ]
  },
  {
   "cell_type": "markdown",
   "id": "bbd02299-f157-415b-af12-f18ba6a6604b",
   "metadata": {},
   "source": [
    "## Задача 5.\n",
    "\n",
    "Имеется двухканальная простейшая СМО с отказами. На ее вход поступает поток с интенсивностью $\\lambda=2$ заявки/ч. Среднее время обслуживания одной заявки $t_{\\text{обсл}}=0.8$ ч. Каждая обслуженная заявка приносит доход $c=4000$ руб. Содержание каждого канала 2000 руб/ч. Оценить выгодно ли увеличить число каналов до трех? "
   ]
  },
  {
   "cell_type": "markdown",
   "id": "b41752d8-1002-47e6-885e-6d9dca88d519",
   "metadata": {},
   "source": [
    "### Решение."
   ]
  },
  {
   "cell_type": "markdown",
   "id": "6653319d-ef2a-4fb9-ab8a-5ca33523438d",
   "metadata": {},
   "source": [
    "Поскольку имеется простейшая двухканальная СМО с отказами, то используем формулы (20), (21) из лекции 4 при $k=2$, $\\mu=1/t_{\\text{обсл}}$:\n",
    "\n",
    "$$P_0=\\left(1+\\frac{\\lambda}{\\mu}+\\frac{\\lambda^2}{2!\\mu^2}\\right)^{-1}$$\n",
    "$$P_1=\\frac{\\lambda}{\\mu}\\cdot P_0$$\n",
    "$$P_2=\\frac{\\lambda^2}{2!\\mu^2}\\cdot P_0$$"
   ]
  },
  {
   "cell_type": "code",
   "execution_count": 24,
   "id": "a4ce41bc-e59c-46ae-82ca-3f2ff5eb3dc7",
   "metadata": {},
   "outputs": [
    {
     "data": {
      "text/latex": [
       "\\[\\tag{${\\it \\%o}_{48}$}0.2577319587628866\\]"
      ],
      "text/plain": [
       "(%o48)                        0.2577319587628866"
      ],
      "text/x-maxima": [
       "0.2577319587628866"
      ]
     },
     "execution_count": 24,
     "metadata": {},
     "output_type": "execute_result"
    },
    {
     "data": {
      "text/latex": [
       "\\[\\tag{${\\it \\%o}_{49}$}0.4123711340206186\\]"
      ],
      "text/plain": [
       "(%o49)                        0.4123711340206186"
      ],
      "text/x-maxima": [
       "0.4123711340206186"
      ]
     },
     "execution_count": 24,
     "metadata": {},
     "output_type": "execute_result"
    },
    {
     "data": {
      "text/latex": [
       "\\[\\tag{${\\it \\%o}_{50}$}0.3298969072164949\\]"
      ],
      "text/plain": [
       "(%o50)                        0.3298969072164949"
      ],
      "text/x-maxima": [
       "0.3298969072164949"
      ]
     },
     "execution_count": 24,
     "metadata": {},
     "output_type": "execute_result"
    }
   ],
   "source": [
    "lambda:2$ mu:1/0.8$\n",
    "P0:(1+lambda/mu+lambda^2/(2!*mu^2))^(-1);\n",
    "P1:lambda/mu*P0;\n",
    "P2:lambda^2/(2!*mu^2)*P0;"
   ]
  },
  {
   "cell_type": "markdown",
   "id": "d0a1f0f4-edfd-495f-882a-53ab36b68ce0",
   "metadata": {},
   "source": [
    "Вероятность обслуживания:\n",
    "$$1-P_2$$\n",
    "Абсолютная пропускная способность:\n",
    "$\\lambda'=\\lambda\\cdot (1-P_2)=2\\cdot(1-0.329896907216494)\\approx 1.34$"
   ]
  },
  {
   "cell_type": "code",
   "execution_count": 27,
   "id": "dca82f50-73f0-4639-bea3-00f2b7aa1ca2",
   "metadata": {},
   "outputs": [
    {
     "data": {
      "text/latex": [
       "\\[\\tag{${\\it \\%o}_{52}$}1.340206185567012\\]"
      ],
      "text/plain": [
       "(%o52)                         1.340206185567012"
      ],
      "text/x-maxima": [
       "1.340206185567012"
      ]
     },
     "execution_count": 27,
     "metadata": {},
     "output_type": "execute_result"
    }
   ],
   "source": [
    "2*(1-0.329896907216494);"
   ]
  },
  {
   "cell_type": "markdown",
   "id": "bdf347ad-da12-453b-a3cb-20b603002041",
   "metadata": {},
   "source": [
    "Доход от обслуживания заявок: \n",
    "\n",
    "$D=\\lambda'\\cdot c\\approx 1.34\\cdot 4000=5360$ руб/ч\n",
    "\n",
    "Чистая прибыль:\n",
    "\n",
    "$D-2\\cdot 2000=1360$ руб/ч\n",
    "\n",
    "Рассчитаем аналогичные показатели, если бы было три канала:"
   ]
  },
  {
   "cell_type": "code",
   "execution_count": 31,
   "id": "f2ca45ed-55bc-47c0-a9a3-aa03830879f2",
   "metadata": {},
   "outputs": [
    {
     "data": {
      "text/latex": [
       "\\[\\tag{${\\it \\%o}_{64}$}0.2191700759789597\\]"
      ],
      "text/plain": [
       "(%o64)                        0.2191700759789597"
      ],
      "text/x-maxima": [
       "0.2191700759789597"
      ]
     },
     "execution_count": 31,
     "metadata": {},
     "output_type": "execute_result"
    },
    {
     "data": {
      "text/latex": [
       "\\[\\tag{${\\it \\%o}_{65}$}0.3506721215663355\\]"
      ],
      "text/plain": [
       "(%o65)                        0.3506721215663355"
      ],
      "text/x-maxima": [
       "0.3506721215663355"
      ]
     },
     "execution_count": 31,
     "metadata": {},
     "output_type": "execute_result"
    },
    {
     "data": {
      "text/latex": [
       "\\[\\tag{${\\it \\%o}_{66}$}0.2805376972530684\\]"
      ],
      "text/plain": [
       "(%o66)                        0.2805376972530684"
      ],
      "text/x-maxima": [
       "0.2805376972530684"
      ]
     },
     "execution_count": 31,
     "metadata": {},
     "output_type": "execute_result"
    },
    {
     "data": {
      "text/latex": [
       "\\[\\tag{${\\it \\%o}_{67}$}0.1496201052016365\\]"
      ],
      "text/plain": [
       "(%o67)                        0.1496201052016365"
      ],
      "text/x-maxima": [
       "0.1496201052016365"
      ]
     },
     "execution_count": 31,
     "metadata": {},
     "output_type": "execute_result"
    },
    {
     "data": {
      "text/latex": [
       "\\[\\tag{${\\it \\%o}_{68}$}1.700759789596727\\]"
      ],
      "text/plain": [
       "(%o68)                         1.700759789596727"
      ],
      "text/x-maxima": [
       "1.700759789596727"
      ]
     },
     "execution_count": 31,
     "metadata": {},
     "output_type": "execute_result"
    },
    {
     "data": {
      "text/latex": [
       "\\[\\tag{${\\it \\%o}_{69}$}803.0391583869077\\]"
      ],
      "text/plain": [
       "(%o69)                         803.0391583869077"
      ],
      "text/x-maxima": [
       "803.0391583869077"
      ]
     },
     "execution_count": 31,
     "metadata": {},
     "output_type": "execute_result"
    }
   ],
   "source": [
    "P0:(1+lambda/mu+lambda^2/(2!*mu^2)+lambda^3/(3!*mu^3))^(-1);\n",
    "P1:lambda/mu*P0;\n",
    "P2:lambda^2/(2!*mu^2)*P0;\n",
    "P3:lambda^3/(3!*mu^3)*P0;\n",
    "lambdad:lambda*(1-P3);\n",
    "lambdad*4000-3*2000;"
   ]
  },
  {
   "cell_type": "markdown",
   "id": "23c6e55e-2b95-4a25-b7dc-6435139e5d65",
   "metadata": {},
   "source": [
    "Видно, что чистая прибыль составила бы 803 руб/ч. Таким образом, увеличение каналов до трех невыгодно."
   ]
  },
  {
   "cell_type": "markdown",
   "id": "9f449db8-ada2-4a6b-8b46-8943f77cc88c",
   "metadata": {},
   "source": [
    "## Задача 6."
   ]
  },
  {
   "cell_type": "markdown",
   "id": "953400a2-3233-4d35-85f4-b263e8e13247",
   "metadata": {},
   "source": [
    "Сервер имеет два канала и очередь на не более чем 4 элемента. Поток элементов простейший с интенсивностью $\\lambda=1$ заявка/мин. Время обслуживания показательное со средним значение $t_{\\text{обсл}}=2$ мин. Найти финальные вероятности состояний, а также основные показатели эффективности: среднюю длину очереди, среднее время пребывания в очереди, среднее число заявок в СМО, среднее время пребыванния в системе."
   ]
  },
  {
   "cell_type": "markdown",
   "id": "6652532c-198f-482e-a5d8-981953687af7",
   "metadata": {},
   "source": [
    "### Решение."
   ]
  },
  {
   "cell_type": "markdown",
   "id": "b3f07d75-8be3-4898-a86b-04b26abef07b",
   "metadata": {},
   "source": [
    "По условию задачи получаем простейшую многоканальную СМО  с ограничением очереди, ее поведение описывается формулами (40-47) из лекции 4.\n",
    "\n",
    "Здесь:\n",
    "\n",
    "$n=2, y=\\frac{\\lambda}{\\mu}=2, \\frac{y}{n}=1$."
   ]
  },
  {
   "cell_type": "markdown",
   "id": "99ef20dc-fae9-4d97-b6fa-d2137217f312",
   "metadata": {},
   "source": [
    "## Задача 7."
   ]
  },
  {
   "cell_type": "markdown",
   "id": "0d42f238-6212-4ee2-a982-5b5841b8857f",
   "metadata": {},
   "source": [
    "Имеется простейшая n-канальная  система с неограниченной очередью, интенсивность простейшего входящего потока $\\lambda$, простейшего потока обслуживания $\\mu$. Время пребывания заявки в системе ограничено случайным временем $T$ (нетерпеливые заявки), распределенным по показательному закону с параметром $\\nu$ (на каждую заявку, стоящую в очереди, действует поток уходов с интенсивностью $\\nu$).\n",
    "\n",
    "Написать формулы финальных вероятностей, найти пропускную способность, среднюю длину очереди, среднее время пребывания в очереди, среднее число заявок в СМО, среднее время пребывания в системе."
   ]
  },
  {
   "cell_type": "markdown",
   "id": "f6bb297d-63d3-4eae-aaa0-41cefa88cc23",
   "metadata": {},
   "source": [
    "## Решение."
   ]
  },
  {
   "cell_type": "markdown",
   "id": "aebb95cf-ec54-4894-ad29-7a135d4b837d",
   "metadata": {},
   "source": [
    "Граф состояний системы:\n",
    "\n",
    "<img src=\"dia4.jpeg\">"
   ]
  },
  {
   "cell_type": "markdown",
   "id": "180c2ca6-eaec-4621-9339-e5d6f2098031",
   "metadata": {},
   "source": [
    "Используя схему размножения, гибели, получим финальные вероятности. Для удобства обозначим: $y=\\frac{\\lambda}{\\mu}, z=\\frac{\\nu}{\\mu}$, тогда получаем:"
   ]
  },
  {
   "cell_type": "markdown",
   "id": "d85d3f10-16b4-488a-9793-9b7a591e0e90",
   "metadata": {},
   "source": [
    "$$P_0=\\left(1+\\frac{y}{1!}+\\frac{y^2}{2!}+\\ldots+\\frac{y^n}{n!}+\\frac{y^n}{n!}\\cdot\\left(\\frac{y}{n+z}+\\frac{y^2}{(n+z)(n+2z)}+\\frac{y^3}{(n+z)(n+2z)(n+3z)}+\\ldots\\right)\\right)^{-1}$$\n",
    "$$\\frac{\\lambda}{n\\mu+\\nu}=\\frac{y}{n+z}$$"
   ]
  },
  {
   "cell_type": "markdown",
   "id": "ef78a645-7f9d-403d-977d-d44445f55bc6",
   "metadata": {},
   "source": [
    "$$P_1=\\frac{y}{1!}\\cdot P_0, P_k=\\frac{y^k}{k!}P_0, k\\leq n$$\n",
    "$$P_{n+1}=\\frac{y^n}{n!}\\cdot\\frac{y}{n+z}P_0$$\n",
    "$$P_{n+r}=\\frac{y^n}{n!}\\cdot \\frac{y^r}{(n+z)(n+2z)\\cdot\\ldots\\cdot (n+r\\cdot z)}\\cdot P_0, r\\geq 1$$"
   ]
  },
  {
   "cell_type": "markdown",
   "id": "60943730-ce14-42b7-8df8-964d5861e354",
   "metadata": {},
   "source": [
    "Обозначим через $L_{\\text{оч}}=\\bar{r}$ - среднее число заявок в очереди.\n",
    "\n",
    "Интенсивность потока уходов, приходящаяся на одну заявку, стоящую в очереди, равна $\\nu$, значит суммарная средняя интенсивность потока уходов, приходящаяся на все заявки, стоящие в очереди, равна $\\nu\\cdot \\bar{r}$.\n",
    "\n",
    "Тогда абсолютная пропускная способность равна:\n",
    "$$\\lambda'=\\lambda-\\nu\\cdot\\bar{r}$$.\n",
    "\n",
    "Среднее число занятых каналов $\\bar{k}=\\frac{\\lambda'}{\\mu}\\Rightarrow \\bar{r}=\\frac{y-\\bar{k}}{z}$\n",
    "\n",
    "С другой стороны, \n",
    "$$\\bar{k}=1\\cdot P_1+2\\cdot P_2+\\ldots+(n+1)\\cdot P_{n-1}+n(1-P_0-P_1-\\ldots-P_{n-1})$$"
   ]
  },
  {
   "cell_type": "markdown",
   "id": "0a8f7f36-740f-4e3f-849e-3cf5b2c7f7ba",
   "metadata": {},
   "source": [
    "Среднее время пребывания заявки в очереди:\n",
    "$$W_{\\text{оч}}=\\frac{\\bar{r}}{\\lambda'}$$\n",
    "Среднее число заявок в системе:\n",
    "$$L_{\\text{сист}}=\\bar{r}+\\bar{k}$$"
   ]
  },
  {
   "cell_type": "markdown",
   "id": "e80dc394-2aa2-4570-8771-4e4b0db46fdb",
   "metadata": {},
   "source": [
    "Среднее время пребывания заявки в системе:\n",
    "$$T_{\\text{сист}}=\\frac{L_{\\text{сист}}}{\\lambda'}$$"
   ]
  },
  {
   "cell_type": "markdown",
   "id": "2780266f-afac-4938-a5cd-bba21e29bebd",
   "metadata": {},
   "source": [
    "## Задачи для самостоятельного решения"
   ]
  },
  {
   "attachments": {
    "29576d03-2299-474b-949f-a5535d63cbe4.png": {
     "image/png": "[encoded data removed]"
    }
   },
   "cell_type": "markdown",
   "id": "93a5eedd-8211-4260-a17c-1bd2d7e002d1",
   "metadata": {},
   "source": [
    "1. В отделении коммерческого банка работает один консультант, который консультирует клиентов по всем вопросам работы отделения. В среднем на консультацию одного клиента уходит 12 мин. Клиенты к консультанту подходят независимо друг от друга в среднем через каждые 40 мин, в случае если консультант занят, они уходят. Определите долю потери клиентов.\n",
    "\n",
    "2. На основе размеченного графа постройте матрицу переходных вероятностей. Определите вероятности задержки в каждом состоянии.\n",
    "\n",
    "![image.png](attachment:29576d03-2299-474b-949f-a5535d63cbe4.png)"
   ]
  },
  {
   "cell_type": "markdown",
   "id": "e7bd186e-0f47-49be-9960-d90d7fdd823b",
   "metadata": {},
   "source": [
    "3. Инвестиционный паевой фонд «Селена» открыл филиал в пос. Черниговка. Филиал состоит из одного управляющего и действует по принципу финансовой пирамиды. Каждый входящий в фонд может завербовать нового клиента в среднем за 1 день. Человек, вступивший в фонд и сделавший денежный вклад, может выйти из него и забрать деньги только через месяц. Взрослое население пос. Черниговка составляет 1873 чел. Если в поселке не останется никого, кто не вошел бы в фонд, бизнес погибнет. Нарисуйте размеченный граф, описывающий изменение во времени численности населения пос. Черниговка, входящего в фонд. Запишите систему уравнений Колмогорова."
   ]
  },
  {
   "cell_type": "markdown",
   "id": "dd9833be-3483-4b94-b29c-a1ea59f689e2",
   "metadata": {},
   "source": [
    "4. Определите оптимальное число телефонных номеров, необходимых для установки на коммерческом предприятии, при условии, что заявки на переговоры поступают с интенсивностью 90 звонков в час, а средняя продолжительность разговора по телефону составляет 2 мин.\n",
    "\n",
    "5. Имеется простейшая трехканальная система массового обслуживания с неограниченной очередью. Интенсивность потока заявок -  4 заявки в час, среднее время обслуживания составляет 0,5 ч. Выгодно ли, имея в виду: 1) среднюю длину очереди; 2) среднее время пребывания заявки в очереди и 3) среднее время пребывания заявки в системе, объединить все три канала в один с втрое меньшим средним временем обслуживания?\n",
    "\n",
    "6. Рабочий обслуживает 4 станка, каждый станок отказывает с интенсивностью 0,5 отказа в час. Среднее время ремонта одного станка 0,8 ч. Все потоки событий простейшие. Определите основные показатели, характеризующие систему массового обслуживания.\n",
    "\n",
    "7. Двое рабочих обслуживают 6 станков. Станок требует наладки в среднем каждые полчаса. Наладка занимает у рабочего в среднем 10 мин. Все потоки событий простейшие. Определите характеристики системы массового обслуживания. Установите, улучшатся ли характеристики системы массового обслуживания, если рабочие будут налаживать станки совместно, тратя вдвоем на наладку в среднем 5 мин."
   ]
  }
 ],
 "metadata": {
  "kernelspec": {
   "display_name": "Maxima",
   "language": "maxima",
   "name": "maxima"
  },
  "language_info": {
   "codemirror_mode": "maxima",
   "file_extension": ".mac",
   "mimetype": "text/x-maxima",
   "name": "maxima",
   "pygments_lexer": "maxima",
   "version": "5.45.1"
  }
 },
 "nbformat": 4,
 "nbformat_minor": 5
}
